{
 "cells": [
  {
   "cell_type": "markdown",
   "metadata": {},
   "source": [
    "# Ficititious Play"
   ]
  },
  {
   "cell_type": "markdown",
   "metadata": {},
   "source": [
    "Author: Yuya Furusawa\n",
    "\n",
    "*Graduate School of Economics, University of Tokyo*"
   ]
  },
  {
   "cell_type": "markdown",
   "metadata": {},
   "source": [
    "This note demonstrates how to use `fictplay` Python library."
   ]
  },
  {
   "cell_type": "code",
   "execution_count": 1,
   "metadata": {},
   "outputs": [],
   "source": [
    "import matplotlib.pyplot as plt\n",
    "import ternary\n",
    "from quantecon.game_theory.fictplay import FictitiousPlay, StochasticFictitiousPlay\n",
    "import numpy as np"
   ]
  },
  {
   "cell_type": "markdown",
   "metadata": {},
   "source": [
    "Fictitious play is first introduced as a learning model by Brown(1951) and Robinson(1951). In fictitious play model, players choose their strategies to maximize their payoffs with the beliefs such that their opponents will play each strategy with the probability equal to its historical frequencies."
   ]
  },
  {
   "cell_type": "markdown",
   "metadata": {},
   "source": [
    "We can regard fictitious play model as the algorithm to get a Nash equilibrium."
   ]
  },
  {
   "cell_type": "markdown",
   "metadata": {},
   "source": [
    "## Model"
   ]
  },
  {
   "cell_type": "markdown",
   "metadata": {},
   "source": [
    "- $i = 1, 2$ : players\n",
    "- $S_i$ : the finite set of pure-strategies for player $i$\n",
    "    - $S = S_1 \\times S_2$ : the set of pure-strategy profile\n",
    "    - $s_i \\in S_i$ : one of the $i$'s strategy\n",
    "- $\\Sigma_i$ : the set of mixed-strategies for player $i$\n",
    "    - $\\Sigma = \\Sigma_1 \\times \\Sigma_2$ : the set of mixed-strategy profile\n",
    "    - $\\sigma_i \\in \\Sigma_i$ : one of the $i$'s mixed strategy\n",
    "- $u_i(s_i, \\sigma_{-i})$ : $i$'s expected utility if he chooses pure strategy $s_i$ and his opponents act according to $\\sigma_{-i}$"
   ]
  },
  {
   "cell_type": "markdown",
   "metadata": {},
   "source": [
    "After each round of play, players observe the actual actions chosen by opponents, and they choose strategies in the next round given histories of opponents actions. When a player choose a mixed strategy, its mixing is not observed, that is, histories of play consist of pure-strategy profiles."
   ]
  },
  {
   "cell_type": "markdown",
   "metadata": {},
   "source": [
    "- $t = 1, 2, \\cdots$: dates\n",
    "- $s^{\\tau} \\in S$ : strategy profile at date $\\tau$\n",
    "- $\\zeta^t = (s^1, \\cdots, s^{t-1})$ : history of play up to $t$\n",
    "    - $\\zeta^1$ indicates null history\n",
    "- $\\mathcal{Z}^t$ : the set of all histories of play up to $t$\n",
    "    - by construction, $\\mathcal{Z}^1$ is the singleton set consisting of the null history\n",
    "    - $\\mathcal{Z}$ : the set of all possible infinite histories\n",
    "- $\\kappa(\\zeta^t)(s_i)$ : the number of times that $i$ played $s_i$ in the $t-1$ observations that comprise $\\zeta^t$\n",
    "    - player $i$ has an exogenous initial weight function $\\kappa_i(\\zeta^1) : S_{-i} \\rightarrow \\mathcal{R}_+$"
   ]
  },
  {
   "cell_type": "markdown",
   "metadata": {},
   "source": [
    "Weight function is updated by adding 1 to the weight of each opponent strategy each time it is played so that:\n",
    "\n",
    "\\begin{equation}\n",
    "\\kappa_i(\\zeta^t)(s_{-i}) = \\kappa_i(\\zeta^{t-1})(s_{-i}) + \\left\\{ \\begin{array}{ll}\n",
    "    1 & (s_{-i}^{t-1} = s_{-i}) \\\\\n",
    "    0 & (s_{-i}^{t-1} \\neq s_{-i})\n",
    "  \\end{array} \\right.\n",
    "\\end{equation}"
   ]
  },
  {
   "cell_type": "markdown",
   "metadata": {},
   "source": [
    "Each player assess concerning the behavior of his opponents at each date and contingent on history"
   ]
  },
  {
   "cell_type": "markdown",
   "metadata": {},
   "source": [
    "- $\\mu_i^t : \\mathcal{Z}^t \\rightarrow \\Sigma_{-i}$ : $i$'s assessment over the possible pure-strategy profiles that his opponents will choose at date $t$"
   ]
  },
  {
   "cell_type": "markdown",
   "metadata": {},
   "source": [
    "Then, $\\mu_i$ is given by normalizing the $\\kappa_i$, that is,\n",
    "\n",
    "\\begin{equation}\n",
    "\\mu_i^t (\\zeta^t)(s_{-i}) = \\frac{\\kappa_i (\\zeta^t)(s_{-i})}{\\sum_{\\tilde{s}_{-i} \\in S_{-i}}\\kappa_i (\\zeta^t)(\\tilde{s}_{-i})}\n",
    "\\end{equation}"
   ]
  },
  {
   "cell_type": "markdown",
   "metadata": {},
   "source": [
    "Each player takes best response, which is a maximizer of \n",
    "\n",
    "\\begin{equation}\n",
    "\\sum_{s_{-i} \\in S_{-i}} u_i(\\sigma_i, s_{-i}) \\mu_i^t (\\zeta^t)(s_{-i})\n",
    "\\end{equation}\n",
    "\n",
    "over all $\\sigma_i \\in \\Sigma_i$"
   ]
  },
  {
   "cell_type": "markdown",
   "metadata": {},
   "source": [
    "It is well known that if fictitious play converges to some distribution, those possibilities correspond to Nash equilibrium. However, fictitious play does not always converge. It converges to Nash equilibrium for a two-player game when, for example\n",
    "\n",
    "- Both players have finite strategies and the game is a zero-sum game\n",
    "- The game that is a [potential game](https://en.wikipedia.org/wiki/Potential_game)\n",
    "- The game that is solvable by [Iterative Elimination of Strictly Dominated Strategies (IESDS)](https://en.wikipedia.org/wiki/Strategic_dominance#Iterated_elimination_of_strictly_dominated_strategies_.28IESDS.29)"
   ]
  },
  {
   "cell_type": "markdown",
   "metadata": {},
   "source": [
    "## `FictitiousPlay` class"
   ]
  },
  {
   "cell_type": "markdown",
   "metadata": {},
   "source": [
    "The `FictitiousPlay` class requires **payoff matrix**, which must be either 2-dimentional numpy array or `NormalFormGame` object."
   ]
  },
  {
   "cell_type": "markdown",
   "metadata": {},
   "source": [
    "### Creating `FictitiousPlay` class"
   ]
  },
  {
   "cell_type": "markdown",
   "metadata": {},
   "source": [
    "Let's create the `FictitiousPlay` class with the following **matching pennies** payoff matrix\n",
    "\n",
    "1$\\backslash$2 | $A$           | $B$ \n",
    " ------------- |---------------| ---------\n",
    " $A$           | 1, -1          |    -1, 1   \n",
    " $B$           | -1, 1          |   1, -1     "
   ]
  },
  {
   "cell_type": "code",
   "execution_count": 2,
   "metadata": {},
   "outputs": [],
   "source": [
    "matching_pennies = [[( 1, -1), (-1,  1)],\n",
    "                    [(-1,  1), ( 1, -1)]]\n",
    "fp0 = FictitiousPlay(matching_pennies)"
   ]
  },
  {
   "cell_type": "markdown",
   "metadata": {},
   "source": [
    "`N` attribute returns the number of players in this game"
   ]
  },
  {
   "cell_type": "code",
   "execution_count": 3,
   "metadata": {},
   "outputs": [
    {
     "data": {
      "text/plain": [
       "2"
      ]
     },
     "execution_count": 3,
     "metadata": {},
     "output_type": "execute_result"
    }
   ],
   "source": [
    "fp0.N"
   ]
  },
  {
   "cell_type": "markdown",
   "metadata": {},
   "source": [
    "`players` attribute returns the tuple of `Player` instances of this game"
   ]
  },
  {
   "cell_type": "code",
   "execution_count": 4,
   "metadata": {},
   "outputs": [
    {
     "data": {
      "text/plain": [
       "(Player([[ 1, -1],\n",
       "         [-1,  1]]), Player([[-1,  1],\n",
       "         [ 1, -1]]))"
      ]
     },
     "execution_count": 4,
     "metadata": {},
     "output_type": "execute_result"
    }
   ],
   "source": [
    "fp0.players"
   ]
  },
  {
   "cell_type": "markdown",
   "metadata": {},
   "source": [
    "`nums_actions` attribute returns the tuple of the number of actions for each player"
   ]
  },
  {
   "cell_type": "code",
   "execution_count": 5,
   "metadata": {},
   "outputs": [
    {
     "data": {
      "text/plain": [
       "(2, 2)"
      ]
     },
     "execution_count": 5,
     "metadata": {},
     "output_type": "execute_result"
    }
   ],
   "source": [
    "fp0.nums_actions"
   ]
  },
  {
   "cell_type": "markdown",
   "metadata": {},
   "source": [
    "### `play` mathod"
   ]
  },
  {
   "cell_type": "markdown",
   "metadata": {},
   "source": [
    "`play` method proceeds the game one step."
   ]
  },
  {
   "cell_type": "code",
   "execution_count": 6,
   "metadata": {},
   "outputs": [
    {
     "data": {
      "text/plain": [
       "(array([0., 1.]), array([0.5, 0.5]))"
      ]
     },
     "execution_count": 6,
     "metadata": {},
     "output_type": "execute_result"
    }
   ],
   "source": [
    "init_actions = (1,1)\n",
    "fp0.play(actions=init_actions)"
   ]
  },
  {
   "cell_type": "markdown",
   "metadata": {},
   "source": [
    "You can proceed the game with `num_reps` keyword arguments."
   ]
  },
  {
   "cell_type": "code",
   "execution_count": 7,
   "metadata": {},
   "outputs": [
    {
     "data": {
      "text/plain": [
       "(array([0.51648352, 0.48351648]), array([0.49350649, 0.50649351]))"
      ]
     },
     "execution_count": 7,
     "metadata": {},
     "output_type": "execute_result"
    }
   ],
   "source": [
    "fp0.play(actions=init_actions, num_reps=1000)"
   ]
  },
  {
   "cell_type": "markdown",
   "metadata": {},
   "source": [
    "### `time_series` method"
   ]
  },
  {
   "cell_type": "markdown",
   "metadata": {},
   "source": [
    "`time_series` returns the time series of mixed action profile."
   ]
  },
  {
   "cell_type": "code",
   "execution_count": 8,
   "metadata": {},
   "outputs": [
    {
     "data": {
      "text/plain": [
       "(array([[0.        , 1.        ],\n",
       "        [0.        , 1.        ],\n",
       "        [0.33333333, 0.66666667],\n",
       "        [0.5       , 0.5       ],\n",
       "        [0.6       , 0.4       ],\n",
       "        [0.66666667, 0.33333333],\n",
       "        [0.71428571, 0.28571429],\n",
       "        [0.75      , 0.25      ],\n",
       "        [0.77777778, 0.22222222],\n",
       "        [0.7       , 0.3       ]]), array([[0.        , 1.        ],\n",
       "        [0.5       , 0.5       ],\n",
       "        [0.66666667, 0.33333333],\n",
       "        [0.75      , 0.25      ],\n",
       "        [0.8       , 0.2       ],\n",
       "        [0.66666667, 0.33333333],\n",
       "        [0.57142857, 0.42857143],\n",
       "        [0.5       , 0.5       ],\n",
       "        [0.44444444, 0.55555556],\n",
       "        [0.4       , 0.6       ]]))"
      ]
     },
     "execution_count": 8,
     "metadata": {},
     "output_type": "execute_result"
    }
   ],
   "source": [
    "fp0.time_series(init_actions=init_actions, ts_length=10)"
   ]
  },
  {
   "cell_type": "markdown",
   "metadata": {},
   "source": [
    "## Simulations"
   ]
  },
  {
   "cell_type": "markdown",
   "metadata": {},
   "source": [
    "### Two-Action Games"
   ]
  },
  {
   "cell_type": "markdown",
   "metadata": {},
   "source": [
    "Consider the fictitious play model with **matching pennies** game defined above."
   ]
  },
  {
   "cell_type": "code",
   "execution_count": 9,
   "metadata": {},
   "outputs": [],
   "source": [
    "matching_pennies = [[( 1, -1), (-1,  1)],\n",
    "                    [(-1,  1), ( 1, -1)]]\n",
    "mp = FictitiousPlay(matching_pennies)"
   ]
  },
  {
   "cell_type": "markdown",
   "metadata": {},
   "source": [
    "Let's simulate how players' mixed action profile converge to some distribution. "
   ]
  },
  {
   "cell_type": "code",
   "execution_count": 10,
   "metadata": {
    "scrolled": true
   },
   "outputs": [
    {
     "data": {
      "image/png": "[encoded data removed]",
      "text/plain": [
       "<Figure size 576x360 with 1 Axes>"
      ]
     },
     "metadata": {
      "needs_background": "light"
     },
     "output_type": "display_data"
    }
   ],
   "source": [
    "ts_length = 1000\n",
    "series = mp.time_series(ts_length)\n",
    "\n",
    "fig, ax = plt.subplots(figsize=(8, 5))\n",
    "ax.set_prop_cycle('color', ['b', 'g'])\n",
    "for x in series:\n",
    "    ax.plot(x[:, 0], linewidth=2)\n",
    "ax.set_ylim(0, 1)\n",
    "plt.show()"
   ]
  },
  {
   "cell_type": "markdown",
   "metadata": {},
   "source": [
    "Horizontal and vertical axis correspond to the period and the player's history for his opponent's first action. Blue(Green) line represents first(second) player's history."
   ]
  },
  {
   "cell_type": "markdown",
   "metadata": {},
   "source": [
    "As shown in the above graph, both players' mixed action profile converge to $0.5$, which is the mixed-strategy Nash equilibrium of the original game."
   ]
  },
  {
   "cell_type": "markdown",
   "metadata": {},
   "source": [
    "### Three-Action Games"
   ]
  },
  {
   "cell_type": "markdown",
   "metadata": {},
   "source": [
    "Next, let's consider the fictitious play model  with 3 actions."
   ]
  },
  {
   "cell_type": "markdown",
   "metadata": {},
   "source": [
    "Consider the fictitious play model of **shapley game** whose payoff matrix is\n",
    "\n",
    "1$\\backslash$2 | $A$           | $B$    |$C$\n",
    " ------------- |---------------| ---------|-----------\n",
    " $A$           | 0, 0          |    1, 0   |   0,1\n",
    " $B$           | 0, 1          |   0, 0   |    1,0\n",
    " $C$           |1,0           | 0,1      | 0,0"
   ]
  },
  {
   "cell_type": "code",
   "execution_count": 11,
   "metadata": {},
   "outputs": [],
   "source": [
    "shapley_game = [[(0, 0), (1, 0), (0, 1)],\n",
    "                [(0, 1), (0, 0), (1, 0)],\n",
    "                [(1, 0), (0, 1), (0, 0)]]\n",
    "sg = FictitiousPlay(shapley_game)"
   ]
  },
  {
   "cell_type": "code",
   "execution_count": 12,
   "metadata": {},
   "outputs": [
    {
     "data": {
      "text/plain": [
       "(Player([[0, 1, 0],\n",
       "         [0, 0, 1],\n",
       "         [1, 0, 0]]), Player([[0, 1, 0],\n",
       "         [0, 0, 1],\n",
       "         [1, 0, 0]]))"
      ]
     },
     "execution_count": 12,
     "metadata": {},
     "output_type": "execute_result"
    }
   ],
   "source": [
    "sg.players"
   ]
  },
  {
   "cell_type": "code",
   "execution_count": 13,
   "metadata": {},
   "outputs": [
    {
     "data": {
      "text/plain": [
       "(3, 3)"
      ]
     },
     "execution_count": 13,
     "metadata": {},
     "output_type": "execute_result"
    }
   ],
   "source": [
    "sg.nums_actions"
   ]
  },
  {
   "cell_type": "markdown",
   "metadata": {},
   "source": [
    "Let's simulate the convergence of players' mixed action profile in this model."
   ]
  },
  {
   "cell_type": "code",
   "execution_count": 14,
   "metadata": {},
   "outputs": [],
   "source": [
    "ts_length = 1000\n",
    "series = sg.time_series(ts_length, init_actions=(0, 1))"
   ]
  },
  {
   "cell_type": "markdown",
   "metadata": {},
   "source": [
    "To illustrate the dynamics of mixed action profiles, we use `python-ternary` library."
   ]
  },
  {
   "cell_type": "code",
   "execution_count": 15,
   "metadata": {},
   "outputs": [
    {
     "data": {
      "image/png": "[encoded data removed]",
      "text/plain": [
       "<Figure size 360x360 with 1 Axes>"
      ]
     },
     "metadata": {},
     "output_type": "display_data"
    }
   ],
   "source": [
    "figure, tax = ternary.figure(scale=1.0)\n",
    "figure.set_size_inches(5, 5)\n",
    "\n",
    "tax.boundary()\n",
    "tax.gridlines(multiple=0.2, color=\"black\")\n",
    "tax.set_title(\"Plotting time series\", fontsize=14)\n",
    "tax.left_axis_label(\"Prob. action C\", fontsize=12, offset=0.14)\n",
    "tax.right_axis_label(\"Prob. action B\", fontsize=12, offset=0.14)\n",
    "tax.bottom_axis_label(\"Prob. action A\", fontsize=12, offset=0.14)\n",
    "\n",
    "tax.plot(series[0], linewidth=2.0, label=\"Player 1\", color='blue')\n",
    "tax.plot(series[1], linewidth=2.0, label=\"Player 2\", color='red')\n",
    "tax.ticks(axis='lbr', multiple=0.2, linewidth=1, tick_formats=\"%.1f\", offset=0.02)\n",
    "\n",
    "tax.get_axes().axis('off')\n",
    "tax.clear_matplotlib_ticks()\n",
    "tax.legend()\n",
    "tax.show()"
   ]
  },
  {
   "cell_type": "markdown",
   "metadata": {},
   "source": [
    "Blue(Red) line represents first(second) player's history of mixed action."
   ]
  },
  {
   "cell_type": "markdown",
   "metadata": {},
   "source": [
    "Shapley(1964) showed that in the normal fictitious play (not weighted fictitious play) if $(A, B)$ is choosen in the first period, then players' action profile does not converge. In particular, the fictitious play follows the cycle $(A, B) \\rightarrow (A, C) \\rightarrow (B, C) \\rightarrow (B,A) \\rightarrow (C,A) \\rightarrow (C, B) \\rightarrow (A, B) \\rightarrow \\cdots$"
   ]
  },
  {
   "cell_type": "markdown",
   "metadata": {},
   "source": [
    "---"
   ]
  },
  {
   "cell_type": "markdown",
   "metadata": {},
   "source": [
    "# Stochastic Fictitious Play"
   ]
  },
  {
   "cell_type": "markdown",
   "metadata": {},
   "source": [
    "Stochastic fictitious play is first introduced by Fundenberg and Kreps(1993). In this model, each player's payoff is perturbed in each period by a random shock."
   ]
  },
  {
   "cell_type": "markdown",
   "metadata": {},
   "source": [
    "## Model"
   ]
  },
  {
   "cell_type": "markdown",
   "metadata": {},
   "source": [
    "Almost all of the settings are the same as original fictitious play model except for perturbed payoff. Player's payoff at period $t$ is given by \n",
    "\n",
    "\\begin{equation}\n",
    "u_i^t (s_i^t, s_{-i}^t) + \\eta_i(s_i^t)\n",
    "\\end{equation}\n",
    "\n",
    "The random payoff shock $\\eta_i$ is observable for each $i$, but player $i$ cannot observe opponents' payoff shock and its history. Let $\\rho_i$ denote the probability distribution of each $\\eta_i$ and $E_i$ denote the support of $\\rho_i$."
   ]
  },
  {
   "cell_type": "markdown",
   "metadata": {},
   "source": [
    "In each period, players choose their strategy after observing payoff shock, so in the stage game strategy for each player is a mapping form $E_i$ to $S_i$."
   ]
  },
  {
   "cell_type": "markdown",
   "metadata": {},
   "source": [
    "Fundenberg and Kreps(1993) showed that in any $2 \\times 2$ game that has a unique completely mixed Nash equilibrium, stochastic fictitious play converges with probability 1 with some assumptions."
   ]
  },
  {
   "cell_type": "markdown",
   "metadata": {},
   "source": [
    "In adddition, Hofbauer and Sandholm (2002) showed that in (i) two-player symmetric game with an interior [Evolutionary Stable Strategies(ESS)](https://en.wikipedia.org/wiki/Evolutionarily_stable_strategy) (ii) two-player zero sum game, and some game classes, stochastic fictitious play converges."
   ]
  },
  {
   "cell_type": "markdown",
   "metadata": {},
   "source": [
    "## `StochasticFictitiousPlay` class"
   ]
  },
  {
   "cell_type": "markdown",
   "metadata": {},
   "source": [
    "`game_theory` module also provides `StochasticFictitiousPlay` class. In this class, we have to designate the distribution of payoff shocks. The statistical distribution must be [`scipy.stats`](https://docs.scipy.org/doc/scipy-1.1.0/reference/stats.html) object."
   ]
  },
  {
   "cell_type": "code",
   "execution_count": 16,
   "metadata": {},
   "outputs": [],
   "source": [
    "import scipy.stats"
   ]
  },
  {
   "cell_type": "code",
   "execution_count": 17,
   "metadata": {},
   "outputs": [],
   "source": [
    "# standard normal distirbution\n",
    "distribution = scipy.stats.norm()"
   ]
  },
  {
   "cell_type": "markdown",
   "metadata": {},
   "source": [
    "## Simulations"
   ]
  },
  {
   "cell_type": "markdown",
   "metadata": {},
   "source": [
    "Let's simulate stochastic fictitious play model. We set the distribution of payoff shock to standard normal distribution, which is defined above, in the next two examples."
   ]
  },
  {
   "cell_type": "markdown",
   "metadata": {},
   "source": [
    "### Two-Action Game"
   ]
  },
  {
   "cell_type": "markdown",
   "metadata": {},
   "source": [
    "First, we consider matching penny game defined above."
   ]
  },
  {
   "cell_type": "code",
   "execution_count": 18,
   "metadata": {},
   "outputs": [],
   "source": [
    "mp_s = StochasticFictitiousPlay(matching_pennies, distribution)"
   ]
  },
  {
   "cell_type": "code",
   "execution_count": 19,
   "metadata": {},
   "outputs": [
    {
     "data": {
      "image/png": "[encoded data removed]",
      "text/plain": [
       "<Figure size 576x360 with 1 Axes>"
      ]
     },
     "metadata": {
      "needs_background": "light"
     },
     "output_type": "display_data"
    }
   ],
   "source": [
    "ts_length = 1000\n",
    "series = mp_s.time_series(ts_length)\n",
    "\n",
    "fig, ax = plt.subplots(figsize=(8, 5))\n",
    "ax.set_prop_cycle('color', ['b', 'g'])\n",
    "for x in series:\n",
    "    ax.plot(x[:, 0], linewidth=2)\n",
    "ax.set_ylim(0, 1)\n",
    "plt.show()"
   ]
  },
  {
   "cell_type": "markdown",
   "metadata": {},
   "source": [
    "As shown in the above graph, both players' action profile converges to  $0.5$ , which is the mixed-strategy Nash equilibrium of the original game. This result is consistent with Fudenberg and Kreps(1993). Combining with the result of standard fictitious play, in matching penny game, history converges under both standard and stochastic fictitious play model. "
   ]
  },
  {
   "cell_type": "markdown",
   "metadata": {},
   "source": [
    "### Three-Action Game"
   ]
  },
  {
   "cell_type": "markdown",
   "metadata": {},
   "source": [
    "Next, we consider shapley game discussed above."
   ]
  },
  {
   "cell_type": "code",
   "execution_count": 20,
   "metadata": {},
   "outputs": [],
   "source": [
    "sg_s = StochasticFictitiousPlay(shapley_game, distribution)"
   ]
  },
  {
   "cell_type": "code",
   "execution_count": 21,
   "metadata": {},
   "outputs": [],
   "source": [
    "ts_length = 1000\n",
    "series = sg_s.time_series(ts_length, init_actions=(1, 0))"
   ]
  },
  {
   "cell_type": "code",
   "execution_count": 22,
   "metadata": {},
   "outputs": [
    {
     "data": {
      "image/png": "[encoded data removed]",
      "text/plain": [
       "<Figure size 360x360 with 1 Axes>"
      ]
     },
     "metadata": {},
     "output_type": "display_data"
    }
   ],
   "source": [
    "figure, tax = ternary.figure(scale=1.0)\n",
    "figure.set_size_inches(5, 5)\n",
    "\n",
    "tax.boundary()\n",
    "tax.gridlines(multiple=0.2, color=\"black\")\n",
    "tax.set_title(\"Plotting time series\", fontsize=14)\n",
    "tax.left_axis_label(\"Prob. action C\", fontsize=12, offset=0.14)\n",
    "tax.right_axis_label(\"Prob. action B\", fontsize=12, offset=0.14)\n",
    "tax.bottom_axis_label(\"Prob. action A\", fontsize=12, offset=0.14)\n",
    "\n",
    "# Plot the data\n",
    "tax.plot(series[0], linewidth=2.0, label=\"Player 1\", color='blue')\n",
    "tax.plot(series[1], linewidth=2.0, label=\"Player 2\", color='red')\n",
    "tax.ticks(axis='lbr', multiple=0.2, linewidth=1, tick_formats=\"%.1f\", offset=0.02)\n",
    "\n",
    "tax.get_axes().axis('off')\n",
    "tax.clear_matplotlib_ticks()\n",
    "tax.legend()\n",
    "tax.show()"
   ]
  },
  {
   "cell_type": "markdown",
   "metadata": {},
   "source": [
    "Stochastic fictitious play converges to $(1/3, 1/3, 1/3)$ which is a mixed Nash equilibrium of this game. This  is consistent with the result of Hofbauer and Sandholm (2002) since $(1/3, 1/3, 1/3)$ is an interior ESS and a unique equilibrium. This result is quite different from the result of standard fictitious play model where shapley game does not converge. But Williams(2018) shows that if the variance of shocks is small, namely $\\sigma < 0.0821$($\\sigma$ is the standard deviation) in the normal case and $\\lambda > 6$($\\lambda$ is the parameter of type-II extreme distribution) in the logit case, this equilibrium is unstable."
   ]
  },
  {
   "cell_type": "markdown",
   "metadata": {},
   "source": [
    "## Stochastic Fictitious Play with constant gain"
   ]
  },
  {
   "cell_type": "markdown",
   "metadata": {},
   "source": [
    "So far, we illustrate the fictitious play with decreasing gain.\n",
    "Decreasing gain implies that players take their actions given opponents' all action history, actions at period 0 and at period n are treated equally.\n",
    "You can also specify constant gain where players take their actions by opponents' action history but recent actions are weighted higher than old actions.\n",
    "We see the stochastic fictitious play with constant gain."
   ]
  },
  {
   "cell_type": "markdown",
   "metadata": {},
   "source": [
    "Many literatures say fictitous play and stochastic fictitious play converge to some equilibria, but they doesn't say fictitous play converges to which equilibrium in most cases. Williams(2018) answers this question under stochastic fictitious play with constant gain. He shows that risk dominant equilibrium is stable."
   ]
  },
  {
   "cell_type": "markdown",
   "metadata": {},
   "source": [
    "Let's consider the model with the following **Coordination Game** payoff matrix\n",
    "\n",
    "1$\\backslash$2 | $A$           | $B$ \n",
    " ------------- |---------------| ---------\n",
    " $A$           | 4, 4          |    0, 3   \n",
    " $B$           | 3, 0          |   2, 2    "
   ]
  },
  {
   "cell_type": "markdown",
   "metadata": {},
   "source": [
    "In this game, (A,A) and (B,B) are both Nash equilibria, but action B is the risk dominat strategy."
   ]
  },
  {
   "cell_type": "code",
   "execution_count": 23,
   "metadata": {},
   "outputs": [],
   "source": [
    "coordination_game = [[( 4, 4), (0,  3)],\n",
    "                    [(3, 0), ( 2, 2)]]\n",
    "gain = 0.1\n",
    "distribution = scipy.stats.norm(0, 0.33) # normal distribution with mean 0 and standard deviation 0.33\n",
    "csfp = StochasticFictitiousPlay(coordination_game, distribution, gain=gain)"
   ]
  },
  {
   "cell_type": "markdown",
   "metadata": {},
   "source": [
    "The following graph shows the probability of taking action B."
   ]
  },
  {
   "cell_type": "code",
   "execution_count": 24,
   "metadata": {},
   "outputs": [
    {
     "data": {
      "image/png": "[encoded data removed]",
      "text/plain": [
       "<Figure size 936x576 with 1 Axes>"
      ]
     },
     "metadata": {
      "needs_background": "light"
     },
     "output_type": "display_data"
    }
   ],
   "source": [
    "ts_length = 2500\n",
    "init_actions = (0, 0) # initially all players take action A\n",
    "series = csfp.time_series(ts_length, init_actions)\n",
    "\n",
    "fig, ax = plt.subplots(figsize=(13, 8))\n",
    "ax.set_prop_cycle('color', ['b'])\n",
    "ax.plot(series[0][:, 1], linewidth=2)\n",
    "ax.set_ylim(0, 1.1)\n",
    "plt.title(\"Probability of action B\")\n",
    "plt.show()"
   ]
  },
  {
   "cell_type": "markdown",
   "metadata": {},
   "source": [
    "As you can see, all players become to take action B which is a risk-dominant action."
   ]
  },
  {
   "cell_type": "markdown",
   "metadata": {},
   "source": [
    "---"
   ]
  },
  {
   "cell_type": "markdown",
   "metadata": {},
   "source": [
    "# N-player  Game"
   ]
  },
  {
   "cell_type": "markdown",
   "metadata": {},
   "source": [
    "So far, we consider two-player games with two or three actions for each player. We can extend the fictitous play model  to more general games where there are n players. Monderer and Shapley(1996) shows that in the game with identical payoff functions, players' beliefs converge."
   ]
  },
  {
   "cell_type": "markdown",
   "metadata": {},
   "source": [
    "Note that fictitious play model with n players in this note is different from the literature in the sense that players' beliefs are updated simply. That is, player  i 's belief for player  j  depends only on past player  j 's actions, not on other players' actions."
   ]
  },
  {
   "cell_type": "markdown",
   "metadata": {},
   "source": [
    "## Simulation"
   ]
  },
  {
   "cell_type": "markdown",
   "metadata": {},
   "source": [
    "Consider **Cournot** game. First, we define the function `cournot` which creates `NormalFormGame` instance with some parameters."
   ]
  },
  {
   "cell_type": "code",
   "execution_count": 25,
   "metadata": {},
   "outputs": [],
   "source": [
    "from quantecon.game_theory import NormalFormGame, Player\n",
    "from quantecon import cartesian"
   ]
  },
  {
   "cell_type": "code",
   "execution_count": 26,
   "metadata": {},
   "outputs": [],
   "source": [
    "def cournot(a, c, N, q_grid):\n",
    "    \"\"\"\n",
    "    Create a `NormalFormGame` instance for the symmetric N-player Cournot game\n",
    "    with linear inverse demand a - Q and constant marginal cost c.\n",
    "\n",
    "    Parameters\n",
    "    ----------\n",
    "    a : scalar\n",
    "        Intercept of the demand curve\n",
    "\n",
    "    c : scalar\n",
    "        Common constant marginal cost\n",
    "\n",
    "    N : scalar(int)\n",
    "        Number of firms\n",
    "\n",
    "    q_grid : array_like(scalar)\n",
    "        Array containing the set of possible quantities\n",
    "\n",
    "    Returns\n",
    "    -------\n",
    "    NormalFormGame\n",
    "        NormalFormGame instance representing the Cournot game\n",
    "\n",
    "    \"\"\"\n",
    "    q_grid = np.asarray(q_grid)\n",
    "    payoff_array = \\\n",
    "        cartesian([q_grid]*N).sum(axis=-1).reshape([len(q_grid)]*N) * (-1) + \\\n",
    "        (a - c)\n",
    "    payoff_array *= q_grid.reshape([len(q_grid)] + [1]*(N-1))\n",
    "    payoff_array += 0  # To get rid of the minus sign of -0\n",
    "\n",
    "    player = Player(payoff_array)\n",
    "    return NormalFormGame([player for i in range(N)])"
   ]
  },
  {
   "cell_type": "code",
   "execution_count": 27,
   "metadata": {},
   "outputs": [],
   "source": [
    "a, c = 80, 20\n",
    "N = 3\n",
    "q_grid = [10, 15]  # [1/3 of Monopoly quantity, Nash equilibrium quantity]\n",
    "\n",
    "g_Cou = cournot(a, c, N, q_grid)"
   ]
  },
  {
   "cell_type": "code",
   "execution_count": 28,
   "metadata": {},
   "outputs": [
    {
     "name": "stdout",
     "output_type": "stream",
     "text": [
      "3-player NormalFormGame with payoff profile array:\n",
      "[[[[300, 300, 300],   [250, 250, 375]],\n",
      "  [[250, 375, 250],   [200, 300, 300]]],\n",
      "\n",
      " [[[375, 250, 250],   [300, 200, 300]],\n",
      "  [[300, 300, 200],   [225, 225, 225]]]]\n"
     ]
    }
   ],
   "source": [
    "print(g_Cou)"
   ]
  },
  {
   "cell_type": "markdown",
   "metadata": {},
   "source": [
    "Let's create `FictitiousPlay` instance with this `NormalFormGame`."
   ]
  },
  {
   "cell_type": "code",
   "execution_count": 29,
   "metadata": {},
   "outputs": [],
   "source": [
    "fp_Cou = FictitiousPlay(g_Cou)"
   ]
  },
  {
   "cell_type": "markdown",
   "metadata": {},
   "source": [
    "You can access the number of  players and the number of actions for each player via attributes."
   ]
  },
  {
   "cell_type": "code",
   "execution_count": 30,
   "metadata": {},
   "outputs": [
    {
     "name": "stdout",
     "output_type": "stream",
     "text": [
      "3\n",
      "(2, 2, 2)\n"
     ]
    }
   ],
   "source": [
    "print(fp_Cou.N)\n",
    "print(fp_Cou.nums_actions)"
   ]
  },
  {
   "cell_type": "code",
   "execution_count": 31,
   "metadata": {},
   "outputs": [],
   "source": [
    "ts_length=50\n",
    "init_actions=(0,0,0)"
   ]
  },
  {
   "cell_type": "markdown",
   "metadata": {},
   "source": [
    "Following graph shows the probability of taking action 0, that is, producing 10."
   ]
  },
  {
   "cell_type": "code",
   "execution_count": 32,
   "metadata": {},
   "outputs": [
    {
     "data": {
      "image/png": "[encoded data removed]",
      "text/plain": [
       "<Figure size 1152x576 with 3 Axes>"
      ]
     },
     "metadata": {
      "needs_background": "light"
     },
     "output_type": "display_data"
    }
   ],
   "source": [
    "series = fp_Cou.time_series(ts_length, init_actions)\n",
    "fig = plt.figure(figsize=(16,8))\n",
    "\n",
    "ax1 = fig.add_subplot(131)\n",
    "ax1.plot(range(ts_length), series[0][:,0], linewidth=2)\n",
    "ax1.set_title(\"Player 1\")\n",
    "ax1.set_xlabel(\"period\")\n",
    "\n",
    "ax2 = fig.add_subplot(132)\n",
    "ax2.plot(range(ts_length), series[1][:,0], linewidth=2)\n",
    "ax2.set_title(\"Player 2\")\n",
    "ax2.set_xlabel(\"period\")\n",
    "\n",
    "ax3 = fig.add_subplot(133)\n",
    "ax3.plot(range(ts_length), series[2][:,0], linewidth=2)\n",
    "ax3.set_title(\"Player 3\")\n",
    "ax3.set_xlabel(\"period\")\n",
    "\n",
    "plt.tight_layout()\n",
    "plt.show()"
   ]
  },
  {
   "cell_type": "markdown",
   "metadata": {},
   "source": [
    "As you can see, all players take action 1(producing 15), which is the pure strategy Nash equilibrium."
   ]
  },
  {
   "cell_type": "markdown",
   "metadata": {},
   "source": [
    "---"
   ]
  },
  {
   "cell_type": "markdown",
   "metadata": {},
   "source": [
    "# Reference"
   ]
  },
  {
   "cell_type": "markdown",
   "metadata": {},
   "source": [
    "- Brown, G. W. 1951. Iterative solutions of games by fictitious play. In Activity Analysis of Production and Allocation, ed. by T.C.Koopmans. New York: Wiley.\n",
    "- Robinson, J. 1951. An iterative method of solving a game. Annals of Mathmatics 54: 296-301.\n",
    "- Shapley, L. 1964. Some topics in two-person games. In Advances in Game Theory, ed. by M. Drescher, L. S. Shapley, and A. W. Tucker. Princeton: Princeton University Press.\n",
    "- Fudenberg, D., and D. Kreps. 1993. Learning mixed equilibria. Games and Economic Behavior 5: 320-67.\n",
    "- Monderer, D., and Shapley, L. 1996. Fictitious Play Property for Games with Identical Interests. Journal of Economic Theory 68, 258-265\n",
    "- Fudenberg, D., and D.K. Levine. 1998. The Theory of Learning in Games Cambridge: MIT Press.\n",
    "- Hofbauer, J., and W. H. Sandholm. 2002. On the Global Convergence of Stochastic Fictitious Play. Econometrica Vol.70, No. 6: 2265-2294"
   ]
  }
 ],
 "metadata": {
  "kernelspec": {
   "display_name": "Python 3",
   "language": "python",
   "name": "python3"
  },
  "language_info": {
   "codemirror_mode": {
    "name": "ipython",
    "version": 3
   },
   "file_extension": ".py",
   "mimetype": "text/x-python",
   "name": "python",
   "nbconvert_exporter": "python",
   "pygments_lexer": "ipython3",
   "version": "3.7.1"
  }
 },
 "nbformat": 4,
 "nbformat_minor": 4
}
