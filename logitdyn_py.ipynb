{
 "cells": [
  {
   "cell_type": "markdown",
   "metadata": {},
   "source": [
    "# Logit Response Dynamics"
   ]
  },
  {
   "cell_type": "markdown",
   "metadata": {},
   "source": [
    "**Yuya Furusawa**\n",
    "\n",
    "*Graduate School of Economics, University of Tokyo*"
   ]
  },
  {
   "cell_type": "markdown",
   "metadata": {},
   "source": [
    "This notebook demonstrates how to study logit best response dynamics model using the `logitdyn` Python library."
   ]
  },
  {
   "cell_type": "code",
   "execution_count": 1,
   "metadata": {},
   "outputs": [],
   "source": [
    "import numpy as np\n",
    "import quantecon.game_theory as gt\n",
    "import matplotlib.pyplot as plt"
   ]
  },
  {
   "cell_type": "markdown",
   "metadata": {},
   "source": [
    "## Logit Response Dynamics"
   ]
  },
  {
   "cell_type": "markdown",
   "metadata": {},
   "source": [
    "Logit response dynamics model is one of the learning models.\n",
    "There is much literature that studies the learning in games, for example, fictitious play, (myopic) best response dynamics, Kandori-Mailath-Rob, sampling best response models.\n",
    "Please refer these notes:\n",
    "- fictitious play\n",
    "- best response dynamics"
   ]
  },
  {
   "cell_type": "markdown",
   "metadata": {},
   "source": [
    "The learning model with random mistakes, including KMR model, is criticised by the absense of the foundation of mistakes.\n",
    "\n",
    "In contrast, **Logit response dynamics**, which incorporates the random mistakes, is based on a theory about the origin of mistakes."
   ]
  },
  {
   "cell_type": "markdown",
   "metadata": {},
   "source": [
    "### Model"
   ]
  },
  {
   "cell_type": "markdown",
   "metadata": {},
   "source": [
    "Let $\\Gamma = (I, {(S_i, u_i)}_{i \\in I})$ be a finite normal form game.\n",
    "- $I=\\{1,\\ldots,N\\}$ : player set\n",
    "- $S_i$ : strategies set ($S$ : pure strategy profile)\n",
    "- $u_i$ : payoff function\n",
    "\n",
    "Denote $s=(s_i, s_{-i}) \\in S$ and $u_i(s_i, s_{-i})=u_i(s)$.\n",
    "\n",
    "In logit response dynamics model, players behave as myopic best replier, but have mistakes in thier decisions.\n",
    "A player is chosen to update her action given other players' actions every period (**asynchronous learning**)."
   ]
  },
  {
   "cell_type": "markdown",
   "metadata": {},
   "source": [
    "When player $i$ is chosen, she will update her action to $s_i$ given actions $s_{-i}$.\n",
    "The probability of choosing action $s_i$ is given by **logit choice function** :\n",
    "$$\n",
    "    p_i(s_i, s_{-i}) = \\frac{\\exp(\\beta u_i(s_i, s_{-i}))}{\\sum_{s_i' \\in S_i} \\exp(\\beta u_i(s_i', s_{-i}))}\n",
    "$$\n",
    "where $0 < \\beta < \\infty$.\n",
    "\n",
    "$\\beta$ can be interpreted as an inverse measure of the level of noise in players' decisions.\n",
    "As $\\beta$ becomes larger, the size of noise becomes smaller.\n",
    "From the microeconomic point of view, this modeling is based on a random-utility model, decision thoretic foundation."
   ]
  },
  {
   "cell_type": "markdown",
   "metadata": {},
   "source": [
    "Logit response dynamics can converge to the set of Nash equilibria in the potential game.\n",
    "We call this converged state as stabel state.\n",
    "First, we introduce the definition of potential game.\n",
    "\n",
    "**Definition(potential game)**\n",
    "\n",
    "The $\\Gamma$ is a *potential game* if there exists a function $\\rho:S \\rightarrow \\mathbb{R}$ such that for all $i \\in I$, $s_i, s_i' \\in S_i$, $s_{-i} \\in S_{-i}$,\n",
    "$$\n",
    "    u_i(s_i, s_{-i}) - u_i(s_i', s_{-i}) = \\rho(s_i, s_{-i}) - \\rho(s_i', s_{-i})\n",
    "$$\n",
    "\n",
    "$\\rho$ is called the potential."
   ]
  },
  {
   "cell_type": "markdown",
   "metadata": {},
   "source": [
    "The following game is the potential game:\n",
    "\n",
    "1$\\backslash$2 | $A$           | $B$ \n",
    " ------------- |---------------| ---------\n",
    " $A$           | 4, 4          |   0, 3   \n",
    " $B$           | 3, 0          |   2, 2     \n",
    " \n",
    "To see this, the potential $\\rho$ can be defined\n",
    "\n",
    "1$\\backslash$2 | $A$        | $B$ \n",
    " ------------- |------------| ---------\n",
    " $A$           | 1          |   0  \n",
    " $B$           | 0          |   2     \n",
    "\n",
    "(Note every $2 \\times 2$ symmetric game is the potential game)"
   ]
  },
  {
   "cell_type": "markdown",
   "metadata": {},
   "source": [
    "**Theorem**\n",
    "\n",
    "In the potential game, the set of stable states of logit response dynamics is equal to the set of maximizers of $\\rho$."
   ]
  },
  {
   "cell_type": "markdown",
   "metadata": {},
   "source": [
    "We will check this later."
   ]
  },
  {
   "cell_type": "markdown",
   "metadata": {},
   "source": [
    "## `logitdyn.py` usage"
   ]
  },
  {
   "cell_type": "markdown",
   "metadata": {},
   "source": [
    "To create `LogitDynamics` class instance, you need the played game and the parameter $\\beta$.\n",
    "The game has to be `NormalFormGame` instance or array like.\n",
    "As argued before, $\\beta$ is the level of noise in the players' decisions."
   ]
  },
  {
   "cell_type": "code",
   "execution_count": 2,
   "metadata": {},
   "outputs": [],
   "source": [
    "payoff = [[4, 0],\n",
    "          [3, 2]]\n",
    "game = gt.NormalFormGame(payoff)\n",
    "beta = 2.0\n",
    "ldy = gt.LogitDynamics(game, beta)"
   ]
  },
  {
   "cell_type": "markdown",
   "metadata": {},
   "source": [
    "You can check the cumulative elements of logit choice function(normalized $\\exp(\\beta u_i(s_i, s_{-i}))$) for each player by `logit_choice_cdfs` method."
   ]
  },
  {
   "cell_type": "code",
   "execution_count": 3,
   "metadata": {},
   "outputs": [
    {
     "data": {
      "text/plain": [
       "(array([[1.        , 1.13533528],\n",
       "        [0.01831564, 1.01831564]]),\n",
       " array([[1.        , 1.13533528],\n",
       "        [0.01831564, 1.01831564]]))"
      ]
     },
     "execution_count": 3,
     "metadata": {},
     "output_type": "execute_result"
    }
   ],
   "source": [
    "ldy.logit_choice_cdfs()"
   ]
  },
  {
   "cell_type": "markdown",
   "metadata": {},
   "source": [
    "### `play` method"
   ]
  },
  {
   "cell_type": "markdown",
   "metadata": {},
   "source": [
    "`play` method returns a new action profile in the model.\n",
    "You can specify the initial action profile.\n",
    "If not provided, it is determined randomly.\n",
    "In addition, you can proceed the dynamics multiple times by specifying `num_reps`, which is set to 1 by default."
   ]
  },
  {
   "cell_type": "code",
   "execution_count": 4,
   "metadata": {},
   "outputs": [
    {
     "data": {
      "text/plain": [
       "(0, 0)"
      ]
     },
     "execution_count": 4,
     "metadata": {},
     "output_type": "execute_result"
    }
   ],
   "source": [
    "init_actions = (0, 0) # both players take action 0\n",
    "ldy.play(init_actions)"
   ]
  },
  {
   "cell_type": "code",
   "execution_count": 5,
   "metadata": {},
   "outputs": [
    {
     "data": {
      "text/plain": [
       "(1, 1)"
      ]
     },
     "execution_count": 5,
     "metadata": {},
     "output_type": "execute_result"
    }
   ],
   "source": [
    "ldy.play(init_actions, num_reps=3)"
   ]
  },
  {
   "cell_type": "markdown",
   "metadata": {},
   "source": [
    "### `time_series` method"
   ]
  },
  {
   "cell_type": "markdown",
   "metadata": {},
   "source": [
    "`time_series` method returns a time series of action distributions.\n",
    "You have to specify the length of time series.\n",
    "In addition, you can choose initial action distribution from which the dynamics proceeds.\n",
    "If not specified, it is randomly choosed."
   ]
  },
  {
   "cell_type": "code",
   "execution_count": 6,
   "metadata": {},
   "outputs": [
    {
     "data": {
      "text/plain": [
       "array([[0, 0],\n",
       "       [1, 0],\n",
       "       [0, 0],\n",
       "       [0, 0],\n",
       "       [0, 0]])"
      ]
     },
     "execution_count": 6,
     "metadata": {},
     "output_type": "execute_result"
    }
   ],
   "source": [
    "ts_length = 5\n",
    "init_actions = (0, 0)\n",
    "ldy.time_series(ts_length, init_actions)"
   ]
  },
  {
   "cell_type": "markdown",
   "metadata": {},
   "source": [
    "## Example"
   ]
  },
  {
   "cell_type": "markdown",
   "metadata": {},
   "source": [
    "We see the convergence of the logit response dynamics in the potential game.\n",
    "We use the coordination game defined above."
   ]
  },
  {
   "cell_type": "code",
   "execution_count": 7,
   "metadata": {},
   "outputs": [],
   "source": [
    "payoff = [[4,0],\n",
    "          [3,2]]\n",
    "beta = 4.0\n",
    "ldy = gt.LogitDynamics(payoff, beta)"
   ]
  },
  {
   "cell_type": "code",
   "execution_count": 8,
   "metadata": {},
   "outputs": [],
   "source": [
    "ts_length = 1000\n",
    "init_actions = (0,0)\n",
    "series = ldy.time_series(ts_length, init_actions)\n",
    "seriesB = np.where(series==1, 1, 0)"
   ]
  },
  {
   "cell_type": "code",
   "execution_count": 9,
   "metadata": {},
   "outputs": [
    {
     "data": {
      "image/png": "[encoded data removed]",
      "text/plain": [
       "<Figure size 576x360 with 1 Axes>"
      ]
     },
     "metadata": {
      "needs_background": "light"
     },
     "output_type": "display_data"
    }
   ],
   "source": [
    "fig, ax = plt.subplots(figsize=(8, 5))\n",
    "ax.set_prop_cycle('color', ['b', 'g'])\n",
    "ax.plot(np.cumsum(seriesB[:, 0], axis=0)/np.arange(1,ts_length+1), linewidth=2, label=\"Player 1\")\n",
    "ax.plot(np.cumsum(seriesB[:, 1], axis=0)/np.arange(1,ts_length+1), linewidth=2, label=\"Player 2\")\n",
    "ax.set_ylim(0, 1)\n",
    "plt.legend()\n",
    "plt.title(\"Cumulative Frequency of Action B\")\n",
    "plt.show()"
   ]
  },
  {
   "cell_type": "markdown",
   "metadata": {},
   "source": [
    "As you can see, (B,B) is a stable state of this dynamics, and this state maximizers of the potential $\\rho$."
   ]
  },
  {
   "cell_type": "markdown",
   "metadata": {},
   "source": [
    "Next, we simulate the logit reponse dynamics in the Young's game.\n",
    "Young's game is defined as follows:\n",
    "\n",
    "1$\\backslash$2 | $A$           | $B$      | $C$\n",
    " ------------- |---------------| ---------| --------\n",
    " $A$           | 6, 6          |   0, 0   |   0, 0\n",
    " $B$           | 5, 5          |   7, 7   |   5, 5\n",
    " $C$           | 0, 0          |   5, 5   |   8, 8"
   ]
  },
  {
   "cell_type": "code",
   "execution_count": 10,
   "metadata": {},
   "outputs": [],
   "source": [
    "young_game_matrix = [[6, 0, 0],\n",
    "                     [5, 7, 5],\n",
    "                     [0, 5, 8]]\n",
    "beta = 4.0\n",
    "ldy = gt.LogitDynamics(young_game_matrix, beta)"
   ]
  },
  {
   "cell_type": "code",
   "execution_count": 11,
   "metadata": {},
   "outputs": [
    {
     "data": {
      "image/png": "[encoded data removed]",
      "text/plain": [
       "<Figure size 576x360 with 1 Axes>"
      ]
     },
     "metadata": {
      "needs_background": "light"
     },
     "output_type": "display_data"
    }
   ],
   "source": [
    "ts_length = 1000\n",
    "init_actions = (0,0)\n",
    "series = ldy.time_series(ts_length, init_actions)\n",
    "seriesB = np.where(series==1, 1, 0)\n",
    "fig, ax = plt.subplots(figsize=(8, 5))\n",
    "ax.set_prop_cycle('color', ['b', 'g'])\n",
    "ax.plot(np.cumsum(seriesB[:, 0], axis=0)/np.arange(1,ts_length+1), linewidth=2, label=\"Player 1\")\n",
    "ax.plot(np.cumsum(seriesB[:, 1], axis=0)/np.arange(1,ts_length+1), linewidth=2, label=\"Player 2\")\n",
    "ax.set_ylim(0, 1)\n",
    "plt.legend()\n",
    "plt.title(\"Cumulative Frequency of Action B\")\n",
    "plt.show()"
   ]
  },
  {
   "cell_type": "markdown",
   "metadata": {},
   "source": [
    "---"
   ]
  },
  {
   "cell_type": "markdown",
   "metadata": {},
   "source": [
    "## Reference\n",
    "- Alós-Ferrer, Carlos, and Nick Netzer. \"The logit-response dynamics.\" Games and Economic Behavior 68.2 (2010): 413-427."
   ]
  }
 ],
 "metadata": {
  "kernelspec": {
   "display_name": "Python 3",
   "language": "python",
   "name": "python3"
  },
  "language_info": {
   "codemirror_mode": {
    "name": "ipython",
    "version": 3
   },
   "file_extension": ".py",
   "mimetype": "text/x-python",
   "name": "python",
   "nbconvert_exporter": "python",
   "pygments_lexer": "ipython3",
   "version": "3.7.1"
  }
 },
 "nbformat": 4,
 "nbformat_minor": 4
}
