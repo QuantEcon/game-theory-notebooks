{
 "cells": [
  {
   "cell_type": "markdown",
   "metadata": {},
   "source": [
    "# Best Response Dynamics"
   ]
  },
  {
   "cell_type": "markdown",
   "metadata": {},
   "source": [
    "Author: Yuya Furusawa\n",
    "\n",
    "*Graduate School of Economics, University of Tokyo*"
   ]
  },
  {
   "cell_type": "markdown",
   "metadata": {},
   "source": [
    "This note demonstrates the best response dynamics model and its related models with `brd.jl` Julia library."
   ]
  },
  {
   "cell_type": "code",
   "execution_count": 1,
   "metadata": {},
   "outputs": [
    {
     "data": {
      "text/plain": [
       "Plots.GRBackend()"
      ]
     },
     "execution_count": 1,
     "metadata": {},
     "output_type": "execute_result"
    }
   ],
   "source": [
    "using GameTheory\n",
    "using Plots\n",
    "gr()"
   ]
  },
  {
   "cell_type": "markdown",
   "metadata": {},
   "source": [
    "## Model"
   ]
  },
  {
   "cell_type": "markdown",
   "metadata": {},
   "source": [
    "### Best response dynamics"
   ]
  },
  {
   "cell_type": "markdown",
   "metadata": {},
   "source": [
    "Best response dynamics is one of the strategy updating methods.\n",
    "At each round, the set of players is chosen, and they take best responses given other players' current strategy.\n",
    "Players who take best response only consider the next round payoff, that is they don't consider the future payoffs.\n",
    "From this feature, best response dynamics, is called **myopic best response**.\n",
    "\n",
    "In the potential game, you can find a Nash equilibrium by best response dynamics."
   ]
  },
  {
   "cell_type": "markdown",
   "metadata": {},
   "source": [
    "### KMR model"
   ]
  },
  {
   "cell_type": "markdown",
   "metadata": {},
   "source": [
    "Kandori-Mailath-Rob model(KMR model) is an evolutional model, similar to best response dynamics model.\n",
    "In KMR model, agents do not always take a strategy which delivers highest payoff, they sometimes take another strategy.\n",
    "Unlike best response dynamics, in KMR model, the system is not deterministic evolution.\n",
    "Startegy flips can occur in every period.\n",
    "\n",
    "KMR model gives a **[risk-dominance](https://en.wikipedia.org/wiki/Risk_dominance) equilibrium** as stationary equilibrium.\n",
    "In contrast, best response dynamics does not always give a risk-dominance equilibrium.\n",
    "(We see these contrast later.)\n",
    "\n",
    "KMR model is sometimes criticised by the absense of the foundation of strategy flips.\n",
    "To overcome this point, logit response dynamics model incorporates decision theoretic foundation of strategy chooice (See this note)."
   ]
  },
  {
   "cell_type": "markdown",
   "metadata": {},
   "source": [
    "### Sampling best response"
   ]
  },
  {
   "cell_type": "markdown",
   "metadata": {},
   "source": [
    "Sampling best response dynamics model is also evolutional model.\n",
    "In this model, agents who get a chance to revise an action observe the randomly sampled opponents' actions, and then take a best resoponse.\n",
    "If $k$ sample observed, we call **$k$-sampling best response dynamics**.\n",
    "\n",
    "Under some conditions, this dynamics gives p-dominant equilibrium as stationary equilibirum  (To refer the p-dominant equilibrium, see Morris, Rob and Shin(1995))."
   ]
  },
  {
   "cell_type": "markdown",
   "metadata": {},
   "source": [
    "## `brd.jl` usage"
   ]
  },
  {
   "cell_type": "code",
   "execution_count": 2,
   "metadata": {},
   "outputs": [
    {
     "data": {
      "text/plain": [
       "4"
      ]
     },
     "execution_count": 2,
     "metadata": {},
     "output_type": "execute_result"
    }
   ],
   "source": [
    "# payoff matrix\n",
    "payoff = [4 0;\n",
    "          3 2]\n",
    "# the number of players \n",
    "N = 4"
   ]
  },
  {
   "cell_type": "markdown",
   "metadata": {},
   "source": [
    "To create `BRD` instance, you need payoff matrix and the number of players."
   ]
  },
  {
   "cell_type": "code",
   "execution_count": 3,
   "metadata": {},
   "outputs": [
    {
     "data": {
      "text/plain": [
       "BRD{Int64}(4, 2×2 Player{2, Int64}:\n",
       " 4  0\n",
       " 3  2, 2)"
      ]
     },
     "execution_count": 3,
     "metadata": {},
     "output_type": "execute_result"
    }
   ],
   "source": [
    "# Best response dynamics\n",
    "brd = BRD(payoff, N)"
   ]
  },
  {
   "cell_type": "markdown",
   "metadata": {},
   "source": [
    "You need additionally specify epsilon, the probability of strategy flips, and k, sample size, to create `KMR` and `SamplingBRD` instances respectively.\n",
    "If not provided, these are set to `epsilon=0.1` and `k=2` by default."
   ]
  },
  {
   "cell_type": "code",
   "execution_count": 4,
   "metadata": {},
   "outputs": [
    {
     "data": {
      "text/plain": [
       "SamplingBRD{Int64}(4, 2×2 Player{2, Int64}:\n",
       " 4  0\n",
       " 3  2, 2, 2)"
      ]
     },
     "execution_count": 4,
     "metadata": {},
     "output_type": "execute_result"
    }
   ],
   "source": [
    "# KMR model\n",
    "epsilon = 0.1\n",
    "kmr = KMR(payoff, N, epsilon)\n",
    "\n",
    "# Sampling best response model\n",
    "k = 2\n",
    "sbrd = SamplingBRD(payoff, N, k)"
   ]
  },
  {
   "cell_type": "markdown",
   "metadata": {},
   "source": [
    "### `play` method"
   ]
  },
  {
   "cell_type": "markdown",
   "metadata": {},
   "source": [
    "`play` method proceeds the game by one step.\n",
    "`play` method requires `init_action_dist`, which is the current action distribution(in other words \"frquency\", not probability distribution) where first element indicates the number of players who takes action 0."
   ]
  },
  {
   "cell_type": "code",
   "execution_count": 5,
   "metadata": {},
   "outputs": [
    {
     "data": {
      "text/plain": [
       "2-element Vector{Int64}:\n",
       " 3\n",
       " 1"
      ]
     },
     "execution_count": 5,
     "metadata": {},
     "output_type": "execute_result"
    }
   ],
   "source": [
    "init_action_dist = [2, 2]\n",
    "play(brd, init_action_dist)"
   ]
  },
  {
   "cell_type": "markdown",
   "metadata": {},
   "source": [
    "You can use `play` method similarly in KMR model and sampling best response dynamics model."
   ]
  },
  {
   "cell_type": "markdown",
   "metadata": {},
   "source": [
    "### `time_series` method"
   ]
  },
  {
   "cell_type": "markdown",
   "metadata": {},
   "source": [
    "`time_series` method returns a time series of action distributions(frequencies).\n",
    "You have to specify the length of time series.\n",
    "In addition, you can choose initial action distribution from which the dynamics proceeds.\n",
    "If not specified, it is randomly chosen."
   ]
  },
  {
   "cell_type": "code",
   "execution_count": 6,
   "metadata": {},
   "outputs": [
    {
     "data": {
      "text/plain": [
       "2×5 Matrix{Int64}:\n",
       " 2  3  3  3  3\n",
       " 2  1  1  1  1"
      ]
     },
     "execution_count": 6,
     "metadata": {},
     "output_type": "execute_result"
    }
   ],
   "source": [
    "ts_length = 5\n",
    "init_action_dist = [2, 2]\n",
    "time_series(brd, ts_length, init_action_dist)"
   ]
  },
  {
   "cell_type": "markdown",
   "metadata": {},
   "source": [
    "You can use `time_series` method similarly in KMR model and sampling best response dynamics model."
   ]
  },
  {
   "cell_type": "markdown",
   "metadata": {},
   "source": [
    "## Examples"
   ]
  },
  {
   "cell_type": "markdown",
   "metadata": {},
   "source": [
    "We illustrate the dynamics of players' actions with **coordination game** and **Young's game**."
   ]
  },
  {
   "cell_type": "markdown",
   "metadata": {},
   "source": [
    "Coordination game is defined as follows:\n",
    "\n",
    "1$\\backslash$2 | $A$           | $B$ \n",
    " ------------- |---------------| ---------\n",
    " $A$           | 2, 2          |   0, 0   \n",
    " $B$           | 0, 0          |   1, 1       "
   ]
  },
  {
   "cell_type": "code",
   "execution_count": 7,
   "metadata": {},
   "outputs": [
    {
     "data": {
      "text/plain": [
       "2×2 Matrix{Int64}:\n",
       " 2  0\n",
       " 0  1"
      ]
     },
     "execution_count": 7,
     "metadata": {},
     "output_type": "execute_result"
    }
   ],
   "source": [
    "coordination_game_matrix = [2 0; 0 1]"
   ]
  },
  {
   "cell_type": "markdown",
   "metadata": {},
   "source": [
    "Young's game is defined as follows:\n",
    "\n",
    "1$\\backslash$2 | $A$           | $B$      | $C$\n",
    " ------------- |---------------| ---------| ----------\n",
    " $A$           | 6, 6          |   0, 0   | 0, 0\n",
    " $B$           | 5, 5          |   7, 7   | 5, 5\n",
    " $C$           | 0, 0          |   5, 5   | 8, 8"
   ]
  },
  {
   "cell_type": "code",
   "execution_count": 8,
   "metadata": {},
   "outputs": [
    {
     "data": {
      "text/plain": [
       "3×3 Matrix{Int64}:\n",
       " 6  0  0\n",
       " 5  7  5\n",
       " 0  5  8"
      ]
     },
     "execution_count": 8,
     "metadata": {},
     "output_type": "execute_result"
    }
   ],
   "source": [
    "young_game_matrix = [6 0 0; 5 7 5; 0 5 8]"
   ]
  },
  {
   "cell_type": "markdown",
   "metadata": {},
   "source": [
    "The number of agents is set to 10 and the length of time series is 200."
   ]
  },
  {
   "cell_type": "code",
   "execution_count": 9,
   "metadata": {},
   "outputs": [
    {
     "data": {
      "text/plain": [
       "200"
      ]
     },
     "execution_count": 9,
     "metadata": {},
     "output_type": "execute_result"
    }
   ],
   "source": [
    "N = 10\n",
    "ts_length = 200"
   ]
  },
  {
   "cell_type": "code",
   "execution_count": 10,
   "metadata": {},
   "outputs": [
    {
     "data": {
      "text/plain": [
       "1×3 Matrix{String}:\n",
       " \"Action A\"  \"Action B\"  \"Action C\""
      ]
     },
     "execution_count": 10,
     "metadata": {},
     "output_type": "execute_result"
    }
   ],
   "source": [
    "label_2 = [\"Action A\" \"Action B\"]\n",
    "label_3 = [\"Action A\" \"Action B\" \"Action C\"]"
   ]
  },
  {
   "cell_type": "markdown",
   "metadata": {},
   "source": [
    "In the graphs below, vertical axis represents the number of players who take each actions, and holizontal axis represents the periods."
   ]
  },
  {
   "cell_type": "markdown",
   "metadata": {},
   "source": [
    "### Best Response Dynamics"
   ]
  },
  {
   "cell_type": "markdown",
   "metadata": {},
   "source": [
    "In evolutionary game theory, best response dynamics represents a class of strategy updating rules, where each player's strategy in the next round is determined by their best response to subset of population."
   ]
  },
  {
   "cell_type": "markdown",
   "metadata": {},
   "source": [
    "#### Coordination Game"
   ]
  },
  {
   "cell_type": "code",
   "execution_count": 11,
   "metadata": {},
   "outputs": [],
   "source": [
    "brd_coor = BRD(coordination_game_matrix, N);"
   ]
  },
  {
   "cell_type": "code",
   "execution_count": 12,
   "metadata": {},
   "outputs": [
    {
     "data": {
      "image/svg+xml": [
       "<?xml version=\"1.0\" encoding=\"utf-8\"?>\n",
       "<svg xmlns=\"http://www.w3.org/2000/svg\" xmlns:xlink=\"http://www.w3.org/1999/xlink\" width=\"600\" height=\"400\" viewBox=\"0 0 2400 1600\">\n",
       "<defs>\n",
       "  <clipPath id=\"clip780\">\n",
       "    <rect x=\"0\" y=\"0\" width=\"2400\" height=\"1600\"/>\n",
       "  </clipPath>\n",
       "</defs>\n",
       "<path clip-path=\"url(#clip780)\" d=\"\n",
       "M0 1600 L2400 1600 L2400 0 L0 0  Z\n",
       "  \" fill=\"#ffffff\" fill-rule=\"evenodd\" fill-opacity=\"1\"/>\n",
       "<defs>\n",
       "  <clipPath id=\"clip781\">\n",
       "    <rect x=\"480\" y=\"0\" width=\"1681\" height=\"1600\"/>\n",
       "  </clipPath>\n",
       "</defs>\n",
       "<path clip-path=\"url(#clip780)\" d=\"\n",
       "M184.191 1486.45 L2352.76 1486.45 L2352.76 47.2441 L184.191 47.2441  Z\n",
       "  \" fill=\"#ffffff\" fill-rule=\"evenodd\" fill-opacity=\"1\"/>\n",
       "<defs>\n",
       "  <clipPath id=\"clip782\">\n",
       "    <rect x=\"184\" y=\"47\" width=\"2170\" height=\"1440\"/>\n",
       "  </clipPath>\n",
       "</defs>\n",
       "<polyline clip-path=\"url(#clip782)\" style=\"stroke:#000000; stroke-linecap:round; stroke-linejoin:round; stroke-width:2; stroke-opacity:0.1; fill:none\" points=\"\n",
       "  235.285,1486.45 235.285,47.2441 \n",
       "  \"/>\n",
       "<polyline clip-path=\"url(#clip782)\" style=\"stroke:#000000; stroke-linecap:round; stroke-linejoin:round; stroke-width:2; stroke-opacity:0.1; fill:none\" points=\"\n",
       "  749.309,1486.45 749.309,47.2441 \n",
       "  \"/>\n",
       "<polyline clip-path=\"url(#clip782)\" style=\"stroke:#000000; stroke-linecap:round; stroke-linejoin:round; stroke-width:2; stroke-opacity:0.1; fill:none\" points=\"\n",
       "  1263.33,1486.45 1263.33,47.2441 \n",
       "  \"/>\n",
       "<polyline clip-path=\"url(#clip782)\" style=\"stroke:#000000; stroke-linecap:round; stroke-linejoin:round; stroke-width:2; stroke-opacity:0.1; fill:none\" points=\"\n",
       "  1777.36,1486.45 1777.36,47.2441 \n",
       "  \"/>\n",
       "<polyline clip-path=\"url(#clip782)\" style=\"stroke:#000000; stroke-linecap:round; stroke-linejoin:round; stroke-width:2; stroke-opacity:0.1; fill:none\" points=\"\n",
       "  2291.38,1486.45 2291.38,47.2441 \n",
       "  \"/>\n",
       "<polyline clip-path=\"url(#clip780)\" style=\"stroke:#000000; stroke-linecap:round; stroke-linejoin:round; stroke-width:4; stroke-opacity:1; fill:none\" points=\"\n",
       "  184.191,1486.45 2352.76,1486.45 \n",
       "  \"/>\n",
       "<polyline clip-path=\"url(#clip780)\" style=\"stroke:#000000; stroke-linecap:round; stroke-linejoin:round; stroke-width:4; stroke-opacity:1; fill:none\" points=\"\n",
       "  235.285,1486.45 235.285,1467.55 \n",
       "  \"/>\n",
       "<polyline clip-path=\"url(#clip780)\" style=\"stroke:#000000; stroke-linecap:round; stroke-linejoin:round; stroke-width:4; stroke-opacity:1; fill:none\" points=\"\n",
       "  749.309,1486.45 749.309,1467.55 \n",
       "  \"/>\n",
       "<polyline clip-path=\"url(#clip780)\" style=\"stroke:#000000; stroke-linecap:round; stroke-linejoin:round; stroke-width:4; stroke-opacity:1; fill:none\" points=\"\n",
       "  1263.33,1486.45 1263.33,1467.55 \n",
       "  \"/>\n",
       "<polyline clip-path=\"url(#clip780)\" style=\"stroke:#000000; stroke-linecap:round; stroke-linejoin:round; stroke-width:4; stroke-opacity:1; fill:none\" points=\"\n",
       "  1777.36,1486.45 1777.36,1467.55 \n",
       "  \"/>\n",
       "<polyline clip-path=\"url(#clip780)\" style=\"stroke:#000000; stroke-linecap:round; stroke-linejoin:round; stroke-width:4; stroke-opacity:1; fill:none\" points=\"\n",
       "  2291.38,1486.45 2291.38,1467.55 \n",
       "  \"/>\n",
       "<path clip-path=\"url(#clip780)\" d=\"M235.285 1517.37 Q231.674 1517.37 229.845 1520.93 Q228.039 1524.47 228.039 1531.6 Q228.039 1538.71 229.845 1542.27 Q231.674 1545.82 235.285 1545.82 Q238.919 1545.82 240.724 1542.27 Q242.553 1538.71 242.553 1531.6 Q242.553 1524.47 240.724 1520.93 Q238.919 1517.37 235.285 1517.37 M235.285 1513.66 Q241.095 1513.66 244.15 1518.27 Q247.229 1522.85 247.229 1531.6 Q247.229 1540.33 244.15 1544.94 Q241.095 1549.52 235.285 1549.52 Q229.475 1549.52 226.396 1544.94 Q223.34 1540.33 223.34 1531.6 Q223.34 1522.85 226.396 1518.27 Q229.475 1513.66 235.285 1513.66 Z\" fill=\"#000000\" fill-rule=\"evenodd\" fill-opacity=\"1\" /><path clip-path=\"url(#clip780)\" d=\"M724.008 1514.29 L742.364 1514.29 L742.364 1518.22 L728.29 1518.22 L728.29 1526.7 Q729.309 1526.35 730.327 1526.19 Q731.346 1526 732.365 1526 Q738.152 1526 741.531 1529.17 Q744.911 1532.34 744.911 1537.76 Q744.911 1543.34 741.439 1546.44 Q737.966 1549.52 731.647 1549.52 Q729.471 1549.52 727.203 1549.15 Q724.957 1548.78 722.55 1548.04 L722.55 1543.34 Q724.633 1544.47 726.855 1545.03 Q729.077 1545.58 731.554 1545.58 Q735.559 1545.58 737.897 1543.48 Q740.235 1541.37 740.235 1537.76 Q740.235 1534.15 737.897 1532.04 Q735.559 1529.94 731.554 1529.94 Q729.679 1529.94 727.804 1530.35 Q725.953 1530.77 724.008 1531.65 L724.008 1514.29 Z\" fill=\"#000000\" fill-rule=\"evenodd\" fill-opacity=\"1\" /><path clip-path=\"url(#clip780)\" d=\"M764.124 1517.37 Q760.513 1517.37 758.684 1520.93 Q756.878 1524.47 756.878 1531.6 Q756.878 1538.71 758.684 1542.27 Q760.513 1545.82 764.124 1545.82 Q767.758 1545.82 769.563 1542.27 Q771.392 1538.71 771.392 1531.6 Q771.392 1524.47 769.563 1520.93 Q767.758 1517.37 764.124 1517.37 M764.124 1513.66 Q769.934 1513.66 772.989 1518.27 Q776.068 1522.85 776.068 1531.6 Q776.068 1540.33 772.989 1544.94 Q769.934 1549.52 764.124 1549.52 Q758.313 1549.52 755.235 1544.94 Q752.179 1540.33 752.179 1531.6 Q752.179 1522.85 755.235 1518.27 Q758.313 1513.66 764.124 1513.66 Z\" fill=\"#000000\" fill-rule=\"evenodd\" fill-opacity=\"1\" /><path clip-path=\"url(#clip780)\" d=\"M1222.94 1544.91 L1230.58 1544.91 L1230.58 1518.55 L1222.27 1520.21 L1222.27 1515.95 L1230.53 1514.29 L1235.21 1514.29 L1235.21 1544.91 L1242.85 1544.91 L1242.85 1548.85 L1222.94 1548.85 L1222.94 1544.91 Z\" fill=\"#000000\" fill-rule=\"evenodd\" fill-opacity=\"1\" /><path clip-path=\"url(#clip780)\" d=\"M1262.29 1517.37 Q1258.68 1517.37 1256.85 1520.93 Q1255.05 1524.47 1255.05 1531.6 Q1255.05 1538.71 1256.85 1542.27 Q1258.68 1545.82 1262.29 1545.82 Q1265.93 1545.82 1267.73 1542.27 Q1269.56 1538.71 1269.56 1531.6 Q1269.56 1524.47 1267.73 1520.93 Q1265.93 1517.37 1262.29 1517.37 M1262.29 1513.66 Q1268.1 1513.66 1271.16 1518.27 Q1274.24 1522.85 1274.24 1531.6 Q1274.24 1540.33 1271.16 1544.94 Q1268.1 1549.52 1262.29 1549.52 Q1256.48 1549.52 1253.4 1544.94 Q1250.35 1540.33 1250.35 1531.6 Q1250.35 1522.85 1253.4 1518.27 Q1256.48 1513.66 1262.29 1513.66 Z\" fill=\"#000000\" fill-rule=\"evenodd\" fill-opacity=\"1\" /><path clip-path=\"url(#clip780)\" d=\"M1292.45 1517.37 Q1288.84 1517.37 1287.01 1520.93 Q1285.21 1524.47 1285.21 1531.6 Q1285.21 1538.71 1287.01 1542.27 Q1288.84 1545.82 1292.45 1545.82 Q1296.09 1545.82 1297.89 1542.27 Q1299.72 1538.71 1299.72 1531.6 Q1299.72 1524.47 1297.89 1520.93 Q1296.09 1517.37 1292.45 1517.37 M1292.45 1513.66 Q1298.26 1513.66 1301.32 1518.27 Q1304.4 1522.85 1304.4 1531.6 Q1304.4 1540.33 1301.32 1544.94 Q1298.26 1549.52 1292.45 1549.52 Q1286.64 1549.52 1283.56 1544.94 Q1280.51 1540.33 1280.51 1531.6 Q1280.51 1522.85 1283.56 1518.27 Q1286.64 1513.66 1292.45 1513.66 Z\" fill=\"#000000\" fill-rule=\"evenodd\" fill-opacity=\"1\" /><path clip-path=\"url(#clip780)\" d=\"M1736.96 1544.91 L1744.6 1544.91 L1744.6 1518.55 L1736.29 1520.21 L1736.29 1515.95 L1744.56 1514.29 L1749.23 1514.29 L1749.23 1544.91 L1756.87 1544.91 L1756.87 1548.85 L1736.96 1548.85 L1736.96 1544.91 Z\" fill=\"#000000\" fill-rule=\"evenodd\" fill-opacity=\"1\" /><path clip-path=\"url(#clip780)\" d=\"M1766.36 1514.29 L1784.72 1514.29 L1784.72 1518.22 L1770.64 1518.22 L1770.64 1526.7 Q1771.66 1526.35 1772.68 1526.19 Q1773.7 1526 1774.72 1526 Q1780.51 1526 1783.88 1529.17 Q1787.26 1532.34 1787.26 1537.76 Q1787.26 1543.34 1783.79 1546.44 Q1780.32 1549.52 1774 1549.52 Q1771.82 1549.52 1769.56 1549.15 Q1767.31 1548.78 1764.9 1548.04 L1764.9 1543.34 Q1766.99 1544.47 1769.21 1545.03 Q1771.43 1545.58 1773.91 1545.58 Q1777.91 1545.58 1780.25 1543.48 Q1782.59 1541.37 1782.59 1537.76 Q1782.59 1534.15 1780.25 1532.04 Q1777.91 1529.94 1773.91 1529.94 Q1772.03 1529.94 1770.16 1530.35 Q1768.31 1530.77 1766.36 1531.65 L1766.36 1514.29 Z\" fill=\"#000000\" fill-rule=\"evenodd\" fill-opacity=\"1\" /><path clip-path=\"url(#clip780)\" d=\"M1806.48 1517.37 Q1802.87 1517.37 1801.04 1520.93 Q1799.23 1524.47 1799.23 1531.6 Q1799.23 1538.71 1801.04 1542.27 Q1802.87 1545.82 1806.48 1545.82 Q1810.11 1545.82 1811.92 1542.27 Q1813.75 1538.71 1813.75 1531.6 Q1813.75 1524.47 1811.92 1520.93 Q1810.11 1517.37 1806.48 1517.37 M1806.48 1513.66 Q1812.29 1513.66 1815.34 1518.27 Q1818.42 1522.85 1818.42 1531.6 Q1818.42 1540.33 1815.34 1544.94 Q1812.29 1549.52 1806.48 1549.52 Q1800.67 1549.52 1797.59 1544.94 Q1794.53 1540.33 1794.53 1531.6 Q1794.53 1522.85 1797.59 1518.27 Q1800.67 1513.66 1806.48 1513.66 Z\" fill=\"#000000\" fill-rule=\"evenodd\" fill-opacity=\"1\" /><path clip-path=\"url(#clip780)\" d=\"M2255.07 1544.91 L2271.39 1544.91 L2271.39 1548.85 L2249.45 1548.85 L2249.45 1544.91 Q2252.11 1542.16 2256.69 1537.53 Q2261.3 1532.88 2262.48 1531.53 Q2264.73 1529.01 2265.61 1527.27 Q2266.51 1525.51 2266.51 1523.82 Q2266.51 1521.07 2264.56 1519.33 Q2262.64 1517.6 2259.54 1517.6 Q2257.34 1517.6 2254.89 1518.36 Q2252.46 1519.13 2249.68 1520.68 L2249.68 1515.95 Q2252.5 1514.82 2254.96 1514.24 Q2257.41 1513.66 2259.45 1513.66 Q2264.82 1513.66 2268.01 1516.35 Q2271.21 1519.03 2271.21 1523.52 Q2271.21 1525.65 2270.4 1527.57 Q2269.61 1529.47 2267.5 1532.07 Q2266.93 1532.74 2263.82 1535.95 Q2260.72 1539.15 2255.07 1544.91 Z\" fill=\"#000000\" fill-rule=\"evenodd\" fill-opacity=\"1\" /><path clip-path=\"url(#clip780)\" d=\"M2291.21 1517.37 Q2287.6 1517.37 2285.77 1520.93 Q2283.96 1524.47 2283.96 1531.6 Q2283.96 1538.71 2285.77 1542.27 Q2287.6 1545.82 2291.21 1545.82 Q2294.84 1545.82 2296.65 1542.27 Q2298.48 1538.71 2298.48 1531.6 Q2298.48 1524.47 2296.65 1520.93 Q2294.84 1517.37 2291.21 1517.37 M2291.21 1513.66 Q2297.02 1513.66 2300.07 1518.27 Q2303.15 1522.85 2303.15 1531.6 Q2303.15 1540.33 2300.07 1544.94 Q2297.02 1549.52 2291.21 1549.52 Q2285.4 1549.52 2282.32 1544.94 Q2279.26 1540.33 2279.26 1531.6 Q2279.26 1522.85 2282.32 1518.27 Q2285.4 1513.66 2291.21 1513.66 Z\" fill=\"#000000\" fill-rule=\"evenodd\" fill-opacity=\"1\" /><path clip-path=\"url(#clip780)\" d=\"M2321.37 1517.37 Q2317.76 1517.37 2315.93 1520.93 Q2314.12 1524.47 2314.12 1531.6 Q2314.12 1538.71 2315.93 1542.27 Q2317.76 1545.82 2321.37 1545.82 Q2325 1545.82 2326.81 1542.27 Q2328.64 1538.71 2328.64 1531.6 Q2328.64 1524.47 2326.81 1520.93 Q2325 1517.37 2321.37 1517.37 M2321.37 1513.66 Q2327.18 1513.66 2330.24 1518.27 Q2333.31 1522.85 2333.31 1531.6 Q2333.31 1540.33 2330.24 1544.94 Q2327.18 1549.52 2321.37 1549.52 Q2315.56 1549.52 2312.48 1544.94 Q2309.43 1540.33 2309.43 1531.6 Q2309.43 1522.85 2312.48 1518.27 Q2315.56 1513.66 2321.37 1513.66 Z\" fill=\"#000000\" fill-rule=\"evenodd\" fill-opacity=\"1\" /><polyline clip-path=\"url(#clip782)\" style=\"stroke:#000000; stroke-linecap:round; stroke-linejoin:round; stroke-width:2; stroke-opacity:0.1; fill:none\" points=\"\n",
       "  184.191,1445.72 2352.76,1445.72 \n",
       "  \"/>\n",
       "<polyline clip-path=\"url(#clip782)\" style=\"stroke:#000000; stroke-linecap:round; stroke-linejoin:round; stroke-width:2; stroke-opacity:0.1; fill:none\" points=\"\n",
       "  184.191,1106.28 2352.76,1106.28 \n",
       "  \"/>\n",
       "<polyline clip-path=\"url(#clip782)\" style=\"stroke:#000000; stroke-linecap:round; stroke-linejoin:round; stroke-width:2; stroke-opacity:0.1; fill:none\" points=\"\n",
       "  184.191,766.846 2352.76,766.846 \n",
       "  \"/>\n",
       "<polyline clip-path=\"url(#clip782)\" style=\"stroke:#000000; stroke-linecap:round; stroke-linejoin:round; stroke-width:2; stroke-opacity:0.1; fill:none\" points=\"\n",
       "  184.191,427.411 2352.76,427.411 \n",
       "  \"/>\n",
       "<polyline clip-path=\"url(#clip782)\" style=\"stroke:#000000; stroke-linecap:round; stroke-linejoin:round; stroke-width:2; stroke-opacity:0.1; fill:none\" points=\"\n",
       "  184.191,87.9763 2352.76,87.9763 \n",
       "  \"/>\n",
       "<polyline clip-path=\"url(#clip780)\" style=\"stroke:#000000; stroke-linecap:round; stroke-linejoin:round; stroke-width:4; stroke-opacity:1; fill:none\" points=\"\n",
       "  184.191,1486.45 184.191,47.2441 \n",
       "  \"/>\n",
       "<polyline clip-path=\"url(#clip780)\" style=\"stroke:#000000; stroke-linecap:round; stroke-linejoin:round; stroke-width:4; stroke-opacity:1; fill:none\" points=\"\n",
       "  184.191,1445.72 203.088,1445.72 \n",
       "  \"/>\n",
       "<polyline clip-path=\"url(#clip780)\" style=\"stroke:#000000; stroke-linecap:round; stroke-linejoin:round; stroke-width:4; stroke-opacity:1; fill:none\" points=\"\n",
       "  184.191,1106.28 203.088,1106.28 \n",
       "  \"/>\n",
       "<polyline clip-path=\"url(#clip780)\" style=\"stroke:#000000; stroke-linecap:round; stroke-linejoin:round; stroke-width:4; stroke-opacity:1; fill:none\" points=\"\n",
       "  184.191,766.846 203.088,766.846 \n",
       "  \"/>\n",
       "<polyline clip-path=\"url(#clip780)\" style=\"stroke:#000000; stroke-linecap:round; stroke-linejoin:round; stroke-width:4; stroke-opacity:1; fill:none\" points=\"\n",
       "  184.191,427.411 203.088,427.411 \n",
       "  \"/>\n",
       "<polyline clip-path=\"url(#clip780)\" style=\"stroke:#000000; stroke-linecap:round; stroke-linejoin:round; stroke-width:4; stroke-opacity:1; fill:none\" points=\"\n",
       "  184.191,87.9763 203.088,87.9763 \n",
       "  \"/>\n",
       "<path clip-path=\"url(#clip780)\" d=\"M91.0151 1431.51 Q87.404 1431.51 85.5753 1435.08 Q83.7697 1438.62 83.7697 1445.75 Q83.7697 1452.86 85.5753 1456.42 Q87.404 1459.96 91.0151 1459.96 Q94.6493 1459.96 96.4548 1456.42 Q98.2835 1452.86 98.2835 1445.75 Q98.2835 1438.62 96.4548 1435.08 Q94.6493 1431.51 91.0151 1431.51 M91.0151 1427.81 Q96.8252 1427.81 99.8808 1432.42 Q102.959 1437 102.959 1445.75 Q102.959 1454.48 99.8808 1459.08 Q96.8252 1463.67 91.0151 1463.67 Q85.2049 1463.67 82.1262 1459.08 Q79.0707 1454.48 79.0707 1445.75 Q79.0707 1437 82.1262 1432.42 Q85.2049 1427.81 91.0151 1427.81 Z\" fill=\"#000000\" fill-rule=\"evenodd\" fill-opacity=\"1\" /><path clip-path=\"url(#clip780)\" d=\"M111.177 1457.12 L116.061 1457.12 L116.061 1463 L111.177 1463 L111.177 1457.12 Z\" fill=\"#000000\" fill-rule=\"evenodd\" fill-opacity=\"1\" /><path clip-path=\"url(#clip780)\" d=\"M136.246 1431.51 Q132.635 1431.51 130.807 1435.08 Q129.001 1438.62 129.001 1445.75 Q129.001 1452.86 130.807 1456.42 Q132.635 1459.96 136.246 1459.96 Q139.881 1459.96 141.686 1456.42 Q143.515 1452.86 143.515 1445.75 Q143.515 1438.62 141.686 1435.08 Q139.881 1431.51 136.246 1431.51 M136.246 1427.81 Q142.056 1427.81 145.112 1432.42 Q148.191 1437 148.191 1445.75 Q148.191 1454.48 145.112 1459.08 Q142.056 1463.67 136.246 1463.67 Q130.436 1463.67 127.357 1459.08 Q124.302 1454.48 124.302 1445.75 Q124.302 1437 127.357 1432.42 Q130.436 1427.81 136.246 1427.81 Z\" fill=\"#000000\" fill-rule=\"evenodd\" fill-opacity=\"1\" /><path clip-path=\"url(#clip780)\" d=\"M86.0382 1119.63 L102.358 1119.63 L102.358 1123.56 L80.4133 1123.56 L80.4133 1119.63 Q83.0753 1116.87 87.6586 1112.24 Q92.2651 1107.59 93.4456 1106.25 Q95.691 1103.72 96.5706 1101.99 Q97.4734 1100.23 97.4734 1098.54 Q97.4734 1095.78 95.5289 1094.05 Q93.6076 1092.31 90.5058 1092.31 Q88.3067 1092.31 85.8531 1093.07 Q83.4225 1093.84 80.6447 1095.39 L80.6447 1090.67 Q83.4688 1089.53 85.9225 1088.95 Q88.3762 1088.38 90.4132 1088.38 Q95.7836 1088.38 98.978 1091.06 Q102.172 1093.75 102.172 1098.24 Q102.172 1100.37 101.362 1102.29 Q100.575 1104.19 98.4687 1106.78 Q97.89 1107.45 94.7882 1110.67 Q91.6864 1113.86 86.0382 1119.63 Z\" fill=\"#000000\" fill-rule=\"evenodd\" fill-opacity=\"1\" /><path clip-path=\"url(#clip780)\" d=\"M112.172 1117.68 L117.057 1117.68 L117.057 1123.56 L112.172 1123.56 L112.172 1117.68 Z\" fill=\"#000000\" fill-rule=\"evenodd\" fill-opacity=\"1\" /><path clip-path=\"url(#clip780)\" d=\"M127.288 1089 L145.644 1089 L145.644 1092.94 L131.57 1092.94 L131.57 1101.41 Q132.589 1101.06 133.607 1100.9 Q134.626 1100.71 135.644 1100.71 Q141.431 1100.71 144.811 1103.89 Q148.191 1107.06 148.191 1112.47 Q148.191 1118.05 144.718 1121.15 Q141.246 1124.23 134.927 1124.23 Q132.751 1124.23 130.482 1123.86 Q128.237 1123.49 125.83 1122.75 L125.83 1118.05 Q127.913 1119.19 130.135 1119.74 Q132.357 1120.3 134.834 1120.3 Q138.839 1120.3 141.177 1118.19 Q143.515 1116.08 143.515 1112.47 Q143.515 1108.86 141.177 1106.76 Q138.839 1104.65 134.834 1104.65 Q132.959 1104.65 131.084 1105.07 Q129.232 1105.48 127.288 1106.36 L127.288 1089 Z\" fill=\"#000000\" fill-rule=\"evenodd\" fill-opacity=\"1\" /><path clip-path=\"url(#clip780)\" d=\"M81.0614 749.566 L99.4178 749.566 L99.4178 753.501 L85.3438 753.501 L85.3438 761.973 Q86.3623 761.626 87.3808 761.464 Q88.3993 761.279 89.4178 761.279 Q95.2049 761.279 98.5845 764.45 Q101.964 767.621 101.964 773.038 Q101.964 778.617 98.4919 781.719 Q95.0197 784.797 88.7003 784.797 Q86.5243 784.797 84.2558 784.427 Q82.0105 784.057 79.6031 783.316 L79.6031 778.617 Q81.6864 779.751 83.9086 780.307 Q86.1308 780.862 88.6077 780.862 Q92.6123 780.862 94.9502 778.756 Q97.2882 776.649 97.2882 773.038 Q97.2882 769.427 94.9502 767.321 Q92.6123 765.214 88.6077 765.214 Q86.7327 765.214 84.8577 765.631 Q83.0058 766.047 81.0614 766.927 L81.0614 749.566 Z\" fill=\"#000000\" fill-rule=\"evenodd\" fill-opacity=\"1\" /><path clip-path=\"url(#clip780)\" d=\"M111.177 778.246 L116.061 778.246 L116.061 784.126 L111.177 784.126 L111.177 778.246 Z\" fill=\"#000000\" fill-rule=\"evenodd\" fill-opacity=\"1\" /><path clip-path=\"url(#clip780)\" d=\"M136.246 752.645 Q132.635 752.645 130.807 756.209 Q129.001 759.751 129.001 766.881 Q129.001 773.987 130.807 777.552 Q132.635 781.094 136.246 781.094 Q139.881 781.094 141.686 777.552 Q143.515 773.987 143.515 766.881 Q143.515 759.751 141.686 756.209 Q139.881 752.645 136.246 752.645 M136.246 748.941 Q142.056 748.941 145.112 753.547 Q148.191 758.131 148.191 766.881 Q148.191 775.608 145.112 780.214 Q142.056 784.797 136.246 784.797 Q130.436 784.797 127.357 780.214 Q124.302 775.608 124.302 766.881 Q124.302 758.131 127.357 753.547 Q130.436 748.941 136.246 748.941 Z\" fill=\"#000000\" fill-rule=\"evenodd\" fill-opacity=\"1\" /><path clip-path=\"url(#clip780)\" d=\"M80.8299 410.131 L103.052 410.131 L103.052 412.122 L90.5058 444.691 L85.6216 444.691 L97.4271 414.066 L80.8299 414.066 L80.8299 410.131 Z\" fill=\"#000000\" fill-rule=\"evenodd\" fill-opacity=\"1\" /><path clip-path=\"url(#clip780)\" d=\"M112.172 438.812 L117.057 438.812 L117.057 444.691 L112.172 444.691 L112.172 438.812 Z\" fill=\"#000000\" fill-rule=\"evenodd\" fill-opacity=\"1\" /><path clip-path=\"url(#clip780)\" d=\"M127.288 410.131 L145.644 410.131 L145.644 414.066 L131.57 414.066 L131.57 422.538 Q132.589 422.191 133.607 422.029 Q134.626 421.844 135.644 421.844 Q141.431 421.844 144.811 425.015 Q148.191 428.187 148.191 433.603 Q148.191 439.182 144.718 442.284 Q141.246 445.362 134.927 445.362 Q132.751 445.362 130.482 444.992 Q128.237 444.622 125.83 443.881 L125.83 439.182 Q127.913 440.316 130.135 440.872 Q132.357 441.427 134.834 441.427 Q138.839 441.427 141.177 439.321 Q143.515 437.214 143.515 433.603 Q143.515 429.992 141.177 427.886 Q138.839 425.779 134.834 425.779 Q132.959 425.779 131.084 426.196 Q129.232 426.613 127.288 427.492 L127.288 410.131 Z\" fill=\"#000000\" fill-rule=\"evenodd\" fill-opacity=\"1\" /><path clip-path=\"url(#clip780)\" d=\"M51.6634 101.321 L59.3023 101.321 L59.3023 74.9555 L50.9921 76.6222 L50.9921 72.3629 L59.256 70.6963 L63.9319 70.6963 L63.9319 101.321 L71.5707 101.321 L71.5707 105.256 L51.6634 105.256 L51.6634 101.321 Z\" fill=\"#000000\" fill-rule=\"evenodd\" fill-opacity=\"1\" /><path clip-path=\"url(#clip780)\" d=\"M91.0151 73.775 Q87.404 73.775 85.5753 77.3398 Q83.7697 80.8814 83.7697 88.011 Q83.7697 95.1174 85.5753 98.6822 Q87.404 102.224 91.0151 102.224 Q94.6493 102.224 96.4548 98.6822 Q98.2835 95.1174 98.2835 88.011 Q98.2835 80.8814 96.4548 77.3398 Q94.6493 73.775 91.0151 73.775 M91.0151 70.0713 Q96.8252 70.0713 99.8808 74.6777 Q102.959 79.261 102.959 88.011 Q102.959 96.7378 99.8808 101.344 Q96.8252 105.928 91.0151 105.928 Q85.2049 105.928 82.1262 101.344 Q79.0707 96.7378 79.0707 88.011 Q79.0707 79.261 82.1262 74.6777 Q85.2049 70.0713 91.0151 70.0713 Z\" fill=\"#000000\" fill-rule=\"evenodd\" fill-opacity=\"1\" /><path clip-path=\"url(#clip780)\" d=\"M111.177 99.3767 L116.061 99.3767 L116.061 105.256 L111.177 105.256 L111.177 99.3767 Z\" fill=\"#000000\" fill-rule=\"evenodd\" fill-opacity=\"1\" /><path clip-path=\"url(#clip780)\" d=\"M136.246 73.775 Q132.635 73.775 130.807 77.3398 Q129.001 80.8814 129.001 88.011 Q129.001 95.1174 130.807 98.6822 Q132.635 102.224 136.246 102.224 Q139.881 102.224 141.686 98.6822 Q143.515 95.1174 143.515 88.011 Q143.515 80.8814 141.686 77.3398 Q139.881 73.775 136.246 73.775 M136.246 70.0713 Q142.056 70.0713 145.112 74.6777 Q148.191 79.261 148.191 88.011 Q148.191 96.7378 145.112 101.344 Q142.056 105.928 136.246 105.928 Q130.436 105.928 127.357 101.344 Q124.302 96.7378 124.302 88.011 Q124.302 79.261 127.357 74.6777 Q130.436 70.0713 136.246 70.0713 Z\" fill=\"#000000\" fill-rule=\"evenodd\" fill-opacity=\"1\" /><polyline clip-path=\"url(#clip782)\" style=\"stroke:#009af9; stroke-linecap:round; stroke-linejoin:round; stroke-width:4; stroke-opacity:1; fill:none\" points=\"\n",
       "  245.565,1174.17 255.846,1174.17 266.126,1309.94 276.407,1309.94 286.687,1309.94 296.968,1445.72 307.248,1445.72 317.529,1445.72 327.809,1445.72 338.09,1445.72 \n",
       "  348.37,1445.72 358.65,1445.72 368.931,1445.72 379.211,1445.72 389.492,1445.72 399.772,1445.72 410.053,1445.72 420.333,1445.72 430.614,1445.72 440.894,1445.72 \n",
       "  451.175,1445.72 461.455,1445.72 471.736,1445.72 482.016,1445.72 492.297,1445.72 502.577,1445.72 512.858,1445.72 523.138,1445.72 533.419,1445.72 543.699,1445.72 \n",
       "  553.98,1445.72 564.26,1445.72 574.541,1445.72 584.821,1445.72 595.102,1445.72 605.382,1445.72 615.663,1445.72 625.943,1445.72 636.224,1445.72 646.504,1445.72 \n",
       "  656.785,1445.72 667.065,1445.72 677.345,1445.72 687.626,1445.72 697.906,1445.72 708.187,1445.72 718.467,1445.72 728.748,1445.72 739.028,1445.72 749.309,1445.72 \n",
       "  759.589,1445.72 769.87,1445.72 780.15,1445.72 790.431,1445.72 800.711,1445.72 810.992,1445.72 821.272,1445.72 831.553,1445.72 841.833,1445.72 852.114,1445.72 \n",
       "  862.394,1445.72 872.675,1445.72 882.955,1445.72 893.236,1445.72 903.516,1445.72 913.797,1445.72 924.077,1445.72 934.358,1445.72 944.638,1445.72 954.919,1445.72 \n",
       "  965.199,1445.72 975.48,1445.72 985.76,1445.72 996.04,1445.72 1006.32,1445.72 1016.6,1445.72 1026.88,1445.72 1037.16,1445.72 1047.44,1445.72 1057.72,1445.72 \n",
       "  1068,1445.72 1078.28,1445.72 1088.56,1445.72 1098.85,1445.72 1109.13,1445.72 1119.41,1445.72 1129.69,1445.72 1139.97,1445.72 1150.25,1445.72 1160.53,1445.72 \n",
       "  1170.81,1445.72 1181.09,1445.72 1191.37,1445.72 1201.65,1445.72 1211.93,1445.72 1222.21,1445.72 1232.49,1445.72 1242.77,1445.72 1253.05,1445.72 1263.33,1445.72 \n",
       "  1273.61,1445.72 1283.89,1445.72 1294.17,1445.72 1304.45,1445.72 1314.74,1445.72 1325.02,1445.72 1335.3,1445.72 1345.58,1445.72 1355.86,1445.72 1366.14,1445.72 \n",
       "  1376.42,1445.72 1386.7,1445.72 1396.98,1445.72 1407.26,1445.72 1417.54,1445.72 1427.82,1445.72 1438.1,1445.72 1448.38,1445.72 1458.66,1445.72 1468.94,1445.72 \n",
       "  1479.22,1445.72 1489.5,1445.72 1499.78,1445.72 1510.06,1445.72 1520.35,1445.72 1530.63,1445.72 1540.91,1445.72 1551.19,1445.72 1561.47,1445.72 1571.75,1445.72 \n",
       "  1582.03,1445.72 1592.31,1445.72 1602.59,1445.72 1612.87,1445.72 1623.15,1445.72 1633.43,1445.72 1643.71,1445.72 1653.99,1445.72 1664.27,1445.72 1674.55,1445.72 \n",
       "  1684.83,1445.72 1695.11,1445.72 1705.39,1445.72 1715.67,1445.72 1725.95,1445.72 1736.24,1445.72 1746.52,1445.72 1756.8,1445.72 1767.08,1445.72 1777.36,1445.72 \n",
       "  1787.64,1445.72 1797.92,1445.72 1808.2,1445.72 1818.48,1445.72 1828.76,1445.72 1839.04,1445.72 1849.32,1445.72 1859.6,1445.72 1869.88,1445.72 1880.16,1445.72 \n",
       "  1890.44,1445.72 1900.72,1445.72 1911,1445.72 1921.28,1445.72 1931.56,1445.72 1941.84,1445.72 1952.13,1445.72 1962.41,1445.72 1972.69,1445.72 1982.97,1445.72 \n",
       "  1993.25,1445.72 2003.53,1445.72 2013.81,1445.72 2024.09,1445.72 2034.37,1445.72 2044.65,1445.72 2054.93,1445.72 2065.21,1445.72 2075.49,1445.72 2085.77,1445.72 \n",
       "  2096.05,1445.72 2106.33,1445.72 2116.61,1445.72 2126.89,1445.72 2137.17,1445.72 2147.45,1445.72 2157.74,1445.72 2168.02,1445.72 2178.3,1445.72 2188.58,1445.72 \n",
       "  2198.86,1445.72 2209.14,1445.72 2219.42,1445.72 2229.7,1445.72 2239.98,1445.72 2250.26,1445.72 2260.54,1445.72 2270.82,1445.72 2281.1,1445.72 2291.38,1445.72 \n",
       "  \n",
       "  \"/>\n",
       "<polyline clip-path=\"url(#clip782)\" style=\"stroke:#e26f46; stroke-linecap:round; stroke-linejoin:round; stroke-width:4; stroke-opacity:1; fill:none\" points=\"\n",
       "  245.565,359.524 255.846,359.524 266.126,223.75 276.407,223.75 286.687,223.75 296.968,87.9763 307.248,87.9763 317.529,87.9763 327.809,87.9763 338.09,87.9763 \n",
       "  348.37,87.9763 358.65,87.9763 368.931,87.9763 379.211,87.9763 389.492,87.9763 399.772,87.9763 410.053,87.9763 420.333,87.9763 430.614,87.9763 440.894,87.9763 \n",
       "  451.175,87.9763 461.455,87.9763 471.736,87.9763 482.016,87.9763 492.297,87.9763 502.577,87.9763 512.858,87.9763 523.138,87.9763 533.419,87.9763 543.699,87.9763 \n",
       "  553.98,87.9763 564.26,87.9763 574.541,87.9763 584.821,87.9763 595.102,87.9763 605.382,87.9763 615.663,87.9763 625.943,87.9763 636.224,87.9763 646.504,87.9763 \n",
       "  656.785,87.9763 667.065,87.9763 677.345,87.9763 687.626,87.9763 697.906,87.9763 708.187,87.9763 718.467,87.9763 728.748,87.9763 739.028,87.9763 749.309,87.9763 \n",
       "  759.589,87.9763 769.87,87.9763 780.15,87.9763 790.431,87.9763 800.711,87.9763 810.992,87.9763 821.272,87.9763 831.553,87.9763 841.833,87.9763 852.114,87.9763 \n",
       "  862.394,87.9763 872.675,87.9763 882.955,87.9763 893.236,87.9763 903.516,87.9763 913.797,87.9763 924.077,87.9763 934.358,87.9763 944.638,87.9763 954.919,87.9763 \n",
       "  965.199,87.9763 975.48,87.9763 985.76,87.9763 996.04,87.9763 1006.32,87.9763 1016.6,87.9763 1026.88,87.9763 1037.16,87.9763 1047.44,87.9763 1057.72,87.9763 \n",
       "  1068,87.9763 1078.28,87.9763 1088.56,87.9763 1098.85,87.9763 1109.13,87.9763 1119.41,87.9763 1129.69,87.9763 1139.97,87.9763 1150.25,87.9763 1160.53,87.9763 \n",
       "  1170.81,87.9763 1181.09,87.9763 1191.37,87.9763 1201.65,87.9763 1211.93,87.9763 1222.21,87.9763 1232.49,87.9763 1242.77,87.9763 1253.05,87.9763 1263.33,87.9763 \n",
       "  1273.61,87.9763 1283.89,87.9763 1294.17,87.9763 1304.45,87.9763 1314.74,87.9763 1325.02,87.9763 1335.3,87.9763 1345.58,87.9763 1355.86,87.9763 1366.14,87.9763 \n",
       "  1376.42,87.9763 1386.7,87.9763 1396.98,87.9763 1407.26,87.9763 1417.54,87.9763 1427.82,87.9763 1438.1,87.9763 1448.38,87.9763 1458.66,87.9763 1468.94,87.9763 \n",
       "  1479.22,87.9763 1489.5,87.9763 1499.78,87.9763 1510.06,87.9763 1520.35,87.9763 1530.63,87.9763 1540.91,87.9763 1551.19,87.9763 1561.47,87.9763 1571.75,87.9763 \n",
       "  1582.03,87.9763 1592.31,87.9763 1602.59,87.9763 1612.87,87.9763 1623.15,87.9763 1633.43,87.9763 1643.71,87.9763 1653.99,87.9763 1664.27,87.9763 1674.55,87.9763 \n",
       "  1684.83,87.9763 1695.11,87.9763 1705.39,87.9763 1715.67,87.9763 1725.95,87.9763 1736.24,87.9763 1746.52,87.9763 1756.8,87.9763 1767.08,87.9763 1777.36,87.9763 \n",
       "  1787.64,87.9763 1797.92,87.9763 1808.2,87.9763 1818.48,87.9763 1828.76,87.9763 1839.04,87.9763 1849.32,87.9763 1859.6,87.9763 1869.88,87.9763 1880.16,87.9763 \n",
       "  1890.44,87.9763 1900.72,87.9763 1911,87.9763 1921.28,87.9763 1931.56,87.9763 1941.84,87.9763 1952.13,87.9763 1962.41,87.9763 1972.69,87.9763 1982.97,87.9763 \n",
       "  1993.25,87.9763 2003.53,87.9763 2013.81,87.9763 2024.09,87.9763 2034.37,87.9763 2044.65,87.9763 2054.93,87.9763 2065.21,87.9763 2075.49,87.9763 2085.77,87.9763 \n",
       "  2096.05,87.9763 2106.33,87.9763 2116.61,87.9763 2126.89,87.9763 2137.17,87.9763 2147.45,87.9763 2157.74,87.9763 2168.02,87.9763 2178.3,87.9763 2188.58,87.9763 \n",
       "  2198.86,87.9763 2209.14,87.9763 2219.42,87.9763 2229.7,87.9763 2239.98,87.9763 2250.26,87.9763 2260.54,87.9763 2270.82,87.9763 2281.1,87.9763 2291.38,87.9763 \n",
       "  \n",
       "  \"/>\n",
       "<path clip-path=\"url(#clip780)\" d=\"\n",
       "M256.476 250.738 L668.54 250.738 L668.54 95.2176 L256.476 95.2176  Z\n",
       "  \" fill=\"#ffffff\" fill-rule=\"evenodd\" fill-opacity=\"1\"/>\n",
       "<polyline clip-path=\"url(#clip780)\" style=\"stroke:#000000; stroke-linecap:round; stroke-linejoin:round; stroke-width:4; stroke-opacity:1; fill:none\" points=\"\n",
       "  256.476,250.738 668.54,250.738 668.54,95.2176 256.476,95.2176 256.476,250.738 \n",
       "  \"/>\n",
       "<polyline clip-path=\"url(#clip780)\" style=\"stroke:#009af9; stroke-linecap:round; stroke-linejoin:round; stroke-width:4; stroke-opacity:1; fill:none\" points=\"\n",
       "  280.571,147.058 425.142,147.058 \n",
       "  \"/>\n",
       "<path clip-path=\"url(#clip780)\" d=\"M465.071 134.384 L458.728 151.583 L471.436 151.583 L465.071 134.384 M462.432 129.778 L467.733 129.778 L480.904 164.338 L476.043 164.338 L472.895 155.472 L457.316 155.472 L454.168 164.338 L449.238 164.338 L462.432 129.778 Z\" fill=\"#000000\" fill-rule=\"evenodd\" fill-opacity=\"1\" /><path clip-path=\"url(#clip780)\" d=\"M503.589 139.407 L503.589 143.389 Q501.784 142.393 499.955 141.907 Q498.149 141.398 496.297 141.398 Q492.154 141.398 489.862 144.037 Q487.571 146.652 487.571 151.398 Q487.571 156.143 489.862 158.782 Q492.154 161.398 496.297 161.398 Q498.149 161.398 499.955 160.912 Q501.784 160.402 503.589 159.407 L503.589 163.342 Q501.807 164.176 499.885 164.592 Q497.987 165.009 495.835 165.009 Q489.978 165.009 486.529 161.328 Q483.08 157.648 483.08 151.398 Q483.08 145.055 486.552 141.421 Q490.048 137.787 496.112 137.787 Q498.08 137.787 499.955 138.203 Q501.83 138.597 503.589 139.407 Z\" fill=\"#000000\" fill-rule=\"evenodd\" fill-opacity=\"1\" /><path clip-path=\"url(#clip780)\" d=\"M515.209 131.051 L515.209 138.412 L523.983 138.412 L523.983 141.722 L515.209 141.722 L515.209 155.796 Q515.209 158.967 516.066 159.87 Q516.946 160.773 519.608 160.773 L523.983 160.773 L523.983 164.338 L519.608 164.338 Q514.677 164.338 512.802 162.509 Q510.927 160.657 510.927 155.796 L510.927 141.722 L507.802 141.722 L507.802 138.412 L510.927 138.412 L510.927 131.051 L515.209 131.051 Z\" fill=\"#000000\" fill-rule=\"evenodd\" fill-opacity=\"1\" /><path clip-path=\"url(#clip780)\" d=\"M529.584 138.412 L533.844 138.412 L533.844 164.338 L529.584 164.338 L529.584 138.412 M529.584 128.319 L533.844 128.319 L533.844 133.713 L529.584 133.713 L529.584 128.319 Z\" fill=\"#000000\" fill-rule=\"evenodd\" fill-opacity=\"1\" /><path clip-path=\"url(#clip780)\" d=\"M552.802 141.398 Q549.376 141.398 547.385 144.083 Q545.394 146.745 545.394 151.398 Q545.394 156.051 547.362 158.736 Q549.353 161.398 552.802 161.398 Q556.205 161.398 558.195 158.713 Q560.186 156.027 560.186 151.398 Q560.186 146.791 558.195 144.106 Q556.205 141.398 552.802 141.398 M552.802 137.787 Q558.357 137.787 561.529 141.398 Q564.7 145.009 564.7 151.398 Q564.7 157.764 561.529 161.398 Q558.357 165.009 552.802 165.009 Q547.223 165.009 544.052 161.398 Q540.904 157.764 540.904 151.398 Q540.904 145.009 544.052 141.398 Q547.223 137.787 552.802 137.787 Z\" fill=\"#000000\" fill-rule=\"evenodd\" fill-opacity=\"1\" /><path clip-path=\"url(#clip780)\" d=\"M593.311 148.689 L593.311 164.338 L589.052 164.338 L589.052 148.828 Q589.052 145.148 587.616 143.319 Q586.181 141.49 583.311 141.49 Q579.862 141.49 577.871 143.69 Q575.88 145.889 575.88 149.685 L575.88 164.338 L571.598 164.338 L571.598 138.412 L575.88 138.412 L575.88 142.44 Q577.408 140.102 579.468 138.944 Q581.552 137.787 584.26 137.787 Q588.728 137.787 591.019 140.565 Q593.311 143.319 593.311 148.689 Z\" fill=\"#000000\" fill-rule=\"evenodd\" fill-opacity=\"1\" /><path clip-path=\"url(#clip780)\" d=\"M628.612 134.384 L622.269 151.583 L634.977 151.583 L628.612 134.384 M625.973 129.778 L631.274 129.778 L644.445 164.338 L639.584 164.338 L636.436 155.472 L620.857 155.472 L617.709 164.338 L612.778 164.338 L625.973 129.778 Z\" fill=\"#000000\" fill-rule=\"evenodd\" fill-opacity=\"1\" /><polyline clip-path=\"url(#clip780)\" style=\"stroke:#e26f46; stroke-linecap:round; stroke-linejoin:round; stroke-width:4; stroke-opacity:1; fill:none\" points=\"\n",
       "  280.571,198.898 425.142,198.898 \n",
       "  \"/>\n",
       "<path clip-path=\"url(#clip780)\" d=\"M465.071 186.224 L458.728 203.423 L471.436 203.423 L465.071 186.224 M462.432 181.618 L467.733 181.618 L480.904 216.178 L476.043 216.178 L472.895 207.312 L457.316 207.312 L454.168 216.178 L449.238 216.178 L462.432 181.618 Z\" fill=\"#000000\" fill-rule=\"evenodd\" fill-opacity=\"1\" /><path clip-path=\"url(#clip780)\" d=\"M503.589 191.247 L503.589 195.229 Q501.784 194.233 499.955 193.747 Q498.149 193.238 496.297 193.238 Q492.154 193.238 489.862 195.877 Q487.571 198.492 487.571 203.238 Q487.571 207.983 489.862 210.622 Q492.154 213.238 496.297 213.238 Q498.149 213.238 499.955 212.752 Q501.784 212.242 503.589 211.247 L503.589 215.182 Q501.807 216.016 499.885 216.432 Q497.987 216.849 495.835 216.849 Q489.978 216.849 486.529 213.168 Q483.08 209.488 483.08 203.238 Q483.08 196.895 486.552 193.261 Q490.048 189.627 496.112 189.627 Q498.08 189.627 499.955 190.043 Q501.83 190.437 503.589 191.247 Z\" fill=\"#000000\" fill-rule=\"evenodd\" fill-opacity=\"1\" /><path clip-path=\"url(#clip780)\" d=\"M515.209 182.891 L515.209 190.252 L523.983 190.252 L523.983 193.562 L515.209 193.562 L515.209 207.636 Q515.209 210.807 516.066 211.71 Q516.946 212.613 519.608 212.613 L523.983 212.613 L523.983 216.178 L519.608 216.178 Q514.677 216.178 512.802 214.349 Q510.927 212.497 510.927 207.636 L510.927 193.562 L507.802 193.562 L507.802 190.252 L510.927 190.252 L510.927 182.891 L515.209 182.891 Z\" fill=\"#000000\" fill-rule=\"evenodd\" fill-opacity=\"1\" /><path clip-path=\"url(#clip780)\" d=\"M529.584 190.252 L533.844 190.252 L533.844 216.178 L529.584 216.178 L529.584 190.252 M529.584 180.159 L533.844 180.159 L533.844 185.553 L529.584 185.553 L529.584 180.159 Z\" fill=\"#000000\" fill-rule=\"evenodd\" fill-opacity=\"1\" /><path clip-path=\"url(#clip780)\" d=\"M552.802 193.238 Q549.376 193.238 547.385 195.923 Q545.394 198.585 545.394 203.238 Q545.394 207.891 547.362 210.576 Q549.353 213.238 552.802 213.238 Q556.205 213.238 558.195 210.553 Q560.186 207.867 560.186 203.238 Q560.186 198.631 558.195 195.946 Q556.205 193.238 552.802 193.238 M552.802 189.627 Q558.357 189.627 561.529 193.238 Q564.7 196.849 564.7 203.238 Q564.7 209.604 561.529 213.238 Q558.357 216.849 552.802 216.849 Q547.223 216.849 544.052 213.238 Q540.904 209.604 540.904 203.238 Q540.904 196.849 544.052 193.238 Q547.223 189.627 552.802 189.627 Z\" fill=\"#000000\" fill-rule=\"evenodd\" fill-opacity=\"1\" /><path clip-path=\"url(#clip780)\" d=\"M593.311 200.529 L593.311 216.178 L589.052 216.178 L589.052 200.668 Q589.052 196.988 587.616 195.159 Q586.181 193.33 583.311 193.33 Q579.862 193.33 577.871 195.53 Q575.88 197.729 575.88 201.525 L575.88 216.178 L571.598 216.178 L571.598 190.252 L575.88 190.252 L575.88 194.28 Q577.408 191.942 579.468 190.784 Q581.552 189.627 584.26 189.627 Q588.728 189.627 591.019 192.405 Q593.311 195.159 593.311 200.529 Z\" fill=\"#000000\" fill-rule=\"evenodd\" fill-opacity=\"1\" /><path clip-path=\"url(#clip780)\" d=\"M621.737 199.673 L621.737 212.335 L629.237 212.335 Q633.01 212.335 634.815 210.784 Q636.644 209.21 636.644 205.992 Q636.644 202.752 634.815 201.224 Q633.01 199.673 629.237 199.673 L621.737 199.673 M621.737 185.46 L621.737 195.877 L628.658 195.877 Q632.084 195.877 633.75 194.604 Q635.44 193.307 635.44 190.668 Q635.44 188.053 633.75 186.756 Q632.084 185.46 628.658 185.46 L621.737 185.46 M617.061 181.618 L629.005 181.618 Q634.352 181.618 637.246 183.84 Q640.139 186.062 640.139 190.159 Q640.139 193.33 638.658 195.205 Q637.176 197.08 634.306 197.543 Q637.755 198.284 639.653 200.645 Q641.574 202.983 641.574 206.502 Q641.574 211.131 638.426 213.654 Q635.278 216.178 629.468 216.178 L617.061 216.178 L617.061 181.618 Z\" fill=\"#000000\" fill-rule=\"evenodd\" fill-opacity=\"1\" /></svg>\n"
      ]
     },
     "execution_count": 12,
     "metadata": {},
     "output_type": "execute_result"
    }
   ],
   "source": [
    "m = 2\n",
    "x = time_series(brd_coor, ts_length, [m, N-m])\n",
    "plot([x[1, :], x[2, :]], label=label_2)"
   ]
  },
  {
   "cell_type": "code",
   "execution_count": 13,
   "metadata": {},
   "outputs": [
    {
     "data": {
      "image/svg+xml": [
       "<?xml version=\"1.0\" encoding=\"utf-8\"?>\n",
       "<svg xmlns=\"http://www.w3.org/2000/svg\" xmlns:xlink=\"http://www.w3.org/1999/xlink\" width=\"600\" height=\"400\" viewBox=\"0 0 2400 1600\">\n",
       "<defs>\n",
       "  <clipPath id=\"clip820\">\n",
       "    <rect x=\"0\" y=\"0\" width=\"2400\" height=\"1600\"/>\n",
       "  </clipPath>\n",
       "</defs>\n",
       "<path clip-path=\"url(#clip820)\" d=\"\n",
       "M0 1600 L2400 1600 L2400 0 L0 0  Z\n",
       "  \" fill=\"#ffffff\" fill-rule=\"evenodd\" fill-opacity=\"1\"/>\n",
       "<defs>\n",
       "  <clipPath id=\"clip821\">\n",
       "    <rect x=\"480\" y=\"0\" width=\"1681\" height=\"1600\"/>\n",
       "  </clipPath>\n",
       "</defs>\n",
       "<path clip-path=\"url(#clip820)\" d=\"\n",
       "M184.191 1486.45 L2352.76 1486.45 L2352.76 47.2441 L184.191 47.2441  Z\n",
       "  \" fill=\"#ffffff\" fill-rule=\"evenodd\" fill-opacity=\"1\"/>\n",
       "<defs>\n",
       "  <clipPath id=\"clip822\">\n",
       "    <rect x=\"184\" y=\"47\" width=\"2170\" height=\"1440\"/>\n",
       "  </clipPath>\n",
       "</defs>\n",
       "<polyline clip-path=\"url(#clip822)\" style=\"stroke:#000000; stroke-linecap:round; stroke-linejoin:round; stroke-width:2; stroke-opacity:0.1; fill:none\" points=\"\n",
       "  235.285,1486.45 235.285,47.2441 \n",
       "  \"/>\n",
       "<polyline clip-path=\"url(#clip822)\" style=\"stroke:#000000; stroke-linecap:round; stroke-linejoin:round; stroke-width:2; stroke-opacity:0.1; fill:none\" points=\"\n",
       "  749.309,1486.45 749.309,47.2441 \n",
       "  \"/>\n",
       "<polyline clip-path=\"url(#clip822)\" style=\"stroke:#000000; stroke-linecap:round; stroke-linejoin:round; stroke-width:2; stroke-opacity:0.1; fill:none\" points=\"\n",
       "  1263.33,1486.45 1263.33,47.2441 \n",
       "  \"/>\n",
       "<polyline clip-path=\"url(#clip822)\" style=\"stroke:#000000; stroke-linecap:round; stroke-linejoin:round; stroke-width:2; stroke-opacity:0.1; fill:none\" points=\"\n",
       "  1777.36,1486.45 1777.36,47.2441 \n",
       "  \"/>\n",
       "<polyline clip-path=\"url(#clip822)\" style=\"stroke:#000000; stroke-linecap:round; stroke-linejoin:round; stroke-width:2; stroke-opacity:0.1; fill:none\" points=\"\n",
       "  2291.38,1486.45 2291.38,47.2441 \n",
       "  \"/>\n",
       "<polyline clip-path=\"url(#clip820)\" style=\"stroke:#000000; stroke-linecap:round; stroke-linejoin:round; stroke-width:4; stroke-opacity:1; fill:none\" points=\"\n",
       "  184.191,1486.45 2352.76,1486.45 \n",
       "  \"/>\n",
       "<polyline clip-path=\"url(#clip820)\" style=\"stroke:#000000; stroke-linecap:round; stroke-linejoin:round; stroke-width:4; stroke-opacity:1; fill:none\" points=\"\n",
       "  235.285,1486.45 235.285,1467.55 \n",
       "  \"/>\n",
       "<polyline clip-path=\"url(#clip820)\" style=\"stroke:#000000; stroke-linecap:round; stroke-linejoin:round; stroke-width:4; stroke-opacity:1; fill:none\" points=\"\n",
       "  749.309,1486.45 749.309,1467.55 \n",
       "  \"/>\n",
       "<polyline clip-path=\"url(#clip820)\" style=\"stroke:#000000; stroke-linecap:round; stroke-linejoin:round; stroke-width:4; stroke-opacity:1; fill:none\" points=\"\n",
       "  1263.33,1486.45 1263.33,1467.55 \n",
       "  \"/>\n",
       "<polyline clip-path=\"url(#clip820)\" style=\"stroke:#000000; stroke-linecap:round; stroke-linejoin:round; stroke-width:4; stroke-opacity:1; fill:none\" points=\"\n",
       "  1777.36,1486.45 1777.36,1467.55 \n",
       "  \"/>\n",
       "<polyline clip-path=\"url(#clip820)\" style=\"stroke:#000000; stroke-linecap:round; stroke-linejoin:round; stroke-width:4; stroke-opacity:1; fill:none\" points=\"\n",
       "  2291.38,1486.45 2291.38,1467.55 \n",
       "  \"/>\n",
       "<path clip-path=\"url(#clip820)\" d=\"M235.285 1517.37 Q231.674 1517.37 229.845 1520.93 Q228.039 1524.47 228.039 1531.6 Q228.039 1538.71 229.845 1542.27 Q231.674 1545.82 235.285 1545.82 Q238.919 1545.82 240.724 1542.27 Q242.553 1538.71 242.553 1531.6 Q242.553 1524.47 240.724 1520.93 Q238.919 1517.37 235.285 1517.37 M235.285 1513.66 Q241.095 1513.66 244.15 1518.27 Q247.229 1522.85 247.229 1531.6 Q247.229 1540.33 244.15 1544.94 Q241.095 1549.52 235.285 1549.52 Q229.475 1549.52 226.396 1544.94 Q223.34 1540.33 223.34 1531.6 Q223.34 1522.85 226.396 1518.27 Q229.475 1513.66 235.285 1513.66 Z\" fill=\"#000000\" fill-rule=\"evenodd\" fill-opacity=\"1\" /><path clip-path=\"url(#clip820)\" d=\"M724.008 1514.29 L742.364 1514.29 L742.364 1518.22 L728.29 1518.22 L728.29 1526.7 Q729.309 1526.35 730.327 1526.19 Q731.346 1526 732.365 1526 Q738.152 1526 741.531 1529.17 Q744.911 1532.34 744.911 1537.76 Q744.911 1543.34 741.439 1546.44 Q737.966 1549.52 731.647 1549.52 Q729.471 1549.52 727.203 1549.15 Q724.957 1548.78 722.55 1548.04 L722.55 1543.34 Q724.633 1544.47 726.855 1545.03 Q729.077 1545.58 731.554 1545.58 Q735.559 1545.58 737.897 1543.48 Q740.235 1541.37 740.235 1537.76 Q740.235 1534.15 737.897 1532.04 Q735.559 1529.94 731.554 1529.94 Q729.679 1529.94 727.804 1530.35 Q725.953 1530.77 724.008 1531.65 L724.008 1514.29 Z\" fill=\"#000000\" fill-rule=\"evenodd\" fill-opacity=\"1\" /><path clip-path=\"url(#clip820)\" d=\"M764.124 1517.37 Q760.513 1517.37 758.684 1520.93 Q756.878 1524.47 756.878 1531.6 Q756.878 1538.71 758.684 1542.27 Q760.513 1545.82 764.124 1545.82 Q767.758 1545.82 769.563 1542.27 Q771.392 1538.71 771.392 1531.6 Q771.392 1524.47 769.563 1520.93 Q767.758 1517.37 764.124 1517.37 M764.124 1513.66 Q769.934 1513.66 772.989 1518.27 Q776.068 1522.85 776.068 1531.6 Q776.068 1540.33 772.989 1544.94 Q769.934 1549.52 764.124 1549.52 Q758.313 1549.52 755.235 1544.94 Q752.179 1540.33 752.179 1531.6 Q752.179 1522.85 755.235 1518.27 Q758.313 1513.66 764.124 1513.66 Z\" fill=\"#000000\" fill-rule=\"evenodd\" fill-opacity=\"1\" /><path clip-path=\"url(#clip820)\" d=\"M1222.94 1544.91 L1230.58 1544.91 L1230.58 1518.55 L1222.27 1520.21 L1222.27 1515.95 L1230.53 1514.29 L1235.21 1514.29 L1235.21 1544.91 L1242.85 1544.91 L1242.85 1548.85 L1222.94 1548.85 L1222.94 1544.91 Z\" fill=\"#000000\" fill-rule=\"evenodd\" fill-opacity=\"1\" /><path clip-path=\"url(#clip820)\" d=\"M1262.29 1517.37 Q1258.68 1517.37 1256.85 1520.93 Q1255.05 1524.47 1255.05 1531.6 Q1255.05 1538.71 1256.85 1542.27 Q1258.68 1545.82 1262.29 1545.82 Q1265.93 1545.82 1267.73 1542.27 Q1269.56 1538.71 1269.56 1531.6 Q1269.56 1524.47 1267.73 1520.93 Q1265.93 1517.37 1262.29 1517.37 M1262.29 1513.66 Q1268.1 1513.66 1271.16 1518.27 Q1274.24 1522.85 1274.24 1531.6 Q1274.24 1540.33 1271.16 1544.94 Q1268.1 1549.52 1262.29 1549.52 Q1256.48 1549.52 1253.4 1544.94 Q1250.35 1540.33 1250.35 1531.6 Q1250.35 1522.85 1253.4 1518.27 Q1256.48 1513.66 1262.29 1513.66 Z\" fill=\"#000000\" fill-rule=\"evenodd\" fill-opacity=\"1\" /><path clip-path=\"url(#clip820)\" d=\"M1292.45 1517.37 Q1288.84 1517.37 1287.01 1520.93 Q1285.21 1524.47 1285.21 1531.6 Q1285.21 1538.71 1287.01 1542.27 Q1288.84 1545.82 1292.45 1545.82 Q1296.09 1545.82 1297.89 1542.27 Q1299.72 1538.71 1299.72 1531.6 Q1299.72 1524.47 1297.89 1520.93 Q1296.09 1517.37 1292.45 1517.37 M1292.45 1513.66 Q1298.26 1513.66 1301.32 1518.27 Q1304.4 1522.85 1304.4 1531.6 Q1304.4 1540.33 1301.32 1544.94 Q1298.26 1549.52 1292.45 1549.52 Q1286.64 1549.52 1283.56 1544.94 Q1280.51 1540.33 1280.51 1531.6 Q1280.51 1522.85 1283.56 1518.27 Q1286.64 1513.66 1292.45 1513.66 Z\" fill=\"#000000\" fill-rule=\"evenodd\" fill-opacity=\"1\" /><path clip-path=\"url(#clip820)\" d=\"M1736.96 1544.91 L1744.6 1544.91 L1744.6 1518.55 L1736.29 1520.21 L1736.29 1515.95 L1744.56 1514.29 L1749.23 1514.29 L1749.23 1544.91 L1756.87 1544.91 L1756.87 1548.85 L1736.96 1548.85 L1736.96 1544.91 Z\" fill=\"#000000\" fill-rule=\"evenodd\" fill-opacity=\"1\" /><path clip-path=\"url(#clip820)\" d=\"M1766.36 1514.29 L1784.72 1514.29 L1784.72 1518.22 L1770.64 1518.22 L1770.64 1526.7 Q1771.66 1526.35 1772.68 1526.19 Q1773.7 1526 1774.72 1526 Q1780.51 1526 1783.88 1529.17 Q1787.26 1532.34 1787.26 1537.76 Q1787.26 1543.34 1783.79 1546.44 Q1780.32 1549.52 1774 1549.52 Q1771.82 1549.52 1769.56 1549.15 Q1767.31 1548.78 1764.9 1548.04 L1764.9 1543.34 Q1766.99 1544.47 1769.21 1545.03 Q1771.43 1545.58 1773.91 1545.58 Q1777.91 1545.58 1780.25 1543.48 Q1782.59 1541.37 1782.59 1537.76 Q1782.59 1534.15 1780.25 1532.04 Q1777.91 1529.94 1773.91 1529.94 Q1772.03 1529.94 1770.16 1530.35 Q1768.31 1530.77 1766.36 1531.65 L1766.36 1514.29 Z\" fill=\"#000000\" fill-rule=\"evenodd\" fill-opacity=\"1\" /><path clip-path=\"url(#clip820)\" d=\"M1806.48 1517.37 Q1802.87 1517.37 1801.04 1520.93 Q1799.23 1524.47 1799.23 1531.6 Q1799.23 1538.71 1801.04 1542.27 Q1802.87 1545.82 1806.48 1545.82 Q1810.11 1545.82 1811.92 1542.27 Q1813.75 1538.71 1813.75 1531.6 Q1813.75 1524.47 1811.92 1520.93 Q1810.11 1517.37 1806.48 1517.37 M1806.48 1513.66 Q1812.29 1513.66 1815.34 1518.27 Q1818.42 1522.85 1818.42 1531.6 Q1818.42 1540.33 1815.34 1544.94 Q1812.29 1549.52 1806.48 1549.52 Q1800.67 1549.52 1797.59 1544.94 Q1794.53 1540.33 1794.53 1531.6 Q1794.53 1522.85 1797.59 1518.27 Q1800.67 1513.66 1806.48 1513.66 Z\" fill=\"#000000\" fill-rule=\"evenodd\" fill-opacity=\"1\" /><path clip-path=\"url(#clip820)\" d=\"M2255.07 1544.91 L2271.39 1544.91 L2271.39 1548.85 L2249.45 1548.85 L2249.45 1544.91 Q2252.11 1542.16 2256.69 1537.53 Q2261.3 1532.88 2262.48 1531.53 Q2264.73 1529.01 2265.61 1527.27 Q2266.51 1525.51 2266.51 1523.82 Q2266.51 1521.07 2264.56 1519.33 Q2262.64 1517.6 2259.54 1517.6 Q2257.34 1517.6 2254.89 1518.36 Q2252.46 1519.13 2249.68 1520.68 L2249.68 1515.95 Q2252.5 1514.82 2254.96 1514.24 Q2257.41 1513.66 2259.45 1513.66 Q2264.82 1513.66 2268.01 1516.35 Q2271.21 1519.03 2271.21 1523.52 Q2271.21 1525.65 2270.4 1527.57 Q2269.61 1529.47 2267.5 1532.07 Q2266.93 1532.74 2263.82 1535.95 Q2260.72 1539.15 2255.07 1544.91 Z\" fill=\"#000000\" fill-rule=\"evenodd\" fill-opacity=\"1\" /><path clip-path=\"url(#clip820)\" d=\"M2291.21 1517.37 Q2287.6 1517.37 2285.77 1520.93 Q2283.96 1524.47 2283.96 1531.6 Q2283.96 1538.71 2285.77 1542.27 Q2287.6 1545.82 2291.21 1545.82 Q2294.84 1545.82 2296.65 1542.27 Q2298.48 1538.71 2298.48 1531.6 Q2298.48 1524.47 2296.65 1520.93 Q2294.84 1517.37 2291.21 1517.37 M2291.21 1513.66 Q2297.02 1513.66 2300.07 1518.27 Q2303.15 1522.85 2303.15 1531.6 Q2303.15 1540.33 2300.07 1544.94 Q2297.02 1549.52 2291.21 1549.52 Q2285.4 1549.52 2282.32 1544.94 Q2279.26 1540.33 2279.26 1531.6 Q2279.26 1522.85 2282.32 1518.27 Q2285.4 1513.66 2291.21 1513.66 Z\" fill=\"#000000\" fill-rule=\"evenodd\" fill-opacity=\"1\" /><path clip-path=\"url(#clip820)\" d=\"M2321.37 1517.37 Q2317.76 1517.37 2315.93 1520.93 Q2314.12 1524.47 2314.12 1531.6 Q2314.12 1538.71 2315.93 1542.27 Q2317.76 1545.82 2321.37 1545.82 Q2325 1545.82 2326.81 1542.27 Q2328.64 1538.71 2328.64 1531.6 Q2328.64 1524.47 2326.81 1520.93 Q2325 1517.37 2321.37 1517.37 M2321.37 1513.66 Q2327.18 1513.66 2330.24 1518.27 Q2333.31 1522.85 2333.31 1531.6 Q2333.31 1540.33 2330.24 1544.94 Q2327.18 1549.52 2321.37 1549.52 Q2315.56 1549.52 2312.48 1544.94 Q2309.43 1540.33 2309.43 1531.6 Q2309.43 1522.85 2312.48 1518.27 Q2315.56 1513.66 2321.37 1513.66 Z\" fill=\"#000000\" fill-rule=\"evenodd\" fill-opacity=\"1\" /><polyline clip-path=\"url(#clip822)\" style=\"stroke:#000000; stroke-linecap:round; stroke-linejoin:round; stroke-width:2; stroke-opacity:0.1; fill:none\" points=\"\n",
       "  184.191,1445.72 2352.76,1445.72 \n",
       "  \"/>\n",
       "<polyline clip-path=\"url(#clip822)\" style=\"stroke:#000000; stroke-linecap:round; stroke-linejoin:round; stroke-width:2; stroke-opacity:0.1; fill:none\" points=\"\n",
       "  184.191,1106.28 2352.76,1106.28 \n",
       "  \"/>\n",
       "<polyline clip-path=\"url(#clip822)\" style=\"stroke:#000000; stroke-linecap:round; stroke-linejoin:round; stroke-width:2; stroke-opacity:0.1; fill:none\" points=\"\n",
       "  184.191,766.846 2352.76,766.846 \n",
       "  \"/>\n",
       "<polyline clip-path=\"url(#clip822)\" style=\"stroke:#000000; stroke-linecap:round; stroke-linejoin:round; stroke-width:2; stroke-opacity:0.1; fill:none\" points=\"\n",
       "  184.191,427.411 2352.76,427.411 \n",
       "  \"/>\n",
       "<polyline clip-path=\"url(#clip822)\" style=\"stroke:#000000; stroke-linecap:round; stroke-linejoin:round; stroke-width:2; stroke-opacity:0.1; fill:none\" points=\"\n",
       "  184.191,87.9763 2352.76,87.9763 \n",
       "  \"/>\n",
       "<polyline clip-path=\"url(#clip820)\" style=\"stroke:#000000; stroke-linecap:round; stroke-linejoin:round; stroke-width:4; stroke-opacity:1; fill:none\" points=\"\n",
       "  184.191,1486.45 184.191,47.2441 \n",
       "  \"/>\n",
       "<polyline clip-path=\"url(#clip820)\" style=\"stroke:#000000; stroke-linecap:round; stroke-linejoin:round; stroke-width:4; stroke-opacity:1; fill:none\" points=\"\n",
       "  184.191,1445.72 203.088,1445.72 \n",
       "  \"/>\n",
       "<polyline clip-path=\"url(#clip820)\" style=\"stroke:#000000; stroke-linecap:round; stroke-linejoin:round; stroke-width:4; stroke-opacity:1; fill:none\" points=\"\n",
       "  184.191,1106.28 203.088,1106.28 \n",
       "  \"/>\n",
       "<polyline clip-path=\"url(#clip820)\" style=\"stroke:#000000; stroke-linecap:round; stroke-linejoin:round; stroke-width:4; stroke-opacity:1; fill:none\" points=\"\n",
       "  184.191,766.846 203.088,766.846 \n",
       "  \"/>\n",
       "<polyline clip-path=\"url(#clip820)\" style=\"stroke:#000000; stroke-linecap:round; stroke-linejoin:round; stroke-width:4; stroke-opacity:1; fill:none\" points=\"\n",
       "  184.191,427.411 203.088,427.411 \n",
       "  \"/>\n",
       "<polyline clip-path=\"url(#clip820)\" style=\"stroke:#000000; stroke-linecap:round; stroke-linejoin:round; stroke-width:4; stroke-opacity:1; fill:none\" points=\"\n",
       "  184.191,87.9763 203.088,87.9763 \n",
       "  \"/>\n",
       "<path clip-path=\"url(#clip820)\" d=\"M91.0151 1431.51 Q87.404 1431.51 85.5753 1435.08 Q83.7697 1438.62 83.7697 1445.75 Q83.7697 1452.86 85.5753 1456.42 Q87.404 1459.96 91.0151 1459.96 Q94.6493 1459.96 96.4548 1456.42 Q98.2835 1452.86 98.2835 1445.75 Q98.2835 1438.62 96.4548 1435.08 Q94.6493 1431.51 91.0151 1431.51 M91.0151 1427.81 Q96.8252 1427.81 99.8808 1432.42 Q102.959 1437 102.959 1445.75 Q102.959 1454.48 99.8808 1459.08 Q96.8252 1463.67 91.0151 1463.67 Q85.2049 1463.67 82.1262 1459.08 Q79.0707 1454.48 79.0707 1445.75 Q79.0707 1437 82.1262 1432.42 Q85.2049 1427.81 91.0151 1427.81 Z\" fill=\"#000000\" fill-rule=\"evenodd\" fill-opacity=\"1\" /><path clip-path=\"url(#clip820)\" d=\"M111.177 1457.12 L116.061 1457.12 L116.061 1463 L111.177 1463 L111.177 1457.12 Z\" fill=\"#000000\" fill-rule=\"evenodd\" fill-opacity=\"1\" /><path clip-path=\"url(#clip820)\" d=\"M136.246 1431.51 Q132.635 1431.51 130.807 1435.08 Q129.001 1438.62 129.001 1445.75 Q129.001 1452.86 130.807 1456.42 Q132.635 1459.96 136.246 1459.96 Q139.881 1459.96 141.686 1456.42 Q143.515 1452.86 143.515 1445.75 Q143.515 1438.62 141.686 1435.08 Q139.881 1431.51 136.246 1431.51 M136.246 1427.81 Q142.056 1427.81 145.112 1432.42 Q148.191 1437 148.191 1445.75 Q148.191 1454.48 145.112 1459.08 Q142.056 1463.67 136.246 1463.67 Q130.436 1463.67 127.357 1459.08 Q124.302 1454.48 124.302 1445.75 Q124.302 1437 127.357 1432.42 Q130.436 1427.81 136.246 1427.81 Z\" fill=\"#000000\" fill-rule=\"evenodd\" fill-opacity=\"1\" /><path clip-path=\"url(#clip820)\" d=\"M86.0382 1119.63 L102.358 1119.63 L102.358 1123.56 L80.4133 1123.56 L80.4133 1119.63 Q83.0753 1116.87 87.6586 1112.24 Q92.2651 1107.59 93.4456 1106.25 Q95.691 1103.72 96.5706 1101.99 Q97.4734 1100.23 97.4734 1098.54 Q97.4734 1095.78 95.5289 1094.05 Q93.6076 1092.31 90.5058 1092.31 Q88.3067 1092.31 85.8531 1093.07 Q83.4225 1093.84 80.6447 1095.39 L80.6447 1090.67 Q83.4688 1089.53 85.9225 1088.95 Q88.3762 1088.38 90.4132 1088.38 Q95.7836 1088.38 98.978 1091.06 Q102.172 1093.75 102.172 1098.24 Q102.172 1100.37 101.362 1102.29 Q100.575 1104.19 98.4687 1106.78 Q97.89 1107.45 94.7882 1110.67 Q91.6864 1113.86 86.0382 1119.63 Z\" fill=\"#000000\" fill-rule=\"evenodd\" fill-opacity=\"1\" /><path clip-path=\"url(#clip820)\" d=\"M112.172 1117.68 L117.057 1117.68 L117.057 1123.56 L112.172 1123.56 L112.172 1117.68 Z\" fill=\"#000000\" fill-rule=\"evenodd\" fill-opacity=\"1\" /><path clip-path=\"url(#clip820)\" d=\"M127.288 1089 L145.644 1089 L145.644 1092.94 L131.57 1092.94 L131.57 1101.41 Q132.589 1101.06 133.607 1100.9 Q134.626 1100.71 135.644 1100.71 Q141.431 1100.71 144.811 1103.89 Q148.191 1107.06 148.191 1112.47 Q148.191 1118.05 144.718 1121.15 Q141.246 1124.23 134.927 1124.23 Q132.751 1124.23 130.482 1123.86 Q128.237 1123.49 125.83 1122.75 L125.83 1118.05 Q127.913 1119.19 130.135 1119.74 Q132.357 1120.3 134.834 1120.3 Q138.839 1120.3 141.177 1118.19 Q143.515 1116.08 143.515 1112.47 Q143.515 1108.86 141.177 1106.76 Q138.839 1104.65 134.834 1104.65 Q132.959 1104.65 131.084 1105.07 Q129.232 1105.48 127.288 1106.36 L127.288 1089 Z\" fill=\"#000000\" fill-rule=\"evenodd\" fill-opacity=\"1\" /><path clip-path=\"url(#clip820)\" d=\"M81.0614 749.566 L99.4178 749.566 L99.4178 753.501 L85.3438 753.501 L85.3438 761.973 Q86.3623 761.626 87.3808 761.464 Q88.3993 761.279 89.4178 761.279 Q95.2049 761.279 98.5845 764.45 Q101.964 767.621 101.964 773.038 Q101.964 778.617 98.4919 781.719 Q95.0197 784.797 88.7003 784.797 Q86.5243 784.797 84.2558 784.427 Q82.0105 784.057 79.6031 783.316 L79.6031 778.617 Q81.6864 779.751 83.9086 780.307 Q86.1308 780.862 88.6077 780.862 Q92.6123 780.862 94.9502 778.756 Q97.2882 776.649 97.2882 773.038 Q97.2882 769.427 94.9502 767.321 Q92.6123 765.214 88.6077 765.214 Q86.7327 765.214 84.8577 765.631 Q83.0058 766.047 81.0614 766.927 L81.0614 749.566 Z\" fill=\"#000000\" fill-rule=\"evenodd\" fill-opacity=\"1\" /><path clip-path=\"url(#clip820)\" d=\"M111.177 778.246 L116.061 778.246 L116.061 784.126 L111.177 784.126 L111.177 778.246 Z\" fill=\"#000000\" fill-rule=\"evenodd\" fill-opacity=\"1\" /><path clip-path=\"url(#clip820)\" d=\"M136.246 752.645 Q132.635 752.645 130.807 756.209 Q129.001 759.751 129.001 766.881 Q129.001 773.987 130.807 777.552 Q132.635 781.094 136.246 781.094 Q139.881 781.094 141.686 777.552 Q143.515 773.987 143.515 766.881 Q143.515 759.751 141.686 756.209 Q139.881 752.645 136.246 752.645 M136.246 748.941 Q142.056 748.941 145.112 753.547 Q148.191 758.131 148.191 766.881 Q148.191 775.608 145.112 780.214 Q142.056 784.797 136.246 784.797 Q130.436 784.797 127.357 780.214 Q124.302 775.608 124.302 766.881 Q124.302 758.131 127.357 753.547 Q130.436 748.941 136.246 748.941 Z\" fill=\"#000000\" fill-rule=\"evenodd\" fill-opacity=\"1\" /><path clip-path=\"url(#clip820)\" d=\"M80.8299 410.131 L103.052 410.131 L103.052 412.122 L90.5058 444.691 L85.6216 444.691 L97.4271 414.066 L80.8299 414.066 L80.8299 410.131 Z\" fill=\"#000000\" fill-rule=\"evenodd\" fill-opacity=\"1\" /><path clip-path=\"url(#clip820)\" d=\"M112.172 438.812 L117.057 438.812 L117.057 444.691 L112.172 444.691 L112.172 438.812 Z\" fill=\"#000000\" fill-rule=\"evenodd\" fill-opacity=\"1\" /><path clip-path=\"url(#clip820)\" d=\"M127.288 410.131 L145.644 410.131 L145.644 414.066 L131.57 414.066 L131.57 422.538 Q132.589 422.191 133.607 422.029 Q134.626 421.844 135.644 421.844 Q141.431 421.844 144.811 425.015 Q148.191 428.187 148.191 433.603 Q148.191 439.182 144.718 442.284 Q141.246 445.362 134.927 445.362 Q132.751 445.362 130.482 444.992 Q128.237 444.622 125.83 443.881 L125.83 439.182 Q127.913 440.316 130.135 440.872 Q132.357 441.427 134.834 441.427 Q138.839 441.427 141.177 439.321 Q143.515 437.214 143.515 433.603 Q143.515 429.992 141.177 427.886 Q138.839 425.779 134.834 425.779 Q132.959 425.779 131.084 426.196 Q129.232 426.613 127.288 427.492 L127.288 410.131 Z\" fill=\"#000000\" fill-rule=\"evenodd\" fill-opacity=\"1\" /><path clip-path=\"url(#clip820)\" d=\"M51.6634 101.321 L59.3023 101.321 L59.3023 74.9555 L50.9921 76.6222 L50.9921 72.3629 L59.256 70.6963 L63.9319 70.6963 L63.9319 101.321 L71.5707 101.321 L71.5707 105.256 L51.6634 105.256 L51.6634 101.321 Z\" fill=\"#000000\" fill-rule=\"evenodd\" fill-opacity=\"1\" /><path clip-path=\"url(#clip820)\" d=\"M91.0151 73.775 Q87.404 73.775 85.5753 77.3398 Q83.7697 80.8814 83.7697 88.011 Q83.7697 95.1174 85.5753 98.6822 Q87.404 102.224 91.0151 102.224 Q94.6493 102.224 96.4548 98.6822 Q98.2835 95.1174 98.2835 88.011 Q98.2835 80.8814 96.4548 77.3398 Q94.6493 73.775 91.0151 73.775 M91.0151 70.0713 Q96.8252 70.0713 99.8808 74.6777 Q102.959 79.261 102.959 88.011 Q102.959 96.7378 99.8808 101.344 Q96.8252 105.928 91.0151 105.928 Q85.2049 105.928 82.1262 101.344 Q79.0707 96.7378 79.0707 88.011 Q79.0707 79.261 82.1262 74.6777 Q85.2049 70.0713 91.0151 70.0713 Z\" fill=\"#000000\" fill-rule=\"evenodd\" fill-opacity=\"1\" /><path clip-path=\"url(#clip820)\" d=\"M111.177 99.3767 L116.061 99.3767 L116.061 105.256 L111.177 105.256 L111.177 99.3767 Z\" fill=\"#000000\" fill-rule=\"evenodd\" fill-opacity=\"1\" /><path clip-path=\"url(#clip820)\" d=\"M136.246 73.775 Q132.635 73.775 130.807 77.3398 Q129.001 80.8814 129.001 88.011 Q129.001 95.1174 130.807 98.6822 Q132.635 102.224 136.246 102.224 Q139.881 102.224 141.686 98.6822 Q143.515 95.1174 143.515 88.011 Q143.515 80.8814 141.686 77.3398 Q139.881 73.775 136.246 73.775 M136.246 70.0713 Q142.056 70.0713 145.112 74.6777 Q148.191 79.261 148.191 88.011 Q148.191 96.7378 145.112 101.344 Q142.056 105.928 136.246 105.928 Q130.436 105.928 127.357 101.344 Q124.302 96.7378 124.302 88.011 Q124.302 79.261 127.357 74.6777 Q130.436 70.0713 136.246 70.0713 Z\" fill=\"#000000\" fill-rule=\"evenodd\" fill-opacity=\"1\" /><polyline clip-path=\"url(#clip822)\" style=\"stroke:#009af9; stroke-linecap:round; stroke-linejoin:round; stroke-width:4; stroke-opacity:1; fill:none\" points=\"\n",
       "  245.565,359.524 255.846,359.524 266.126,359.524 276.407,359.524 286.687,359.524 296.968,359.524 307.248,359.524 317.529,359.524 327.809,359.524 338.09,223.75 \n",
       "  348.37,223.75 358.65,87.9763 368.931,87.9763 379.211,87.9763 389.492,87.9763 399.772,87.9763 410.053,87.9763 420.333,87.9763 430.614,87.9763 440.894,87.9763 \n",
       "  451.175,87.9763 461.455,87.9763 471.736,87.9763 482.016,87.9763 492.297,87.9763 502.577,87.9763 512.858,87.9763 523.138,87.9763 533.419,87.9763 543.699,87.9763 \n",
       "  553.98,87.9763 564.26,87.9763 574.541,87.9763 584.821,87.9763 595.102,87.9763 605.382,87.9763 615.663,87.9763 625.943,87.9763 636.224,87.9763 646.504,87.9763 \n",
       "  656.785,87.9763 667.065,87.9763 677.345,87.9763 687.626,87.9763 697.906,87.9763 708.187,87.9763 718.467,87.9763 728.748,87.9763 739.028,87.9763 749.309,87.9763 \n",
       "  759.589,87.9763 769.87,87.9763 780.15,87.9763 790.431,87.9763 800.711,87.9763 810.992,87.9763 821.272,87.9763 831.553,87.9763 841.833,87.9763 852.114,87.9763 \n",
       "  862.394,87.9763 872.675,87.9763 882.955,87.9763 893.236,87.9763 903.516,87.9763 913.797,87.9763 924.077,87.9763 934.358,87.9763 944.638,87.9763 954.919,87.9763 \n",
       "  965.199,87.9763 975.48,87.9763 985.76,87.9763 996.04,87.9763 1006.32,87.9763 1016.6,87.9763 1026.88,87.9763 1037.16,87.9763 1047.44,87.9763 1057.72,87.9763 \n",
       "  1068,87.9763 1078.28,87.9763 1088.56,87.9763 1098.85,87.9763 1109.13,87.9763 1119.41,87.9763 1129.69,87.9763 1139.97,87.9763 1150.25,87.9763 1160.53,87.9763 \n",
       "  1170.81,87.9763 1181.09,87.9763 1191.37,87.9763 1201.65,87.9763 1211.93,87.9763 1222.21,87.9763 1232.49,87.9763 1242.77,87.9763 1253.05,87.9763 1263.33,87.9763 \n",
       "  1273.61,87.9763 1283.89,87.9763 1294.17,87.9763 1304.45,87.9763 1314.74,87.9763 1325.02,87.9763 1335.3,87.9763 1345.58,87.9763 1355.86,87.9763 1366.14,87.9763 \n",
       "  1376.42,87.9763 1386.7,87.9763 1396.98,87.9763 1407.26,87.9763 1417.54,87.9763 1427.82,87.9763 1438.1,87.9763 1448.38,87.9763 1458.66,87.9763 1468.94,87.9763 \n",
       "  1479.22,87.9763 1489.5,87.9763 1499.78,87.9763 1510.06,87.9763 1520.35,87.9763 1530.63,87.9763 1540.91,87.9763 1551.19,87.9763 1561.47,87.9763 1571.75,87.9763 \n",
       "  1582.03,87.9763 1592.31,87.9763 1602.59,87.9763 1612.87,87.9763 1623.15,87.9763 1633.43,87.9763 1643.71,87.9763 1653.99,87.9763 1664.27,87.9763 1674.55,87.9763 \n",
       "  1684.83,87.9763 1695.11,87.9763 1705.39,87.9763 1715.67,87.9763 1725.95,87.9763 1736.24,87.9763 1746.52,87.9763 1756.8,87.9763 1767.08,87.9763 1777.36,87.9763 \n",
       "  1787.64,87.9763 1797.92,87.9763 1808.2,87.9763 1818.48,87.9763 1828.76,87.9763 1839.04,87.9763 1849.32,87.9763 1859.6,87.9763 1869.88,87.9763 1880.16,87.9763 \n",
       "  1890.44,87.9763 1900.72,87.9763 1911,87.9763 1921.28,87.9763 1931.56,87.9763 1941.84,87.9763 1952.13,87.9763 1962.41,87.9763 1972.69,87.9763 1982.97,87.9763 \n",
       "  1993.25,87.9763 2003.53,87.9763 2013.81,87.9763 2024.09,87.9763 2034.37,87.9763 2044.65,87.9763 2054.93,87.9763 2065.21,87.9763 2075.49,87.9763 2085.77,87.9763 \n",
       "  2096.05,87.9763 2106.33,87.9763 2116.61,87.9763 2126.89,87.9763 2137.17,87.9763 2147.45,87.9763 2157.74,87.9763 2168.02,87.9763 2178.3,87.9763 2188.58,87.9763 \n",
       "  2198.86,87.9763 2209.14,87.9763 2219.42,87.9763 2229.7,87.9763 2239.98,87.9763 2250.26,87.9763 2260.54,87.9763 2270.82,87.9763 2281.1,87.9763 2291.38,87.9763 \n",
       "  \n",
       "  \"/>\n",
       "<polyline clip-path=\"url(#clip822)\" style=\"stroke:#e26f46; stroke-linecap:round; stroke-linejoin:round; stroke-width:4; stroke-opacity:1; fill:none\" points=\"\n",
       "  245.565,1174.17 255.846,1174.17 266.126,1174.17 276.407,1174.17 286.687,1174.17 296.968,1174.17 307.248,1174.17 317.529,1174.17 327.809,1174.17 338.09,1309.94 \n",
       "  348.37,1309.94 358.65,1445.72 368.931,1445.72 379.211,1445.72 389.492,1445.72 399.772,1445.72 410.053,1445.72 420.333,1445.72 430.614,1445.72 440.894,1445.72 \n",
       "  451.175,1445.72 461.455,1445.72 471.736,1445.72 482.016,1445.72 492.297,1445.72 502.577,1445.72 512.858,1445.72 523.138,1445.72 533.419,1445.72 543.699,1445.72 \n",
       "  553.98,1445.72 564.26,1445.72 574.541,1445.72 584.821,1445.72 595.102,1445.72 605.382,1445.72 615.663,1445.72 625.943,1445.72 636.224,1445.72 646.504,1445.72 \n",
       "  656.785,1445.72 667.065,1445.72 677.345,1445.72 687.626,1445.72 697.906,1445.72 708.187,1445.72 718.467,1445.72 728.748,1445.72 739.028,1445.72 749.309,1445.72 \n",
       "  759.589,1445.72 769.87,1445.72 780.15,1445.72 790.431,1445.72 800.711,1445.72 810.992,1445.72 821.272,1445.72 831.553,1445.72 841.833,1445.72 852.114,1445.72 \n",
       "  862.394,1445.72 872.675,1445.72 882.955,1445.72 893.236,1445.72 903.516,1445.72 913.797,1445.72 924.077,1445.72 934.358,1445.72 944.638,1445.72 954.919,1445.72 \n",
       "  965.199,1445.72 975.48,1445.72 985.76,1445.72 996.04,1445.72 1006.32,1445.72 1016.6,1445.72 1026.88,1445.72 1037.16,1445.72 1047.44,1445.72 1057.72,1445.72 \n",
       "  1068,1445.72 1078.28,1445.72 1088.56,1445.72 1098.85,1445.72 1109.13,1445.72 1119.41,1445.72 1129.69,1445.72 1139.97,1445.72 1150.25,1445.72 1160.53,1445.72 \n",
       "  1170.81,1445.72 1181.09,1445.72 1191.37,1445.72 1201.65,1445.72 1211.93,1445.72 1222.21,1445.72 1232.49,1445.72 1242.77,1445.72 1253.05,1445.72 1263.33,1445.72 \n",
       "  1273.61,1445.72 1283.89,1445.72 1294.17,1445.72 1304.45,1445.72 1314.74,1445.72 1325.02,1445.72 1335.3,1445.72 1345.58,1445.72 1355.86,1445.72 1366.14,1445.72 \n",
       "  1376.42,1445.72 1386.7,1445.72 1396.98,1445.72 1407.26,1445.72 1417.54,1445.72 1427.82,1445.72 1438.1,1445.72 1448.38,1445.72 1458.66,1445.72 1468.94,1445.72 \n",
       "  1479.22,1445.72 1489.5,1445.72 1499.78,1445.72 1510.06,1445.72 1520.35,1445.72 1530.63,1445.72 1540.91,1445.72 1551.19,1445.72 1561.47,1445.72 1571.75,1445.72 \n",
       "  1582.03,1445.72 1592.31,1445.72 1602.59,1445.72 1612.87,1445.72 1623.15,1445.72 1633.43,1445.72 1643.71,1445.72 1653.99,1445.72 1664.27,1445.72 1674.55,1445.72 \n",
       "  1684.83,1445.72 1695.11,1445.72 1705.39,1445.72 1715.67,1445.72 1725.95,1445.72 1736.24,1445.72 1746.52,1445.72 1756.8,1445.72 1767.08,1445.72 1777.36,1445.72 \n",
       "  1787.64,1445.72 1797.92,1445.72 1808.2,1445.72 1818.48,1445.72 1828.76,1445.72 1839.04,1445.72 1849.32,1445.72 1859.6,1445.72 1869.88,1445.72 1880.16,1445.72 \n",
       "  1890.44,1445.72 1900.72,1445.72 1911,1445.72 1921.28,1445.72 1931.56,1445.72 1941.84,1445.72 1952.13,1445.72 1962.41,1445.72 1972.69,1445.72 1982.97,1445.72 \n",
       "  1993.25,1445.72 2003.53,1445.72 2013.81,1445.72 2024.09,1445.72 2034.37,1445.72 2044.65,1445.72 2054.93,1445.72 2065.21,1445.72 2075.49,1445.72 2085.77,1445.72 \n",
       "  2096.05,1445.72 2106.33,1445.72 2116.61,1445.72 2126.89,1445.72 2137.17,1445.72 2147.45,1445.72 2157.74,1445.72 2168.02,1445.72 2178.3,1445.72 2188.58,1445.72 \n",
       "  2198.86,1445.72 2209.14,1445.72 2219.42,1445.72 2229.7,1445.72 2239.98,1445.72 2250.26,1445.72 2260.54,1445.72 2270.82,1445.72 2281.1,1445.72 2291.38,1445.72 \n",
       "  \n",
       "  \"/>\n",
       "<path clip-path=\"url(#clip820)\" d=\"\n",
       "M256.476 250.738 L668.54 250.738 L668.54 95.2176 L256.476 95.2176  Z\n",
       "  \" fill=\"#ffffff\" fill-rule=\"evenodd\" fill-opacity=\"1\"/>\n",
       "<polyline clip-path=\"url(#clip820)\" style=\"stroke:#000000; stroke-linecap:round; stroke-linejoin:round; stroke-width:4; stroke-opacity:1; fill:none\" points=\"\n",
       "  256.476,250.738 668.54,250.738 668.54,95.2176 256.476,95.2176 256.476,250.738 \n",
       "  \"/>\n",
       "<polyline clip-path=\"url(#clip820)\" style=\"stroke:#009af9; stroke-linecap:round; stroke-linejoin:round; stroke-width:4; stroke-opacity:1; fill:none\" points=\"\n",
       "  280.571,147.058 425.142,147.058 \n",
       "  \"/>\n",
       "<path clip-path=\"url(#clip820)\" d=\"M465.071 134.384 L458.728 151.583 L471.436 151.583 L465.071 134.384 M462.432 129.778 L467.733 129.778 L480.904 164.338 L476.043 164.338 L472.895 155.472 L457.316 155.472 L454.168 164.338 L449.238 164.338 L462.432 129.778 Z\" fill=\"#000000\" fill-rule=\"evenodd\" fill-opacity=\"1\" /><path clip-path=\"url(#clip820)\" d=\"M503.589 139.407 L503.589 143.389 Q501.784 142.393 499.955 141.907 Q498.149 141.398 496.297 141.398 Q492.154 141.398 489.862 144.037 Q487.571 146.652 487.571 151.398 Q487.571 156.143 489.862 158.782 Q492.154 161.398 496.297 161.398 Q498.149 161.398 499.955 160.912 Q501.784 160.402 503.589 159.407 L503.589 163.342 Q501.807 164.176 499.885 164.592 Q497.987 165.009 495.835 165.009 Q489.978 165.009 486.529 161.328 Q483.08 157.648 483.08 151.398 Q483.08 145.055 486.552 141.421 Q490.048 137.787 496.112 137.787 Q498.08 137.787 499.955 138.203 Q501.83 138.597 503.589 139.407 Z\" fill=\"#000000\" fill-rule=\"evenodd\" fill-opacity=\"1\" /><path clip-path=\"url(#clip820)\" d=\"M515.209 131.051 L515.209 138.412 L523.983 138.412 L523.983 141.722 L515.209 141.722 L515.209 155.796 Q515.209 158.967 516.066 159.87 Q516.946 160.773 519.608 160.773 L523.983 160.773 L523.983 164.338 L519.608 164.338 Q514.677 164.338 512.802 162.509 Q510.927 160.657 510.927 155.796 L510.927 141.722 L507.802 141.722 L507.802 138.412 L510.927 138.412 L510.927 131.051 L515.209 131.051 Z\" fill=\"#000000\" fill-rule=\"evenodd\" fill-opacity=\"1\" /><path clip-path=\"url(#clip820)\" d=\"M529.584 138.412 L533.844 138.412 L533.844 164.338 L529.584 164.338 L529.584 138.412 M529.584 128.319 L533.844 128.319 L533.844 133.713 L529.584 133.713 L529.584 128.319 Z\" fill=\"#000000\" fill-rule=\"evenodd\" fill-opacity=\"1\" /><path clip-path=\"url(#clip820)\" d=\"M552.802 141.398 Q549.376 141.398 547.385 144.083 Q545.394 146.745 545.394 151.398 Q545.394 156.051 547.362 158.736 Q549.353 161.398 552.802 161.398 Q556.205 161.398 558.195 158.713 Q560.186 156.027 560.186 151.398 Q560.186 146.791 558.195 144.106 Q556.205 141.398 552.802 141.398 M552.802 137.787 Q558.357 137.787 561.529 141.398 Q564.7 145.009 564.7 151.398 Q564.7 157.764 561.529 161.398 Q558.357 165.009 552.802 165.009 Q547.223 165.009 544.052 161.398 Q540.904 157.764 540.904 151.398 Q540.904 145.009 544.052 141.398 Q547.223 137.787 552.802 137.787 Z\" fill=\"#000000\" fill-rule=\"evenodd\" fill-opacity=\"1\" /><path clip-path=\"url(#clip820)\" d=\"M593.311 148.689 L593.311 164.338 L589.052 164.338 L589.052 148.828 Q589.052 145.148 587.616 143.319 Q586.181 141.49 583.311 141.49 Q579.862 141.49 577.871 143.69 Q575.88 145.889 575.88 149.685 L575.88 164.338 L571.598 164.338 L571.598 138.412 L575.88 138.412 L575.88 142.44 Q577.408 140.102 579.468 138.944 Q581.552 137.787 584.26 137.787 Q588.728 137.787 591.019 140.565 Q593.311 143.319 593.311 148.689 Z\" fill=\"#000000\" fill-rule=\"evenodd\" fill-opacity=\"1\" /><path clip-path=\"url(#clip820)\" d=\"M628.612 134.384 L622.269 151.583 L634.977 151.583 L628.612 134.384 M625.973 129.778 L631.274 129.778 L644.445 164.338 L639.584 164.338 L636.436 155.472 L620.857 155.472 L617.709 164.338 L612.778 164.338 L625.973 129.778 Z\" fill=\"#000000\" fill-rule=\"evenodd\" fill-opacity=\"1\" /><polyline clip-path=\"url(#clip820)\" style=\"stroke:#e26f46; stroke-linecap:round; stroke-linejoin:round; stroke-width:4; stroke-opacity:1; fill:none\" points=\"\n",
       "  280.571,198.898 425.142,198.898 \n",
       "  \"/>\n",
       "<path clip-path=\"url(#clip820)\" d=\"M465.071 186.224 L458.728 203.423 L471.436 203.423 L465.071 186.224 M462.432 181.618 L467.733 181.618 L480.904 216.178 L476.043 216.178 L472.895 207.312 L457.316 207.312 L454.168 216.178 L449.238 216.178 L462.432 181.618 Z\" fill=\"#000000\" fill-rule=\"evenodd\" fill-opacity=\"1\" /><path clip-path=\"url(#clip820)\" d=\"M503.589 191.247 L503.589 195.229 Q501.784 194.233 499.955 193.747 Q498.149 193.238 496.297 193.238 Q492.154 193.238 489.862 195.877 Q487.571 198.492 487.571 203.238 Q487.571 207.983 489.862 210.622 Q492.154 213.238 496.297 213.238 Q498.149 213.238 499.955 212.752 Q501.784 212.242 503.589 211.247 L503.589 215.182 Q501.807 216.016 499.885 216.432 Q497.987 216.849 495.835 216.849 Q489.978 216.849 486.529 213.168 Q483.08 209.488 483.08 203.238 Q483.08 196.895 486.552 193.261 Q490.048 189.627 496.112 189.627 Q498.08 189.627 499.955 190.043 Q501.83 190.437 503.589 191.247 Z\" fill=\"#000000\" fill-rule=\"evenodd\" fill-opacity=\"1\" /><path clip-path=\"url(#clip820)\" d=\"M515.209 182.891 L515.209 190.252 L523.983 190.252 L523.983 193.562 L515.209 193.562 L515.209 207.636 Q515.209 210.807 516.066 211.71 Q516.946 212.613 519.608 212.613 L523.983 212.613 L523.983 216.178 L519.608 216.178 Q514.677 216.178 512.802 214.349 Q510.927 212.497 510.927 207.636 L510.927 193.562 L507.802 193.562 L507.802 190.252 L510.927 190.252 L510.927 182.891 L515.209 182.891 Z\" fill=\"#000000\" fill-rule=\"evenodd\" fill-opacity=\"1\" /><path clip-path=\"url(#clip820)\" d=\"M529.584 190.252 L533.844 190.252 L533.844 216.178 L529.584 216.178 L529.584 190.252 M529.584 180.159 L533.844 180.159 L533.844 185.553 L529.584 185.553 L529.584 180.159 Z\" fill=\"#000000\" fill-rule=\"evenodd\" fill-opacity=\"1\" /><path clip-path=\"url(#clip820)\" d=\"M552.802 193.238 Q549.376 193.238 547.385 195.923 Q545.394 198.585 545.394 203.238 Q545.394 207.891 547.362 210.576 Q549.353 213.238 552.802 213.238 Q556.205 213.238 558.195 210.553 Q560.186 207.867 560.186 203.238 Q560.186 198.631 558.195 195.946 Q556.205 193.238 552.802 193.238 M552.802 189.627 Q558.357 189.627 561.529 193.238 Q564.7 196.849 564.7 203.238 Q564.7 209.604 561.529 213.238 Q558.357 216.849 552.802 216.849 Q547.223 216.849 544.052 213.238 Q540.904 209.604 540.904 203.238 Q540.904 196.849 544.052 193.238 Q547.223 189.627 552.802 189.627 Z\" fill=\"#000000\" fill-rule=\"evenodd\" fill-opacity=\"1\" /><path clip-path=\"url(#clip820)\" d=\"M593.311 200.529 L593.311 216.178 L589.052 216.178 L589.052 200.668 Q589.052 196.988 587.616 195.159 Q586.181 193.33 583.311 193.33 Q579.862 193.33 577.871 195.53 Q575.88 197.729 575.88 201.525 L575.88 216.178 L571.598 216.178 L571.598 190.252 L575.88 190.252 L575.88 194.28 Q577.408 191.942 579.468 190.784 Q581.552 189.627 584.26 189.627 Q588.728 189.627 591.019 192.405 Q593.311 195.159 593.311 200.529 Z\" fill=\"#000000\" fill-rule=\"evenodd\" fill-opacity=\"1\" /><path clip-path=\"url(#clip820)\" d=\"M621.737 199.673 L621.737 212.335 L629.237 212.335 Q633.01 212.335 634.815 210.784 Q636.644 209.21 636.644 205.992 Q636.644 202.752 634.815 201.224 Q633.01 199.673 629.237 199.673 L621.737 199.673 M621.737 185.46 L621.737 195.877 L628.658 195.877 Q632.084 195.877 633.75 194.604 Q635.44 193.307 635.44 190.668 Q635.44 188.053 633.75 186.756 Q632.084 185.46 628.658 185.46 L621.737 185.46 M617.061 181.618 L629.005 181.618 Q634.352 181.618 637.246 183.84 Q640.139 186.062 640.139 190.159 Q640.139 193.33 638.658 195.205 Q637.176 197.08 634.306 197.543 Q637.755 198.284 639.653 200.645 Q641.574 202.983 641.574 206.502 Q641.574 211.131 638.426 213.654 Q635.278 216.178 629.468 216.178 L617.061 216.178 L617.061 181.618 Z\" fill=\"#000000\" fill-rule=\"evenodd\" fill-opacity=\"1\" /></svg>\n"
      ]
     },
     "execution_count": 13,
     "metadata": {},
     "output_type": "execute_result"
    }
   ],
   "source": [
    "m = 8\n",
    "x = time_series(brd_coor, ts_length, [m, N-m])\n",
    "plot([x[1, :], x[2, :]], label=label_2)"
   ]
  },
  {
   "cell_type": "markdown",
   "metadata": {},
   "source": [
    "You can see converged action profile depends on the initial action distribution."
   ]
  },
  {
   "cell_type": "markdown",
   "metadata": {},
   "source": [
    "### Kandori-Mailath-Rob model (KMR model)"
   ]
  },
  {
   "cell_type": "code",
   "execution_count": 14,
   "metadata": {},
   "outputs": [],
   "source": [
    "epsilon = 0.1;"
   ]
  },
  {
   "cell_type": "markdown",
   "metadata": {},
   "source": [
    "#### Coordination Game"
   ]
  },
  {
   "cell_type": "code",
   "execution_count": 15,
   "metadata": {},
   "outputs": [
    {
     "data": {
      "text/plain": [
       "KMR{Int64}(10, 2×2 Player{2, Int64}:\n",
       " 2  0\n",
       " 0  1, 2, 0.1)"
      ]
     },
     "execution_count": 15,
     "metadata": {},
     "output_type": "execute_result"
    }
   ],
   "source": [
    "kmr_coor = KMR(coordination_game_matrix, N, epsilon)"
   ]
  },
  {
   "cell_type": "code",
   "execution_count": 16,
   "metadata": {},
   "outputs": [
    {
     "data": {
      "image/svg+xml": [
       "<?xml version=\"1.0\" encoding=\"utf-8\"?>\n",
       "<svg xmlns=\"http://www.w3.org/2000/svg\" xmlns:xlink=\"http://www.w3.org/1999/xlink\" width=\"600\" height=\"400\" viewBox=\"0 0 2400 1600\">\n",
       "<defs>\n",
       "  <clipPath id=\"clip860\">\n",
       "    <rect x=\"0\" y=\"0\" width=\"2400\" height=\"1600\"/>\n",
       "  </clipPath>\n",
       "</defs>\n",
       "<path clip-path=\"url(#clip860)\" d=\"\n",
       "M0 1600 L2400 1600 L2400 0 L0 0  Z\n",
       "  \" fill=\"#ffffff\" fill-rule=\"evenodd\" fill-opacity=\"1\"/>\n",
       "<defs>\n",
       "  <clipPath id=\"clip861\">\n",
       "    <rect x=\"480\" y=\"0\" width=\"1681\" height=\"1600\"/>\n",
       "  </clipPath>\n",
       "</defs>\n",
       "<path clip-path=\"url(#clip860)\" d=\"\n",
       "M184.191 1486.45 L2352.76 1486.45 L2352.76 47.2441 L184.191 47.2441  Z\n",
       "  \" fill=\"#ffffff\" fill-rule=\"evenodd\" fill-opacity=\"1\"/>\n",
       "<defs>\n",
       "  <clipPath id=\"clip862\">\n",
       "    <rect x=\"184\" y=\"47\" width=\"2170\" height=\"1440\"/>\n",
       "  </clipPath>\n",
       "</defs>\n",
       "<polyline clip-path=\"url(#clip862)\" style=\"stroke:#000000; stroke-linecap:round; stroke-linejoin:round; stroke-width:2; stroke-opacity:0.1; fill:none\" points=\"\n",
       "  235.285,1486.45 235.285,47.2441 \n",
       "  \"/>\n",
       "<polyline clip-path=\"url(#clip862)\" style=\"stroke:#000000; stroke-linecap:round; stroke-linejoin:round; stroke-width:2; stroke-opacity:0.1; fill:none\" points=\"\n",
       "  749.309,1486.45 749.309,47.2441 \n",
       "  \"/>\n",
       "<polyline clip-path=\"url(#clip862)\" style=\"stroke:#000000; stroke-linecap:round; stroke-linejoin:round; stroke-width:2; stroke-opacity:0.1; fill:none\" points=\"\n",
       "  1263.33,1486.45 1263.33,47.2441 \n",
       "  \"/>\n",
       "<polyline clip-path=\"url(#clip862)\" style=\"stroke:#000000; stroke-linecap:round; stroke-linejoin:round; stroke-width:2; stroke-opacity:0.1; fill:none\" points=\"\n",
       "  1777.36,1486.45 1777.36,47.2441 \n",
       "  \"/>\n",
       "<polyline clip-path=\"url(#clip862)\" style=\"stroke:#000000; stroke-linecap:round; stroke-linejoin:round; stroke-width:2; stroke-opacity:0.1; fill:none\" points=\"\n",
       "  2291.38,1486.45 2291.38,47.2441 \n",
       "  \"/>\n",
       "<polyline clip-path=\"url(#clip860)\" style=\"stroke:#000000; stroke-linecap:round; stroke-linejoin:round; stroke-width:4; stroke-opacity:1; fill:none\" points=\"\n",
       "  184.191,1486.45 2352.76,1486.45 \n",
       "  \"/>\n",
       "<polyline clip-path=\"url(#clip860)\" style=\"stroke:#000000; stroke-linecap:round; stroke-linejoin:round; stroke-width:4; stroke-opacity:1; fill:none\" points=\"\n",
       "  235.285,1486.45 235.285,1467.55 \n",
       "  \"/>\n",
       "<polyline clip-path=\"url(#clip860)\" style=\"stroke:#000000; stroke-linecap:round; stroke-linejoin:round; stroke-width:4; stroke-opacity:1; fill:none\" points=\"\n",
       "  749.309,1486.45 749.309,1467.55 \n",
       "  \"/>\n",
       "<polyline clip-path=\"url(#clip860)\" style=\"stroke:#000000; stroke-linecap:round; stroke-linejoin:round; stroke-width:4; stroke-opacity:1; fill:none\" points=\"\n",
       "  1263.33,1486.45 1263.33,1467.55 \n",
       "  \"/>\n",
       "<polyline clip-path=\"url(#clip860)\" style=\"stroke:#000000; stroke-linecap:round; stroke-linejoin:round; stroke-width:4; stroke-opacity:1; fill:none\" points=\"\n",
       "  1777.36,1486.45 1777.36,1467.55 \n",
       "  \"/>\n",
       "<polyline clip-path=\"url(#clip860)\" style=\"stroke:#000000; stroke-linecap:round; stroke-linejoin:round; stroke-width:4; stroke-opacity:1; fill:none\" points=\"\n",
       "  2291.38,1486.45 2291.38,1467.55 \n",
       "  \"/>\n",
       "<path clip-path=\"url(#clip860)\" d=\"M235.285 1517.37 Q231.674 1517.37 229.845 1520.93 Q228.039 1524.47 228.039 1531.6 Q228.039 1538.71 229.845 1542.27 Q231.674 1545.82 235.285 1545.82 Q238.919 1545.82 240.724 1542.27 Q242.553 1538.71 242.553 1531.6 Q242.553 1524.47 240.724 1520.93 Q238.919 1517.37 235.285 1517.37 M235.285 1513.66 Q241.095 1513.66 244.15 1518.27 Q247.229 1522.85 247.229 1531.6 Q247.229 1540.33 244.15 1544.94 Q241.095 1549.52 235.285 1549.52 Q229.475 1549.52 226.396 1544.94 Q223.34 1540.33 223.34 1531.6 Q223.34 1522.85 226.396 1518.27 Q229.475 1513.66 235.285 1513.66 Z\" fill=\"#000000\" fill-rule=\"evenodd\" fill-opacity=\"1\" /><path clip-path=\"url(#clip860)\" d=\"M724.008 1514.29 L742.364 1514.29 L742.364 1518.22 L728.29 1518.22 L728.29 1526.7 Q729.309 1526.35 730.327 1526.19 Q731.346 1526 732.365 1526 Q738.152 1526 741.531 1529.17 Q744.911 1532.34 744.911 1537.76 Q744.911 1543.34 741.439 1546.44 Q737.966 1549.52 731.647 1549.52 Q729.471 1549.52 727.203 1549.15 Q724.957 1548.78 722.55 1548.04 L722.55 1543.34 Q724.633 1544.47 726.855 1545.03 Q729.077 1545.58 731.554 1545.58 Q735.559 1545.58 737.897 1543.48 Q740.235 1541.37 740.235 1537.76 Q740.235 1534.15 737.897 1532.04 Q735.559 1529.94 731.554 1529.94 Q729.679 1529.94 727.804 1530.35 Q725.953 1530.77 724.008 1531.65 L724.008 1514.29 Z\" fill=\"#000000\" fill-rule=\"evenodd\" fill-opacity=\"1\" /><path clip-path=\"url(#clip860)\" d=\"M764.124 1517.37 Q760.513 1517.37 758.684 1520.93 Q756.878 1524.47 756.878 1531.6 Q756.878 1538.71 758.684 1542.27 Q760.513 1545.82 764.124 1545.82 Q767.758 1545.82 769.563 1542.27 Q771.392 1538.71 771.392 1531.6 Q771.392 1524.47 769.563 1520.93 Q767.758 1517.37 764.124 1517.37 M764.124 1513.66 Q769.934 1513.66 772.989 1518.27 Q776.068 1522.85 776.068 1531.6 Q776.068 1540.33 772.989 1544.94 Q769.934 1549.52 764.124 1549.52 Q758.313 1549.52 755.235 1544.94 Q752.179 1540.33 752.179 1531.6 Q752.179 1522.85 755.235 1518.27 Q758.313 1513.66 764.124 1513.66 Z\" fill=\"#000000\" fill-rule=\"evenodd\" fill-opacity=\"1\" /><path clip-path=\"url(#clip860)\" d=\"M1222.94 1544.91 L1230.58 1544.91 L1230.58 1518.55 L1222.27 1520.21 L1222.27 1515.95 L1230.53 1514.29 L1235.21 1514.29 L1235.21 1544.91 L1242.85 1544.91 L1242.85 1548.85 L1222.94 1548.85 L1222.94 1544.91 Z\" fill=\"#000000\" fill-rule=\"evenodd\" fill-opacity=\"1\" /><path clip-path=\"url(#clip860)\" d=\"M1262.29 1517.37 Q1258.68 1517.37 1256.85 1520.93 Q1255.05 1524.47 1255.05 1531.6 Q1255.05 1538.71 1256.85 1542.27 Q1258.68 1545.82 1262.29 1545.82 Q1265.93 1545.82 1267.73 1542.27 Q1269.56 1538.71 1269.56 1531.6 Q1269.56 1524.47 1267.73 1520.93 Q1265.93 1517.37 1262.29 1517.37 M1262.29 1513.66 Q1268.1 1513.66 1271.16 1518.27 Q1274.24 1522.85 1274.24 1531.6 Q1274.24 1540.33 1271.16 1544.94 Q1268.1 1549.52 1262.29 1549.52 Q1256.48 1549.52 1253.4 1544.94 Q1250.35 1540.33 1250.35 1531.6 Q1250.35 1522.85 1253.4 1518.27 Q1256.48 1513.66 1262.29 1513.66 Z\" fill=\"#000000\" fill-rule=\"evenodd\" fill-opacity=\"1\" /><path clip-path=\"url(#clip860)\" d=\"M1292.45 1517.37 Q1288.84 1517.37 1287.01 1520.93 Q1285.21 1524.47 1285.21 1531.6 Q1285.21 1538.71 1287.01 1542.27 Q1288.84 1545.82 1292.45 1545.82 Q1296.09 1545.82 1297.89 1542.27 Q1299.72 1538.71 1299.72 1531.6 Q1299.72 1524.47 1297.89 1520.93 Q1296.09 1517.37 1292.45 1517.37 M1292.45 1513.66 Q1298.26 1513.66 1301.32 1518.27 Q1304.4 1522.85 1304.4 1531.6 Q1304.4 1540.33 1301.32 1544.94 Q1298.26 1549.52 1292.45 1549.52 Q1286.64 1549.52 1283.56 1544.94 Q1280.51 1540.33 1280.51 1531.6 Q1280.51 1522.85 1283.56 1518.27 Q1286.64 1513.66 1292.45 1513.66 Z\" fill=\"#000000\" fill-rule=\"evenodd\" fill-opacity=\"1\" /><path clip-path=\"url(#clip860)\" d=\"M1736.96 1544.91 L1744.6 1544.91 L1744.6 1518.55 L1736.29 1520.21 L1736.29 1515.95 L1744.56 1514.29 L1749.23 1514.29 L1749.23 1544.91 L1756.87 1544.91 L1756.87 1548.85 L1736.96 1548.85 L1736.96 1544.91 Z\" fill=\"#000000\" fill-rule=\"evenodd\" fill-opacity=\"1\" /><path clip-path=\"url(#clip860)\" d=\"M1766.36 1514.29 L1784.72 1514.29 L1784.72 1518.22 L1770.64 1518.22 L1770.64 1526.7 Q1771.66 1526.35 1772.68 1526.19 Q1773.7 1526 1774.72 1526 Q1780.51 1526 1783.88 1529.17 Q1787.26 1532.34 1787.26 1537.76 Q1787.26 1543.34 1783.79 1546.44 Q1780.32 1549.52 1774 1549.52 Q1771.82 1549.52 1769.56 1549.15 Q1767.31 1548.78 1764.9 1548.04 L1764.9 1543.34 Q1766.99 1544.47 1769.21 1545.03 Q1771.43 1545.58 1773.91 1545.58 Q1777.91 1545.58 1780.25 1543.48 Q1782.59 1541.37 1782.59 1537.76 Q1782.59 1534.15 1780.25 1532.04 Q1777.91 1529.94 1773.91 1529.94 Q1772.03 1529.94 1770.16 1530.35 Q1768.31 1530.77 1766.36 1531.65 L1766.36 1514.29 Z\" fill=\"#000000\" fill-rule=\"evenodd\" fill-opacity=\"1\" /><path clip-path=\"url(#clip860)\" d=\"M1806.48 1517.37 Q1802.87 1517.37 1801.04 1520.93 Q1799.23 1524.47 1799.23 1531.6 Q1799.23 1538.71 1801.04 1542.27 Q1802.87 1545.82 1806.48 1545.82 Q1810.11 1545.82 1811.92 1542.27 Q1813.75 1538.71 1813.75 1531.6 Q1813.75 1524.47 1811.92 1520.93 Q1810.11 1517.37 1806.48 1517.37 M1806.48 1513.66 Q1812.29 1513.66 1815.34 1518.27 Q1818.42 1522.85 1818.42 1531.6 Q1818.42 1540.33 1815.34 1544.94 Q1812.29 1549.52 1806.48 1549.52 Q1800.67 1549.52 1797.59 1544.94 Q1794.53 1540.33 1794.53 1531.6 Q1794.53 1522.85 1797.59 1518.27 Q1800.67 1513.66 1806.48 1513.66 Z\" fill=\"#000000\" fill-rule=\"evenodd\" fill-opacity=\"1\" /><path clip-path=\"url(#clip860)\" d=\"M2255.07 1544.91 L2271.39 1544.91 L2271.39 1548.85 L2249.45 1548.85 L2249.45 1544.91 Q2252.11 1542.16 2256.69 1537.53 Q2261.3 1532.88 2262.48 1531.53 Q2264.73 1529.01 2265.61 1527.27 Q2266.51 1525.51 2266.51 1523.82 Q2266.51 1521.07 2264.56 1519.33 Q2262.64 1517.6 2259.54 1517.6 Q2257.34 1517.6 2254.89 1518.36 Q2252.46 1519.13 2249.68 1520.68 L2249.68 1515.95 Q2252.5 1514.82 2254.96 1514.24 Q2257.41 1513.66 2259.45 1513.66 Q2264.82 1513.66 2268.01 1516.35 Q2271.21 1519.03 2271.21 1523.52 Q2271.21 1525.65 2270.4 1527.57 Q2269.61 1529.47 2267.5 1532.07 Q2266.93 1532.74 2263.82 1535.95 Q2260.72 1539.15 2255.07 1544.91 Z\" fill=\"#000000\" fill-rule=\"evenodd\" fill-opacity=\"1\" /><path clip-path=\"url(#clip860)\" d=\"M2291.21 1517.37 Q2287.6 1517.37 2285.77 1520.93 Q2283.96 1524.47 2283.96 1531.6 Q2283.96 1538.71 2285.77 1542.27 Q2287.6 1545.82 2291.21 1545.82 Q2294.84 1545.82 2296.65 1542.27 Q2298.48 1538.71 2298.48 1531.6 Q2298.48 1524.47 2296.65 1520.93 Q2294.84 1517.37 2291.21 1517.37 M2291.21 1513.66 Q2297.02 1513.66 2300.07 1518.27 Q2303.15 1522.85 2303.15 1531.6 Q2303.15 1540.33 2300.07 1544.94 Q2297.02 1549.52 2291.21 1549.52 Q2285.4 1549.52 2282.32 1544.94 Q2279.26 1540.33 2279.26 1531.6 Q2279.26 1522.85 2282.32 1518.27 Q2285.4 1513.66 2291.21 1513.66 Z\" fill=\"#000000\" fill-rule=\"evenodd\" fill-opacity=\"1\" /><path clip-path=\"url(#clip860)\" d=\"M2321.37 1517.37 Q2317.76 1517.37 2315.93 1520.93 Q2314.12 1524.47 2314.12 1531.6 Q2314.12 1538.71 2315.93 1542.27 Q2317.76 1545.82 2321.37 1545.82 Q2325 1545.82 2326.81 1542.27 Q2328.64 1538.71 2328.64 1531.6 Q2328.64 1524.47 2326.81 1520.93 Q2325 1517.37 2321.37 1517.37 M2321.37 1513.66 Q2327.18 1513.66 2330.24 1518.27 Q2333.31 1522.85 2333.31 1531.6 Q2333.31 1540.33 2330.24 1544.94 Q2327.18 1549.52 2321.37 1549.52 Q2315.56 1549.52 2312.48 1544.94 Q2309.43 1540.33 2309.43 1531.6 Q2309.43 1522.85 2312.48 1518.27 Q2315.56 1513.66 2321.37 1513.66 Z\" fill=\"#000000\" fill-rule=\"evenodd\" fill-opacity=\"1\" /><polyline clip-path=\"url(#clip862)\" style=\"stroke:#000000; stroke-linecap:round; stroke-linejoin:round; stroke-width:2; stroke-opacity:0.1; fill:none\" points=\"\n",
       "  184.191,1445.72 2352.76,1445.72 \n",
       "  \"/>\n",
       "<polyline clip-path=\"url(#clip862)\" style=\"stroke:#000000; stroke-linecap:round; stroke-linejoin:round; stroke-width:2; stroke-opacity:0.1; fill:none\" points=\"\n",
       "  184.191,1106.28 2352.76,1106.28 \n",
       "  \"/>\n",
       "<polyline clip-path=\"url(#clip862)\" style=\"stroke:#000000; stroke-linecap:round; stroke-linejoin:round; stroke-width:2; stroke-opacity:0.1; fill:none\" points=\"\n",
       "  184.191,766.846 2352.76,766.846 \n",
       "  \"/>\n",
       "<polyline clip-path=\"url(#clip862)\" style=\"stroke:#000000; stroke-linecap:round; stroke-linejoin:round; stroke-width:2; stroke-opacity:0.1; fill:none\" points=\"\n",
       "  184.191,427.411 2352.76,427.411 \n",
       "  \"/>\n",
       "<polyline clip-path=\"url(#clip862)\" style=\"stroke:#000000; stroke-linecap:round; stroke-linejoin:round; stroke-width:2; stroke-opacity:0.1; fill:none\" points=\"\n",
       "  184.191,87.9763 2352.76,87.9763 \n",
       "  \"/>\n",
       "<polyline clip-path=\"url(#clip860)\" style=\"stroke:#000000; stroke-linecap:round; stroke-linejoin:round; stroke-width:4; stroke-opacity:1; fill:none\" points=\"\n",
       "  184.191,1486.45 184.191,47.2441 \n",
       "  \"/>\n",
       "<polyline clip-path=\"url(#clip860)\" style=\"stroke:#000000; stroke-linecap:round; stroke-linejoin:round; stroke-width:4; stroke-opacity:1; fill:none\" points=\"\n",
       "  184.191,1445.72 203.088,1445.72 \n",
       "  \"/>\n",
       "<polyline clip-path=\"url(#clip860)\" style=\"stroke:#000000; stroke-linecap:round; stroke-linejoin:round; stroke-width:4; stroke-opacity:1; fill:none\" points=\"\n",
       "  184.191,1106.28 203.088,1106.28 \n",
       "  \"/>\n",
       "<polyline clip-path=\"url(#clip860)\" style=\"stroke:#000000; stroke-linecap:round; stroke-linejoin:round; stroke-width:4; stroke-opacity:1; fill:none\" points=\"\n",
       "  184.191,766.846 203.088,766.846 \n",
       "  \"/>\n",
       "<polyline clip-path=\"url(#clip860)\" style=\"stroke:#000000; stroke-linecap:round; stroke-linejoin:round; stroke-width:4; stroke-opacity:1; fill:none\" points=\"\n",
       "  184.191,427.411 203.088,427.411 \n",
       "  \"/>\n",
       "<polyline clip-path=\"url(#clip860)\" style=\"stroke:#000000; stroke-linecap:round; stroke-linejoin:round; stroke-width:4; stroke-opacity:1; fill:none\" points=\"\n",
       "  184.191,87.9763 203.088,87.9763 \n",
       "  \"/>\n",
       "<path clip-path=\"url(#clip860)\" d=\"M91.0151 1431.51 Q87.404 1431.51 85.5753 1435.08 Q83.7697 1438.62 83.7697 1445.75 Q83.7697 1452.86 85.5753 1456.42 Q87.404 1459.96 91.0151 1459.96 Q94.6493 1459.96 96.4548 1456.42 Q98.2835 1452.86 98.2835 1445.75 Q98.2835 1438.62 96.4548 1435.08 Q94.6493 1431.51 91.0151 1431.51 M91.0151 1427.81 Q96.8252 1427.81 99.8808 1432.42 Q102.959 1437 102.959 1445.75 Q102.959 1454.48 99.8808 1459.08 Q96.8252 1463.67 91.0151 1463.67 Q85.2049 1463.67 82.1262 1459.08 Q79.0707 1454.48 79.0707 1445.75 Q79.0707 1437 82.1262 1432.42 Q85.2049 1427.81 91.0151 1427.81 Z\" fill=\"#000000\" fill-rule=\"evenodd\" fill-opacity=\"1\" /><path clip-path=\"url(#clip860)\" d=\"M111.177 1457.12 L116.061 1457.12 L116.061 1463 L111.177 1463 L111.177 1457.12 Z\" fill=\"#000000\" fill-rule=\"evenodd\" fill-opacity=\"1\" /><path clip-path=\"url(#clip860)\" d=\"M136.246 1431.51 Q132.635 1431.51 130.807 1435.08 Q129.001 1438.62 129.001 1445.75 Q129.001 1452.86 130.807 1456.42 Q132.635 1459.96 136.246 1459.96 Q139.881 1459.96 141.686 1456.42 Q143.515 1452.86 143.515 1445.75 Q143.515 1438.62 141.686 1435.08 Q139.881 1431.51 136.246 1431.51 M136.246 1427.81 Q142.056 1427.81 145.112 1432.42 Q148.191 1437 148.191 1445.75 Q148.191 1454.48 145.112 1459.08 Q142.056 1463.67 136.246 1463.67 Q130.436 1463.67 127.357 1459.08 Q124.302 1454.48 124.302 1445.75 Q124.302 1437 127.357 1432.42 Q130.436 1427.81 136.246 1427.81 Z\" fill=\"#000000\" fill-rule=\"evenodd\" fill-opacity=\"1\" /><path clip-path=\"url(#clip860)\" d=\"M86.0382 1119.63 L102.358 1119.63 L102.358 1123.56 L80.4133 1123.56 L80.4133 1119.63 Q83.0753 1116.87 87.6586 1112.24 Q92.2651 1107.59 93.4456 1106.25 Q95.691 1103.72 96.5706 1101.99 Q97.4734 1100.23 97.4734 1098.54 Q97.4734 1095.78 95.5289 1094.05 Q93.6076 1092.31 90.5058 1092.31 Q88.3067 1092.31 85.8531 1093.07 Q83.4225 1093.84 80.6447 1095.39 L80.6447 1090.67 Q83.4688 1089.53 85.9225 1088.95 Q88.3762 1088.38 90.4132 1088.38 Q95.7836 1088.38 98.978 1091.06 Q102.172 1093.75 102.172 1098.24 Q102.172 1100.37 101.362 1102.29 Q100.575 1104.19 98.4687 1106.78 Q97.89 1107.45 94.7882 1110.67 Q91.6864 1113.86 86.0382 1119.63 Z\" fill=\"#000000\" fill-rule=\"evenodd\" fill-opacity=\"1\" /><path clip-path=\"url(#clip860)\" d=\"M112.172 1117.68 L117.057 1117.68 L117.057 1123.56 L112.172 1123.56 L112.172 1117.68 Z\" fill=\"#000000\" fill-rule=\"evenodd\" fill-opacity=\"1\" /><path clip-path=\"url(#clip860)\" d=\"M127.288 1089 L145.644 1089 L145.644 1092.94 L131.57 1092.94 L131.57 1101.41 Q132.589 1101.06 133.607 1100.9 Q134.626 1100.71 135.644 1100.71 Q141.431 1100.71 144.811 1103.89 Q148.191 1107.06 148.191 1112.47 Q148.191 1118.05 144.718 1121.15 Q141.246 1124.23 134.927 1124.23 Q132.751 1124.23 130.482 1123.86 Q128.237 1123.49 125.83 1122.75 L125.83 1118.05 Q127.913 1119.19 130.135 1119.74 Q132.357 1120.3 134.834 1120.3 Q138.839 1120.3 141.177 1118.19 Q143.515 1116.08 143.515 1112.47 Q143.515 1108.86 141.177 1106.76 Q138.839 1104.65 134.834 1104.65 Q132.959 1104.65 131.084 1105.07 Q129.232 1105.48 127.288 1106.36 L127.288 1089 Z\" fill=\"#000000\" fill-rule=\"evenodd\" fill-opacity=\"1\" /><path clip-path=\"url(#clip860)\" d=\"M81.0614 749.566 L99.4178 749.566 L99.4178 753.501 L85.3438 753.501 L85.3438 761.973 Q86.3623 761.626 87.3808 761.464 Q88.3993 761.279 89.4178 761.279 Q95.2049 761.279 98.5845 764.45 Q101.964 767.621 101.964 773.038 Q101.964 778.617 98.4919 781.719 Q95.0197 784.797 88.7003 784.797 Q86.5243 784.797 84.2558 784.427 Q82.0105 784.057 79.6031 783.316 L79.6031 778.617 Q81.6864 779.751 83.9086 780.307 Q86.1308 780.862 88.6077 780.862 Q92.6123 780.862 94.9502 778.756 Q97.2882 776.649 97.2882 773.038 Q97.2882 769.427 94.9502 767.321 Q92.6123 765.214 88.6077 765.214 Q86.7327 765.214 84.8577 765.631 Q83.0058 766.047 81.0614 766.927 L81.0614 749.566 Z\" fill=\"#000000\" fill-rule=\"evenodd\" fill-opacity=\"1\" /><path clip-path=\"url(#clip860)\" d=\"M111.177 778.246 L116.061 778.246 L116.061 784.126 L111.177 784.126 L111.177 778.246 Z\" fill=\"#000000\" fill-rule=\"evenodd\" fill-opacity=\"1\" /><path clip-path=\"url(#clip860)\" d=\"M136.246 752.645 Q132.635 752.645 130.807 756.209 Q129.001 759.751 129.001 766.881 Q129.001 773.987 130.807 777.552 Q132.635 781.094 136.246 781.094 Q139.881 781.094 141.686 777.552 Q143.515 773.987 143.515 766.881 Q143.515 759.751 141.686 756.209 Q139.881 752.645 136.246 752.645 M136.246 748.941 Q142.056 748.941 145.112 753.547 Q148.191 758.131 148.191 766.881 Q148.191 775.608 145.112 780.214 Q142.056 784.797 136.246 784.797 Q130.436 784.797 127.357 780.214 Q124.302 775.608 124.302 766.881 Q124.302 758.131 127.357 753.547 Q130.436 748.941 136.246 748.941 Z\" fill=\"#000000\" fill-rule=\"evenodd\" fill-opacity=\"1\" /><path clip-path=\"url(#clip860)\" d=\"M80.8299 410.131 L103.052 410.131 L103.052 412.122 L90.5058 444.691 L85.6216 444.691 L97.4271 414.066 L80.8299 414.066 L80.8299 410.131 Z\" fill=\"#000000\" fill-rule=\"evenodd\" fill-opacity=\"1\" /><path clip-path=\"url(#clip860)\" d=\"M112.172 438.812 L117.057 438.812 L117.057 444.691 L112.172 444.691 L112.172 438.812 Z\" fill=\"#000000\" fill-rule=\"evenodd\" fill-opacity=\"1\" /><path clip-path=\"url(#clip860)\" d=\"M127.288 410.131 L145.644 410.131 L145.644 414.066 L131.57 414.066 L131.57 422.538 Q132.589 422.191 133.607 422.029 Q134.626 421.844 135.644 421.844 Q141.431 421.844 144.811 425.015 Q148.191 428.187 148.191 433.603 Q148.191 439.182 144.718 442.284 Q141.246 445.362 134.927 445.362 Q132.751 445.362 130.482 444.992 Q128.237 444.622 125.83 443.881 L125.83 439.182 Q127.913 440.316 130.135 440.872 Q132.357 441.427 134.834 441.427 Q138.839 441.427 141.177 439.321 Q143.515 437.214 143.515 433.603 Q143.515 429.992 141.177 427.886 Q138.839 425.779 134.834 425.779 Q132.959 425.779 131.084 426.196 Q129.232 426.613 127.288 427.492 L127.288 410.131 Z\" fill=\"#000000\" fill-rule=\"evenodd\" fill-opacity=\"1\" /><path clip-path=\"url(#clip860)\" d=\"M51.6634 101.321 L59.3023 101.321 L59.3023 74.9555 L50.9921 76.6222 L50.9921 72.3629 L59.256 70.6963 L63.9319 70.6963 L63.9319 101.321 L71.5707 101.321 L71.5707 105.256 L51.6634 105.256 L51.6634 101.321 Z\" fill=\"#000000\" fill-rule=\"evenodd\" fill-opacity=\"1\" /><path clip-path=\"url(#clip860)\" d=\"M91.0151 73.775 Q87.404 73.775 85.5753 77.3398 Q83.7697 80.8814 83.7697 88.011 Q83.7697 95.1174 85.5753 98.6822 Q87.404 102.224 91.0151 102.224 Q94.6493 102.224 96.4548 98.6822 Q98.2835 95.1174 98.2835 88.011 Q98.2835 80.8814 96.4548 77.3398 Q94.6493 73.775 91.0151 73.775 M91.0151 70.0713 Q96.8252 70.0713 99.8808 74.6777 Q102.959 79.261 102.959 88.011 Q102.959 96.7378 99.8808 101.344 Q96.8252 105.928 91.0151 105.928 Q85.2049 105.928 82.1262 101.344 Q79.0707 96.7378 79.0707 88.011 Q79.0707 79.261 82.1262 74.6777 Q85.2049 70.0713 91.0151 70.0713 Z\" fill=\"#000000\" fill-rule=\"evenodd\" fill-opacity=\"1\" /><path clip-path=\"url(#clip860)\" d=\"M111.177 99.3767 L116.061 99.3767 L116.061 105.256 L111.177 105.256 L111.177 99.3767 Z\" fill=\"#000000\" fill-rule=\"evenodd\" fill-opacity=\"1\" /><path clip-path=\"url(#clip860)\" d=\"M136.246 73.775 Q132.635 73.775 130.807 77.3398 Q129.001 80.8814 129.001 88.011 Q129.001 95.1174 130.807 98.6822 Q132.635 102.224 136.246 102.224 Q139.881 102.224 141.686 98.6822 Q143.515 95.1174 143.515 88.011 Q143.515 80.8814 141.686 77.3398 Q139.881 73.775 136.246 73.775 M136.246 70.0713 Q142.056 70.0713 145.112 74.6777 Q148.191 79.261 148.191 88.011 Q148.191 96.7378 145.112 101.344 Q142.056 105.928 136.246 105.928 Q130.436 105.928 127.357 101.344 Q124.302 96.7378 124.302 88.011 Q124.302 79.261 127.357 74.6777 Q130.436 70.0713 136.246 70.0713 Z\" fill=\"#000000\" fill-rule=\"evenodd\" fill-opacity=\"1\" /><polyline clip-path=\"url(#clip862)\" style=\"stroke:#009af9; stroke-linecap:round; stroke-linejoin:round; stroke-width:4; stroke-opacity:1; fill:none\" points=\"\n",
       "  245.565,1174.17 255.846,1174.17 266.126,1174.17 276.407,1174.17 286.687,1309.94 296.968,1309.94 307.248,1309.94 317.529,1309.94 327.809,1309.94 338.09,1309.94 \n",
       "  348.37,1309.94 358.65,1309.94 368.931,1309.94 379.211,1309.94 389.492,1309.94 399.772,1445.72 410.053,1445.72 420.333,1445.72 430.614,1445.72 440.894,1445.72 \n",
       "  451.175,1445.72 461.455,1445.72 471.736,1445.72 482.016,1445.72 492.297,1445.72 502.577,1445.72 512.858,1445.72 523.138,1445.72 533.419,1445.72 543.699,1445.72 \n",
       "  553.98,1445.72 564.26,1445.72 574.541,1445.72 584.821,1445.72 595.102,1445.72 605.382,1445.72 615.663,1445.72 625.943,1445.72 636.224,1445.72 646.504,1445.72 \n",
       "  656.785,1445.72 667.065,1445.72 677.345,1445.72 687.626,1445.72 697.906,1445.72 708.187,1445.72 718.467,1445.72 728.748,1445.72 739.028,1445.72 749.309,1445.72 \n",
       "  759.589,1445.72 769.87,1445.72 780.15,1445.72 790.431,1445.72 800.711,1445.72 810.992,1445.72 821.272,1445.72 831.553,1445.72 841.833,1445.72 852.114,1445.72 \n",
       "  862.394,1445.72 872.675,1445.72 882.955,1445.72 893.236,1445.72 903.516,1445.72 913.797,1445.72 924.077,1445.72 934.358,1445.72 944.638,1445.72 954.919,1445.72 \n",
       "  965.199,1445.72 975.48,1445.72 985.76,1445.72 996.04,1445.72 1006.32,1445.72 1016.6,1445.72 1026.88,1445.72 1037.16,1445.72 1047.44,1445.72 1057.72,1445.72 \n",
       "  1068,1445.72 1078.28,1445.72 1088.56,1445.72 1098.85,1445.72 1109.13,1445.72 1119.41,1445.72 1129.69,1445.72 1139.97,1445.72 1150.25,1445.72 1160.53,1445.72 \n",
       "  1170.81,1445.72 1181.09,1445.72 1191.37,1445.72 1201.65,1445.72 1211.93,1445.72 1222.21,1445.72 1232.49,1445.72 1242.77,1445.72 1253.05,1445.72 1263.33,1445.72 \n",
       "  1273.61,1445.72 1283.89,1445.72 1294.17,1445.72 1304.45,1445.72 1314.74,1445.72 1325.02,1445.72 1335.3,1445.72 1345.58,1445.72 1355.86,1445.72 1366.14,1445.72 \n",
       "  1376.42,1445.72 1386.7,1445.72 1396.98,1445.72 1407.26,1445.72 1417.54,1445.72 1427.82,1445.72 1438.1,1445.72 1448.38,1445.72 1458.66,1445.72 1468.94,1445.72 \n",
       "  1479.22,1445.72 1489.5,1445.72 1499.78,1445.72 1510.06,1445.72 1520.35,1445.72 1530.63,1445.72 1540.91,1445.72 1551.19,1309.94 1561.47,1309.94 1571.75,1174.17 \n",
       "  1582.03,1174.17 1592.31,1174.17 1602.59,1174.17 1612.87,1174.17 1623.15,1174.17 1633.43,1174.17 1643.71,1309.94 1653.99,1309.94 1664.27,1309.94 1674.55,1309.94 \n",
       "  1684.83,1309.94 1695.11,1309.94 1705.39,1309.94 1715.67,1309.94 1725.95,1309.94 1736.24,1309.94 1746.52,1445.72 1756.8,1445.72 1767.08,1445.72 1777.36,1445.72 \n",
       "  1787.64,1445.72 1797.92,1445.72 1808.2,1445.72 1818.48,1445.72 1828.76,1445.72 1839.04,1445.72 1849.32,1445.72 1859.6,1445.72 1869.88,1445.72 1880.16,1445.72 \n",
       "  1890.44,1445.72 1900.72,1445.72 1911,1445.72 1921.28,1445.72 1931.56,1445.72 1941.84,1445.72 1952.13,1309.94 1962.41,1309.94 1972.69,1174.17 1982.97,1174.17 \n",
       "  1993.25,1038.39 2003.53,902.62 2013.81,902.62 2024.09,902.62 2034.37,902.62 2044.65,902.62 2054.93,766.846 2065.21,766.846 2075.49,631.072 2085.77,631.072 \n",
       "  2096.05,631.072 2106.33,631.072 2116.61,631.072 2126.89,495.298 2137.17,495.298 2147.45,495.298 2157.74,495.298 2168.02,359.524 2178.3,359.524 2188.58,359.524 \n",
       "  2198.86,359.524 2209.14,223.75 2219.42,223.75 2229.7,223.75 2239.98,223.75 2250.26,223.75 2260.54,223.75 2270.82,223.75 2281.1,223.75 2291.38,87.9763 \n",
       "  \n",
       "  \"/>\n",
       "<polyline clip-path=\"url(#clip862)\" style=\"stroke:#e26f46; stroke-linecap:round; stroke-linejoin:round; stroke-width:4; stroke-opacity:1; fill:none\" points=\"\n",
       "  245.565,359.524 255.846,359.524 266.126,359.524 276.407,359.524 286.687,223.75 296.968,223.75 307.248,223.75 317.529,223.75 327.809,223.75 338.09,223.75 \n",
       "  348.37,223.75 358.65,223.75 368.931,223.75 379.211,223.75 389.492,223.75 399.772,87.9763 410.053,87.9763 420.333,87.9763 430.614,87.9763 440.894,87.9763 \n",
       "  451.175,87.9763 461.455,87.9763 471.736,87.9763 482.016,87.9763 492.297,87.9763 502.577,87.9763 512.858,87.9763 523.138,87.9763 533.419,87.9763 543.699,87.9763 \n",
       "  553.98,87.9763 564.26,87.9763 574.541,87.9763 584.821,87.9763 595.102,87.9763 605.382,87.9763 615.663,87.9763 625.943,87.9763 636.224,87.9763 646.504,87.9763 \n",
       "  656.785,87.9763 667.065,87.9763 677.345,87.9763 687.626,87.9763 697.906,87.9763 708.187,87.9763 718.467,87.9763 728.748,87.9763 739.028,87.9763 749.309,87.9763 \n",
       "  759.589,87.9763 769.87,87.9763 780.15,87.9763 790.431,87.9763 800.711,87.9763 810.992,87.9763 821.272,87.9763 831.553,87.9763 841.833,87.9763 852.114,87.9763 \n",
       "  862.394,87.9763 872.675,87.9763 882.955,87.9763 893.236,87.9763 903.516,87.9763 913.797,87.9763 924.077,87.9763 934.358,87.9763 944.638,87.9763 954.919,87.9763 \n",
       "  965.199,87.9763 975.48,87.9763 985.76,87.9763 996.04,87.9763 1006.32,87.9763 1016.6,87.9763 1026.88,87.9763 1037.16,87.9763 1047.44,87.9763 1057.72,87.9763 \n",
       "  1068,87.9763 1078.28,87.9763 1088.56,87.9763 1098.85,87.9763 1109.13,87.9763 1119.41,87.9763 1129.69,87.9763 1139.97,87.9763 1150.25,87.9763 1160.53,87.9763 \n",
       "  1170.81,87.9763 1181.09,87.9763 1191.37,87.9763 1201.65,87.9763 1211.93,87.9763 1222.21,87.9763 1232.49,87.9763 1242.77,87.9763 1253.05,87.9763 1263.33,87.9763 \n",
       "  1273.61,87.9763 1283.89,87.9763 1294.17,87.9763 1304.45,87.9763 1314.74,87.9763 1325.02,87.9763 1335.3,87.9763 1345.58,87.9763 1355.86,87.9763 1366.14,87.9763 \n",
       "  1376.42,87.9763 1386.7,87.9763 1396.98,87.9763 1407.26,87.9763 1417.54,87.9763 1427.82,87.9763 1438.1,87.9763 1448.38,87.9763 1458.66,87.9763 1468.94,87.9763 \n",
       "  1479.22,87.9763 1489.5,87.9763 1499.78,87.9763 1510.06,87.9763 1520.35,87.9763 1530.63,87.9763 1540.91,87.9763 1551.19,223.75 1561.47,223.75 1571.75,359.524 \n",
       "  1582.03,359.524 1592.31,359.524 1602.59,359.524 1612.87,359.524 1623.15,359.524 1633.43,359.524 1643.71,223.75 1653.99,223.75 1664.27,223.75 1674.55,223.75 \n",
       "  1684.83,223.75 1695.11,223.75 1705.39,223.75 1715.67,223.75 1725.95,223.75 1736.24,223.75 1746.52,87.9763 1756.8,87.9763 1767.08,87.9763 1777.36,87.9763 \n",
       "  1787.64,87.9763 1797.92,87.9763 1808.2,87.9763 1818.48,87.9763 1828.76,87.9763 1839.04,87.9763 1849.32,87.9763 1859.6,87.9763 1869.88,87.9763 1880.16,87.9763 \n",
       "  1890.44,87.9763 1900.72,87.9763 1911,87.9763 1921.28,87.9763 1931.56,87.9763 1941.84,87.9763 1952.13,223.75 1962.41,223.75 1972.69,359.524 1982.97,359.524 \n",
       "  1993.25,495.298 2003.53,631.072 2013.81,631.072 2024.09,631.072 2034.37,631.072 2044.65,631.072 2054.93,766.846 2065.21,766.846 2075.49,902.62 2085.77,902.62 \n",
       "  2096.05,902.62 2106.33,902.62 2116.61,902.62 2126.89,1038.39 2137.17,1038.39 2147.45,1038.39 2157.74,1038.39 2168.02,1174.17 2178.3,1174.17 2188.58,1174.17 \n",
       "  2198.86,1174.17 2209.14,1309.94 2219.42,1309.94 2229.7,1309.94 2239.98,1309.94 2250.26,1309.94 2260.54,1309.94 2270.82,1309.94 2281.1,1309.94 2291.38,1445.72 \n",
       "  \n",
       "  \"/>\n",
       "<path clip-path=\"url(#clip860)\" d=\"\n",
       "M1868.41 250.738 L2280.47 250.738 L2280.47 95.2176 L1868.41 95.2176  Z\n",
       "  \" fill=\"#ffffff\" fill-rule=\"evenodd\" fill-opacity=\"1\"/>\n",
       "<polyline clip-path=\"url(#clip860)\" style=\"stroke:#000000; stroke-linecap:round; stroke-linejoin:round; stroke-width:4; stroke-opacity:1; fill:none\" points=\"\n",
       "  1868.41,250.738 2280.47,250.738 2280.47,95.2176 1868.41,95.2176 1868.41,250.738 \n",
       "  \"/>\n",
       "<polyline clip-path=\"url(#clip860)\" style=\"stroke:#009af9; stroke-linecap:round; stroke-linejoin:round; stroke-width:4; stroke-opacity:1; fill:none\" points=\"\n",
       "  1892.5,147.058 2037.07,147.058 \n",
       "  \"/>\n",
       "<path clip-path=\"url(#clip860)\" d=\"M2077 134.384 L2070.66 151.583 L2083.37 151.583 L2077 134.384 M2074.36 129.778 L2079.66 129.778 L2092.83 164.338 L2087.97 164.338 L2084.83 155.472 L2069.25 155.472 L2066.1 164.338 L2061.17 164.338 L2074.36 129.778 Z\" fill=\"#000000\" fill-rule=\"evenodd\" fill-opacity=\"1\" /><path clip-path=\"url(#clip860)\" d=\"M2115.52 139.407 L2115.52 143.389 Q2113.71 142.393 2111.89 141.907 Q2110.08 141.398 2108.23 141.398 Q2104.08 141.398 2101.79 144.037 Q2099.5 146.652 2099.5 151.398 Q2099.5 156.143 2101.79 158.782 Q2104.08 161.398 2108.23 161.398 Q2110.08 161.398 2111.89 160.912 Q2113.71 160.402 2115.52 159.407 L2115.52 163.342 Q2113.74 164.176 2111.82 164.592 Q2109.92 165.009 2107.76 165.009 Q2101.91 165.009 2098.46 161.328 Q2095.01 157.648 2095.01 151.398 Q2095.01 145.055 2098.48 141.421 Q2101.98 137.787 2108.04 137.787 Q2110.01 137.787 2111.89 138.203 Q2113.76 138.597 2115.52 139.407 Z\" fill=\"#000000\" fill-rule=\"evenodd\" fill-opacity=\"1\" /><path clip-path=\"url(#clip860)\" d=\"M2127.14 131.051 L2127.14 138.412 L2135.91 138.412 L2135.91 141.722 L2127.14 141.722 L2127.14 155.796 Q2127.14 158.967 2128 159.87 Q2128.88 160.773 2131.54 160.773 L2135.91 160.773 L2135.91 164.338 L2131.54 164.338 Q2126.61 164.338 2124.73 162.509 Q2122.86 160.657 2122.86 155.796 L2122.86 141.722 L2119.73 141.722 L2119.73 138.412 L2122.86 138.412 L2122.86 131.051 L2127.14 131.051 Z\" fill=\"#000000\" fill-rule=\"evenodd\" fill-opacity=\"1\" /><path clip-path=\"url(#clip860)\" d=\"M2141.51 138.412 L2145.77 138.412 L2145.77 164.338 L2141.51 164.338 L2141.51 138.412 M2141.51 128.319 L2145.77 128.319 L2145.77 133.713 L2141.51 133.713 L2141.51 128.319 Z\" fill=\"#000000\" fill-rule=\"evenodd\" fill-opacity=\"1\" /><path clip-path=\"url(#clip860)\" d=\"M2164.73 141.398 Q2161.31 141.398 2159.32 144.083 Q2157.32 146.745 2157.32 151.398 Q2157.32 156.051 2159.29 158.736 Q2161.28 161.398 2164.73 161.398 Q2168.13 161.398 2170.13 158.713 Q2172.12 156.027 2172.12 151.398 Q2172.12 146.791 2170.13 144.106 Q2168.13 141.398 2164.73 141.398 M2164.73 137.787 Q2170.29 137.787 2173.46 141.398 Q2176.63 145.009 2176.63 151.398 Q2176.63 157.764 2173.46 161.398 Q2170.29 165.009 2164.73 165.009 Q2159.15 165.009 2155.98 161.398 Q2152.83 157.764 2152.83 151.398 Q2152.83 145.009 2155.98 141.398 Q2159.15 137.787 2164.73 137.787 Z\" fill=\"#000000\" fill-rule=\"evenodd\" fill-opacity=\"1\" /><path clip-path=\"url(#clip860)\" d=\"M2205.24 148.689 L2205.24 164.338 L2200.98 164.338 L2200.98 148.828 Q2200.98 145.148 2199.55 143.319 Q2198.11 141.49 2195.24 141.49 Q2191.79 141.49 2189.8 143.69 Q2187.81 145.889 2187.81 149.685 L2187.81 164.338 L2183.53 164.338 L2183.53 138.412 L2187.81 138.412 L2187.81 142.44 Q2189.34 140.102 2191.4 138.944 Q2193.48 137.787 2196.19 137.787 Q2200.66 137.787 2202.95 140.565 Q2205.24 143.319 2205.24 148.689 Z\" fill=\"#000000\" fill-rule=\"evenodd\" fill-opacity=\"1\" /><path clip-path=\"url(#clip860)\" d=\"M2240.54 134.384 L2234.2 151.583 L2246.91 151.583 L2240.54 134.384 M2237.9 129.778 L2243.2 129.778 L2256.38 164.338 L2251.51 164.338 L2248.37 155.472 L2232.79 155.472 L2229.64 164.338 L2224.71 164.338 L2237.9 129.778 Z\" fill=\"#000000\" fill-rule=\"evenodd\" fill-opacity=\"1\" /><polyline clip-path=\"url(#clip860)\" style=\"stroke:#e26f46; stroke-linecap:round; stroke-linejoin:round; stroke-width:4; stroke-opacity:1; fill:none\" points=\"\n",
       "  1892.5,198.898 2037.07,198.898 \n",
       "  \"/>\n",
       "<path clip-path=\"url(#clip860)\" d=\"M2077 186.224 L2070.66 203.423 L2083.37 203.423 L2077 186.224 M2074.36 181.618 L2079.66 181.618 L2092.83 216.178 L2087.97 216.178 L2084.83 207.312 L2069.25 207.312 L2066.1 216.178 L2061.17 216.178 L2074.36 181.618 Z\" fill=\"#000000\" fill-rule=\"evenodd\" fill-opacity=\"1\" /><path clip-path=\"url(#clip860)\" d=\"M2115.52 191.247 L2115.52 195.229 Q2113.71 194.233 2111.89 193.747 Q2110.08 193.238 2108.23 193.238 Q2104.08 193.238 2101.79 195.877 Q2099.5 198.492 2099.5 203.238 Q2099.5 207.983 2101.79 210.622 Q2104.08 213.238 2108.23 213.238 Q2110.08 213.238 2111.89 212.752 Q2113.71 212.242 2115.52 211.247 L2115.52 215.182 Q2113.74 216.016 2111.82 216.432 Q2109.92 216.849 2107.76 216.849 Q2101.91 216.849 2098.46 213.168 Q2095.01 209.488 2095.01 203.238 Q2095.01 196.895 2098.48 193.261 Q2101.98 189.627 2108.04 189.627 Q2110.01 189.627 2111.89 190.043 Q2113.76 190.437 2115.52 191.247 Z\" fill=\"#000000\" fill-rule=\"evenodd\" fill-opacity=\"1\" /><path clip-path=\"url(#clip860)\" d=\"M2127.14 182.891 L2127.14 190.252 L2135.91 190.252 L2135.91 193.562 L2127.14 193.562 L2127.14 207.636 Q2127.14 210.807 2128 211.71 Q2128.88 212.613 2131.54 212.613 L2135.91 212.613 L2135.91 216.178 L2131.54 216.178 Q2126.61 216.178 2124.73 214.349 Q2122.86 212.497 2122.86 207.636 L2122.86 193.562 L2119.73 193.562 L2119.73 190.252 L2122.86 190.252 L2122.86 182.891 L2127.14 182.891 Z\" fill=\"#000000\" fill-rule=\"evenodd\" fill-opacity=\"1\" /><path clip-path=\"url(#clip860)\" d=\"M2141.51 190.252 L2145.77 190.252 L2145.77 216.178 L2141.51 216.178 L2141.51 190.252 M2141.51 180.159 L2145.77 180.159 L2145.77 185.553 L2141.51 185.553 L2141.51 180.159 Z\" fill=\"#000000\" fill-rule=\"evenodd\" fill-opacity=\"1\" /><path clip-path=\"url(#clip860)\" d=\"M2164.73 193.238 Q2161.31 193.238 2159.32 195.923 Q2157.32 198.585 2157.32 203.238 Q2157.32 207.891 2159.29 210.576 Q2161.28 213.238 2164.73 213.238 Q2168.13 213.238 2170.13 210.553 Q2172.12 207.867 2172.12 203.238 Q2172.12 198.631 2170.13 195.946 Q2168.13 193.238 2164.73 193.238 M2164.73 189.627 Q2170.29 189.627 2173.46 193.238 Q2176.63 196.849 2176.63 203.238 Q2176.63 209.604 2173.46 213.238 Q2170.29 216.849 2164.73 216.849 Q2159.15 216.849 2155.98 213.238 Q2152.83 209.604 2152.83 203.238 Q2152.83 196.849 2155.98 193.238 Q2159.15 189.627 2164.73 189.627 Z\" fill=\"#000000\" fill-rule=\"evenodd\" fill-opacity=\"1\" /><path clip-path=\"url(#clip860)\" d=\"M2205.24 200.529 L2205.24 216.178 L2200.98 216.178 L2200.98 200.668 Q2200.98 196.988 2199.55 195.159 Q2198.11 193.33 2195.24 193.33 Q2191.79 193.33 2189.8 195.53 Q2187.81 197.729 2187.81 201.525 L2187.81 216.178 L2183.53 216.178 L2183.53 190.252 L2187.81 190.252 L2187.81 194.28 Q2189.34 191.942 2191.4 190.784 Q2193.48 189.627 2196.19 189.627 Q2200.66 189.627 2202.95 192.405 Q2205.24 195.159 2205.24 200.529 Z\" fill=\"#000000\" fill-rule=\"evenodd\" fill-opacity=\"1\" /><path clip-path=\"url(#clip860)\" d=\"M2233.67 199.673 L2233.67 212.335 L2241.17 212.335 Q2244.94 212.335 2246.75 210.784 Q2248.57 209.21 2248.57 205.992 Q2248.57 202.752 2246.75 201.224 Q2244.94 199.673 2241.17 199.673 L2233.67 199.673 M2233.67 185.46 L2233.67 195.877 L2240.59 195.877 Q2244.01 195.877 2245.68 194.604 Q2247.37 193.307 2247.37 190.668 Q2247.37 188.053 2245.68 186.756 Q2244.01 185.46 2240.59 185.46 L2233.67 185.46 M2228.99 181.618 L2240.94 181.618 Q2246.28 181.618 2249.18 183.84 Q2252.07 186.062 2252.07 190.159 Q2252.07 193.33 2250.59 195.205 Q2249.11 197.08 2246.24 197.543 Q2249.69 198.284 2251.58 200.645 Q2253.5 202.983 2253.5 206.502 Q2253.5 211.131 2250.36 213.654 Q2247.21 216.178 2241.4 216.178 L2228.99 216.178 L2228.99 181.618 Z\" fill=\"#000000\" fill-rule=\"evenodd\" fill-opacity=\"1\" /></svg>\n"
      ]
     },
     "execution_count": 16,
     "metadata": {},
     "output_type": "execute_result"
    }
   ],
   "source": [
    "m = 2\n",
    "x = time_series(kmr_coor, ts_length, [m, N-m])\n",
    "\n",
    "plot([x[1, :], x[2, :]], label=label_2)"
   ]
  },
  {
   "cell_type": "markdown",
   "metadata": {},
   "source": [
    "This graph shows (A,A) is the long-run equilibrium which is a risk-dominance equilibrium (if not, pick larger `ts_length`).\n",
    "\n",
    "To compare the results from best response dynamics see the above, (A,A) becomes stationary equilibrium even if the number of player who initially takes action A is small."
   ]
  },
  {
   "cell_type": "markdown",
   "metadata": {},
   "source": [
    "#### Young's Game"
   ]
  },
  {
   "cell_type": "code",
   "execution_count": 17,
   "metadata": {},
   "outputs": [
    {
     "data": {
      "text/plain": [
       "KMR{Int64}(10, 3×3 Player{2, Int64}:\n",
       " 6  0  0\n",
       " 5  7  5\n",
       " 0  5  8, 3, 0.1)"
      ]
     },
     "execution_count": 17,
     "metadata": {},
     "output_type": "execute_result"
    }
   ],
   "source": [
    "kmr_young = KMR(young_game_matrix, N, epsilon)"
   ]
  },
  {
   "cell_type": "code",
   "execution_count": 18,
   "metadata": {},
   "outputs": [
    {
     "data": {
      "image/svg+xml": [
       "<?xml version=\"1.0\" encoding=\"utf-8\"?>\n",
       "<svg xmlns=\"http://www.w3.org/2000/svg\" xmlns:xlink=\"http://www.w3.org/1999/xlink\" width=\"600\" height=\"400\" viewBox=\"0 0 2400 1600\">\n",
       "<defs>\n",
       "  <clipPath id=\"clip900\">\n",
       "    <rect x=\"0\" y=\"0\" width=\"2400\" height=\"1600\"/>\n",
       "  </clipPath>\n",
       "</defs>\n",
       "<path clip-path=\"url(#clip900)\" d=\"\n",
       "M0 1600 L2400 1600 L2400 0 L0 0  Z\n",
       "  \" fill=\"#ffffff\" fill-rule=\"evenodd\" fill-opacity=\"1\"/>\n",
       "<defs>\n",
       "  <clipPath id=\"clip901\">\n",
       "    <rect x=\"480\" y=\"0\" width=\"1681\" height=\"1600\"/>\n",
       "  </clipPath>\n",
       "</defs>\n",
       "<path clip-path=\"url(#clip900)\" d=\"\n",
       "M184.191 1486.45 L2352.76 1486.45 L2352.76 47.2441 L184.191 47.2441  Z\n",
       "  \" fill=\"#ffffff\" fill-rule=\"evenodd\" fill-opacity=\"1\"/>\n",
       "<defs>\n",
       "  <clipPath id=\"clip902\">\n",
       "    <rect x=\"184\" y=\"47\" width=\"2170\" height=\"1440\"/>\n",
       "  </clipPath>\n",
       "</defs>\n",
       "<polyline clip-path=\"url(#clip902)\" style=\"stroke:#000000; stroke-linecap:round; stroke-linejoin:round; stroke-width:2; stroke-opacity:0.1; fill:none\" points=\"\n",
       "  235.285,1486.45 235.285,47.2441 \n",
       "  \"/>\n",
       "<polyline clip-path=\"url(#clip902)\" style=\"stroke:#000000; stroke-linecap:round; stroke-linejoin:round; stroke-width:2; stroke-opacity:0.1; fill:none\" points=\"\n",
       "  749.309,1486.45 749.309,47.2441 \n",
       "  \"/>\n",
       "<polyline clip-path=\"url(#clip902)\" style=\"stroke:#000000; stroke-linecap:round; stroke-linejoin:round; stroke-width:2; stroke-opacity:0.1; fill:none\" points=\"\n",
       "  1263.33,1486.45 1263.33,47.2441 \n",
       "  \"/>\n",
       "<polyline clip-path=\"url(#clip902)\" style=\"stroke:#000000; stroke-linecap:round; stroke-linejoin:round; stroke-width:2; stroke-opacity:0.1; fill:none\" points=\"\n",
       "  1777.36,1486.45 1777.36,47.2441 \n",
       "  \"/>\n",
       "<polyline clip-path=\"url(#clip902)\" style=\"stroke:#000000; stroke-linecap:round; stroke-linejoin:round; stroke-width:2; stroke-opacity:0.1; fill:none\" points=\"\n",
       "  2291.38,1486.45 2291.38,47.2441 \n",
       "  \"/>\n",
       "<polyline clip-path=\"url(#clip900)\" style=\"stroke:#000000; stroke-linecap:round; stroke-linejoin:round; stroke-width:4; stroke-opacity:1; fill:none\" points=\"\n",
       "  184.191,1486.45 2352.76,1486.45 \n",
       "  \"/>\n",
       "<polyline clip-path=\"url(#clip900)\" style=\"stroke:#000000; stroke-linecap:round; stroke-linejoin:round; stroke-width:4; stroke-opacity:1; fill:none\" points=\"\n",
       "  235.285,1486.45 235.285,1467.55 \n",
       "  \"/>\n",
       "<polyline clip-path=\"url(#clip900)\" style=\"stroke:#000000; stroke-linecap:round; stroke-linejoin:round; stroke-width:4; stroke-opacity:1; fill:none\" points=\"\n",
       "  749.309,1486.45 749.309,1467.55 \n",
       "  \"/>\n",
       "<polyline clip-path=\"url(#clip900)\" style=\"stroke:#000000; stroke-linecap:round; stroke-linejoin:round; stroke-width:4; stroke-opacity:1; fill:none\" points=\"\n",
       "  1263.33,1486.45 1263.33,1467.55 \n",
       "  \"/>\n",
       "<polyline clip-path=\"url(#clip900)\" style=\"stroke:#000000; stroke-linecap:round; stroke-linejoin:round; stroke-width:4; stroke-opacity:1; fill:none\" points=\"\n",
       "  1777.36,1486.45 1777.36,1467.55 \n",
       "  \"/>\n",
       "<polyline clip-path=\"url(#clip900)\" style=\"stroke:#000000; stroke-linecap:round; stroke-linejoin:round; stroke-width:4; stroke-opacity:1; fill:none\" points=\"\n",
       "  2291.38,1486.45 2291.38,1467.55 \n",
       "  \"/>\n",
       "<path clip-path=\"url(#clip900)\" d=\"M235.285 1517.37 Q231.674 1517.37 229.845 1520.93 Q228.039 1524.47 228.039 1531.6 Q228.039 1538.71 229.845 1542.27 Q231.674 1545.82 235.285 1545.82 Q238.919 1545.82 240.724 1542.27 Q242.553 1538.71 242.553 1531.6 Q242.553 1524.47 240.724 1520.93 Q238.919 1517.37 235.285 1517.37 M235.285 1513.66 Q241.095 1513.66 244.15 1518.27 Q247.229 1522.85 247.229 1531.6 Q247.229 1540.33 244.15 1544.94 Q241.095 1549.52 235.285 1549.52 Q229.475 1549.52 226.396 1544.94 Q223.34 1540.33 223.34 1531.6 Q223.34 1522.85 226.396 1518.27 Q229.475 1513.66 235.285 1513.66 Z\" fill=\"#000000\" fill-rule=\"evenodd\" fill-opacity=\"1\" /><path clip-path=\"url(#clip900)\" d=\"M724.008 1514.29 L742.364 1514.29 L742.364 1518.22 L728.29 1518.22 L728.29 1526.7 Q729.309 1526.35 730.327 1526.19 Q731.346 1526 732.365 1526 Q738.152 1526 741.531 1529.17 Q744.911 1532.34 744.911 1537.76 Q744.911 1543.34 741.439 1546.44 Q737.966 1549.52 731.647 1549.52 Q729.471 1549.52 727.203 1549.15 Q724.957 1548.78 722.55 1548.04 L722.55 1543.34 Q724.633 1544.47 726.855 1545.03 Q729.077 1545.58 731.554 1545.58 Q735.559 1545.58 737.897 1543.48 Q740.235 1541.37 740.235 1537.76 Q740.235 1534.15 737.897 1532.04 Q735.559 1529.94 731.554 1529.94 Q729.679 1529.94 727.804 1530.35 Q725.953 1530.77 724.008 1531.65 L724.008 1514.29 Z\" fill=\"#000000\" fill-rule=\"evenodd\" fill-opacity=\"1\" /><path clip-path=\"url(#clip900)\" d=\"M764.124 1517.37 Q760.513 1517.37 758.684 1520.93 Q756.878 1524.47 756.878 1531.6 Q756.878 1538.71 758.684 1542.27 Q760.513 1545.82 764.124 1545.82 Q767.758 1545.82 769.563 1542.27 Q771.392 1538.71 771.392 1531.6 Q771.392 1524.47 769.563 1520.93 Q767.758 1517.37 764.124 1517.37 M764.124 1513.66 Q769.934 1513.66 772.989 1518.27 Q776.068 1522.85 776.068 1531.6 Q776.068 1540.33 772.989 1544.94 Q769.934 1549.52 764.124 1549.52 Q758.313 1549.52 755.235 1544.94 Q752.179 1540.33 752.179 1531.6 Q752.179 1522.85 755.235 1518.27 Q758.313 1513.66 764.124 1513.66 Z\" fill=\"#000000\" fill-rule=\"evenodd\" fill-opacity=\"1\" /><path clip-path=\"url(#clip900)\" d=\"M1222.94 1544.91 L1230.58 1544.91 L1230.58 1518.55 L1222.27 1520.21 L1222.27 1515.95 L1230.53 1514.29 L1235.21 1514.29 L1235.21 1544.91 L1242.85 1544.91 L1242.85 1548.85 L1222.94 1548.85 L1222.94 1544.91 Z\" fill=\"#000000\" fill-rule=\"evenodd\" fill-opacity=\"1\" /><path clip-path=\"url(#clip900)\" d=\"M1262.29 1517.37 Q1258.68 1517.37 1256.85 1520.93 Q1255.05 1524.47 1255.05 1531.6 Q1255.05 1538.71 1256.85 1542.27 Q1258.68 1545.82 1262.29 1545.82 Q1265.93 1545.82 1267.73 1542.27 Q1269.56 1538.71 1269.56 1531.6 Q1269.56 1524.47 1267.73 1520.93 Q1265.93 1517.37 1262.29 1517.37 M1262.29 1513.66 Q1268.1 1513.66 1271.16 1518.27 Q1274.24 1522.85 1274.24 1531.6 Q1274.24 1540.33 1271.16 1544.94 Q1268.1 1549.52 1262.29 1549.52 Q1256.48 1549.52 1253.4 1544.94 Q1250.35 1540.33 1250.35 1531.6 Q1250.35 1522.85 1253.4 1518.27 Q1256.48 1513.66 1262.29 1513.66 Z\" fill=\"#000000\" fill-rule=\"evenodd\" fill-opacity=\"1\" /><path clip-path=\"url(#clip900)\" d=\"M1292.45 1517.37 Q1288.84 1517.37 1287.01 1520.93 Q1285.21 1524.47 1285.21 1531.6 Q1285.21 1538.71 1287.01 1542.27 Q1288.84 1545.82 1292.45 1545.82 Q1296.09 1545.82 1297.89 1542.27 Q1299.72 1538.71 1299.72 1531.6 Q1299.72 1524.47 1297.89 1520.93 Q1296.09 1517.37 1292.45 1517.37 M1292.45 1513.66 Q1298.26 1513.66 1301.32 1518.27 Q1304.4 1522.85 1304.4 1531.6 Q1304.4 1540.33 1301.32 1544.94 Q1298.26 1549.52 1292.45 1549.52 Q1286.64 1549.52 1283.56 1544.94 Q1280.51 1540.33 1280.51 1531.6 Q1280.51 1522.85 1283.56 1518.27 Q1286.64 1513.66 1292.45 1513.66 Z\" fill=\"#000000\" fill-rule=\"evenodd\" fill-opacity=\"1\" /><path clip-path=\"url(#clip900)\" d=\"M1736.96 1544.91 L1744.6 1544.91 L1744.6 1518.55 L1736.29 1520.21 L1736.29 1515.95 L1744.56 1514.29 L1749.23 1514.29 L1749.23 1544.91 L1756.87 1544.91 L1756.87 1548.85 L1736.96 1548.85 L1736.96 1544.91 Z\" fill=\"#000000\" fill-rule=\"evenodd\" fill-opacity=\"1\" /><path clip-path=\"url(#clip900)\" d=\"M1766.36 1514.29 L1784.72 1514.29 L1784.72 1518.22 L1770.64 1518.22 L1770.64 1526.7 Q1771.66 1526.35 1772.68 1526.19 Q1773.7 1526 1774.72 1526 Q1780.51 1526 1783.88 1529.17 Q1787.26 1532.34 1787.26 1537.76 Q1787.26 1543.34 1783.79 1546.44 Q1780.32 1549.52 1774 1549.52 Q1771.82 1549.52 1769.56 1549.15 Q1767.31 1548.78 1764.9 1548.04 L1764.9 1543.34 Q1766.99 1544.47 1769.21 1545.03 Q1771.43 1545.58 1773.91 1545.58 Q1777.91 1545.58 1780.25 1543.48 Q1782.59 1541.37 1782.59 1537.76 Q1782.59 1534.15 1780.25 1532.04 Q1777.91 1529.94 1773.91 1529.94 Q1772.03 1529.94 1770.16 1530.35 Q1768.31 1530.77 1766.36 1531.65 L1766.36 1514.29 Z\" fill=\"#000000\" fill-rule=\"evenodd\" fill-opacity=\"1\" /><path clip-path=\"url(#clip900)\" d=\"M1806.48 1517.37 Q1802.87 1517.37 1801.04 1520.93 Q1799.23 1524.47 1799.23 1531.6 Q1799.23 1538.71 1801.04 1542.27 Q1802.87 1545.82 1806.48 1545.82 Q1810.11 1545.82 1811.92 1542.27 Q1813.75 1538.71 1813.75 1531.6 Q1813.75 1524.47 1811.92 1520.93 Q1810.11 1517.37 1806.48 1517.37 M1806.48 1513.66 Q1812.29 1513.66 1815.34 1518.27 Q1818.42 1522.85 1818.42 1531.6 Q1818.42 1540.33 1815.34 1544.94 Q1812.29 1549.52 1806.48 1549.52 Q1800.67 1549.52 1797.59 1544.94 Q1794.53 1540.33 1794.53 1531.6 Q1794.53 1522.85 1797.59 1518.27 Q1800.67 1513.66 1806.48 1513.66 Z\" fill=\"#000000\" fill-rule=\"evenodd\" fill-opacity=\"1\" /><path clip-path=\"url(#clip900)\" d=\"M2255.07 1544.91 L2271.39 1544.91 L2271.39 1548.85 L2249.45 1548.85 L2249.45 1544.91 Q2252.11 1542.16 2256.69 1537.53 Q2261.3 1532.88 2262.48 1531.53 Q2264.73 1529.01 2265.61 1527.27 Q2266.51 1525.51 2266.51 1523.82 Q2266.51 1521.07 2264.56 1519.33 Q2262.64 1517.6 2259.54 1517.6 Q2257.34 1517.6 2254.89 1518.36 Q2252.46 1519.13 2249.68 1520.68 L2249.68 1515.95 Q2252.5 1514.82 2254.96 1514.24 Q2257.41 1513.66 2259.45 1513.66 Q2264.82 1513.66 2268.01 1516.35 Q2271.21 1519.03 2271.21 1523.52 Q2271.21 1525.65 2270.4 1527.57 Q2269.61 1529.47 2267.5 1532.07 Q2266.93 1532.74 2263.82 1535.95 Q2260.72 1539.15 2255.07 1544.91 Z\" fill=\"#000000\" fill-rule=\"evenodd\" fill-opacity=\"1\" /><path clip-path=\"url(#clip900)\" d=\"M2291.21 1517.37 Q2287.6 1517.37 2285.77 1520.93 Q2283.96 1524.47 2283.96 1531.6 Q2283.96 1538.71 2285.77 1542.27 Q2287.6 1545.82 2291.21 1545.82 Q2294.84 1545.82 2296.65 1542.27 Q2298.48 1538.71 2298.48 1531.6 Q2298.48 1524.47 2296.65 1520.93 Q2294.84 1517.37 2291.21 1517.37 M2291.21 1513.66 Q2297.02 1513.66 2300.07 1518.27 Q2303.15 1522.85 2303.15 1531.6 Q2303.15 1540.33 2300.07 1544.94 Q2297.02 1549.52 2291.21 1549.52 Q2285.4 1549.52 2282.32 1544.94 Q2279.26 1540.33 2279.26 1531.6 Q2279.26 1522.85 2282.32 1518.27 Q2285.4 1513.66 2291.21 1513.66 Z\" fill=\"#000000\" fill-rule=\"evenodd\" fill-opacity=\"1\" /><path clip-path=\"url(#clip900)\" d=\"M2321.37 1517.37 Q2317.76 1517.37 2315.93 1520.93 Q2314.12 1524.47 2314.12 1531.6 Q2314.12 1538.71 2315.93 1542.27 Q2317.76 1545.82 2321.37 1545.82 Q2325 1545.82 2326.81 1542.27 Q2328.64 1538.71 2328.64 1531.6 Q2328.64 1524.47 2326.81 1520.93 Q2325 1517.37 2321.37 1517.37 M2321.37 1513.66 Q2327.18 1513.66 2330.24 1518.27 Q2333.31 1522.85 2333.31 1531.6 Q2333.31 1540.33 2330.24 1544.94 Q2327.18 1549.52 2321.37 1549.52 Q2315.56 1549.52 2312.48 1544.94 Q2309.43 1540.33 2309.43 1531.6 Q2309.43 1522.85 2312.48 1518.27 Q2315.56 1513.66 2321.37 1513.66 Z\" fill=\"#000000\" fill-rule=\"evenodd\" fill-opacity=\"1\" /><polyline clip-path=\"url(#clip902)\" style=\"stroke:#000000; stroke-linecap:round; stroke-linejoin:round; stroke-width:2; stroke-opacity:0.1; fill:none\" points=\"\n",
       "  184.191,1445.72 2352.76,1445.72 \n",
       "  \"/>\n",
       "<polyline clip-path=\"url(#clip902)\" style=\"stroke:#000000; stroke-linecap:round; stroke-linejoin:round; stroke-width:2; stroke-opacity:0.1; fill:none\" points=\"\n",
       "  184.191,1106.28 2352.76,1106.28 \n",
       "  \"/>\n",
       "<polyline clip-path=\"url(#clip902)\" style=\"stroke:#000000; stroke-linecap:round; stroke-linejoin:round; stroke-width:2; stroke-opacity:0.1; fill:none\" points=\"\n",
       "  184.191,766.846 2352.76,766.846 \n",
       "  \"/>\n",
       "<polyline clip-path=\"url(#clip902)\" style=\"stroke:#000000; stroke-linecap:round; stroke-linejoin:round; stroke-width:2; stroke-opacity:0.1; fill:none\" points=\"\n",
       "  184.191,427.411 2352.76,427.411 \n",
       "  \"/>\n",
       "<polyline clip-path=\"url(#clip902)\" style=\"stroke:#000000; stroke-linecap:round; stroke-linejoin:round; stroke-width:2; stroke-opacity:0.1; fill:none\" points=\"\n",
       "  184.191,87.9763 2352.76,87.9763 \n",
       "  \"/>\n",
       "<polyline clip-path=\"url(#clip900)\" style=\"stroke:#000000; stroke-linecap:round; stroke-linejoin:round; stroke-width:4; stroke-opacity:1; fill:none\" points=\"\n",
       "  184.191,1486.45 184.191,47.2441 \n",
       "  \"/>\n",
       "<polyline clip-path=\"url(#clip900)\" style=\"stroke:#000000; stroke-linecap:round; stroke-linejoin:round; stroke-width:4; stroke-opacity:1; fill:none\" points=\"\n",
       "  184.191,1445.72 203.088,1445.72 \n",
       "  \"/>\n",
       "<polyline clip-path=\"url(#clip900)\" style=\"stroke:#000000; stroke-linecap:round; stroke-linejoin:round; stroke-width:4; stroke-opacity:1; fill:none\" points=\"\n",
       "  184.191,1106.28 203.088,1106.28 \n",
       "  \"/>\n",
       "<polyline clip-path=\"url(#clip900)\" style=\"stroke:#000000; stroke-linecap:round; stroke-linejoin:round; stroke-width:4; stroke-opacity:1; fill:none\" points=\"\n",
       "  184.191,766.846 203.088,766.846 \n",
       "  \"/>\n",
       "<polyline clip-path=\"url(#clip900)\" style=\"stroke:#000000; stroke-linecap:round; stroke-linejoin:round; stroke-width:4; stroke-opacity:1; fill:none\" points=\"\n",
       "  184.191,427.411 203.088,427.411 \n",
       "  \"/>\n",
       "<polyline clip-path=\"url(#clip900)\" style=\"stroke:#000000; stroke-linecap:round; stroke-linejoin:round; stroke-width:4; stroke-opacity:1; fill:none\" points=\"\n",
       "  184.191,87.9763 203.088,87.9763 \n",
       "  \"/>\n",
       "<path clip-path=\"url(#clip900)\" d=\"M91.0151 1431.51 Q87.404 1431.51 85.5753 1435.08 Q83.7697 1438.62 83.7697 1445.75 Q83.7697 1452.86 85.5753 1456.42 Q87.404 1459.96 91.0151 1459.96 Q94.6493 1459.96 96.4548 1456.42 Q98.2835 1452.86 98.2835 1445.75 Q98.2835 1438.62 96.4548 1435.08 Q94.6493 1431.51 91.0151 1431.51 M91.0151 1427.81 Q96.8252 1427.81 99.8808 1432.42 Q102.959 1437 102.959 1445.75 Q102.959 1454.48 99.8808 1459.08 Q96.8252 1463.67 91.0151 1463.67 Q85.2049 1463.67 82.1262 1459.08 Q79.0707 1454.48 79.0707 1445.75 Q79.0707 1437 82.1262 1432.42 Q85.2049 1427.81 91.0151 1427.81 Z\" fill=\"#000000\" fill-rule=\"evenodd\" fill-opacity=\"1\" /><path clip-path=\"url(#clip900)\" d=\"M111.177 1457.12 L116.061 1457.12 L116.061 1463 L111.177 1463 L111.177 1457.12 Z\" fill=\"#000000\" fill-rule=\"evenodd\" fill-opacity=\"1\" /><path clip-path=\"url(#clip900)\" d=\"M136.246 1431.51 Q132.635 1431.51 130.807 1435.08 Q129.001 1438.62 129.001 1445.75 Q129.001 1452.86 130.807 1456.42 Q132.635 1459.96 136.246 1459.96 Q139.881 1459.96 141.686 1456.42 Q143.515 1452.86 143.515 1445.75 Q143.515 1438.62 141.686 1435.08 Q139.881 1431.51 136.246 1431.51 M136.246 1427.81 Q142.056 1427.81 145.112 1432.42 Q148.191 1437 148.191 1445.75 Q148.191 1454.48 145.112 1459.08 Q142.056 1463.67 136.246 1463.67 Q130.436 1463.67 127.357 1459.08 Q124.302 1454.48 124.302 1445.75 Q124.302 1437 127.357 1432.42 Q130.436 1427.81 136.246 1427.81 Z\" fill=\"#000000\" fill-rule=\"evenodd\" fill-opacity=\"1\" /><path clip-path=\"url(#clip900)\" d=\"M86.0382 1119.63 L102.358 1119.63 L102.358 1123.56 L80.4133 1123.56 L80.4133 1119.63 Q83.0753 1116.87 87.6586 1112.24 Q92.2651 1107.59 93.4456 1106.25 Q95.691 1103.72 96.5706 1101.99 Q97.4734 1100.23 97.4734 1098.54 Q97.4734 1095.78 95.5289 1094.05 Q93.6076 1092.31 90.5058 1092.31 Q88.3067 1092.31 85.8531 1093.07 Q83.4225 1093.84 80.6447 1095.39 L80.6447 1090.67 Q83.4688 1089.53 85.9225 1088.95 Q88.3762 1088.38 90.4132 1088.38 Q95.7836 1088.38 98.978 1091.06 Q102.172 1093.75 102.172 1098.24 Q102.172 1100.37 101.362 1102.29 Q100.575 1104.19 98.4687 1106.78 Q97.89 1107.45 94.7882 1110.67 Q91.6864 1113.86 86.0382 1119.63 Z\" fill=\"#000000\" fill-rule=\"evenodd\" fill-opacity=\"1\" /><path clip-path=\"url(#clip900)\" d=\"M112.172 1117.68 L117.057 1117.68 L117.057 1123.56 L112.172 1123.56 L112.172 1117.68 Z\" fill=\"#000000\" fill-rule=\"evenodd\" fill-opacity=\"1\" /><path clip-path=\"url(#clip900)\" d=\"M127.288 1089 L145.644 1089 L145.644 1092.94 L131.57 1092.94 L131.57 1101.41 Q132.589 1101.06 133.607 1100.9 Q134.626 1100.71 135.644 1100.71 Q141.431 1100.71 144.811 1103.89 Q148.191 1107.06 148.191 1112.47 Q148.191 1118.05 144.718 1121.15 Q141.246 1124.23 134.927 1124.23 Q132.751 1124.23 130.482 1123.86 Q128.237 1123.49 125.83 1122.75 L125.83 1118.05 Q127.913 1119.19 130.135 1119.74 Q132.357 1120.3 134.834 1120.3 Q138.839 1120.3 141.177 1118.19 Q143.515 1116.08 143.515 1112.47 Q143.515 1108.86 141.177 1106.76 Q138.839 1104.65 134.834 1104.65 Q132.959 1104.65 131.084 1105.07 Q129.232 1105.48 127.288 1106.36 L127.288 1089 Z\" fill=\"#000000\" fill-rule=\"evenodd\" fill-opacity=\"1\" /><path clip-path=\"url(#clip900)\" d=\"M81.0614 749.566 L99.4178 749.566 L99.4178 753.501 L85.3438 753.501 L85.3438 761.973 Q86.3623 761.626 87.3808 761.464 Q88.3993 761.279 89.4178 761.279 Q95.2049 761.279 98.5845 764.45 Q101.964 767.621 101.964 773.038 Q101.964 778.617 98.4919 781.719 Q95.0197 784.797 88.7003 784.797 Q86.5243 784.797 84.2558 784.427 Q82.0105 784.057 79.6031 783.316 L79.6031 778.617 Q81.6864 779.751 83.9086 780.307 Q86.1308 780.862 88.6077 780.862 Q92.6123 780.862 94.9502 778.756 Q97.2882 776.649 97.2882 773.038 Q97.2882 769.427 94.9502 767.321 Q92.6123 765.214 88.6077 765.214 Q86.7327 765.214 84.8577 765.631 Q83.0058 766.047 81.0614 766.927 L81.0614 749.566 Z\" fill=\"#000000\" fill-rule=\"evenodd\" fill-opacity=\"1\" /><path clip-path=\"url(#clip900)\" d=\"M111.177 778.246 L116.061 778.246 L116.061 784.126 L111.177 784.126 L111.177 778.246 Z\" fill=\"#000000\" fill-rule=\"evenodd\" fill-opacity=\"1\" /><path clip-path=\"url(#clip900)\" d=\"M136.246 752.645 Q132.635 752.645 130.807 756.209 Q129.001 759.751 129.001 766.881 Q129.001 773.987 130.807 777.552 Q132.635 781.094 136.246 781.094 Q139.881 781.094 141.686 777.552 Q143.515 773.987 143.515 766.881 Q143.515 759.751 141.686 756.209 Q139.881 752.645 136.246 752.645 M136.246 748.941 Q142.056 748.941 145.112 753.547 Q148.191 758.131 148.191 766.881 Q148.191 775.608 145.112 780.214 Q142.056 784.797 136.246 784.797 Q130.436 784.797 127.357 780.214 Q124.302 775.608 124.302 766.881 Q124.302 758.131 127.357 753.547 Q130.436 748.941 136.246 748.941 Z\" fill=\"#000000\" fill-rule=\"evenodd\" fill-opacity=\"1\" /><path clip-path=\"url(#clip900)\" d=\"M80.8299 410.131 L103.052 410.131 L103.052 412.122 L90.5058 444.691 L85.6216 444.691 L97.4271 414.066 L80.8299 414.066 L80.8299 410.131 Z\" fill=\"#000000\" fill-rule=\"evenodd\" fill-opacity=\"1\" /><path clip-path=\"url(#clip900)\" d=\"M112.172 438.812 L117.057 438.812 L117.057 444.691 L112.172 444.691 L112.172 438.812 Z\" fill=\"#000000\" fill-rule=\"evenodd\" fill-opacity=\"1\" /><path clip-path=\"url(#clip900)\" d=\"M127.288 410.131 L145.644 410.131 L145.644 414.066 L131.57 414.066 L131.57 422.538 Q132.589 422.191 133.607 422.029 Q134.626 421.844 135.644 421.844 Q141.431 421.844 144.811 425.015 Q148.191 428.187 148.191 433.603 Q148.191 439.182 144.718 442.284 Q141.246 445.362 134.927 445.362 Q132.751 445.362 130.482 444.992 Q128.237 444.622 125.83 443.881 L125.83 439.182 Q127.913 440.316 130.135 440.872 Q132.357 441.427 134.834 441.427 Q138.839 441.427 141.177 439.321 Q143.515 437.214 143.515 433.603 Q143.515 429.992 141.177 427.886 Q138.839 425.779 134.834 425.779 Q132.959 425.779 131.084 426.196 Q129.232 426.613 127.288 427.492 L127.288 410.131 Z\" fill=\"#000000\" fill-rule=\"evenodd\" fill-opacity=\"1\" /><path clip-path=\"url(#clip900)\" d=\"M51.6634 101.321 L59.3023 101.321 L59.3023 74.9555 L50.9921 76.6222 L50.9921 72.3629 L59.256 70.6963 L63.9319 70.6963 L63.9319 101.321 L71.5707 101.321 L71.5707 105.256 L51.6634 105.256 L51.6634 101.321 Z\" fill=\"#000000\" fill-rule=\"evenodd\" fill-opacity=\"1\" /><path clip-path=\"url(#clip900)\" d=\"M91.0151 73.775 Q87.404 73.775 85.5753 77.3398 Q83.7697 80.8814 83.7697 88.011 Q83.7697 95.1174 85.5753 98.6822 Q87.404 102.224 91.0151 102.224 Q94.6493 102.224 96.4548 98.6822 Q98.2835 95.1174 98.2835 88.011 Q98.2835 80.8814 96.4548 77.3398 Q94.6493 73.775 91.0151 73.775 M91.0151 70.0713 Q96.8252 70.0713 99.8808 74.6777 Q102.959 79.261 102.959 88.011 Q102.959 96.7378 99.8808 101.344 Q96.8252 105.928 91.0151 105.928 Q85.2049 105.928 82.1262 101.344 Q79.0707 96.7378 79.0707 88.011 Q79.0707 79.261 82.1262 74.6777 Q85.2049 70.0713 91.0151 70.0713 Z\" fill=\"#000000\" fill-rule=\"evenodd\" fill-opacity=\"1\" /><path clip-path=\"url(#clip900)\" d=\"M111.177 99.3767 L116.061 99.3767 L116.061 105.256 L111.177 105.256 L111.177 99.3767 Z\" fill=\"#000000\" fill-rule=\"evenodd\" fill-opacity=\"1\" /><path clip-path=\"url(#clip900)\" d=\"M136.246 73.775 Q132.635 73.775 130.807 77.3398 Q129.001 80.8814 129.001 88.011 Q129.001 95.1174 130.807 98.6822 Q132.635 102.224 136.246 102.224 Q139.881 102.224 141.686 98.6822 Q143.515 95.1174 143.515 88.011 Q143.515 80.8814 141.686 77.3398 Q139.881 73.775 136.246 73.775 M136.246 70.0713 Q142.056 70.0713 145.112 74.6777 Q148.191 79.261 148.191 88.011 Q148.191 96.7378 145.112 101.344 Q142.056 105.928 136.246 105.928 Q130.436 105.928 127.357 101.344 Q124.302 96.7378 124.302 88.011 Q124.302 79.261 127.357 74.6777 Q130.436 70.0713 136.246 70.0713 Z\" fill=\"#000000\" fill-rule=\"evenodd\" fill-opacity=\"1\" /><polyline clip-path=\"url(#clip902)\" style=\"stroke:#009af9; stroke-linecap:round; stroke-linejoin:round; stroke-width:4; stroke-opacity:1; fill:none\" points=\"\n",
       "  245.565,631.072 255.846,766.846 266.126,766.846 276.407,766.846 286.687,766.846 296.968,766.846 307.248,902.62 317.529,902.62 327.809,902.62 338.09,1038.39 \n",
       "  348.37,1174.17 358.65,1174.17 368.931,1174.17 379.211,1174.17 389.492,1309.94 399.772,1309.94 410.053,1309.94 420.333,1309.94 430.614,1309.94 440.894,1309.94 \n",
       "  451.175,1445.72 461.455,1445.72 471.736,1445.72 482.016,1445.72 492.297,1445.72 502.577,1445.72 512.858,1445.72 523.138,1445.72 533.419,1445.72 543.699,1445.72 \n",
       "  553.98,1445.72 564.26,1445.72 574.541,1445.72 584.821,1445.72 595.102,1445.72 605.382,1445.72 615.663,1445.72 625.943,1445.72 636.224,1445.72 646.504,1445.72 \n",
       "  656.785,1445.72 667.065,1445.72 677.345,1445.72 687.626,1445.72 697.906,1445.72 708.187,1445.72 718.467,1445.72 728.748,1445.72 739.028,1445.72 749.309,1445.72 \n",
       "  759.589,1445.72 769.87,1445.72 780.15,1445.72 790.431,1445.72 800.711,1309.94 810.992,1309.94 821.272,1309.94 831.553,1309.94 841.833,1174.17 852.114,1174.17 \n",
       "  862.394,1309.94 872.675,1309.94 882.955,1309.94 893.236,1309.94 903.516,1309.94 913.797,1309.94 924.077,1309.94 934.358,1309.94 944.638,1309.94 954.919,1309.94 \n",
       "  965.199,1309.94 975.48,1309.94 985.76,1309.94 996.04,1309.94 1006.32,1309.94 1016.6,1309.94 1026.88,1309.94 1037.16,1445.72 1047.44,1445.72 1057.72,1445.72 \n",
       "  1068,1445.72 1078.28,1445.72 1088.56,1445.72 1098.85,1445.72 1109.13,1445.72 1119.41,1445.72 1129.69,1445.72 1139.97,1445.72 1150.25,1445.72 1160.53,1445.72 \n",
       "  1170.81,1445.72 1181.09,1445.72 1191.37,1445.72 1201.65,1445.72 1211.93,1445.72 1222.21,1445.72 1232.49,1445.72 1242.77,1445.72 1253.05,1445.72 1263.33,1309.94 \n",
       "  1273.61,1309.94 1283.89,1309.94 1294.17,1309.94 1304.45,1445.72 1314.74,1445.72 1325.02,1445.72 1335.3,1445.72 1345.58,1445.72 1355.86,1445.72 1366.14,1445.72 \n",
       "  1376.42,1445.72 1386.7,1445.72 1396.98,1445.72 1407.26,1445.72 1417.54,1445.72 1427.82,1445.72 1438.1,1445.72 1448.38,1445.72 1458.66,1445.72 1468.94,1445.72 \n",
       "  1479.22,1445.72 1489.5,1445.72 1499.78,1445.72 1510.06,1445.72 1520.35,1445.72 1530.63,1445.72 1540.91,1445.72 1551.19,1445.72 1561.47,1445.72 1571.75,1445.72 \n",
       "  1582.03,1445.72 1592.31,1445.72 1602.59,1445.72 1612.87,1445.72 1623.15,1445.72 1633.43,1445.72 1643.71,1445.72 1653.99,1445.72 1664.27,1445.72 1674.55,1445.72 \n",
       "  1684.83,1445.72 1695.11,1445.72 1705.39,1445.72 1715.67,1445.72 1725.95,1445.72 1736.24,1445.72 1746.52,1445.72 1756.8,1445.72 1767.08,1445.72 1777.36,1445.72 \n",
       "  1787.64,1445.72 1797.92,1445.72 1808.2,1445.72 1818.48,1445.72 1828.76,1445.72 1839.04,1445.72 1849.32,1445.72 1859.6,1445.72 1869.88,1445.72 1880.16,1445.72 \n",
       "  1890.44,1445.72 1900.72,1445.72 1911,1445.72 1921.28,1445.72 1931.56,1445.72 1941.84,1445.72 1952.13,1445.72 1962.41,1445.72 1972.69,1309.94 1982.97,1309.94 \n",
       "  1993.25,1309.94 2003.53,1445.72 2013.81,1445.72 2024.09,1445.72 2034.37,1445.72 2044.65,1445.72 2054.93,1445.72 2065.21,1445.72 2075.49,1445.72 2085.77,1445.72 \n",
       "  2096.05,1445.72 2106.33,1445.72 2116.61,1445.72 2126.89,1445.72 2137.17,1445.72 2147.45,1445.72 2157.74,1445.72 2168.02,1445.72 2178.3,1445.72 2188.58,1445.72 \n",
       "  2198.86,1445.72 2209.14,1445.72 2219.42,1445.72 2229.7,1445.72 2239.98,1445.72 2250.26,1445.72 2260.54,1445.72 2270.82,1445.72 2281.1,1445.72 2291.38,1445.72 \n",
       "  \n",
       "  \"/>\n",
       "<polyline clip-path=\"url(#clip902)\" style=\"stroke:#e26f46; stroke-linecap:round; stroke-linejoin:round; stroke-width:4; stroke-opacity:1; fill:none\" points=\"\n",
       "  245.565,1174.17 255.846,1038.39 266.126,1038.39 276.407,902.62 286.687,766.846 296.968,766.846 307.248,631.072 317.529,631.072 327.809,631.072 338.09,495.298 \n",
       "  348.37,359.524 358.65,359.524 368.931,359.524 379.211,359.524 389.492,223.75 399.772,223.75 410.053,223.75 420.333,223.75 430.614,223.75 440.894,223.75 \n",
       "  451.175,87.9763 461.455,87.9763 471.736,87.9763 482.016,87.9763 492.297,87.9763 502.577,87.9763 512.858,87.9763 523.138,87.9763 533.419,87.9763 543.699,87.9763 \n",
       "  553.98,87.9763 564.26,87.9763 574.541,87.9763 584.821,87.9763 595.102,87.9763 605.382,87.9763 615.663,87.9763 625.943,87.9763 636.224,87.9763 646.504,87.9763 \n",
       "  656.785,87.9763 667.065,87.9763 677.345,87.9763 687.626,87.9763 697.906,87.9763 708.187,87.9763 718.467,87.9763 728.748,87.9763 739.028,223.75 749.309,223.75 \n",
       "  759.589,223.75 769.87,223.75 780.15,223.75 790.431,223.75 800.711,359.524 810.992,359.524 821.272,223.75 831.553,359.524 841.833,495.298 852.114,495.298 \n",
       "  862.394,495.298 872.675,495.298 882.955,495.298 893.236,495.298 903.516,495.298 913.797,495.298 924.077,495.298 934.358,495.298 944.638,495.298 954.919,495.298 \n",
       "  965.199,359.524 975.48,223.75 985.76,223.75 996.04,223.75 1006.32,223.75 1016.6,359.524 1026.88,359.524 1037.16,223.75 1047.44,223.75 1057.72,223.75 \n",
       "  1068,223.75 1078.28,223.75 1088.56,223.75 1098.85,223.75 1109.13,223.75 1119.41,223.75 1129.69,223.75 1139.97,223.75 1150.25,223.75 1160.53,223.75 \n",
       "  1170.81,223.75 1181.09,223.75 1191.37,223.75 1201.65,87.9763 1211.93,87.9763 1222.21,87.9763 1232.49,87.9763 1242.77,87.9763 1253.05,87.9763 1263.33,223.75 \n",
       "  1273.61,223.75 1283.89,223.75 1294.17,223.75 1304.45,87.9763 1314.74,87.9763 1325.02,87.9763 1335.3,87.9763 1345.58,87.9763 1355.86,87.9763 1366.14,87.9763 \n",
       "  1376.42,87.9763 1386.7,87.9763 1396.98,87.9763 1407.26,87.9763 1417.54,87.9763 1427.82,87.9763 1438.1,87.9763 1448.38,87.9763 1458.66,87.9763 1468.94,87.9763 \n",
       "  1479.22,87.9763 1489.5,87.9763 1499.78,87.9763 1510.06,87.9763 1520.35,87.9763 1530.63,87.9763 1540.91,87.9763 1551.19,87.9763 1561.47,87.9763 1571.75,87.9763 \n",
       "  1582.03,87.9763 1592.31,87.9763 1602.59,87.9763 1612.87,87.9763 1623.15,87.9763 1633.43,87.9763 1643.71,87.9763 1653.99,87.9763 1664.27,87.9763 1674.55,87.9763 \n",
       "  1684.83,87.9763 1695.11,87.9763 1705.39,87.9763 1715.67,87.9763 1725.95,87.9763 1736.24,87.9763 1746.52,87.9763 1756.8,87.9763 1767.08,87.9763 1777.36,87.9763 \n",
       "  1787.64,223.75 1797.92,223.75 1808.2,223.75 1818.48,359.524 1828.76,359.524 1839.04,359.524 1849.32,223.75 1859.6,223.75 1869.88,223.75 1880.16,223.75 \n",
       "  1890.44,223.75 1900.72,223.75 1911,87.9763 1921.28,87.9763 1931.56,87.9763 1941.84,87.9763 1952.13,87.9763 1962.41,87.9763 1972.69,223.75 1982.97,223.75 \n",
       "  1993.25,223.75 2003.53,87.9763 2013.81,87.9763 2024.09,87.9763 2034.37,87.9763 2044.65,87.9763 2054.93,87.9763 2065.21,87.9763 2075.49,87.9763 2085.77,87.9763 \n",
       "  2096.05,87.9763 2106.33,87.9763 2116.61,87.9763 2126.89,87.9763 2137.17,223.75 2147.45,223.75 2157.74,223.75 2168.02,223.75 2178.3,223.75 2188.58,223.75 \n",
       "  2198.86,223.75 2209.14,223.75 2219.42,223.75 2229.7,223.75 2239.98,223.75 2250.26,223.75 2260.54,223.75 2270.82,223.75 2281.1,223.75 2291.38,223.75 \n",
       "  \n",
       "  \"/>\n",
       "<polyline clip-path=\"url(#clip902)\" style=\"stroke:#3da44d; stroke-linecap:round; stroke-linejoin:round; stroke-width:4; stroke-opacity:1; fill:none\" points=\"\n",
       "  245.565,1174.17 255.846,1174.17 266.126,1174.17 276.407,1309.94 286.687,1445.72 296.968,1445.72 307.248,1445.72 317.529,1445.72 327.809,1445.72 338.09,1445.72 \n",
       "  348.37,1445.72 358.65,1445.72 368.931,1445.72 379.211,1445.72 389.492,1445.72 399.772,1445.72 410.053,1445.72 420.333,1445.72 430.614,1445.72 440.894,1445.72 \n",
       "  451.175,1445.72 461.455,1445.72 471.736,1445.72 482.016,1445.72 492.297,1445.72 502.577,1445.72 512.858,1445.72 523.138,1445.72 533.419,1445.72 543.699,1445.72 \n",
       "  553.98,1445.72 564.26,1445.72 574.541,1445.72 584.821,1445.72 595.102,1445.72 605.382,1445.72 615.663,1445.72 625.943,1445.72 636.224,1445.72 646.504,1445.72 \n",
       "  656.785,1445.72 667.065,1445.72 677.345,1445.72 687.626,1445.72 697.906,1445.72 708.187,1445.72 718.467,1445.72 728.748,1445.72 739.028,1309.94 749.309,1309.94 \n",
       "  759.589,1309.94 769.87,1309.94 780.15,1309.94 790.431,1309.94 800.711,1309.94 810.992,1309.94 821.272,1445.72 831.553,1309.94 841.833,1309.94 852.114,1309.94 \n",
       "  862.394,1174.17 872.675,1174.17 882.955,1174.17 893.236,1174.17 903.516,1174.17 913.797,1174.17 924.077,1174.17 934.358,1174.17 944.638,1174.17 954.919,1174.17 \n",
       "  965.199,1309.94 975.48,1445.72 985.76,1445.72 996.04,1445.72 1006.32,1445.72 1016.6,1309.94 1026.88,1309.94 1037.16,1309.94 1047.44,1309.94 1057.72,1309.94 \n",
       "  1068,1309.94 1078.28,1309.94 1088.56,1309.94 1098.85,1309.94 1109.13,1309.94 1119.41,1309.94 1129.69,1309.94 1139.97,1309.94 1150.25,1309.94 1160.53,1309.94 \n",
       "  1170.81,1309.94 1181.09,1309.94 1191.37,1309.94 1201.65,1445.72 1211.93,1445.72 1222.21,1445.72 1232.49,1445.72 1242.77,1445.72 1253.05,1445.72 1263.33,1445.72 \n",
       "  1273.61,1445.72 1283.89,1445.72 1294.17,1445.72 1304.45,1445.72 1314.74,1445.72 1325.02,1445.72 1335.3,1445.72 1345.58,1445.72 1355.86,1445.72 1366.14,1445.72 \n",
       "  1376.42,1445.72 1386.7,1445.72 1396.98,1445.72 1407.26,1445.72 1417.54,1445.72 1427.82,1445.72 1438.1,1445.72 1448.38,1445.72 1458.66,1445.72 1468.94,1445.72 \n",
       "  1479.22,1445.72 1489.5,1445.72 1499.78,1445.72 1510.06,1445.72 1520.35,1445.72 1530.63,1445.72 1540.91,1445.72 1551.19,1445.72 1561.47,1445.72 1571.75,1445.72 \n",
       "  1582.03,1445.72 1592.31,1445.72 1602.59,1445.72 1612.87,1445.72 1623.15,1445.72 1633.43,1445.72 1643.71,1445.72 1653.99,1445.72 1664.27,1445.72 1674.55,1445.72 \n",
       "  1684.83,1445.72 1695.11,1445.72 1705.39,1445.72 1715.67,1445.72 1725.95,1445.72 1736.24,1445.72 1746.52,1445.72 1756.8,1445.72 1767.08,1445.72 1777.36,1445.72 \n",
       "  1787.64,1309.94 1797.92,1309.94 1808.2,1309.94 1818.48,1174.17 1828.76,1174.17 1839.04,1174.17 1849.32,1309.94 1859.6,1309.94 1869.88,1309.94 1880.16,1309.94 \n",
       "  1890.44,1309.94 1900.72,1309.94 1911,1445.72 1921.28,1445.72 1931.56,1445.72 1941.84,1445.72 1952.13,1445.72 1962.41,1445.72 1972.69,1445.72 1982.97,1445.72 \n",
       "  1993.25,1445.72 2003.53,1445.72 2013.81,1445.72 2024.09,1445.72 2034.37,1445.72 2044.65,1445.72 2054.93,1445.72 2065.21,1445.72 2075.49,1445.72 2085.77,1445.72 \n",
       "  2096.05,1445.72 2106.33,1445.72 2116.61,1445.72 2126.89,1445.72 2137.17,1309.94 2147.45,1309.94 2157.74,1309.94 2168.02,1309.94 2178.3,1309.94 2188.58,1309.94 \n",
       "  2198.86,1309.94 2209.14,1309.94 2219.42,1309.94 2229.7,1309.94 2239.98,1309.94 2250.26,1309.94 2260.54,1309.94 2270.82,1309.94 2281.1,1309.94 2291.38,1309.94 \n",
       "  \n",
       "  \"/>\n",
       "<path clip-path=\"url(#clip900)\" d=\"\n",
       "M256.476 302.578 L668.54 302.578 L668.54 95.2176 L256.476 95.2176  Z\n",
       "  \" fill=\"#ffffff\" fill-rule=\"evenodd\" fill-opacity=\"1\"/>\n",
       "<polyline clip-path=\"url(#clip900)\" style=\"stroke:#000000; stroke-linecap:round; stroke-linejoin:round; stroke-width:4; stroke-opacity:1; fill:none\" points=\"\n",
       "  256.476,302.578 668.54,302.578 668.54,95.2176 256.476,95.2176 256.476,302.578 \n",
       "  \"/>\n",
       "<polyline clip-path=\"url(#clip900)\" style=\"stroke:#009af9; stroke-linecap:round; stroke-linejoin:round; stroke-width:4; stroke-opacity:1; fill:none\" points=\"\n",
       "  280.571,147.058 425.142,147.058 \n",
       "  \"/>\n",
       "<path clip-path=\"url(#clip900)\" d=\"M465.071 134.384 L458.728 151.583 L471.436 151.583 L465.071 134.384 M462.432 129.778 L467.733 129.778 L480.904 164.338 L476.043 164.338 L472.895 155.472 L457.316 155.472 L454.168 164.338 L449.238 164.338 L462.432 129.778 Z\" fill=\"#000000\" fill-rule=\"evenodd\" fill-opacity=\"1\" /><path clip-path=\"url(#clip900)\" d=\"M503.589 139.407 L503.589 143.389 Q501.784 142.393 499.955 141.907 Q498.149 141.398 496.297 141.398 Q492.154 141.398 489.862 144.037 Q487.571 146.652 487.571 151.398 Q487.571 156.143 489.862 158.782 Q492.154 161.398 496.297 161.398 Q498.149 161.398 499.955 160.912 Q501.784 160.402 503.589 159.407 L503.589 163.342 Q501.807 164.176 499.885 164.592 Q497.987 165.009 495.835 165.009 Q489.978 165.009 486.529 161.328 Q483.08 157.648 483.08 151.398 Q483.08 145.055 486.552 141.421 Q490.048 137.787 496.112 137.787 Q498.08 137.787 499.955 138.203 Q501.83 138.597 503.589 139.407 Z\" fill=\"#000000\" fill-rule=\"evenodd\" fill-opacity=\"1\" /><path clip-path=\"url(#clip900)\" d=\"M515.209 131.051 L515.209 138.412 L523.983 138.412 L523.983 141.722 L515.209 141.722 L515.209 155.796 Q515.209 158.967 516.066 159.87 Q516.946 160.773 519.608 160.773 L523.983 160.773 L523.983 164.338 L519.608 164.338 Q514.677 164.338 512.802 162.509 Q510.927 160.657 510.927 155.796 L510.927 141.722 L507.802 141.722 L507.802 138.412 L510.927 138.412 L510.927 131.051 L515.209 131.051 Z\" fill=\"#000000\" fill-rule=\"evenodd\" fill-opacity=\"1\" /><path clip-path=\"url(#clip900)\" d=\"M529.584 138.412 L533.844 138.412 L533.844 164.338 L529.584 164.338 L529.584 138.412 M529.584 128.319 L533.844 128.319 L533.844 133.713 L529.584 133.713 L529.584 128.319 Z\" fill=\"#000000\" fill-rule=\"evenodd\" fill-opacity=\"1\" /><path clip-path=\"url(#clip900)\" d=\"M552.802 141.398 Q549.376 141.398 547.385 144.083 Q545.394 146.745 545.394 151.398 Q545.394 156.051 547.362 158.736 Q549.353 161.398 552.802 161.398 Q556.205 161.398 558.195 158.713 Q560.186 156.027 560.186 151.398 Q560.186 146.791 558.195 144.106 Q556.205 141.398 552.802 141.398 M552.802 137.787 Q558.357 137.787 561.529 141.398 Q564.7 145.009 564.7 151.398 Q564.7 157.764 561.529 161.398 Q558.357 165.009 552.802 165.009 Q547.223 165.009 544.052 161.398 Q540.904 157.764 540.904 151.398 Q540.904 145.009 544.052 141.398 Q547.223 137.787 552.802 137.787 Z\" fill=\"#000000\" fill-rule=\"evenodd\" fill-opacity=\"1\" /><path clip-path=\"url(#clip900)\" d=\"M593.311 148.689 L593.311 164.338 L589.052 164.338 L589.052 148.828 Q589.052 145.148 587.616 143.319 Q586.181 141.49 583.311 141.49 Q579.862 141.49 577.871 143.69 Q575.88 145.889 575.88 149.685 L575.88 164.338 L571.598 164.338 L571.598 138.412 L575.88 138.412 L575.88 142.44 Q577.408 140.102 579.468 138.944 Q581.552 137.787 584.26 137.787 Q588.728 137.787 591.019 140.565 Q593.311 143.319 593.311 148.689 Z\" fill=\"#000000\" fill-rule=\"evenodd\" fill-opacity=\"1\" /><path clip-path=\"url(#clip900)\" d=\"M628.612 134.384 L622.269 151.583 L634.977 151.583 L628.612 134.384 M625.973 129.778 L631.274 129.778 L644.445 164.338 L639.584 164.338 L636.436 155.472 L620.857 155.472 L617.709 164.338 L612.778 164.338 L625.973 129.778 Z\" fill=\"#000000\" fill-rule=\"evenodd\" fill-opacity=\"1\" /><polyline clip-path=\"url(#clip900)\" style=\"stroke:#e26f46; stroke-linecap:round; stroke-linejoin:round; stroke-width:4; stroke-opacity:1; fill:none\" points=\"\n",
       "  280.571,198.898 425.142,198.898 \n",
       "  \"/>\n",
       "<path clip-path=\"url(#clip900)\" d=\"M465.071 186.224 L458.728 203.423 L471.436 203.423 L465.071 186.224 M462.432 181.618 L467.733 181.618 L480.904 216.178 L476.043 216.178 L472.895 207.312 L457.316 207.312 L454.168 216.178 L449.238 216.178 L462.432 181.618 Z\" fill=\"#000000\" fill-rule=\"evenodd\" fill-opacity=\"1\" /><path clip-path=\"url(#clip900)\" d=\"M503.589 191.247 L503.589 195.229 Q501.784 194.233 499.955 193.747 Q498.149 193.238 496.297 193.238 Q492.154 193.238 489.862 195.877 Q487.571 198.492 487.571 203.238 Q487.571 207.983 489.862 210.622 Q492.154 213.238 496.297 213.238 Q498.149 213.238 499.955 212.752 Q501.784 212.242 503.589 211.247 L503.589 215.182 Q501.807 216.016 499.885 216.432 Q497.987 216.849 495.835 216.849 Q489.978 216.849 486.529 213.168 Q483.08 209.488 483.08 203.238 Q483.08 196.895 486.552 193.261 Q490.048 189.627 496.112 189.627 Q498.08 189.627 499.955 190.043 Q501.83 190.437 503.589 191.247 Z\" fill=\"#000000\" fill-rule=\"evenodd\" fill-opacity=\"1\" /><path clip-path=\"url(#clip900)\" d=\"M515.209 182.891 L515.209 190.252 L523.983 190.252 L523.983 193.562 L515.209 193.562 L515.209 207.636 Q515.209 210.807 516.066 211.71 Q516.946 212.613 519.608 212.613 L523.983 212.613 L523.983 216.178 L519.608 216.178 Q514.677 216.178 512.802 214.349 Q510.927 212.497 510.927 207.636 L510.927 193.562 L507.802 193.562 L507.802 190.252 L510.927 190.252 L510.927 182.891 L515.209 182.891 Z\" fill=\"#000000\" fill-rule=\"evenodd\" fill-opacity=\"1\" /><path clip-path=\"url(#clip900)\" d=\"M529.584 190.252 L533.844 190.252 L533.844 216.178 L529.584 216.178 L529.584 190.252 M529.584 180.159 L533.844 180.159 L533.844 185.553 L529.584 185.553 L529.584 180.159 Z\" fill=\"#000000\" fill-rule=\"evenodd\" fill-opacity=\"1\" /><path clip-path=\"url(#clip900)\" d=\"M552.802 193.238 Q549.376 193.238 547.385 195.923 Q545.394 198.585 545.394 203.238 Q545.394 207.891 547.362 210.576 Q549.353 213.238 552.802 213.238 Q556.205 213.238 558.195 210.553 Q560.186 207.867 560.186 203.238 Q560.186 198.631 558.195 195.946 Q556.205 193.238 552.802 193.238 M552.802 189.627 Q558.357 189.627 561.529 193.238 Q564.7 196.849 564.7 203.238 Q564.7 209.604 561.529 213.238 Q558.357 216.849 552.802 216.849 Q547.223 216.849 544.052 213.238 Q540.904 209.604 540.904 203.238 Q540.904 196.849 544.052 193.238 Q547.223 189.627 552.802 189.627 Z\" fill=\"#000000\" fill-rule=\"evenodd\" fill-opacity=\"1\" /><path clip-path=\"url(#clip900)\" d=\"M593.311 200.529 L593.311 216.178 L589.052 216.178 L589.052 200.668 Q589.052 196.988 587.616 195.159 Q586.181 193.33 583.311 193.33 Q579.862 193.33 577.871 195.53 Q575.88 197.729 575.88 201.525 L575.88 216.178 L571.598 216.178 L571.598 190.252 L575.88 190.252 L575.88 194.28 Q577.408 191.942 579.468 190.784 Q581.552 189.627 584.26 189.627 Q588.728 189.627 591.019 192.405 Q593.311 195.159 593.311 200.529 Z\" fill=\"#000000\" fill-rule=\"evenodd\" fill-opacity=\"1\" /><path clip-path=\"url(#clip900)\" d=\"M621.737 199.673 L621.737 212.335 L629.237 212.335 Q633.01 212.335 634.815 210.784 Q636.644 209.21 636.644 205.992 Q636.644 202.752 634.815 201.224 Q633.01 199.673 629.237 199.673 L621.737 199.673 M621.737 185.46 L621.737 195.877 L628.658 195.877 Q632.084 195.877 633.75 194.604 Q635.44 193.307 635.44 190.668 Q635.44 188.053 633.75 186.756 Q632.084 185.46 628.658 185.46 L621.737 185.46 M617.061 181.618 L629.005 181.618 Q634.352 181.618 637.246 183.84 Q640.139 186.062 640.139 190.159 Q640.139 193.33 638.658 195.205 Q637.176 197.08 634.306 197.543 Q637.755 198.284 639.653 200.645 Q641.574 202.983 641.574 206.502 Q641.574 211.131 638.426 213.654 Q635.278 216.178 629.468 216.178 L617.061 216.178 L617.061 181.618 Z\" fill=\"#000000\" fill-rule=\"evenodd\" fill-opacity=\"1\" /><polyline clip-path=\"url(#clip900)\" style=\"stroke:#3da44d; stroke-linecap:round; stroke-linejoin:round; stroke-width:4; stroke-opacity:1; fill:none\" points=\"\n",
       "  280.571,250.738 425.142,250.738 \n",
       "  \"/>\n",
       "<path clip-path=\"url(#clip900)\" d=\"M465.071 238.064 L458.728 255.263 L471.436 255.263 L465.071 238.064 M462.432 233.458 L467.733 233.458 L480.904 268.018 L476.043 268.018 L472.895 259.152 L457.316 259.152 L454.168 268.018 L449.238 268.018 L462.432 233.458 Z\" fill=\"#000000\" fill-rule=\"evenodd\" fill-opacity=\"1\" /><path clip-path=\"url(#clip900)\" d=\"M503.589 243.087 L503.589 247.069 Q501.784 246.073 499.955 245.587 Q498.149 245.078 496.297 245.078 Q492.154 245.078 489.862 247.717 Q487.571 250.332 487.571 255.078 Q487.571 259.823 489.862 262.462 Q492.154 265.078 496.297 265.078 Q498.149 265.078 499.955 264.592 Q501.784 264.082 503.589 263.087 L503.589 267.022 Q501.807 267.856 499.885 268.272 Q497.987 268.689 495.835 268.689 Q489.978 268.689 486.529 265.008 Q483.08 261.328 483.08 255.078 Q483.08 248.735 486.552 245.101 Q490.048 241.467 496.112 241.467 Q498.08 241.467 499.955 241.883 Q501.83 242.277 503.589 243.087 Z\" fill=\"#000000\" fill-rule=\"evenodd\" fill-opacity=\"1\" /><path clip-path=\"url(#clip900)\" d=\"M515.209 234.731 L515.209 242.092 L523.983 242.092 L523.983 245.402 L515.209 245.402 L515.209 259.476 Q515.209 262.647 516.066 263.55 Q516.946 264.453 519.608 264.453 L523.983 264.453 L523.983 268.018 L519.608 268.018 Q514.677 268.018 512.802 266.189 Q510.927 264.337 510.927 259.476 L510.927 245.402 L507.802 245.402 L507.802 242.092 L510.927 242.092 L510.927 234.731 L515.209 234.731 Z\" fill=\"#000000\" fill-rule=\"evenodd\" fill-opacity=\"1\" /><path clip-path=\"url(#clip900)\" d=\"M529.584 242.092 L533.844 242.092 L533.844 268.018 L529.584 268.018 L529.584 242.092 M529.584 231.999 L533.844 231.999 L533.844 237.393 L529.584 237.393 L529.584 231.999 Z\" fill=\"#000000\" fill-rule=\"evenodd\" fill-opacity=\"1\" /><path clip-path=\"url(#clip900)\" d=\"M552.802 245.078 Q549.376 245.078 547.385 247.763 Q545.394 250.425 545.394 255.078 Q545.394 259.731 547.362 262.416 Q549.353 265.078 552.802 265.078 Q556.205 265.078 558.195 262.393 Q560.186 259.707 560.186 255.078 Q560.186 250.471 558.195 247.786 Q556.205 245.078 552.802 245.078 M552.802 241.467 Q558.357 241.467 561.529 245.078 Q564.7 248.689 564.7 255.078 Q564.7 261.444 561.529 265.078 Q558.357 268.689 552.802 268.689 Q547.223 268.689 544.052 265.078 Q540.904 261.444 540.904 255.078 Q540.904 248.689 544.052 245.078 Q547.223 241.467 552.802 241.467 Z\" fill=\"#000000\" fill-rule=\"evenodd\" fill-opacity=\"1\" /><path clip-path=\"url(#clip900)\" d=\"M593.311 252.369 L593.311 268.018 L589.052 268.018 L589.052 252.508 Q589.052 248.828 587.616 246.999 Q586.181 245.17 583.311 245.17 Q579.862 245.17 577.871 247.37 Q575.88 249.569 575.88 253.365 L575.88 268.018 L571.598 268.018 L571.598 242.092 L575.88 242.092 L575.88 246.12 Q577.408 243.782 579.468 242.624 Q581.552 241.467 584.26 241.467 Q588.728 241.467 591.019 244.245 Q593.311 246.999 593.311 252.369 Z\" fill=\"#000000\" fill-rule=\"evenodd\" fill-opacity=\"1\" /><path clip-path=\"url(#clip900)\" d=\"M642.94 236.12 L642.94 241.05 Q640.579 238.851 637.894 237.763 Q635.232 236.675 632.223 236.675 Q626.297 236.675 623.149 240.309 Q620.001 243.92 620.001 250.772 Q620.001 257.601 623.149 261.235 Q626.297 264.846 632.223 264.846 Q635.232 264.846 637.894 263.758 Q640.579 262.67 642.94 260.471 L642.94 265.356 Q640.487 267.022 637.732 267.856 Q635 268.689 631.945 268.689 Q624.098 268.689 619.584 263.897 Q615.07 259.082 615.07 250.772 Q615.07 242.439 619.584 237.647 Q624.098 232.833 631.945 232.833 Q635.047 232.833 637.778 233.666 Q640.533 234.476 642.94 236.12 Z\" fill=\"#000000\" fill-rule=\"evenodd\" fill-opacity=\"1\" /></svg>\n"
      ]
     },
     "execution_count": 18,
     "metadata": {},
     "output_type": "execute_result"
    }
   ],
   "source": [
    "m = 2\n",
    "x = time_series(kmr_young, ts_length, [N-2*m, m, m])\n",
    "\n",
    "plot([x[1, :], x[2, :], x[3, :]], label=label_3)"
   ]
  },
  {
   "cell_type": "markdown",
   "metadata": {},
   "source": [
    "### Sampling Best Response Dynamics"
   ]
  },
  {
   "cell_type": "code",
   "execution_count": 19,
   "metadata": {},
   "outputs": [],
   "source": [
    "k = 2;"
   ]
  },
  {
   "cell_type": "markdown",
   "metadata": {},
   "source": [
    "#### Coordination Games"
   ]
  },
  {
   "cell_type": "code",
   "execution_count": 20,
   "metadata": {},
   "outputs": [
    {
     "data": {
      "text/plain": [
       "SamplingBRD{Int64}(10, 2×2 Player{2, Int64}:\n",
       " 2  0\n",
       " 0  1, 2, 2)"
      ]
     },
     "execution_count": 20,
     "metadata": {},
     "output_type": "execute_result"
    }
   ],
   "source": [
    "sbrd_coor = SamplingBRD(coordination_game_matrix, N, k)"
   ]
  },
  {
   "cell_type": "code",
   "execution_count": 21,
   "metadata": {},
   "outputs": [
    {
     "data": {
      "image/svg+xml": [
       "<?xml version=\"1.0\" encoding=\"utf-8\"?>\n",
       "<svg xmlns=\"http://www.w3.org/2000/svg\" xmlns:xlink=\"http://www.w3.org/1999/xlink\" width=\"600\" height=\"400\" viewBox=\"0 0 2400 1600\">\n",
       "<defs>\n",
       "  <clipPath id=\"clip940\">\n",
       "    <rect x=\"0\" y=\"0\" width=\"2400\" height=\"1600\"/>\n",
       "  </clipPath>\n",
       "</defs>\n",
       "<path clip-path=\"url(#clip940)\" d=\"\n",
       "M0 1600 L2400 1600 L2400 0 L0 0  Z\n",
       "  \" fill=\"#ffffff\" fill-rule=\"evenodd\" fill-opacity=\"1\"/>\n",
       "<defs>\n",
       "  <clipPath id=\"clip941\">\n",
       "    <rect x=\"480\" y=\"0\" width=\"1681\" height=\"1600\"/>\n",
       "  </clipPath>\n",
       "</defs>\n",
       "<path clip-path=\"url(#clip940)\" d=\"\n",
       "M184.191 1486.45 L2352.76 1486.45 L2352.76 47.2441 L184.191 47.2441  Z\n",
       "  \" fill=\"#ffffff\" fill-rule=\"evenodd\" fill-opacity=\"1\"/>\n",
       "<defs>\n",
       "  <clipPath id=\"clip942\">\n",
       "    <rect x=\"184\" y=\"47\" width=\"2170\" height=\"1440\"/>\n",
       "  </clipPath>\n",
       "</defs>\n",
       "<polyline clip-path=\"url(#clip942)\" style=\"stroke:#000000; stroke-linecap:round; stroke-linejoin:round; stroke-width:2; stroke-opacity:0.1; fill:none\" points=\"\n",
       "  235.285,1486.45 235.285,47.2441 \n",
       "  \"/>\n",
       "<polyline clip-path=\"url(#clip942)\" style=\"stroke:#000000; stroke-linecap:round; stroke-linejoin:round; stroke-width:2; stroke-opacity:0.1; fill:none\" points=\"\n",
       "  749.309,1486.45 749.309,47.2441 \n",
       "  \"/>\n",
       "<polyline clip-path=\"url(#clip942)\" style=\"stroke:#000000; stroke-linecap:round; stroke-linejoin:round; stroke-width:2; stroke-opacity:0.1; fill:none\" points=\"\n",
       "  1263.33,1486.45 1263.33,47.2441 \n",
       "  \"/>\n",
       "<polyline clip-path=\"url(#clip942)\" style=\"stroke:#000000; stroke-linecap:round; stroke-linejoin:round; stroke-width:2; stroke-opacity:0.1; fill:none\" points=\"\n",
       "  1777.36,1486.45 1777.36,47.2441 \n",
       "  \"/>\n",
       "<polyline clip-path=\"url(#clip942)\" style=\"stroke:#000000; stroke-linecap:round; stroke-linejoin:round; stroke-width:2; stroke-opacity:0.1; fill:none\" points=\"\n",
       "  2291.38,1486.45 2291.38,47.2441 \n",
       "  \"/>\n",
       "<polyline clip-path=\"url(#clip940)\" style=\"stroke:#000000; stroke-linecap:round; stroke-linejoin:round; stroke-width:4; stroke-opacity:1; fill:none\" points=\"\n",
       "  184.191,1486.45 2352.76,1486.45 \n",
       "  \"/>\n",
       "<polyline clip-path=\"url(#clip940)\" style=\"stroke:#000000; stroke-linecap:round; stroke-linejoin:round; stroke-width:4; stroke-opacity:1; fill:none\" points=\"\n",
       "  235.285,1486.45 235.285,1467.55 \n",
       "  \"/>\n",
       "<polyline clip-path=\"url(#clip940)\" style=\"stroke:#000000; stroke-linecap:round; stroke-linejoin:round; stroke-width:4; stroke-opacity:1; fill:none\" points=\"\n",
       "  749.309,1486.45 749.309,1467.55 \n",
       "  \"/>\n",
       "<polyline clip-path=\"url(#clip940)\" style=\"stroke:#000000; stroke-linecap:round; stroke-linejoin:round; stroke-width:4; stroke-opacity:1; fill:none\" points=\"\n",
       "  1263.33,1486.45 1263.33,1467.55 \n",
       "  \"/>\n",
       "<polyline clip-path=\"url(#clip940)\" style=\"stroke:#000000; stroke-linecap:round; stroke-linejoin:round; stroke-width:4; stroke-opacity:1; fill:none\" points=\"\n",
       "  1777.36,1486.45 1777.36,1467.55 \n",
       "  \"/>\n",
       "<polyline clip-path=\"url(#clip940)\" style=\"stroke:#000000; stroke-linecap:round; stroke-linejoin:round; stroke-width:4; stroke-opacity:1; fill:none\" points=\"\n",
       "  2291.38,1486.45 2291.38,1467.55 \n",
       "  \"/>\n",
       "<path clip-path=\"url(#clip940)\" d=\"M235.285 1517.37 Q231.674 1517.37 229.845 1520.93 Q228.039 1524.47 228.039 1531.6 Q228.039 1538.71 229.845 1542.27 Q231.674 1545.82 235.285 1545.82 Q238.919 1545.82 240.724 1542.27 Q242.553 1538.71 242.553 1531.6 Q242.553 1524.47 240.724 1520.93 Q238.919 1517.37 235.285 1517.37 M235.285 1513.66 Q241.095 1513.66 244.15 1518.27 Q247.229 1522.85 247.229 1531.6 Q247.229 1540.33 244.15 1544.94 Q241.095 1549.52 235.285 1549.52 Q229.475 1549.52 226.396 1544.94 Q223.34 1540.33 223.34 1531.6 Q223.34 1522.85 226.396 1518.27 Q229.475 1513.66 235.285 1513.66 Z\" fill=\"#000000\" fill-rule=\"evenodd\" fill-opacity=\"1\" /><path clip-path=\"url(#clip940)\" d=\"M724.008 1514.29 L742.364 1514.29 L742.364 1518.22 L728.29 1518.22 L728.29 1526.7 Q729.309 1526.35 730.327 1526.19 Q731.346 1526 732.365 1526 Q738.152 1526 741.531 1529.17 Q744.911 1532.34 744.911 1537.76 Q744.911 1543.34 741.439 1546.44 Q737.966 1549.52 731.647 1549.52 Q729.471 1549.52 727.203 1549.15 Q724.957 1548.78 722.55 1548.04 L722.55 1543.34 Q724.633 1544.47 726.855 1545.03 Q729.077 1545.58 731.554 1545.58 Q735.559 1545.58 737.897 1543.48 Q740.235 1541.37 740.235 1537.76 Q740.235 1534.15 737.897 1532.04 Q735.559 1529.94 731.554 1529.94 Q729.679 1529.94 727.804 1530.35 Q725.953 1530.77 724.008 1531.65 L724.008 1514.29 Z\" fill=\"#000000\" fill-rule=\"evenodd\" fill-opacity=\"1\" /><path clip-path=\"url(#clip940)\" d=\"M764.124 1517.37 Q760.513 1517.37 758.684 1520.93 Q756.878 1524.47 756.878 1531.6 Q756.878 1538.71 758.684 1542.27 Q760.513 1545.82 764.124 1545.82 Q767.758 1545.82 769.563 1542.27 Q771.392 1538.71 771.392 1531.6 Q771.392 1524.47 769.563 1520.93 Q767.758 1517.37 764.124 1517.37 M764.124 1513.66 Q769.934 1513.66 772.989 1518.27 Q776.068 1522.85 776.068 1531.6 Q776.068 1540.33 772.989 1544.94 Q769.934 1549.52 764.124 1549.52 Q758.313 1549.52 755.235 1544.94 Q752.179 1540.33 752.179 1531.6 Q752.179 1522.85 755.235 1518.27 Q758.313 1513.66 764.124 1513.66 Z\" fill=\"#000000\" fill-rule=\"evenodd\" fill-opacity=\"1\" /><path clip-path=\"url(#clip940)\" d=\"M1222.94 1544.91 L1230.58 1544.91 L1230.58 1518.55 L1222.27 1520.21 L1222.27 1515.95 L1230.53 1514.29 L1235.21 1514.29 L1235.21 1544.91 L1242.85 1544.91 L1242.85 1548.85 L1222.94 1548.85 L1222.94 1544.91 Z\" fill=\"#000000\" fill-rule=\"evenodd\" fill-opacity=\"1\" /><path clip-path=\"url(#clip940)\" d=\"M1262.29 1517.37 Q1258.68 1517.37 1256.85 1520.93 Q1255.05 1524.47 1255.05 1531.6 Q1255.05 1538.71 1256.85 1542.27 Q1258.68 1545.82 1262.29 1545.82 Q1265.93 1545.82 1267.73 1542.27 Q1269.56 1538.71 1269.56 1531.6 Q1269.56 1524.47 1267.73 1520.93 Q1265.93 1517.37 1262.29 1517.37 M1262.29 1513.66 Q1268.1 1513.66 1271.16 1518.27 Q1274.24 1522.85 1274.24 1531.6 Q1274.24 1540.33 1271.16 1544.94 Q1268.1 1549.52 1262.29 1549.52 Q1256.48 1549.52 1253.4 1544.94 Q1250.35 1540.33 1250.35 1531.6 Q1250.35 1522.85 1253.4 1518.27 Q1256.48 1513.66 1262.29 1513.66 Z\" fill=\"#000000\" fill-rule=\"evenodd\" fill-opacity=\"1\" /><path clip-path=\"url(#clip940)\" d=\"M1292.45 1517.37 Q1288.84 1517.37 1287.01 1520.93 Q1285.21 1524.47 1285.21 1531.6 Q1285.21 1538.71 1287.01 1542.27 Q1288.84 1545.82 1292.45 1545.82 Q1296.09 1545.82 1297.89 1542.27 Q1299.72 1538.71 1299.72 1531.6 Q1299.72 1524.47 1297.89 1520.93 Q1296.09 1517.37 1292.45 1517.37 M1292.45 1513.66 Q1298.26 1513.66 1301.32 1518.27 Q1304.4 1522.85 1304.4 1531.6 Q1304.4 1540.33 1301.32 1544.94 Q1298.26 1549.52 1292.45 1549.52 Q1286.64 1549.52 1283.56 1544.94 Q1280.51 1540.33 1280.51 1531.6 Q1280.51 1522.85 1283.56 1518.27 Q1286.64 1513.66 1292.45 1513.66 Z\" fill=\"#000000\" fill-rule=\"evenodd\" fill-opacity=\"1\" /><path clip-path=\"url(#clip940)\" d=\"M1736.96 1544.91 L1744.6 1544.91 L1744.6 1518.55 L1736.29 1520.21 L1736.29 1515.95 L1744.56 1514.29 L1749.23 1514.29 L1749.23 1544.91 L1756.87 1544.91 L1756.87 1548.85 L1736.96 1548.85 L1736.96 1544.91 Z\" fill=\"#000000\" fill-rule=\"evenodd\" fill-opacity=\"1\" /><path clip-path=\"url(#clip940)\" d=\"M1766.36 1514.29 L1784.72 1514.29 L1784.72 1518.22 L1770.64 1518.22 L1770.64 1526.7 Q1771.66 1526.35 1772.68 1526.19 Q1773.7 1526 1774.72 1526 Q1780.51 1526 1783.88 1529.17 Q1787.26 1532.34 1787.26 1537.76 Q1787.26 1543.34 1783.79 1546.44 Q1780.32 1549.52 1774 1549.52 Q1771.82 1549.52 1769.56 1549.15 Q1767.31 1548.78 1764.9 1548.04 L1764.9 1543.34 Q1766.99 1544.47 1769.21 1545.03 Q1771.43 1545.58 1773.91 1545.58 Q1777.91 1545.58 1780.25 1543.48 Q1782.59 1541.37 1782.59 1537.76 Q1782.59 1534.15 1780.25 1532.04 Q1777.91 1529.94 1773.91 1529.94 Q1772.03 1529.94 1770.16 1530.35 Q1768.31 1530.77 1766.36 1531.65 L1766.36 1514.29 Z\" fill=\"#000000\" fill-rule=\"evenodd\" fill-opacity=\"1\" /><path clip-path=\"url(#clip940)\" d=\"M1806.48 1517.37 Q1802.87 1517.37 1801.04 1520.93 Q1799.23 1524.47 1799.23 1531.6 Q1799.23 1538.71 1801.04 1542.27 Q1802.87 1545.82 1806.48 1545.82 Q1810.11 1545.82 1811.92 1542.27 Q1813.75 1538.71 1813.75 1531.6 Q1813.75 1524.47 1811.92 1520.93 Q1810.11 1517.37 1806.48 1517.37 M1806.48 1513.66 Q1812.29 1513.66 1815.34 1518.27 Q1818.42 1522.85 1818.42 1531.6 Q1818.42 1540.33 1815.34 1544.94 Q1812.29 1549.52 1806.48 1549.52 Q1800.67 1549.52 1797.59 1544.94 Q1794.53 1540.33 1794.53 1531.6 Q1794.53 1522.85 1797.59 1518.27 Q1800.67 1513.66 1806.48 1513.66 Z\" fill=\"#000000\" fill-rule=\"evenodd\" fill-opacity=\"1\" /><path clip-path=\"url(#clip940)\" d=\"M2255.07 1544.91 L2271.39 1544.91 L2271.39 1548.85 L2249.45 1548.85 L2249.45 1544.91 Q2252.11 1542.16 2256.69 1537.53 Q2261.3 1532.88 2262.48 1531.53 Q2264.73 1529.01 2265.61 1527.27 Q2266.51 1525.51 2266.51 1523.82 Q2266.51 1521.07 2264.56 1519.33 Q2262.64 1517.6 2259.54 1517.6 Q2257.34 1517.6 2254.89 1518.36 Q2252.46 1519.13 2249.68 1520.68 L2249.68 1515.95 Q2252.5 1514.82 2254.96 1514.24 Q2257.41 1513.66 2259.45 1513.66 Q2264.82 1513.66 2268.01 1516.35 Q2271.21 1519.03 2271.21 1523.52 Q2271.21 1525.65 2270.4 1527.57 Q2269.61 1529.47 2267.5 1532.07 Q2266.93 1532.74 2263.82 1535.95 Q2260.72 1539.15 2255.07 1544.91 Z\" fill=\"#000000\" fill-rule=\"evenodd\" fill-opacity=\"1\" /><path clip-path=\"url(#clip940)\" d=\"M2291.21 1517.37 Q2287.6 1517.37 2285.77 1520.93 Q2283.96 1524.47 2283.96 1531.6 Q2283.96 1538.71 2285.77 1542.27 Q2287.6 1545.82 2291.21 1545.82 Q2294.84 1545.82 2296.65 1542.27 Q2298.48 1538.71 2298.48 1531.6 Q2298.48 1524.47 2296.65 1520.93 Q2294.84 1517.37 2291.21 1517.37 M2291.21 1513.66 Q2297.02 1513.66 2300.07 1518.27 Q2303.15 1522.85 2303.15 1531.6 Q2303.15 1540.33 2300.07 1544.94 Q2297.02 1549.52 2291.21 1549.52 Q2285.4 1549.52 2282.32 1544.94 Q2279.26 1540.33 2279.26 1531.6 Q2279.26 1522.85 2282.32 1518.27 Q2285.4 1513.66 2291.21 1513.66 Z\" fill=\"#000000\" fill-rule=\"evenodd\" fill-opacity=\"1\" /><path clip-path=\"url(#clip940)\" d=\"M2321.37 1517.37 Q2317.76 1517.37 2315.93 1520.93 Q2314.12 1524.47 2314.12 1531.6 Q2314.12 1538.71 2315.93 1542.27 Q2317.76 1545.82 2321.37 1545.82 Q2325 1545.82 2326.81 1542.27 Q2328.64 1538.71 2328.64 1531.6 Q2328.64 1524.47 2326.81 1520.93 Q2325 1517.37 2321.37 1517.37 M2321.37 1513.66 Q2327.18 1513.66 2330.24 1518.27 Q2333.31 1522.85 2333.31 1531.6 Q2333.31 1540.33 2330.24 1544.94 Q2327.18 1549.52 2321.37 1549.52 Q2315.56 1549.52 2312.48 1544.94 Q2309.43 1540.33 2309.43 1531.6 Q2309.43 1522.85 2312.48 1518.27 Q2315.56 1513.66 2321.37 1513.66 Z\" fill=\"#000000\" fill-rule=\"evenodd\" fill-opacity=\"1\" /><polyline clip-path=\"url(#clip942)\" style=\"stroke:#000000; stroke-linecap:round; stroke-linejoin:round; stroke-width:2; stroke-opacity:0.1; fill:none\" points=\"\n",
       "  184.191,1445.72 2352.76,1445.72 \n",
       "  \"/>\n",
       "<polyline clip-path=\"url(#clip942)\" style=\"stroke:#000000; stroke-linecap:round; stroke-linejoin:round; stroke-width:2; stroke-opacity:0.1; fill:none\" points=\"\n",
       "  184.191,1106.28 2352.76,1106.28 \n",
       "  \"/>\n",
       "<polyline clip-path=\"url(#clip942)\" style=\"stroke:#000000; stroke-linecap:round; stroke-linejoin:round; stroke-width:2; stroke-opacity:0.1; fill:none\" points=\"\n",
       "  184.191,766.846 2352.76,766.846 \n",
       "  \"/>\n",
       "<polyline clip-path=\"url(#clip942)\" style=\"stroke:#000000; stroke-linecap:round; stroke-linejoin:round; stroke-width:2; stroke-opacity:0.1; fill:none\" points=\"\n",
       "  184.191,427.411 2352.76,427.411 \n",
       "  \"/>\n",
       "<polyline clip-path=\"url(#clip942)\" style=\"stroke:#000000; stroke-linecap:round; stroke-linejoin:round; stroke-width:2; stroke-opacity:0.1; fill:none\" points=\"\n",
       "  184.191,87.9763 2352.76,87.9763 \n",
       "  \"/>\n",
       "<polyline clip-path=\"url(#clip940)\" style=\"stroke:#000000; stroke-linecap:round; stroke-linejoin:round; stroke-width:4; stroke-opacity:1; fill:none\" points=\"\n",
       "  184.191,1486.45 184.191,47.2441 \n",
       "  \"/>\n",
       "<polyline clip-path=\"url(#clip940)\" style=\"stroke:#000000; stroke-linecap:round; stroke-linejoin:round; stroke-width:4; stroke-opacity:1; fill:none\" points=\"\n",
       "  184.191,1445.72 203.088,1445.72 \n",
       "  \"/>\n",
       "<polyline clip-path=\"url(#clip940)\" style=\"stroke:#000000; stroke-linecap:round; stroke-linejoin:round; stroke-width:4; stroke-opacity:1; fill:none\" points=\"\n",
       "  184.191,1106.28 203.088,1106.28 \n",
       "  \"/>\n",
       "<polyline clip-path=\"url(#clip940)\" style=\"stroke:#000000; stroke-linecap:round; stroke-linejoin:round; stroke-width:4; stroke-opacity:1; fill:none\" points=\"\n",
       "  184.191,766.846 203.088,766.846 \n",
       "  \"/>\n",
       "<polyline clip-path=\"url(#clip940)\" style=\"stroke:#000000; stroke-linecap:round; stroke-linejoin:round; stroke-width:4; stroke-opacity:1; fill:none\" points=\"\n",
       "  184.191,427.411 203.088,427.411 \n",
       "  \"/>\n",
       "<polyline clip-path=\"url(#clip940)\" style=\"stroke:#000000; stroke-linecap:round; stroke-linejoin:round; stroke-width:4; stroke-opacity:1; fill:none\" points=\"\n",
       "  184.191,87.9763 203.088,87.9763 \n",
       "  \"/>\n",
       "<path clip-path=\"url(#clip940)\" d=\"M91.0151 1431.51 Q87.404 1431.51 85.5753 1435.08 Q83.7697 1438.62 83.7697 1445.75 Q83.7697 1452.86 85.5753 1456.42 Q87.404 1459.96 91.0151 1459.96 Q94.6493 1459.96 96.4548 1456.42 Q98.2835 1452.86 98.2835 1445.75 Q98.2835 1438.62 96.4548 1435.08 Q94.6493 1431.51 91.0151 1431.51 M91.0151 1427.81 Q96.8252 1427.81 99.8808 1432.42 Q102.959 1437 102.959 1445.75 Q102.959 1454.48 99.8808 1459.08 Q96.8252 1463.67 91.0151 1463.67 Q85.2049 1463.67 82.1262 1459.08 Q79.0707 1454.48 79.0707 1445.75 Q79.0707 1437 82.1262 1432.42 Q85.2049 1427.81 91.0151 1427.81 Z\" fill=\"#000000\" fill-rule=\"evenodd\" fill-opacity=\"1\" /><path clip-path=\"url(#clip940)\" d=\"M111.177 1457.12 L116.061 1457.12 L116.061 1463 L111.177 1463 L111.177 1457.12 Z\" fill=\"#000000\" fill-rule=\"evenodd\" fill-opacity=\"1\" /><path clip-path=\"url(#clip940)\" d=\"M136.246 1431.51 Q132.635 1431.51 130.807 1435.08 Q129.001 1438.62 129.001 1445.75 Q129.001 1452.86 130.807 1456.42 Q132.635 1459.96 136.246 1459.96 Q139.881 1459.96 141.686 1456.42 Q143.515 1452.86 143.515 1445.75 Q143.515 1438.62 141.686 1435.08 Q139.881 1431.51 136.246 1431.51 M136.246 1427.81 Q142.056 1427.81 145.112 1432.42 Q148.191 1437 148.191 1445.75 Q148.191 1454.48 145.112 1459.08 Q142.056 1463.67 136.246 1463.67 Q130.436 1463.67 127.357 1459.08 Q124.302 1454.48 124.302 1445.75 Q124.302 1437 127.357 1432.42 Q130.436 1427.81 136.246 1427.81 Z\" fill=\"#000000\" fill-rule=\"evenodd\" fill-opacity=\"1\" /><path clip-path=\"url(#clip940)\" d=\"M86.0382 1119.63 L102.358 1119.63 L102.358 1123.56 L80.4133 1123.56 L80.4133 1119.63 Q83.0753 1116.87 87.6586 1112.24 Q92.2651 1107.59 93.4456 1106.25 Q95.691 1103.72 96.5706 1101.99 Q97.4734 1100.23 97.4734 1098.54 Q97.4734 1095.78 95.5289 1094.05 Q93.6076 1092.31 90.5058 1092.31 Q88.3067 1092.31 85.8531 1093.07 Q83.4225 1093.84 80.6447 1095.39 L80.6447 1090.67 Q83.4688 1089.53 85.9225 1088.95 Q88.3762 1088.38 90.4132 1088.38 Q95.7836 1088.38 98.978 1091.06 Q102.172 1093.75 102.172 1098.24 Q102.172 1100.37 101.362 1102.29 Q100.575 1104.19 98.4687 1106.78 Q97.89 1107.45 94.7882 1110.67 Q91.6864 1113.86 86.0382 1119.63 Z\" fill=\"#000000\" fill-rule=\"evenodd\" fill-opacity=\"1\" /><path clip-path=\"url(#clip940)\" d=\"M112.172 1117.68 L117.057 1117.68 L117.057 1123.56 L112.172 1123.56 L112.172 1117.68 Z\" fill=\"#000000\" fill-rule=\"evenodd\" fill-opacity=\"1\" /><path clip-path=\"url(#clip940)\" d=\"M127.288 1089 L145.644 1089 L145.644 1092.94 L131.57 1092.94 L131.57 1101.41 Q132.589 1101.06 133.607 1100.9 Q134.626 1100.71 135.644 1100.71 Q141.431 1100.71 144.811 1103.89 Q148.191 1107.06 148.191 1112.47 Q148.191 1118.05 144.718 1121.15 Q141.246 1124.23 134.927 1124.23 Q132.751 1124.23 130.482 1123.86 Q128.237 1123.49 125.83 1122.75 L125.83 1118.05 Q127.913 1119.19 130.135 1119.74 Q132.357 1120.3 134.834 1120.3 Q138.839 1120.3 141.177 1118.19 Q143.515 1116.08 143.515 1112.47 Q143.515 1108.86 141.177 1106.76 Q138.839 1104.65 134.834 1104.65 Q132.959 1104.65 131.084 1105.07 Q129.232 1105.48 127.288 1106.36 L127.288 1089 Z\" fill=\"#000000\" fill-rule=\"evenodd\" fill-opacity=\"1\" /><path clip-path=\"url(#clip940)\" d=\"M81.0614 749.566 L99.4178 749.566 L99.4178 753.501 L85.3438 753.501 L85.3438 761.973 Q86.3623 761.626 87.3808 761.464 Q88.3993 761.279 89.4178 761.279 Q95.2049 761.279 98.5845 764.45 Q101.964 767.621 101.964 773.038 Q101.964 778.617 98.4919 781.719 Q95.0197 784.797 88.7003 784.797 Q86.5243 784.797 84.2558 784.427 Q82.0105 784.057 79.6031 783.316 L79.6031 778.617 Q81.6864 779.751 83.9086 780.307 Q86.1308 780.862 88.6077 780.862 Q92.6123 780.862 94.9502 778.756 Q97.2882 776.649 97.2882 773.038 Q97.2882 769.427 94.9502 767.321 Q92.6123 765.214 88.6077 765.214 Q86.7327 765.214 84.8577 765.631 Q83.0058 766.047 81.0614 766.927 L81.0614 749.566 Z\" fill=\"#000000\" fill-rule=\"evenodd\" fill-opacity=\"1\" /><path clip-path=\"url(#clip940)\" d=\"M111.177 778.246 L116.061 778.246 L116.061 784.126 L111.177 784.126 L111.177 778.246 Z\" fill=\"#000000\" fill-rule=\"evenodd\" fill-opacity=\"1\" /><path clip-path=\"url(#clip940)\" d=\"M136.246 752.645 Q132.635 752.645 130.807 756.209 Q129.001 759.751 129.001 766.881 Q129.001 773.987 130.807 777.552 Q132.635 781.094 136.246 781.094 Q139.881 781.094 141.686 777.552 Q143.515 773.987 143.515 766.881 Q143.515 759.751 141.686 756.209 Q139.881 752.645 136.246 752.645 M136.246 748.941 Q142.056 748.941 145.112 753.547 Q148.191 758.131 148.191 766.881 Q148.191 775.608 145.112 780.214 Q142.056 784.797 136.246 784.797 Q130.436 784.797 127.357 780.214 Q124.302 775.608 124.302 766.881 Q124.302 758.131 127.357 753.547 Q130.436 748.941 136.246 748.941 Z\" fill=\"#000000\" fill-rule=\"evenodd\" fill-opacity=\"1\" /><path clip-path=\"url(#clip940)\" d=\"M80.8299 410.131 L103.052 410.131 L103.052 412.122 L90.5058 444.691 L85.6216 444.691 L97.4271 414.066 L80.8299 414.066 L80.8299 410.131 Z\" fill=\"#000000\" fill-rule=\"evenodd\" fill-opacity=\"1\" /><path clip-path=\"url(#clip940)\" d=\"M112.172 438.812 L117.057 438.812 L117.057 444.691 L112.172 444.691 L112.172 438.812 Z\" fill=\"#000000\" fill-rule=\"evenodd\" fill-opacity=\"1\" /><path clip-path=\"url(#clip940)\" d=\"M127.288 410.131 L145.644 410.131 L145.644 414.066 L131.57 414.066 L131.57 422.538 Q132.589 422.191 133.607 422.029 Q134.626 421.844 135.644 421.844 Q141.431 421.844 144.811 425.015 Q148.191 428.187 148.191 433.603 Q148.191 439.182 144.718 442.284 Q141.246 445.362 134.927 445.362 Q132.751 445.362 130.482 444.992 Q128.237 444.622 125.83 443.881 L125.83 439.182 Q127.913 440.316 130.135 440.872 Q132.357 441.427 134.834 441.427 Q138.839 441.427 141.177 439.321 Q143.515 437.214 143.515 433.603 Q143.515 429.992 141.177 427.886 Q138.839 425.779 134.834 425.779 Q132.959 425.779 131.084 426.196 Q129.232 426.613 127.288 427.492 L127.288 410.131 Z\" fill=\"#000000\" fill-rule=\"evenodd\" fill-opacity=\"1\" /><path clip-path=\"url(#clip940)\" d=\"M51.6634 101.321 L59.3023 101.321 L59.3023 74.9555 L50.9921 76.6222 L50.9921 72.3629 L59.256 70.6963 L63.9319 70.6963 L63.9319 101.321 L71.5707 101.321 L71.5707 105.256 L51.6634 105.256 L51.6634 101.321 Z\" fill=\"#000000\" fill-rule=\"evenodd\" fill-opacity=\"1\" /><path clip-path=\"url(#clip940)\" d=\"M91.0151 73.775 Q87.404 73.775 85.5753 77.3398 Q83.7697 80.8814 83.7697 88.011 Q83.7697 95.1174 85.5753 98.6822 Q87.404 102.224 91.0151 102.224 Q94.6493 102.224 96.4548 98.6822 Q98.2835 95.1174 98.2835 88.011 Q98.2835 80.8814 96.4548 77.3398 Q94.6493 73.775 91.0151 73.775 M91.0151 70.0713 Q96.8252 70.0713 99.8808 74.6777 Q102.959 79.261 102.959 88.011 Q102.959 96.7378 99.8808 101.344 Q96.8252 105.928 91.0151 105.928 Q85.2049 105.928 82.1262 101.344 Q79.0707 96.7378 79.0707 88.011 Q79.0707 79.261 82.1262 74.6777 Q85.2049 70.0713 91.0151 70.0713 Z\" fill=\"#000000\" fill-rule=\"evenodd\" fill-opacity=\"1\" /><path clip-path=\"url(#clip940)\" d=\"M111.177 99.3767 L116.061 99.3767 L116.061 105.256 L111.177 105.256 L111.177 99.3767 Z\" fill=\"#000000\" fill-rule=\"evenodd\" fill-opacity=\"1\" /><path clip-path=\"url(#clip940)\" d=\"M136.246 73.775 Q132.635 73.775 130.807 77.3398 Q129.001 80.8814 129.001 88.011 Q129.001 95.1174 130.807 98.6822 Q132.635 102.224 136.246 102.224 Q139.881 102.224 141.686 98.6822 Q143.515 95.1174 143.515 88.011 Q143.515 80.8814 141.686 77.3398 Q139.881 73.775 136.246 73.775 M136.246 70.0713 Q142.056 70.0713 145.112 74.6777 Q148.191 79.261 148.191 88.011 Q148.191 96.7378 145.112 101.344 Q142.056 105.928 136.246 105.928 Q130.436 105.928 127.357 101.344 Q124.302 96.7378 124.302 88.011 Q124.302 79.261 127.357 74.6777 Q130.436 70.0713 136.246 70.0713 Z\" fill=\"#000000\" fill-rule=\"evenodd\" fill-opacity=\"1\" /><polyline clip-path=\"url(#clip942)\" style=\"stroke:#009af9; stroke-linecap:round; stroke-linejoin:round; stroke-width:4; stroke-opacity:1; fill:none\" points=\"\n",
       "  245.565,1174.17 255.846,1038.39 266.126,902.62 276.407,766.846 286.687,766.846 296.968,766.846 307.248,631.072 317.529,495.298 327.809,359.524 338.09,223.75 \n",
       "  348.37,223.75 358.65,223.75 368.931,223.75 379.211,223.75 389.492,223.75 399.772,223.75 410.053,87.9763 420.333,87.9763 430.614,87.9763 440.894,87.9763 \n",
       "  451.175,87.9763 461.455,87.9763 471.736,87.9763 482.016,87.9763 492.297,87.9763 502.577,87.9763 512.858,87.9763 523.138,87.9763 533.419,87.9763 543.699,87.9763 \n",
       "  553.98,87.9763 564.26,87.9763 574.541,87.9763 584.821,87.9763 595.102,87.9763 605.382,87.9763 615.663,87.9763 625.943,87.9763 636.224,87.9763 646.504,87.9763 \n",
       "  656.785,87.9763 667.065,87.9763 677.345,87.9763 687.626,87.9763 697.906,87.9763 708.187,87.9763 718.467,87.9763 728.748,87.9763 739.028,87.9763 749.309,87.9763 \n",
       "  759.589,87.9763 769.87,87.9763 780.15,87.9763 790.431,87.9763 800.711,87.9763 810.992,87.9763 821.272,87.9763 831.553,87.9763 841.833,87.9763 852.114,87.9763 \n",
       "  862.394,87.9763 872.675,87.9763 882.955,87.9763 893.236,87.9763 903.516,87.9763 913.797,87.9763 924.077,87.9763 934.358,87.9763 944.638,87.9763 954.919,87.9763 \n",
       "  965.199,87.9763 975.48,87.9763 985.76,87.9763 996.04,87.9763 1006.32,87.9763 1016.6,87.9763 1026.88,87.9763 1037.16,87.9763 1047.44,87.9763 1057.72,87.9763 \n",
       "  1068,87.9763 1078.28,87.9763 1088.56,87.9763 1098.85,87.9763 1109.13,87.9763 1119.41,87.9763 1129.69,87.9763 1139.97,87.9763 1150.25,87.9763 1160.53,87.9763 \n",
       "  1170.81,87.9763 1181.09,87.9763 1191.37,87.9763 1201.65,87.9763 1211.93,87.9763 1222.21,87.9763 1232.49,87.9763 1242.77,87.9763 1253.05,87.9763 1263.33,87.9763 \n",
       "  1273.61,87.9763 1283.89,87.9763 1294.17,87.9763 1304.45,87.9763 1314.74,87.9763 1325.02,87.9763 1335.3,87.9763 1345.58,87.9763 1355.86,87.9763 1366.14,87.9763 \n",
       "  1376.42,87.9763 1386.7,87.9763 1396.98,87.9763 1407.26,87.9763 1417.54,87.9763 1427.82,87.9763 1438.1,87.9763 1448.38,87.9763 1458.66,87.9763 1468.94,87.9763 \n",
       "  1479.22,87.9763 1489.5,87.9763 1499.78,87.9763 1510.06,87.9763 1520.35,87.9763 1530.63,87.9763 1540.91,87.9763 1551.19,87.9763 1561.47,87.9763 1571.75,87.9763 \n",
       "  1582.03,87.9763 1592.31,87.9763 1602.59,87.9763 1612.87,87.9763 1623.15,87.9763 1633.43,87.9763 1643.71,87.9763 1653.99,87.9763 1664.27,87.9763 1674.55,87.9763 \n",
       "  1684.83,87.9763 1695.11,87.9763 1705.39,87.9763 1715.67,87.9763 1725.95,87.9763 1736.24,87.9763 1746.52,87.9763 1756.8,87.9763 1767.08,87.9763 1777.36,87.9763 \n",
       "  1787.64,87.9763 1797.92,87.9763 1808.2,87.9763 1818.48,87.9763 1828.76,87.9763 1839.04,87.9763 1849.32,87.9763 1859.6,87.9763 1869.88,87.9763 1880.16,87.9763 \n",
       "  1890.44,87.9763 1900.72,87.9763 1911,87.9763 1921.28,87.9763 1931.56,87.9763 1941.84,87.9763 1952.13,87.9763 1962.41,87.9763 1972.69,87.9763 1982.97,87.9763 \n",
       "  1993.25,87.9763 2003.53,87.9763 2013.81,87.9763 2024.09,87.9763 2034.37,87.9763 2044.65,87.9763 2054.93,87.9763 2065.21,87.9763 2075.49,87.9763 2085.77,87.9763 \n",
       "  2096.05,87.9763 2106.33,87.9763 2116.61,87.9763 2126.89,87.9763 2137.17,87.9763 2147.45,87.9763 2157.74,87.9763 2168.02,87.9763 2178.3,87.9763 2188.58,87.9763 \n",
       "  2198.86,87.9763 2209.14,87.9763 2219.42,87.9763 2229.7,87.9763 2239.98,87.9763 2250.26,87.9763 2260.54,87.9763 2270.82,87.9763 2281.1,87.9763 2291.38,87.9763 \n",
       "  \n",
       "  \"/>\n",
       "<polyline clip-path=\"url(#clip942)\" style=\"stroke:#e26f46; stroke-linecap:round; stroke-linejoin:round; stroke-width:4; stroke-opacity:1; fill:none\" points=\"\n",
       "  245.565,359.524 255.846,495.298 266.126,631.072 276.407,766.846 286.687,766.846 296.968,766.846 307.248,902.62 317.529,1038.39 327.809,1174.17 338.09,1309.94 \n",
       "  348.37,1309.94 358.65,1309.94 368.931,1309.94 379.211,1309.94 389.492,1309.94 399.772,1309.94 410.053,1445.72 420.333,1445.72 430.614,1445.72 440.894,1445.72 \n",
       "  451.175,1445.72 461.455,1445.72 471.736,1445.72 482.016,1445.72 492.297,1445.72 502.577,1445.72 512.858,1445.72 523.138,1445.72 533.419,1445.72 543.699,1445.72 \n",
       "  553.98,1445.72 564.26,1445.72 574.541,1445.72 584.821,1445.72 595.102,1445.72 605.382,1445.72 615.663,1445.72 625.943,1445.72 636.224,1445.72 646.504,1445.72 \n",
       "  656.785,1445.72 667.065,1445.72 677.345,1445.72 687.626,1445.72 697.906,1445.72 708.187,1445.72 718.467,1445.72 728.748,1445.72 739.028,1445.72 749.309,1445.72 \n",
       "  759.589,1445.72 769.87,1445.72 780.15,1445.72 790.431,1445.72 800.711,1445.72 810.992,1445.72 821.272,1445.72 831.553,1445.72 841.833,1445.72 852.114,1445.72 \n",
       "  862.394,1445.72 872.675,1445.72 882.955,1445.72 893.236,1445.72 903.516,1445.72 913.797,1445.72 924.077,1445.72 934.358,1445.72 944.638,1445.72 954.919,1445.72 \n",
       "  965.199,1445.72 975.48,1445.72 985.76,1445.72 996.04,1445.72 1006.32,1445.72 1016.6,1445.72 1026.88,1445.72 1037.16,1445.72 1047.44,1445.72 1057.72,1445.72 \n",
       "  1068,1445.72 1078.28,1445.72 1088.56,1445.72 1098.85,1445.72 1109.13,1445.72 1119.41,1445.72 1129.69,1445.72 1139.97,1445.72 1150.25,1445.72 1160.53,1445.72 \n",
       "  1170.81,1445.72 1181.09,1445.72 1191.37,1445.72 1201.65,1445.72 1211.93,1445.72 1222.21,1445.72 1232.49,1445.72 1242.77,1445.72 1253.05,1445.72 1263.33,1445.72 \n",
       "  1273.61,1445.72 1283.89,1445.72 1294.17,1445.72 1304.45,1445.72 1314.74,1445.72 1325.02,1445.72 1335.3,1445.72 1345.58,1445.72 1355.86,1445.72 1366.14,1445.72 \n",
       "  1376.42,1445.72 1386.7,1445.72 1396.98,1445.72 1407.26,1445.72 1417.54,1445.72 1427.82,1445.72 1438.1,1445.72 1448.38,1445.72 1458.66,1445.72 1468.94,1445.72 \n",
       "  1479.22,1445.72 1489.5,1445.72 1499.78,1445.72 1510.06,1445.72 1520.35,1445.72 1530.63,1445.72 1540.91,1445.72 1551.19,1445.72 1561.47,1445.72 1571.75,1445.72 \n",
       "  1582.03,1445.72 1592.31,1445.72 1602.59,1445.72 1612.87,1445.72 1623.15,1445.72 1633.43,1445.72 1643.71,1445.72 1653.99,1445.72 1664.27,1445.72 1674.55,1445.72 \n",
       "  1684.83,1445.72 1695.11,1445.72 1705.39,1445.72 1715.67,1445.72 1725.95,1445.72 1736.24,1445.72 1746.52,1445.72 1756.8,1445.72 1767.08,1445.72 1777.36,1445.72 \n",
       "  1787.64,1445.72 1797.92,1445.72 1808.2,1445.72 1818.48,1445.72 1828.76,1445.72 1839.04,1445.72 1849.32,1445.72 1859.6,1445.72 1869.88,1445.72 1880.16,1445.72 \n",
       "  1890.44,1445.72 1900.72,1445.72 1911,1445.72 1921.28,1445.72 1931.56,1445.72 1941.84,1445.72 1952.13,1445.72 1962.41,1445.72 1972.69,1445.72 1982.97,1445.72 \n",
       "  1993.25,1445.72 2003.53,1445.72 2013.81,1445.72 2024.09,1445.72 2034.37,1445.72 2044.65,1445.72 2054.93,1445.72 2065.21,1445.72 2075.49,1445.72 2085.77,1445.72 \n",
       "  2096.05,1445.72 2106.33,1445.72 2116.61,1445.72 2126.89,1445.72 2137.17,1445.72 2147.45,1445.72 2157.74,1445.72 2168.02,1445.72 2178.3,1445.72 2188.58,1445.72 \n",
       "  2198.86,1445.72 2209.14,1445.72 2219.42,1445.72 2229.7,1445.72 2239.98,1445.72 2250.26,1445.72 2260.54,1445.72 2270.82,1445.72 2281.1,1445.72 2291.38,1445.72 \n",
       "  \n",
       "  \"/>\n",
       "<path clip-path=\"url(#clip940)\" d=\"\n",
       "M256.476 250.738 L668.54 250.738 L668.54 95.2176 L256.476 95.2176  Z\n",
       "  \" fill=\"#ffffff\" fill-rule=\"evenodd\" fill-opacity=\"1\"/>\n",
       "<polyline clip-path=\"url(#clip940)\" style=\"stroke:#000000; stroke-linecap:round; stroke-linejoin:round; stroke-width:4; stroke-opacity:1; fill:none\" points=\"\n",
       "  256.476,250.738 668.54,250.738 668.54,95.2176 256.476,95.2176 256.476,250.738 \n",
       "  \"/>\n",
       "<polyline clip-path=\"url(#clip940)\" style=\"stroke:#009af9; stroke-linecap:round; stroke-linejoin:round; stroke-width:4; stroke-opacity:1; fill:none\" points=\"\n",
       "  280.571,147.058 425.142,147.058 \n",
       "  \"/>\n",
       "<path clip-path=\"url(#clip940)\" d=\"M465.071 134.384 L458.728 151.583 L471.436 151.583 L465.071 134.384 M462.432 129.778 L467.733 129.778 L480.904 164.338 L476.043 164.338 L472.895 155.472 L457.316 155.472 L454.168 164.338 L449.238 164.338 L462.432 129.778 Z\" fill=\"#000000\" fill-rule=\"evenodd\" fill-opacity=\"1\" /><path clip-path=\"url(#clip940)\" d=\"M503.589 139.407 L503.589 143.389 Q501.784 142.393 499.955 141.907 Q498.149 141.398 496.297 141.398 Q492.154 141.398 489.862 144.037 Q487.571 146.652 487.571 151.398 Q487.571 156.143 489.862 158.782 Q492.154 161.398 496.297 161.398 Q498.149 161.398 499.955 160.912 Q501.784 160.402 503.589 159.407 L503.589 163.342 Q501.807 164.176 499.885 164.592 Q497.987 165.009 495.835 165.009 Q489.978 165.009 486.529 161.328 Q483.08 157.648 483.08 151.398 Q483.08 145.055 486.552 141.421 Q490.048 137.787 496.112 137.787 Q498.08 137.787 499.955 138.203 Q501.83 138.597 503.589 139.407 Z\" fill=\"#000000\" fill-rule=\"evenodd\" fill-opacity=\"1\" /><path clip-path=\"url(#clip940)\" d=\"M515.209 131.051 L515.209 138.412 L523.983 138.412 L523.983 141.722 L515.209 141.722 L515.209 155.796 Q515.209 158.967 516.066 159.87 Q516.946 160.773 519.608 160.773 L523.983 160.773 L523.983 164.338 L519.608 164.338 Q514.677 164.338 512.802 162.509 Q510.927 160.657 510.927 155.796 L510.927 141.722 L507.802 141.722 L507.802 138.412 L510.927 138.412 L510.927 131.051 L515.209 131.051 Z\" fill=\"#000000\" fill-rule=\"evenodd\" fill-opacity=\"1\" /><path clip-path=\"url(#clip940)\" d=\"M529.584 138.412 L533.844 138.412 L533.844 164.338 L529.584 164.338 L529.584 138.412 M529.584 128.319 L533.844 128.319 L533.844 133.713 L529.584 133.713 L529.584 128.319 Z\" fill=\"#000000\" fill-rule=\"evenodd\" fill-opacity=\"1\" /><path clip-path=\"url(#clip940)\" d=\"M552.802 141.398 Q549.376 141.398 547.385 144.083 Q545.394 146.745 545.394 151.398 Q545.394 156.051 547.362 158.736 Q549.353 161.398 552.802 161.398 Q556.205 161.398 558.195 158.713 Q560.186 156.027 560.186 151.398 Q560.186 146.791 558.195 144.106 Q556.205 141.398 552.802 141.398 M552.802 137.787 Q558.357 137.787 561.529 141.398 Q564.7 145.009 564.7 151.398 Q564.7 157.764 561.529 161.398 Q558.357 165.009 552.802 165.009 Q547.223 165.009 544.052 161.398 Q540.904 157.764 540.904 151.398 Q540.904 145.009 544.052 141.398 Q547.223 137.787 552.802 137.787 Z\" fill=\"#000000\" fill-rule=\"evenodd\" fill-opacity=\"1\" /><path clip-path=\"url(#clip940)\" d=\"M593.311 148.689 L593.311 164.338 L589.052 164.338 L589.052 148.828 Q589.052 145.148 587.616 143.319 Q586.181 141.49 583.311 141.49 Q579.862 141.49 577.871 143.69 Q575.88 145.889 575.88 149.685 L575.88 164.338 L571.598 164.338 L571.598 138.412 L575.88 138.412 L575.88 142.44 Q577.408 140.102 579.468 138.944 Q581.552 137.787 584.26 137.787 Q588.728 137.787 591.019 140.565 Q593.311 143.319 593.311 148.689 Z\" fill=\"#000000\" fill-rule=\"evenodd\" fill-opacity=\"1\" /><path clip-path=\"url(#clip940)\" d=\"M628.612 134.384 L622.269 151.583 L634.977 151.583 L628.612 134.384 M625.973 129.778 L631.274 129.778 L644.445 164.338 L639.584 164.338 L636.436 155.472 L620.857 155.472 L617.709 164.338 L612.778 164.338 L625.973 129.778 Z\" fill=\"#000000\" fill-rule=\"evenodd\" fill-opacity=\"1\" /><polyline clip-path=\"url(#clip940)\" style=\"stroke:#e26f46; stroke-linecap:round; stroke-linejoin:round; stroke-width:4; stroke-opacity:1; fill:none\" points=\"\n",
       "  280.571,198.898 425.142,198.898 \n",
       "  \"/>\n",
       "<path clip-path=\"url(#clip940)\" d=\"M465.071 186.224 L458.728 203.423 L471.436 203.423 L465.071 186.224 M462.432 181.618 L467.733 181.618 L480.904 216.178 L476.043 216.178 L472.895 207.312 L457.316 207.312 L454.168 216.178 L449.238 216.178 L462.432 181.618 Z\" fill=\"#000000\" fill-rule=\"evenodd\" fill-opacity=\"1\" /><path clip-path=\"url(#clip940)\" d=\"M503.589 191.247 L503.589 195.229 Q501.784 194.233 499.955 193.747 Q498.149 193.238 496.297 193.238 Q492.154 193.238 489.862 195.877 Q487.571 198.492 487.571 203.238 Q487.571 207.983 489.862 210.622 Q492.154 213.238 496.297 213.238 Q498.149 213.238 499.955 212.752 Q501.784 212.242 503.589 211.247 L503.589 215.182 Q501.807 216.016 499.885 216.432 Q497.987 216.849 495.835 216.849 Q489.978 216.849 486.529 213.168 Q483.08 209.488 483.08 203.238 Q483.08 196.895 486.552 193.261 Q490.048 189.627 496.112 189.627 Q498.08 189.627 499.955 190.043 Q501.83 190.437 503.589 191.247 Z\" fill=\"#000000\" fill-rule=\"evenodd\" fill-opacity=\"1\" /><path clip-path=\"url(#clip940)\" d=\"M515.209 182.891 L515.209 190.252 L523.983 190.252 L523.983 193.562 L515.209 193.562 L515.209 207.636 Q515.209 210.807 516.066 211.71 Q516.946 212.613 519.608 212.613 L523.983 212.613 L523.983 216.178 L519.608 216.178 Q514.677 216.178 512.802 214.349 Q510.927 212.497 510.927 207.636 L510.927 193.562 L507.802 193.562 L507.802 190.252 L510.927 190.252 L510.927 182.891 L515.209 182.891 Z\" fill=\"#000000\" fill-rule=\"evenodd\" fill-opacity=\"1\" /><path clip-path=\"url(#clip940)\" d=\"M529.584 190.252 L533.844 190.252 L533.844 216.178 L529.584 216.178 L529.584 190.252 M529.584 180.159 L533.844 180.159 L533.844 185.553 L529.584 185.553 L529.584 180.159 Z\" fill=\"#000000\" fill-rule=\"evenodd\" fill-opacity=\"1\" /><path clip-path=\"url(#clip940)\" d=\"M552.802 193.238 Q549.376 193.238 547.385 195.923 Q545.394 198.585 545.394 203.238 Q545.394 207.891 547.362 210.576 Q549.353 213.238 552.802 213.238 Q556.205 213.238 558.195 210.553 Q560.186 207.867 560.186 203.238 Q560.186 198.631 558.195 195.946 Q556.205 193.238 552.802 193.238 M552.802 189.627 Q558.357 189.627 561.529 193.238 Q564.7 196.849 564.7 203.238 Q564.7 209.604 561.529 213.238 Q558.357 216.849 552.802 216.849 Q547.223 216.849 544.052 213.238 Q540.904 209.604 540.904 203.238 Q540.904 196.849 544.052 193.238 Q547.223 189.627 552.802 189.627 Z\" fill=\"#000000\" fill-rule=\"evenodd\" fill-opacity=\"1\" /><path clip-path=\"url(#clip940)\" d=\"M593.311 200.529 L593.311 216.178 L589.052 216.178 L589.052 200.668 Q589.052 196.988 587.616 195.159 Q586.181 193.33 583.311 193.33 Q579.862 193.33 577.871 195.53 Q575.88 197.729 575.88 201.525 L575.88 216.178 L571.598 216.178 L571.598 190.252 L575.88 190.252 L575.88 194.28 Q577.408 191.942 579.468 190.784 Q581.552 189.627 584.26 189.627 Q588.728 189.627 591.019 192.405 Q593.311 195.159 593.311 200.529 Z\" fill=\"#000000\" fill-rule=\"evenodd\" fill-opacity=\"1\" /><path clip-path=\"url(#clip940)\" d=\"M621.737 199.673 L621.737 212.335 L629.237 212.335 Q633.01 212.335 634.815 210.784 Q636.644 209.21 636.644 205.992 Q636.644 202.752 634.815 201.224 Q633.01 199.673 629.237 199.673 L621.737 199.673 M621.737 185.46 L621.737 195.877 L628.658 195.877 Q632.084 195.877 633.75 194.604 Q635.44 193.307 635.44 190.668 Q635.44 188.053 633.75 186.756 Q632.084 185.46 628.658 185.46 L621.737 185.46 M617.061 181.618 L629.005 181.618 Q634.352 181.618 637.246 183.84 Q640.139 186.062 640.139 190.159 Q640.139 193.33 638.658 195.205 Q637.176 197.08 634.306 197.543 Q637.755 198.284 639.653 200.645 Q641.574 202.983 641.574 206.502 Q641.574 211.131 638.426 213.654 Q635.278 216.178 629.468 216.178 L617.061 216.178 L617.061 181.618 Z\" fill=\"#000000\" fill-rule=\"evenodd\" fill-opacity=\"1\" /></svg>\n"
      ]
     },
     "execution_count": 21,
     "metadata": {},
     "output_type": "execute_result"
    }
   ],
   "source": [
    "m = 2\n",
    "x = time_series(sbrd_coor, ts_length, [m, N-m])\n",
    "\n",
    "plot([x[1, :], x[2, :]], label=label_2)"
   ]
  },
  {
   "cell_type": "markdown",
   "metadata": {},
   "source": [
    "#### Young's Game"
   ]
  },
  {
   "cell_type": "code",
   "execution_count": 22,
   "metadata": {},
   "outputs": [
    {
     "data": {
      "text/plain": [
       "SamplingBRD{Int64}(10, 3×3 Player{2, Int64}:\n",
       " 6  0  0\n",
       " 5  7  5\n",
       " 0  5  8, 3, 2)"
      ]
     },
     "execution_count": 22,
     "metadata": {},
     "output_type": "execute_result"
    }
   ],
   "source": [
    "sbrd_young = SamplingBRD(young_game_matrix, N, k)"
   ]
  },
  {
   "cell_type": "code",
   "execution_count": 23,
   "metadata": {},
   "outputs": [
    {
     "data": {
      "image/svg+xml": [
       "<?xml version=\"1.0\" encoding=\"utf-8\"?>\n",
       "<svg xmlns=\"http://www.w3.org/2000/svg\" xmlns:xlink=\"http://www.w3.org/1999/xlink\" width=\"600\" height=\"400\" viewBox=\"0 0 2400 1600\">\n",
       "<defs>\n",
       "  <clipPath id=\"clip980\">\n",
       "    <rect x=\"0\" y=\"0\" width=\"2400\" height=\"1600\"/>\n",
       "  </clipPath>\n",
       "</defs>\n",
       "<path clip-path=\"url(#clip980)\" d=\"\n",
       "M0 1600 L2400 1600 L2400 0 L0 0  Z\n",
       "  \" fill=\"#ffffff\" fill-rule=\"evenodd\" fill-opacity=\"1\"/>\n",
       "<defs>\n",
       "  <clipPath id=\"clip981\">\n",
       "    <rect x=\"480\" y=\"0\" width=\"1681\" height=\"1600\"/>\n",
       "  </clipPath>\n",
       "</defs>\n",
       "<path clip-path=\"url(#clip980)\" d=\"\n",
       "M184.191 1486.45 L2352.76 1486.45 L2352.76 47.2441 L184.191 47.2441  Z\n",
       "  \" fill=\"#ffffff\" fill-rule=\"evenodd\" fill-opacity=\"1\"/>\n",
       "<defs>\n",
       "  <clipPath id=\"clip982\">\n",
       "    <rect x=\"184\" y=\"47\" width=\"2170\" height=\"1440\"/>\n",
       "  </clipPath>\n",
       "</defs>\n",
       "<polyline clip-path=\"url(#clip982)\" style=\"stroke:#000000; stroke-linecap:round; stroke-linejoin:round; stroke-width:2; stroke-opacity:0.1; fill:none\" points=\"\n",
       "  235.285,1486.45 235.285,47.2441 \n",
       "  \"/>\n",
       "<polyline clip-path=\"url(#clip982)\" style=\"stroke:#000000; stroke-linecap:round; stroke-linejoin:round; stroke-width:2; stroke-opacity:0.1; fill:none\" points=\"\n",
       "  749.309,1486.45 749.309,47.2441 \n",
       "  \"/>\n",
       "<polyline clip-path=\"url(#clip982)\" style=\"stroke:#000000; stroke-linecap:round; stroke-linejoin:round; stroke-width:2; stroke-opacity:0.1; fill:none\" points=\"\n",
       "  1263.33,1486.45 1263.33,47.2441 \n",
       "  \"/>\n",
       "<polyline clip-path=\"url(#clip982)\" style=\"stroke:#000000; stroke-linecap:round; stroke-linejoin:round; stroke-width:2; stroke-opacity:0.1; fill:none\" points=\"\n",
       "  1777.36,1486.45 1777.36,47.2441 \n",
       "  \"/>\n",
       "<polyline clip-path=\"url(#clip982)\" style=\"stroke:#000000; stroke-linecap:round; stroke-linejoin:round; stroke-width:2; stroke-opacity:0.1; fill:none\" points=\"\n",
       "  2291.38,1486.45 2291.38,47.2441 \n",
       "  \"/>\n",
       "<polyline clip-path=\"url(#clip980)\" style=\"stroke:#000000; stroke-linecap:round; stroke-linejoin:round; stroke-width:4; stroke-opacity:1; fill:none\" points=\"\n",
       "  184.191,1486.45 2352.76,1486.45 \n",
       "  \"/>\n",
       "<polyline clip-path=\"url(#clip980)\" style=\"stroke:#000000; stroke-linecap:round; stroke-linejoin:round; stroke-width:4; stroke-opacity:1; fill:none\" points=\"\n",
       "  235.285,1486.45 235.285,1467.55 \n",
       "  \"/>\n",
       "<polyline clip-path=\"url(#clip980)\" style=\"stroke:#000000; stroke-linecap:round; stroke-linejoin:round; stroke-width:4; stroke-opacity:1; fill:none\" points=\"\n",
       "  749.309,1486.45 749.309,1467.55 \n",
       "  \"/>\n",
       "<polyline clip-path=\"url(#clip980)\" style=\"stroke:#000000; stroke-linecap:round; stroke-linejoin:round; stroke-width:4; stroke-opacity:1; fill:none\" points=\"\n",
       "  1263.33,1486.45 1263.33,1467.55 \n",
       "  \"/>\n",
       "<polyline clip-path=\"url(#clip980)\" style=\"stroke:#000000; stroke-linecap:round; stroke-linejoin:round; stroke-width:4; stroke-opacity:1; fill:none\" points=\"\n",
       "  1777.36,1486.45 1777.36,1467.55 \n",
       "  \"/>\n",
       "<polyline clip-path=\"url(#clip980)\" style=\"stroke:#000000; stroke-linecap:round; stroke-linejoin:round; stroke-width:4; stroke-opacity:1; fill:none\" points=\"\n",
       "  2291.38,1486.45 2291.38,1467.55 \n",
       "  \"/>\n",
       "<path clip-path=\"url(#clip980)\" d=\"M235.285 1517.37 Q231.674 1517.37 229.845 1520.93 Q228.039 1524.47 228.039 1531.6 Q228.039 1538.71 229.845 1542.27 Q231.674 1545.82 235.285 1545.82 Q238.919 1545.82 240.724 1542.27 Q242.553 1538.71 242.553 1531.6 Q242.553 1524.47 240.724 1520.93 Q238.919 1517.37 235.285 1517.37 M235.285 1513.66 Q241.095 1513.66 244.15 1518.27 Q247.229 1522.85 247.229 1531.6 Q247.229 1540.33 244.15 1544.94 Q241.095 1549.52 235.285 1549.52 Q229.475 1549.52 226.396 1544.94 Q223.34 1540.33 223.34 1531.6 Q223.34 1522.85 226.396 1518.27 Q229.475 1513.66 235.285 1513.66 Z\" fill=\"#000000\" fill-rule=\"evenodd\" fill-opacity=\"1\" /><path clip-path=\"url(#clip980)\" d=\"M724.008 1514.29 L742.364 1514.29 L742.364 1518.22 L728.29 1518.22 L728.29 1526.7 Q729.309 1526.35 730.327 1526.19 Q731.346 1526 732.365 1526 Q738.152 1526 741.531 1529.17 Q744.911 1532.34 744.911 1537.76 Q744.911 1543.34 741.439 1546.44 Q737.966 1549.52 731.647 1549.52 Q729.471 1549.52 727.203 1549.15 Q724.957 1548.78 722.55 1548.04 L722.55 1543.34 Q724.633 1544.47 726.855 1545.03 Q729.077 1545.58 731.554 1545.58 Q735.559 1545.58 737.897 1543.48 Q740.235 1541.37 740.235 1537.76 Q740.235 1534.15 737.897 1532.04 Q735.559 1529.94 731.554 1529.94 Q729.679 1529.94 727.804 1530.35 Q725.953 1530.77 724.008 1531.65 L724.008 1514.29 Z\" fill=\"#000000\" fill-rule=\"evenodd\" fill-opacity=\"1\" /><path clip-path=\"url(#clip980)\" d=\"M764.124 1517.37 Q760.513 1517.37 758.684 1520.93 Q756.878 1524.47 756.878 1531.6 Q756.878 1538.71 758.684 1542.27 Q760.513 1545.82 764.124 1545.82 Q767.758 1545.82 769.563 1542.27 Q771.392 1538.71 771.392 1531.6 Q771.392 1524.47 769.563 1520.93 Q767.758 1517.37 764.124 1517.37 M764.124 1513.66 Q769.934 1513.66 772.989 1518.27 Q776.068 1522.85 776.068 1531.6 Q776.068 1540.33 772.989 1544.94 Q769.934 1549.52 764.124 1549.52 Q758.313 1549.52 755.235 1544.94 Q752.179 1540.33 752.179 1531.6 Q752.179 1522.85 755.235 1518.27 Q758.313 1513.66 764.124 1513.66 Z\" fill=\"#000000\" fill-rule=\"evenodd\" fill-opacity=\"1\" /><path clip-path=\"url(#clip980)\" d=\"M1222.94 1544.91 L1230.58 1544.91 L1230.58 1518.55 L1222.27 1520.21 L1222.27 1515.95 L1230.53 1514.29 L1235.21 1514.29 L1235.21 1544.91 L1242.85 1544.91 L1242.85 1548.85 L1222.94 1548.85 L1222.94 1544.91 Z\" fill=\"#000000\" fill-rule=\"evenodd\" fill-opacity=\"1\" /><path clip-path=\"url(#clip980)\" d=\"M1262.29 1517.37 Q1258.68 1517.37 1256.85 1520.93 Q1255.05 1524.47 1255.05 1531.6 Q1255.05 1538.71 1256.85 1542.27 Q1258.68 1545.82 1262.29 1545.82 Q1265.93 1545.82 1267.73 1542.27 Q1269.56 1538.71 1269.56 1531.6 Q1269.56 1524.47 1267.73 1520.93 Q1265.93 1517.37 1262.29 1517.37 M1262.29 1513.66 Q1268.1 1513.66 1271.16 1518.27 Q1274.24 1522.85 1274.24 1531.6 Q1274.24 1540.33 1271.16 1544.94 Q1268.1 1549.52 1262.29 1549.52 Q1256.48 1549.52 1253.4 1544.94 Q1250.35 1540.33 1250.35 1531.6 Q1250.35 1522.85 1253.4 1518.27 Q1256.48 1513.66 1262.29 1513.66 Z\" fill=\"#000000\" fill-rule=\"evenodd\" fill-opacity=\"1\" /><path clip-path=\"url(#clip980)\" d=\"M1292.45 1517.37 Q1288.84 1517.37 1287.01 1520.93 Q1285.21 1524.47 1285.21 1531.6 Q1285.21 1538.71 1287.01 1542.27 Q1288.84 1545.82 1292.45 1545.82 Q1296.09 1545.82 1297.89 1542.27 Q1299.72 1538.71 1299.72 1531.6 Q1299.72 1524.47 1297.89 1520.93 Q1296.09 1517.37 1292.45 1517.37 M1292.45 1513.66 Q1298.26 1513.66 1301.32 1518.27 Q1304.4 1522.85 1304.4 1531.6 Q1304.4 1540.33 1301.32 1544.94 Q1298.26 1549.52 1292.45 1549.52 Q1286.64 1549.52 1283.56 1544.94 Q1280.51 1540.33 1280.51 1531.6 Q1280.51 1522.85 1283.56 1518.27 Q1286.64 1513.66 1292.45 1513.66 Z\" fill=\"#000000\" fill-rule=\"evenodd\" fill-opacity=\"1\" /><path clip-path=\"url(#clip980)\" d=\"M1736.96 1544.91 L1744.6 1544.91 L1744.6 1518.55 L1736.29 1520.21 L1736.29 1515.95 L1744.56 1514.29 L1749.23 1514.29 L1749.23 1544.91 L1756.87 1544.91 L1756.87 1548.85 L1736.96 1548.85 L1736.96 1544.91 Z\" fill=\"#000000\" fill-rule=\"evenodd\" fill-opacity=\"1\" /><path clip-path=\"url(#clip980)\" d=\"M1766.36 1514.29 L1784.72 1514.29 L1784.72 1518.22 L1770.64 1518.22 L1770.64 1526.7 Q1771.66 1526.35 1772.68 1526.19 Q1773.7 1526 1774.72 1526 Q1780.51 1526 1783.88 1529.17 Q1787.26 1532.34 1787.26 1537.76 Q1787.26 1543.34 1783.79 1546.44 Q1780.32 1549.52 1774 1549.52 Q1771.82 1549.52 1769.56 1549.15 Q1767.31 1548.78 1764.9 1548.04 L1764.9 1543.34 Q1766.99 1544.47 1769.21 1545.03 Q1771.43 1545.58 1773.91 1545.58 Q1777.91 1545.58 1780.25 1543.48 Q1782.59 1541.37 1782.59 1537.76 Q1782.59 1534.15 1780.25 1532.04 Q1777.91 1529.94 1773.91 1529.94 Q1772.03 1529.94 1770.16 1530.35 Q1768.31 1530.77 1766.36 1531.65 L1766.36 1514.29 Z\" fill=\"#000000\" fill-rule=\"evenodd\" fill-opacity=\"1\" /><path clip-path=\"url(#clip980)\" d=\"M1806.48 1517.37 Q1802.87 1517.37 1801.04 1520.93 Q1799.23 1524.47 1799.23 1531.6 Q1799.23 1538.71 1801.04 1542.27 Q1802.87 1545.82 1806.48 1545.82 Q1810.11 1545.82 1811.92 1542.27 Q1813.75 1538.71 1813.75 1531.6 Q1813.75 1524.47 1811.92 1520.93 Q1810.11 1517.37 1806.48 1517.37 M1806.48 1513.66 Q1812.29 1513.66 1815.34 1518.27 Q1818.42 1522.85 1818.42 1531.6 Q1818.42 1540.33 1815.34 1544.94 Q1812.29 1549.52 1806.48 1549.52 Q1800.67 1549.52 1797.59 1544.94 Q1794.53 1540.33 1794.53 1531.6 Q1794.53 1522.85 1797.59 1518.27 Q1800.67 1513.66 1806.48 1513.66 Z\" fill=\"#000000\" fill-rule=\"evenodd\" fill-opacity=\"1\" /><path clip-path=\"url(#clip980)\" d=\"M2255.07 1544.91 L2271.39 1544.91 L2271.39 1548.85 L2249.45 1548.85 L2249.45 1544.91 Q2252.11 1542.16 2256.69 1537.53 Q2261.3 1532.88 2262.48 1531.53 Q2264.73 1529.01 2265.61 1527.27 Q2266.51 1525.51 2266.51 1523.82 Q2266.51 1521.07 2264.56 1519.33 Q2262.64 1517.6 2259.54 1517.6 Q2257.34 1517.6 2254.89 1518.36 Q2252.46 1519.13 2249.68 1520.68 L2249.68 1515.95 Q2252.5 1514.82 2254.96 1514.24 Q2257.41 1513.66 2259.45 1513.66 Q2264.82 1513.66 2268.01 1516.35 Q2271.21 1519.03 2271.21 1523.52 Q2271.21 1525.65 2270.4 1527.57 Q2269.61 1529.47 2267.5 1532.07 Q2266.93 1532.74 2263.82 1535.95 Q2260.72 1539.15 2255.07 1544.91 Z\" fill=\"#000000\" fill-rule=\"evenodd\" fill-opacity=\"1\" /><path clip-path=\"url(#clip980)\" d=\"M2291.21 1517.37 Q2287.6 1517.37 2285.77 1520.93 Q2283.96 1524.47 2283.96 1531.6 Q2283.96 1538.71 2285.77 1542.27 Q2287.6 1545.82 2291.21 1545.82 Q2294.84 1545.82 2296.65 1542.27 Q2298.48 1538.71 2298.48 1531.6 Q2298.48 1524.47 2296.65 1520.93 Q2294.84 1517.37 2291.21 1517.37 M2291.21 1513.66 Q2297.02 1513.66 2300.07 1518.27 Q2303.15 1522.85 2303.15 1531.6 Q2303.15 1540.33 2300.07 1544.94 Q2297.02 1549.52 2291.21 1549.52 Q2285.4 1549.52 2282.32 1544.94 Q2279.26 1540.33 2279.26 1531.6 Q2279.26 1522.85 2282.32 1518.27 Q2285.4 1513.66 2291.21 1513.66 Z\" fill=\"#000000\" fill-rule=\"evenodd\" fill-opacity=\"1\" /><path clip-path=\"url(#clip980)\" d=\"M2321.37 1517.37 Q2317.76 1517.37 2315.93 1520.93 Q2314.12 1524.47 2314.12 1531.6 Q2314.12 1538.71 2315.93 1542.27 Q2317.76 1545.82 2321.37 1545.82 Q2325 1545.82 2326.81 1542.27 Q2328.64 1538.71 2328.64 1531.6 Q2328.64 1524.47 2326.81 1520.93 Q2325 1517.37 2321.37 1517.37 M2321.37 1513.66 Q2327.18 1513.66 2330.24 1518.27 Q2333.31 1522.85 2333.31 1531.6 Q2333.31 1540.33 2330.24 1544.94 Q2327.18 1549.52 2321.37 1549.52 Q2315.56 1549.52 2312.48 1544.94 Q2309.43 1540.33 2309.43 1531.6 Q2309.43 1522.85 2312.48 1518.27 Q2315.56 1513.66 2321.37 1513.66 Z\" fill=\"#000000\" fill-rule=\"evenodd\" fill-opacity=\"1\" /><polyline clip-path=\"url(#clip982)\" style=\"stroke:#000000; stroke-linecap:round; stroke-linejoin:round; stroke-width:2; stroke-opacity:0.1; fill:none\" points=\"\n",
       "  184.191,1445.72 2352.76,1445.72 \n",
       "  \"/>\n",
       "<polyline clip-path=\"url(#clip982)\" style=\"stroke:#000000; stroke-linecap:round; stroke-linejoin:round; stroke-width:2; stroke-opacity:0.1; fill:none\" points=\"\n",
       "  184.191,1106.28 2352.76,1106.28 \n",
       "  \"/>\n",
       "<polyline clip-path=\"url(#clip982)\" style=\"stroke:#000000; stroke-linecap:round; stroke-linejoin:round; stroke-width:2; stroke-opacity:0.1; fill:none\" points=\"\n",
       "  184.191,766.846 2352.76,766.846 \n",
       "  \"/>\n",
       "<polyline clip-path=\"url(#clip982)\" style=\"stroke:#000000; stroke-linecap:round; stroke-linejoin:round; stroke-width:2; stroke-opacity:0.1; fill:none\" points=\"\n",
       "  184.191,427.411 2352.76,427.411 \n",
       "  \"/>\n",
       "<polyline clip-path=\"url(#clip982)\" style=\"stroke:#000000; stroke-linecap:round; stroke-linejoin:round; stroke-width:2; stroke-opacity:0.1; fill:none\" points=\"\n",
       "  184.191,87.9763 2352.76,87.9763 \n",
       "  \"/>\n",
       "<polyline clip-path=\"url(#clip980)\" style=\"stroke:#000000; stroke-linecap:round; stroke-linejoin:round; stroke-width:4; stroke-opacity:1; fill:none\" points=\"\n",
       "  184.191,1486.45 184.191,47.2441 \n",
       "  \"/>\n",
       "<polyline clip-path=\"url(#clip980)\" style=\"stroke:#000000; stroke-linecap:round; stroke-linejoin:round; stroke-width:4; stroke-opacity:1; fill:none\" points=\"\n",
       "  184.191,1445.72 203.088,1445.72 \n",
       "  \"/>\n",
       "<polyline clip-path=\"url(#clip980)\" style=\"stroke:#000000; stroke-linecap:round; stroke-linejoin:round; stroke-width:4; stroke-opacity:1; fill:none\" points=\"\n",
       "  184.191,1106.28 203.088,1106.28 \n",
       "  \"/>\n",
       "<polyline clip-path=\"url(#clip980)\" style=\"stroke:#000000; stroke-linecap:round; stroke-linejoin:round; stroke-width:4; stroke-opacity:1; fill:none\" points=\"\n",
       "  184.191,766.846 203.088,766.846 \n",
       "  \"/>\n",
       "<polyline clip-path=\"url(#clip980)\" style=\"stroke:#000000; stroke-linecap:round; stroke-linejoin:round; stroke-width:4; stroke-opacity:1; fill:none\" points=\"\n",
       "  184.191,427.411 203.088,427.411 \n",
       "  \"/>\n",
       "<polyline clip-path=\"url(#clip980)\" style=\"stroke:#000000; stroke-linecap:round; stroke-linejoin:round; stroke-width:4; stroke-opacity:1; fill:none\" points=\"\n",
       "  184.191,87.9763 203.088,87.9763 \n",
       "  \"/>\n",
       "<path clip-path=\"url(#clip980)\" d=\"M91.0151 1431.51 Q87.404 1431.51 85.5753 1435.08 Q83.7697 1438.62 83.7697 1445.75 Q83.7697 1452.86 85.5753 1456.42 Q87.404 1459.96 91.0151 1459.96 Q94.6493 1459.96 96.4548 1456.42 Q98.2835 1452.86 98.2835 1445.75 Q98.2835 1438.62 96.4548 1435.08 Q94.6493 1431.51 91.0151 1431.51 M91.0151 1427.81 Q96.8252 1427.81 99.8808 1432.42 Q102.959 1437 102.959 1445.75 Q102.959 1454.48 99.8808 1459.08 Q96.8252 1463.67 91.0151 1463.67 Q85.2049 1463.67 82.1262 1459.08 Q79.0707 1454.48 79.0707 1445.75 Q79.0707 1437 82.1262 1432.42 Q85.2049 1427.81 91.0151 1427.81 Z\" fill=\"#000000\" fill-rule=\"evenodd\" fill-opacity=\"1\" /><path clip-path=\"url(#clip980)\" d=\"M111.177 1457.12 L116.061 1457.12 L116.061 1463 L111.177 1463 L111.177 1457.12 Z\" fill=\"#000000\" fill-rule=\"evenodd\" fill-opacity=\"1\" /><path clip-path=\"url(#clip980)\" d=\"M136.246 1431.51 Q132.635 1431.51 130.807 1435.08 Q129.001 1438.62 129.001 1445.75 Q129.001 1452.86 130.807 1456.42 Q132.635 1459.96 136.246 1459.96 Q139.881 1459.96 141.686 1456.42 Q143.515 1452.86 143.515 1445.75 Q143.515 1438.62 141.686 1435.08 Q139.881 1431.51 136.246 1431.51 M136.246 1427.81 Q142.056 1427.81 145.112 1432.42 Q148.191 1437 148.191 1445.75 Q148.191 1454.48 145.112 1459.08 Q142.056 1463.67 136.246 1463.67 Q130.436 1463.67 127.357 1459.08 Q124.302 1454.48 124.302 1445.75 Q124.302 1437 127.357 1432.42 Q130.436 1427.81 136.246 1427.81 Z\" fill=\"#000000\" fill-rule=\"evenodd\" fill-opacity=\"1\" /><path clip-path=\"url(#clip980)\" d=\"M86.0382 1119.63 L102.358 1119.63 L102.358 1123.56 L80.4133 1123.56 L80.4133 1119.63 Q83.0753 1116.87 87.6586 1112.24 Q92.2651 1107.59 93.4456 1106.25 Q95.691 1103.72 96.5706 1101.99 Q97.4734 1100.23 97.4734 1098.54 Q97.4734 1095.78 95.5289 1094.05 Q93.6076 1092.31 90.5058 1092.31 Q88.3067 1092.31 85.8531 1093.07 Q83.4225 1093.84 80.6447 1095.39 L80.6447 1090.67 Q83.4688 1089.53 85.9225 1088.95 Q88.3762 1088.38 90.4132 1088.38 Q95.7836 1088.38 98.978 1091.06 Q102.172 1093.75 102.172 1098.24 Q102.172 1100.37 101.362 1102.29 Q100.575 1104.19 98.4687 1106.78 Q97.89 1107.45 94.7882 1110.67 Q91.6864 1113.86 86.0382 1119.63 Z\" fill=\"#000000\" fill-rule=\"evenodd\" fill-opacity=\"1\" /><path clip-path=\"url(#clip980)\" d=\"M112.172 1117.68 L117.057 1117.68 L117.057 1123.56 L112.172 1123.56 L112.172 1117.68 Z\" fill=\"#000000\" fill-rule=\"evenodd\" fill-opacity=\"1\" /><path clip-path=\"url(#clip980)\" d=\"M127.288 1089 L145.644 1089 L145.644 1092.94 L131.57 1092.94 L131.57 1101.41 Q132.589 1101.06 133.607 1100.9 Q134.626 1100.71 135.644 1100.71 Q141.431 1100.71 144.811 1103.89 Q148.191 1107.06 148.191 1112.47 Q148.191 1118.05 144.718 1121.15 Q141.246 1124.23 134.927 1124.23 Q132.751 1124.23 130.482 1123.86 Q128.237 1123.49 125.83 1122.75 L125.83 1118.05 Q127.913 1119.19 130.135 1119.74 Q132.357 1120.3 134.834 1120.3 Q138.839 1120.3 141.177 1118.19 Q143.515 1116.08 143.515 1112.47 Q143.515 1108.86 141.177 1106.76 Q138.839 1104.65 134.834 1104.65 Q132.959 1104.65 131.084 1105.07 Q129.232 1105.48 127.288 1106.36 L127.288 1089 Z\" fill=\"#000000\" fill-rule=\"evenodd\" fill-opacity=\"1\" /><path clip-path=\"url(#clip980)\" d=\"M81.0614 749.566 L99.4178 749.566 L99.4178 753.501 L85.3438 753.501 L85.3438 761.973 Q86.3623 761.626 87.3808 761.464 Q88.3993 761.279 89.4178 761.279 Q95.2049 761.279 98.5845 764.45 Q101.964 767.621 101.964 773.038 Q101.964 778.617 98.4919 781.719 Q95.0197 784.797 88.7003 784.797 Q86.5243 784.797 84.2558 784.427 Q82.0105 784.057 79.6031 783.316 L79.6031 778.617 Q81.6864 779.751 83.9086 780.307 Q86.1308 780.862 88.6077 780.862 Q92.6123 780.862 94.9502 778.756 Q97.2882 776.649 97.2882 773.038 Q97.2882 769.427 94.9502 767.321 Q92.6123 765.214 88.6077 765.214 Q86.7327 765.214 84.8577 765.631 Q83.0058 766.047 81.0614 766.927 L81.0614 749.566 Z\" fill=\"#000000\" fill-rule=\"evenodd\" fill-opacity=\"1\" /><path clip-path=\"url(#clip980)\" d=\"M111.177 778.246 L116.061 778.246 L116.061 784.126 L111.177 784.126 L111.177 778.246 Z\" fill=\"#000000\" fill-rule=\"evenodd\" fill-opacity=\"1\" /><path clip-path=\"url(#clip980)\" d=\"M136.246 752.645 Q132.635 752.645 130.807 756.209 Q129.001 759.751 129.001 766.881 Q129.001 773.987 130.807 777.552 Q132.635 781.094 136.246 781.094 Q139.881 781.094 141.686 777.552 Q143.515 773.987 143.515 766.881 Q143.515 759.751 141.686 756.209 Q139.881 752.645 136.246 752.645 M136.246 748.941 Q142.056 748.941 145.112 753.547 Q148.191 758.131 148.191 766.881 Q148.191 775.608 145.112 780.214 Q142.056 784.797 136.246 784.797 Q130.436 784.797 127.357 780.214 Q124.302 775.608 124.302 766.881 Q124.302 758.131 127.357 753.547 Q130.436 748.941 136.246 748.941 Z\" fill=\"#000000\" fill-rule=\"evenodd\" fill-opacity=\"1\" /><path clip-path=\"url(#clip980)\" d=\"M80.8299 410.131 L103.052 410.131 L103.052 412.122 L90.5058 444.691 L85.6216 444.691 L97.4271 414.066 L80.8299 414.066 L80.8299 410.131 Z\" fill=\"#000000\" fill-rule=\"evenodd\" fill-opacity=\"1\" /><path clip-path=\"url(#clip980)\" d=\"M112.172 438.812 L117.057 438.812 L117.057 444.691 L112.172 444.691 L112.172 438.812 Z\" fill=\"#000000\" fill-rule=\"evenodd\" fill-opacity=\"1\" /><path clip-path=\"url(#clip980)\" d=\"M127.288 410.131 L145.644 410.131 L145.644 414.066 L131.57 414.066 L131.57 422.538 Q132.589 422.191 133.607 422.029 Q134.626 421.844 135.644 421.844 Q141.431 421.844 144.811 425.015 Q148.191 428.187 148.191 433.603 Q148.191 439.182 144.718 442.284 Q141.246 445.362 134.927 445.362 Q132.751 445.362 130.482 444.992 Q128.237 444.622 125.83 443.881 L125.83 439.182 Q127.913 440.316 130.135 440.872 Q132.357 441.427 134.834 441.427 Q138.839 441.427 141.177 439.321 Q143.515 437.214 143.515 433.603 Q143.515 429.992 141.177 427.886 Q138.839 425.779 134.834 425.779 Q132.959 425.779 131.084 426.196 Q129.232 426.613 127.288 427.492 L127.288 410.131 Z\" fill=\"#000000\" fill-rule=\"evenodd\" fill-opacity=\"1\" /><path clip-path=\"url(#clip980)\" d=\"M51.6634 101.321 L59.3023 101.321 L59.3023 74.9555 L50.9921 76.6222 L50.9921 72.3629 L59.256 70.6963 L63.9319 70.6963 L63.9319 101.321 L71.5707 101.321 L71.5707 105.256 L51.6634 105.256 L51.6634 101.321 Z\" fill=\"#000000\" fill-rule=\"evenodd\" fill-opacity=\"1\" /><path clip-path=\"url(#clip980)\" d=\"M91.0151 73.775 Q87.404 73.775 85.5753 77.3398 Q83.7697 80.8814 83.7697 88.011 Q83.7697 95.1174 85.5753 98.6822 Q87.404 102.224 91.0151 102.224 Q94.6493 102.224 96.4548 98.6822 Q98.2835 95.1174 98.2835 88.011 Q98.2835 80.8814 96.4548 77.3398 Q94.6493 73.775 91.0151 73.775 M91.0151 70.0713 Q96.8252 70.0713 99.8808 74.6777 Q102.959 79.261 102.959 88.011 Q102.959 96.7378 99.8808 101.344 Q96.8252 105.928 91.0151 105.928 Q85.2049 105.928 82.1262 101.344 Q79.0707 96.7378 79.0707 88.011 Q79.0707 79.261 82.1262 74.6777 Q85.2049 70.0713 91.0151 70.0713 Z\" fill=\"#000000\" fill-rule=\"evenodd\" fill-opacity=\"1\" /><path clip-path=\"url(#clip980)\" d=\"M111.177 99.3767 L116.061 99.3767 L116.061 105.256 L111.177 105.256 L111.177 99.3767 Z\" fill=\"#000000\" fill-rule=\"evenodd\" fill-opacity=\"1\" /><path clip-path=\"url(#clip980)\" d=\"M136.246 73.775 Q132.635 73.775 130.807 77.3398 Q129.001 80.8814 129.001 88.011 Q129.001 95.1174 130.807 98.6822 Q132.635 102.224 136.246 102.224 Q139.881 102.224 141.686 98.6822 Q143.515 95.1174 143.515 88.011 Q143.515 80.8814 141.686 77.3398 Q139.881 73.775 136.246 73.775 M136.246 70.0713 Q142.056 70.0713 145.112 74.6777 Q148.191 79.261 148.191 88.011 Q148.191 96.7378 145.112 101.344 Q142.056 105.928 136.246 105.928 Q130.436 105.928 127.357 101.344 Q124.302 96.7378 124.302 88.011 Q124.302 79.261 127.357 74.6777 Q130.436 70.0713 136.246 70.0713 Z\" fill=\"#000000\" fill-rule=\"evenodd\" fill-opacity=\"1\" /><polyline clip-path=\"url(#clip982)\" style=\"stroke:#009af9; stroke-linecap:round; stroke-linejoin:round; stroke-width:4; stroke-opacity:1; fill:none\" points=\"\n",
       "  245.565,631.072 255.846,495.298 266.126,631.072 276.407,766.846 286.687,902.62 296.968,766.846 307.248,631.072 317.529,495.298 327.809,631.072 338.09,495.298 \n",
       "  348.37,359.524 358.65,359.524 368.931,495.298 379.211,631.072 389.492,631.072 399.772,631.072 410.053,631.072 420.333,495.298 430.614,359.524 440.894,359.524 \n",
       "  451.175,495.298 461.455,495.298 471.736,359.524 482.016,359.524 492.297,495.298 502.577,495.298 512.858,495.298 523.138,631.072 533.419,631.072 543.699,766.846 \n",
       "  553.98,902.62 564.26,902.62 574.541,902.62 584.821,902.62 595.102,902.62 605.382,902.62 615.663,766.846 625.943,902.62 636.224,902.62 646.504,766.846 \n",
       "  656.785,902.62 667.065,1038.39 677.345,1038.39 687.626,1174.17 697.906,1174.17 708.187,1174.17 718.467,1309.94 728.748,1309.94 739.028,1309.94 749.309,1309.94 \n",
       "  759.589,1309.94 769.87,1309.94 780.15,1309.94 790.431,1309.94 800.711,1309.94 810.992,1309.94 821.272,1445.72 831.553,1445.72 841.833,1445.72 852.114,1445.72 \n",
       "  862.394,1445.72 872.675,1445.72 882.955,1445.72 893.236,1445.72 903.516,1445.72 913.797,1445.72 924.077,1445.72 934.358,1445.72 944.638,1445.72 954.919,1445.72 \n",
       "  965.199,1445.72 975.48,1445.72 985.76,1445.72 996.04,1445.72 1006.32,1445.72 1016.6,1445.72 1026.88,1445.72 1037.16,1445.72 1047.44,1445.72 1057.72,1445.72 \n",
       "  1068,1445.72 1078.28,1445.72 1088.56,1445.72 1098.85,1445.72 1109.13,1445.72 1119.41,1445.72 1129.69,1445.72 1139.97,1445.72 1150.25,1445.72 1160.53,1445.72 \n",
       "  1170.81,1445.72 1181.09,1445.72 1191.37,1445.72 1201.65,1445.72 1211.93,1445.72 1222.21,1445.72 1232.49,1445.72 1242.77,1445.72 1253.05,1445.72 1263.33,1445.72 \n",
       "  1273.61,1445.72 1283.89,1445.72 1294.17,1445.72 1304.45,1445.72 1314.74,1445.72 1325.02,1445.72 1335.3,1445.72 1345.58,1445.72 1355.86,1445.72 1366.14,1445.72 \n",
       "  1376.42,1445.72 1386.7,1445.72 1396.98,1445.72 1407.26,1445.72 1417.54,1445.72 1427.82,1445.72 1438.1,1445.72 1448.38,1445.72 1458.66,1445.72 1468.94,1445.72 \n",
       "  1479.22,1445.72 1489.5,1445.72 1499.78,1445.72 1510.06,1445.72 1520.35,1445.72 1530.63,1445.72 1540.91,1445.72 1551.19,1445.72 1561.47,1445.72 1571.75,1445.72 \n",
       "  1582.03,1445.72 1592.31,1445.72 1602.59,1445.72 1612.87,1445.72 1623.15,1445.72 1633.43,1445.72 1643.71,1445.72 1653.99,1445.72 1664.27,1445.72 1674.55,1445.72 \n",
       "  1684.83,1445.72 1695.11,1445.72 1705.39,1445.72 1715.67,1445.72 1725.95,1445.72 1736.24,1445.72 1746.52,1445.72 1756.8,1445.72 1767.08,1445.72 1777.36,1445.72 \n",
       "  1787.64,1445.72 1797.92,1445.72 1808.2,1445.72 1818.48,1445.72 1828.76,1445.72 1839.04,1445.72 1849.32,1445.72 1859.6,1445.72 1869.88,1445.72 1880.16,1445.72 \n",
       "  1890.44,1445.72 1900.72,1445.72 1911,1445.72 1921.28,1445.72 1931.56,1445.72 1941.84,1445.72 1952.13,1445.72 1962.41,1445.72 1972.69,1445.72 1982.97,1445.72 \n",
       "  1993.25,1445.72 2003.53,1445.72 2013.81,1445.72 2024.09,1445.72 2034.37,1445.72 2044.65,1445.72 2054.93,1445.72 2065.21,1445.72 2075.49,1445.72 2085.77,1445.72 \n",
       "  2096.05,1445.72 2106.33,1445.72 2116.61,1445.72 2126.89,1445.72 2137.17,1445.72 2147.45,1445.72 2157.74,1445.72 2168.02,1445.72 2178.3,1445.72 2188.58,1445.72 \n",
       "  2198.86,1445.72 2209.14,1445.72 2219.42,1445.72 2229.7,1445.72 2239.98,1445.72 2250.26,1445.72 2260.54,1445.72 2270.82,1445.72 2281.1,1445.72 2291.38,1445.72 \n",
       "  \n",
       "  \"/>\n",
       "<polyline clip-path=\"url(#clip982)\" style=\"stroke:#e26f46; stroke-linecap:round; stroke-linejoin:round; stroke-width:4; stroke-opacity:1; fill:none\" points=\"\n",
       "  245.565,1174.17 255.846,1309.94 266.126,1309.94 276.407,1174.17 286.687,1174.17 296.968,1309.94 307.248,1309.94 317.529,1309.94 327.809,1174.17 338.09,1309.94 \n",
       "  348.37,1445.72 358.65,1309.94 368.931,1174.17 379.211,1038.39 389.492,1038.39 399.772,1038.39 410.053,1038.39 420.333,1174.17 430.614,1309.94 440.894,1309.94 \n",
       "  451.175,1174.17 461.455,1174.17 471.736,1174.17 482.016,1174.17 492.297,1038.39 502.577,1038.39 512.858,1038.39 523.138,902.62 533.419,902.62 543.699,766.846 \n",
       "  553.98,631.072 564.26,631.072 574.541,631.072 584.821,631.072 595.102,631.072 605.382,631.072 615.663,766.846 625.943,631.072 636.224,631.072 646.504,766.846 \n",
       "  656.785,631.072 667.065,495.298 677.345,495.298 687.626,359.524 697.906,359.524 708.187,359.524 718.467,223.75 728.748,223.75 739.028,223.75 749.309,223.75 \n",
       "  759.589,223.75 769.87,223.75 780.15,223.75 790.431,223.75 800.711,223.75 810.992,223.75 821.272,87.9763 831.553,87.9763 841.833,87.9763 852.114,87.9763 \n",
       "  862.394,87.9763 872.675,87.9763 882.955,87.9763 893.236,87.9763 903.516,87.9763 913.797,87.9763 924.077,87.9763 934.358,87.9763 944.638,87.9763 954.919,87.9763 \n",
       "  965.199,87.9763 975.48,87.9763 985.76,87.9763 996.04,87.9763 1006.32,87.9763 1016.6,87.9763 1026.88,87.9763 1037.16,87.9763 1047.44,87.9763 1057.72,87.9763 \n",
       "  1068,87.9763 1078.28,87.9763 1088.56,87.9763 1098.85,87.9763 1109.13,87.9763 1119.41,87.9763 1129.69,87.9763 1139.97,87.9763 1150.25,87.9763 1160.53,87.9763 \n",
       "  1170.81,87.9763 1181.09,87.9763 1191.37,87.9763 1201.65,87.9763 1211.93,87.9763 1222.21,87.9763 1232.49,87.9763 1242.77,87.9763 1253.05,87.9763 1263.33,87.9763 \n",
       "  1273.61,87.9763 1283.89,87.9763 1294.17,87.9763 1304.45,87.9763 1314.74,87.9763 1325.02,87.9763 1335.3,87.9763 1345.58,87.9763 1355.86,87.9763 1366.14,87.9763 \n",
       "  1376.42,87.9763 1386.7,87.9763 1396.98,87.9763 1407.26,87.9763 1417.54,87.9763 1427.82,87.9763 1438.1,87.9763 1448.38,87.9763 1458.66,87.9763 1468.94,87.9763 \n",
       "  1479.22,87.9763 1489.5,87.9763 1499.78,87.9763 1510.06,87.9763 1520.35,87.9763 1530.63,87.9763 1540.91,87.9763 1551.19,87.9763 1561.47,87.9763 1571.75,87.9763 \n",
       "  1582.03,87.9763 1592.31,87.9763 1602.59,87.9763 1612.87,87.9763 1623.15,87.9763 1633.43,87.9763 1643.71,87.9763 1653.99,87.9763 1664.27,87.9763 1674.55,87.9763 \n",
       "  1684.83,87.9763 1695.11,87.9763 1705.39,87.9763 1715.67,87.9763 1725.95,87.9763 1736.24,87.9763 1746.52,87.9763 1756.8,87.9763 1767.08,87.9763 1777.36,87.9763 \n",
       "  1787.64,87.9763 1797.92,87.9763 1808.2,87.9763 1818.48,87.9763 1828.76,87.9763 1839.04,87.9763 1849.32,87.9763 1859.6,87.9763 1869.88,87.9763 1880.16,87.9763 \n",
       "  1890.44,87.9763 1900.72,87.9763 1911,87.9763 1921.28,87.9763 1931.56,87.9763 1941.84,87.9763 1952.13,87.9763 1962.41,87.9763 1972.69,87.9763 1982.97,87.9763 \n",
       "  1993.25,87.9763 2003.53,87.9763 2013.81,87.9763 2024.09,87.9763 2034.37,87.9763 2044.65,87.9763 2054.93,87.9763 2065.21,87.9763 2075.49,87.9763 2085.77,87.9763 \n",
       "  2096.05,87.9763 2106.33,87.9763 2116.61,87.9763 2126.89,87.9763 2137.17,87.9763 2147.45,87.9763 2157.74,87.9763 2168.02,87.9763 2178.3,87.9763 2188.58,87.9763 \n",
       "  2198.86,87.9763 2209.14,87.9763 2219.42,87.9763 2229.7,87.9763 2239.98,87.9763 2250.26,87.9763 2260.54,87.9763 2270.82,87.9763 2281.1,87.9763 2291.38,87.9763 \n",
       "  \n",
       "  \"/>\n",
       "<polyline clip-path=\"url(#clip982)\" style=\"stroke:#3da44d; stroke-linecap:round; stroke-linejoin:round; stroke-width:4; stroke-opacity:1; fill:none\" points=\"\n",
       "  245.565,1174.17 255.846,1174.17 266.126,1038.39 276.407,1038.39 286.687,902.62 296.968,902.62 307.248,1038.39 317.529,1174.17 327.809,1174.17 338.09,1174.17 \n",
       "  348.37,1174.17 358.65,1309.94 368.931,1309.94 379.211,1309.94 389.492,1309.94 399.772,1309.94 410.053,1309.94 420.333,1309.94 430.614,1309.94 440.894,1309.94 \n",
       "  451.175,1309.94 461.455,1309.94 471.736,1445.72 482.016,1445.72 492.297,1445.72 502.577,1445.72 512.858,1445.72 523.138,1445.72 533.419,1445.72 543.699,1445.72 \n",
       "  553.98,1445.72 564.26,1445.72 574.541,1445.72 584.821,1445.72 595.102,1445.72 605.382,1445.72 615.663,1445.72 625.943,1445.72 636.224,1445.72 646.504,1445.72 \n",
       "  656.785,1445.72 667.065,1445.72 677.345,1445.72 687.626,1445.72 697.906,1445.72 708.187,1445.72 718.467,1445.72 728.748,1445.72 739.028,1445.72 749.309,1445.72 \n",
       "  759.589,1445.72 769.87,1445.72 780.15,1445.72 790.431,1445.72 800.711,1445.72 810.992,1445.72 821.272,1445.72 831.553,1445.72 841.833,1445.72 852.114,1445.72 \n",
       "  862.394,1445.72 872.675,1445.72 882.955,1445.72 893.236,1445.72 903.516,1445.72 913.797,1445.72 924.077,1445.72 934.358,1445.72 944.638,1445.72 954.919,1445.72 \n",
       "  965.199,1445.72 975.48,1445.72 985.76,1445.72 996.04,1445.72 1006.32,1445.72 1016.6,1445.72 1026.88,1445.72 1037.16,1445.72 1047.44,1445.72 1057.72,1445.72 \n",
       "  1068,1445.72 1078.28,1445.72 1088.56,1445.72 1098.85,1445.72 1109.13,1445.72 1119.41,1445.72 1129.69,1445.72 1139.97,1445.72 1150.25,1445.72 1160.53,1445.72 \n",
       "  1170.81,1445.72 1181.09,1445.72 1191.37,1445.72 1201.65,1445.72 1211.93,1445.72 1222.21,1445.72 1232.49,1445.72 1242.77,1445.72 1253.05,1445.72 1263.33,1445.72 \n",
       "  1273.61,1445.72 1283.89,1445.72 1294.17,1445.72 1304.45,1445.72 1314.74,1445.72 1325.02,1445.72 1335.3,1445.72 1345.58,1445.72 1355.86,1445.72 1366.14,1445.72 \n",
       "  1376.42,1445.72 1386.7,1445.72 1396.98,1445.72 1407.26,1445.72 1417.54,1445.72 1427.82,1445.72 1438.1,1445.72 1448.38,1445.72 1458.66,1445.72 1468.94,1445.72 \n",
       "  1479.22,1445.72 1489.5,1445.72 1499.78,1445.72 1510.06,1445.72 1520.35,1445.72 1530.63,1445.72 1540.91,1445.72 1551.19,1445.72 1561.47,1445.72 1571.75,1445.72 \n",
       "  1582.03,1445.72 1592.31,1445.72 1602.59,1445.72 1612.87,1445.72 1623.15,1445.72 1633.43,1445.72 1643.71,1445.72 1653.99,1445.72 1664.27,1445.72 1674.55,1445.72 \n",
       "  1684.83,1445.72 1695.11,1445.72 1705.39,1445.72 1715.67,1445.72 1725.95,1445.72 1736.24,1445.72 1746.52,1445.72 1756.8,1445.72 1767.08,1445.72 1777.36,1445.72 \n",
       "  1787.64,1445.72 1797.92,1445.72 1808.2,1445.72 1818.48,1445.72 1828.76,1445.72 1839.04,1445.72 1849.32,1445.72 1859.6,1445.72 1869.88,1445.72 1880.16,1445.72 \n",
       "  1890.44,1445.72 1900.72,1445.72 1911,1445.72 1921.28,1445.72 1931.56,1445.72 1941.84,1445.72 1952.13,1445.72 1962.41,1445.72 1972.69,1445.72 1982.97,1445.72 \n",
       "  1993.25,1445.72 2003.53,1445.72 2013.81,1445.72 2024.09,1445.72 2034.37,1445.72 2044.65,1445.72 2054.93,1445.72 2065.21,1445.72 2075.49,1445.72 2085.77,1445.72 \n",
       "  2096.05,1445.72 2106.33,1445.72 2116.61,1445.72 2126.89,1445.72 2137.17,1445.72 2147.45,1445.72 2157.74,1445.72 2168.02,1445.72 2178.3,1445.72 2188.58,1445.72 \n",
       "  2198.86,1445.72 2209.14,1445.72 2219.42,1445.72 2229.7,1445.72 2239.98,1445.72 2250.26,1445.72 2260.54,1445.72 2270.82,1445.72 2281.1,1445.72 2291.38,1445.72 \n",
       "  \n",
       "  \"/>\n",
       "<path clip-path=\"url(#clip980)\" d=\"\n",
       "M256.476 302.578 L668.54 302.578 L668.54 95.2176 L256.476 95.2176  Z\n",
       "  \" fill=\"#ffffff\" fill-rule=\"evenodd\" fill-opacity=\"1\"/>\n",
       "<polyline clip-path=\"url(#clip980)\" style=\"stroke:#000000; stroke-linecap:round; stroke-linejoin:round; stroke-width:4; stroke-opacity:1; fill:none\" points=\"\n",
       "  256.476,302.578 668.54,302.578 668.54,95.2176 256.476,95.2176 256.476,302.578 \n",
       "  \"/>\n",
       "<polyline clip-path=\"url(#clip980)\" style=\"stroke:#009af9; stroke-linecap:round; stroke-linejoin:round; stroke-width:4; stroke-opacity:1; fill:none\" points=\"\n",
       "  280.571,147.058 425.142,147.058 \n",
       "  \"/>\n",
       "<path clip-path=\"url(#clip980)\" d=\"M465.071 134.384 L458.728 151.583 L471.436 151.583 L465.071 134.384 M462.432 129.778 L467.733 129.778 L480.904 164.338 L476.043 164.338 L472.895 155.472 L457.316 155.472 L454.168 164.338 L449.238 164.338 L462.432 129.778 Z\" fill=\"#000000\" fill-rule=\"evenodd\" fill-opacity=\"1\" /><path clip-path=\"url(#clip980)\" d=\"M503.589 139.407 L503.589 143.389 Q501.784 142.393 499.955 141.907 Q498.149 141.398 496.297 141.398 Q492.154 141.398 489.862 144.037 Q487.571 146.652 487.571 151.398 Q487.571 156.143 489.862 158.782 Q492.154 161.398 496.297 161.398 Q498.149 161.398 499.955 160.912 Q501.784 160.402 503.589 159.407 L503.589 163.342 Q501.807 164.176 499.885 164.592 Q497.987 165.009 495.835 165.009 Q489.978 165.009 486.529 161.328 Q483.08 157.648 483.08 151.398 Q483.08 145.055 486.552 141.421 Q490.048 137.787 496.112 137.787 Q498.08 137.787 499.955 138.203 Q501.83 138.597 503.589 139.407 Z\" fill=\"#000000\" fill-rule=\"evenodd\" fill-opacity=\"1\" /><path clip-path=\"url(#clip980)\" d=\"M515.209 131.051 L515.209 138.412 L523.983 138.412 L523.983 141.722 L515.209 141.722 L515.209 155.796 Q515.209 158.967 516.066 159.87 Q516.946 160.773 519.608 160.773 L523.983 160.773 L523.983 164.338 L519.608 164.338 Q514.677 164.338 512.802 162.509 Q510.927 160.657 510.927 155.796 L510.927 141.722 L507.802 141.722 L507.802 138.412 L510.927 138.412 L510.927 131.051 L515.209 131.051 Z\" fill=\"#000000\" fill-rule=\"evenodd\" fill-opacity=\"1\" /><path clip-path=\"url(#clip980)\" d=\"M529.584 138.412 L533.844 138.412 L533.844 164.338 L529.584 164.338 L529.584 138.412 M529.584 128.319 L533.844 128.319 L533.844 133.713 L529.584 133.713 L529.584 128.319 Z\" fill=\"#000000\" fill-rule=\"evenodd\" fill-opacity=\"1\" /><path clip-path=\"url(#clip980)\" d=\"M552.802 141.398 Q549.376 141.398 547.385 144.083 Q545.394 146.745 545.394 151.398 Q545.394 156.051 547.362 158.736 Q549.353 161.398 552.802 161.398 Q556.205 161.398 558.195 158.713 Q560.186 156.027 560.186 151.398 Q560.186 146.791 558.195 144.106 Q556.205 141.398 552.802 141.398 M552.802 137.787 Q558.357 137.787 561.529 141.398 Q564.7 145.009 564.7 151.398 Q564.7 157.764 561.529 161.398 Q558.357 165.009 552.802 165.009 Q547.223 165.009 544.052 161.398 Q540.904 157.764 540.904 151.398 Q540.904 145.009 544.052 141.398 Q547.223 137.787 552.802 137.787 Z\" fill=\"#000000\" fill-rule=\"evenodd\" fill-opacity=\"1\" /><path clip-path=\"url(#clip980)\" d=\"M593.311 148.689 L593.311 164.338 L589.052 164.338 L589.052 148.828 Q589.052 145.148 587.616 143.319 Q586.181 141.49 583.311 141.49 Q579.862 141.49 577.871 143.69 Q575.88 145.889 575.88 149.685 L575.88 164.338 L571.598 164.338 L571.598 138.412 L575.88 138.412 L575.88 142.44 Q577.408 140.102 579.468 138.944 Q581.552 137.787 584.26 137.787 Q588.728 137.787 591.019 140.565 Q593.311 143.319 593.311 148.689 Z\" fill=\"#000000\" fill-rule=\"evenodd\" fill-opacity=\"1\" /><path clip-path=\"url(#clip980)\" d=\"M628.612 134.384 L622.269 151.583 L634.977 151.583 L628.612 134.384 M625.973 129.778 L631.274 129.778 L644.445 164.338 L639.584 164.338 L636.436 155.472 L620.857 155.472 L617.709 164.338 L612.778 164.338 L625.973 129.778 Z\" fill=\"#000000\" fill-rule=\"evenodd\" fill-opacity=\"1\" /><polyline clip-path=\"url(#clip980)\" style=\"stroke:#e26f46; stroke-linecap:round; stroke-linejoin:round; stroke-width:4; stroke-opacity:1; fill:none\" points=\"\n",
       "  280.571,198.898 425.142,198.898 \n",
       "  \"/>\n",
       "<path clip-path=\"url(#clip980)\" d=\"M465.071 186.224 L458.728 203.423 L471.436 203.423 L465.071 186.224 M462.432 181.618 L467.733 181.618 L480.904 216.178 L476.043 216.178 L472.895 207.312 L457.316 207.312 L454.168 216.178 L449.238 216.178 L462.432 181.618 Z\" fill=\"#000000\" fill-rule=\"evenodd\" fill-opacity=\"1\" /><path clip-path=\"url(#clip980)\" d=\"M503.589 191.247 L503.589 195.229 Q501.784 194.233 499.955 193.747 Q498.149 193.238 496.297 193.238 Q492.154 193.238 489.862 195.877 Q487.571 198.492 487.571 203.238 Q487.571 207.983 489.862 210.622 Q492.154 213.238 496.297 213.238 Q498.149 213.238 499.955 212.752 Q501.784 212.242 503.589 211.247 L503.589 215.182 Q501.807 216.016 499.885 216.432 Q497.987 216.849 495.835 216.849 Q489.978 216.849 486.529 213.168 Q483.08 209.488 483.08 203.238 Q483.08 196.895 486.552 193.261 Q490.048 189.627 496.112 189.627 Q498.08 189.627 499.955 190.043 Q501.83 190.437 503.589 191.247 Z\" fill=\"#000000\" fill-rule=\"evenodd\" fill-opacity=\"1\" /><path clip-path=\"url(#clip980)\" d=\"M515.209 182.891 L515.209 190.252 L523.983 190.252 L523.983 193.562 L515.209 193.562 L515.209 207.636 Q515.209 210.807 516.066 211.71 Q516.946 212.613 519.608 212.613 L523.983 212.613 L523.983 216.178 L519.608 216.178 Q514.677 216.178 512.802 214.349 Q510.927 212.497 510.927 207.636 L510.927 193.562 L507.802 193.562 L507.802 190.252 L510.927 190.252 L510.927 182.891 L515.209 182.891 Z\" fill=\"#000000\" fill-rule=\"evenodd\" fill-opacity=\"1\" /><path clip-path=\"url(#clip980)\" d=\"M529.584 190.252 L533.844 190.252 L533.844 216.178 L529.584 216.178 L529.584 190.252 M529.584 180.159 L533.844 180.159 L533.844 185.553 L529.584 185.553 L529.584 180.159 Z\" fill=\"#000000\" fill-rule=\"evenodd\" fill-opacity=\"1\" /><path clip-path=\"url(#clip980)\" d=\"M552.802 193.238 Q549.376 193.238 547.385 195.923 Q545.394 198.585 545.394 203.238 Q545.394 207.891 547.362 210.576 Q549.353 213.238 552.802 213.238 Q556.205 213.238 558.195 210.553 Q560.186 207.867 560.186 203.238 Q560.186 198.631 558.195 195.946 Q556.205 193.238 552.802 193.238 M552.802 189.627 Q558.357 189.627 561.529 193.238 Q564.7 196.849 564.7 203.238 Q564.7 209.604 561.529 213.238 Q558.357 216.849 552.802 216.849 Q547.223 216.849 544.052 213.238 Q540.904 209.604 540.904 203.238 Q540.904 196.849 544.052 193.238 Q547.223 189.627 552.802 189.627 Z\" fill=\"#000000\" fill-rule=\"evenodd\" fill-opacity=\"1\" /><path clip-path=\"url(#clip980)\" d=\"M593.311 200.529 L593.311 216.178 L589.052 216.178 L589.052 200.668 Q589.052 196.988 587.616 195.159 Q586.181 193.33 583.311 193.33 Q579.862 193.33 577.871 195.53 Q575.88 197.729 575.88 201.525 L575.88 216.178 L571.598 216.178 L571.598 190.252 L575.88 190.252 L575.88 194.28 Q577.408 191.942 579.468 190.784 Q581.552 189.627 584.26 189.627 Q588.728 189.627 591.019 192.405 Q593.311 195.159 593.311 200.529 Z\" fill=\"#000000\" fill-rule=\"evenodd\" fill-opacity=\"1\" /><path clip-path=\"url(#clip980)\" d=\"M621.737 199.673 L621.737 212.335 L629.237 212.335 Q633.01 212.335 634.815 210.784 Q636.644 209.21 636.644 205.992 Q636.644 202.752 634.815 201.224 Q633.01 199.673 629.237 199.673 L621.737 199.673 M621.737 185.46 L621.737 195.877 L628.658 195.877 Q632.084 195.877 633.75 194.604 Q635.44 193.307 635.44 190.668 Q635.44 188.053 633.75 186.756 Q632.084 185.46 628.658 185.46 L621.737 185.46 M617.061 181.618 L629.005 181.618 Q634.352 181.618 637.246 183.84 Q640.139 186.062 640.139 190.159 Q640.139 193.33 638.658 195.205 Q637.176 197.08 634.306 197.543 Q637.755 198.284 639.653 200.645 Q641.574 202.983 641.574 206.502 Q641.574 211.131 638.426 213.654 Q635.278 216.178 629.468 216.178 L617.061 216.178 L617.061 181.618 Z\" fill=\"#000000\" fill-rule=\"evenodd\" fill-opacity=\"1\" /><polyline clip-path=\"url(#clip980)\" style=\"stroke:#3da44d; stroke-linecap:round; stroke-linejoin:round; stroke-width:4; stroke-opacity:1; fill:none\" points=\"\n",
       "  280.571,250.738 425.142,250.738 \n",
       "  \"/>\n",
       "<path clip-path=\"url(#clip980)\" d=\"M465.071 238.064 L458.728 255.263 L471.436 255.263 L465.071 238.064 M462.432 233.458 L467.733 233.458 L480.904 268.018 L476.043 268.018 L472.895 259.152 L457.316 259.152 L454.168 268.018 L449.238 268.018 L462.432 233.458 Z\" fill=\"#000000\" fill-rule=\"evenodd\" fill-opacity=\"1\" /><path clip-path=\"url(#clip980)\" d=\"M503.589 243.087 L503.589 247.069 Q501.784 246.073 499.955 245.587 Q498.149 245.078 496.297 245.078 Q492.154 245.078 489.862 247.717 Q487.571 250.332 487.571 255.078 Q487.571 259.823 489.862 262.462 Q492.154 265.078 496.297 265.078 Q498.149 265.078 499.955 264.592 Q501.784 264.082 503.589 263.087 L503.589 267.022 Q501.807 267.856 499.885 268.272 Q497.987 268.689 495.835 268.689 Q489.978 268.689 486.529 265.008 Q483.08 261.328 483.08 255.078 Q483.08 248.735 486.552 245.101 Q490.048 241.467 496.112 241.467 Q498.08 241.467 499.955 241.883 Q501.83 242.277 503.589 243.087 Z\" fill=\"#000000\" fill-rule=\"evenodd\" fill-opacity=\"1\" /><path clip-path=\"url(#clip980)\" d=\"M515.209 234.731 L515.209 242.092 L523.983 242.092 L523.983 245.402 L515.209 245.402 L515.209 259.476 Q515.209 262.647 516.066 263.55 Q516.946 264.453 519.608 264.453 L523.983 264.453 L523.983 268.018 L519.608 268.018 Q514.677 268.018 512.802 266.189 Q510.927 264.337 510.927 259.476 L510.927 245.402 L507.802 245.402 L507.802 242.092 L510.927 242.092 L510.927 234.731 L515.209 234.731 Z\" fill=\"#000000\" fill-rule=\"evenodd\" fill-opacity=\"1\" /><path clip-path=\"url(#clip980)\" d=\"M529.584 242.092 L533.844 242.092 L533.844 268.018 L529.584 268.018 L529.584 242.092 M529.584 231.999 L533.844 231.999 L533.844 237.393 L529.584 237.393 L529.584 231.999 Z\" fill=\"#000000\" fill-rule=\"evenodd\" fill-opacity=\"1\" /><path clip-path=\"url(#clip980)\" d=\"M552.802 245.078 Q549.376 245.078 547.385 247.763 Q545.394 250.425 545.394 255.078 Q545.394 259.731 547.362 262.416 Q549.353 265.078 552.802 265.078 Q556.205 265.078 558.195 262.393 Q560.186 259.707 560.186 255.078 Q560.186 250.471 558.195 247.786 Q556.205 245.078 552.802 245.078 M552.802 241.467 Q558.357 241.467 561.529 245.078 Q564.7 248.689 564.7 255.078 Q564.7 261.444 561.529 265.078 Q558.357 268.689 552.802 268.689 Q547.223 268.689 544.052 265.078 Q540.904 261.444 540.904 255.078 Q540.904 248.689 544.052 245.078 Q547.223 241.467 552.802 241.467 Z\" fill=\"#000000\" fill-rule=\"evenodd\" fill-opacity=\"1\" /><path clip-path=\"url(#clip980)\" d=\"M593.311 252.369 L593.311 268.018 L589.052 268.018 L589.052 252.508 Q589.052 248.828 587.616 246.999 Q586.181 245.17 583.311 245.17 Q579.862 245.17 577.871 247.37 Q575.88 249.569 575.88 253.365 L575.88 268.018 L571.598 268.018 L571.598 242.092 L575.88 242.092 L575.88 246.12 Q577.408 243.782 579.468 242.624 Q581.552 241.467 584.26 241.467 Q588.728 241.467 591.019 244.245 Q593.311 246.999 593.311 252.369 Z\" fill=\"#000000\" fill-rule=\"evenodd\" fill-opacity=\"1\" /><path clip-path=\"url(#clip980)\" d=\"M642.94 236.12 L642.94 241.05 Q640.579 238.851 637.894 237.763 Q635.232 236.675 632.223 236.675 Q626.297 236.675 623.149 240.309 Q620.001 243.92 620.001 250.772 Q620.001 257.601 623.149 261.235 Q626.297 264.846 632.223 264.846 Q635.232 264.846 637.894 263.758 Q640.579 262.67 642.94 260.471 L642.94 265.356 Q640.487 267.022 637.732 267.856 Q635 268.689 631.945 268.689 Q624.098 268.689 619.584 263.897 Q615.07 259.082 615.07 250.772 Q615.07 242.439 619.584 237.647 Q624.098 232.833 631.945 232.833 Q635.047 232.833 637.778 233.666 Q640.533 234.476 642.94 236.12 Z\" fill=\"#000000\" fill-rule=\"evenodd\" fill-opacity=\"1\" /></svg>\n"
      ]
     },
     "execution_count": 23,
     "metadata": {},
     "output_type": "execute_result"
    }
   ],
   "source": [
    "m = 2\n",
    "x = time_series(sbrd_young, ts_length, [N-2*m, m, m])\n",
    "\n",
    "plot([x[1, :], x[2, :], x[3, :]], label=label_3)"
   ]
  },
  {
   "cell_type": "markdown",
   "metadata": {},
   "source": [
    "---"
   ]
  },
  {
   "cell_type": "markdown",
   "metadata": {},
   "source": [
    "## Reference"
   ]
  },
  {
   "cell_type": "markdown",
   "metadata": {},
   "source": [
    "- Kandori, Mailath and Rob(1993), \"Learning, Mutation, and Long Run Equilibria in Games.\", Econometrica, vol.61, No.1, 26-59\n",
    "- Morris, Rob, and Shin(1995), \"p-Dominance and belief potential\", Econometrica 63, 145-157.\n",
    "- Oyama, Sandholm and Tercieux(2015), \"Sampling best response dynamics and deterministic equilibirum selection\", Theoretical Economics, 10, 243-281"
   ]
  }
 ],
 "metadata": {
  "kernelspec": {
   "display_name": "Julia 1.8.5",
   "language": "julia",
   "name": "julia-1.8"
  },
  "language_info": {
   "file_extension": ".jl",
   "mimetype": "application/julia",
   "name": "julia",
   "version": "1.8.5"
  }
 },
 "nbformat": 4,
 "nbformat_minor": 4
}
