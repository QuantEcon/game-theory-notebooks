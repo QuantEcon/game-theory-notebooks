{
 "cells": [
  {
   "cell_type": "markdown",
   "metadata": {},
   "source": [
    "# Best Response Dynamics"
   ]
  },
  {
   "cell_type": "markdown",
   "metadata": {},
   "source": [
    "Author: Yuya Furusawa\n",
    "\n",
    "*Graduate School of Economics, University of Tokyo*"
   ]
  },
  {
   "cell_type": "markdown",
   "metadata": {},
   "source": [
    "This note demonstrates the best response dynamics model and its related models with `brd.jl` Julia library."
   ]
  },
  {
   "cell_type": "code",
   "execution_count": 1,
   "metadata": {},
   "outputs": [
    {
     "data": {
      "text/plain": [
       "Plots.GRBackend()"
      ]
     },
     "execution_count": 1,
     "metadata": {},
     "output_type": "execute_result"
    }
   ],
   "source": [
    "using Games\n",
    "using Plots\n",
    "gr()"
   ]
  },
  {
   "cell_type": "markdown",
   "metadata": {},
   "source": [
    "## Model"
   ]
  },
  {
   "cell_type": "markdown",
   "metadata": {},
   "source": [
    "### Best response dynamics"
   ]
  },
  {
   "cell_type": "markdown",
   "metadata": {},
   "source": [
    "Best response dynamics is one of the strategy updating methods.\n",
    "At each round, the set of players is chosen, and they take best responses given other players' current strategy.\n",
    "Players who take best response only consider the next round payoff, that is they don't consider the future payoffs.\n",
    "From this feature, best response dynamics, is called **myopic best response**.\n",
    "\n",
    "In the potential game, you can find a Nash equilibrium by best response dynamics."
   ]
  },
  {
   "cell_type": "markdown",
   "metadata": {},
   "source": [
    "### KMR model"
   ]
  },
  {
   "cell_type": "markdown",
   "metadata": {},
   "source": [
    "Kandori-Mailath-Rob model(KMR model) is an evolutional model, similar to best response dynamics model.\n",
    "In KMR model, agents do not always take a strategy which delivers highest payoff, they sometimes take another strategy.\n",
    "Unlike best response dynamics, in KMR model, the system is not deterministic evolution.\n",
    "Startegy flips can occur in every period.\n",
    "\n",
    "KMR model gives a **[risk-dominance](https://en.wikipedia.org/wiki/Risk_dominance) equilibrium** as stationary equilibrium.\n",
    "In contrast, best response dynamics does not always give a risk-dominance equilibrium.\n",
    "(We see these contrast later.)\n",
    "\n",
    "KMR model is sometimes criticised by the absense of the foundation of strategy flips.\n",
    "To overcome this point, logit response dynamics model incorporates decision theoretic foundation of strategy chooice (See this note)."
   ]
  },
  {
   "cell_type": "markdown",
   "metadata": {},
   "source": [
    "### Sampling best response"
   ]
  },
  {
   "cell_type": "markdown",
   "metadata": {},
   "source": [
    "Sampling best response dynamics model is also evolutional model.\n",
    "In this model, agents who get a chance to revise an action observe the randomly sampled opponents' actions, and then take a best resoponse.\n",
    "If $k$ sample observed, we call **$k$-sampling best response dynamics**.\n",
    "\n",
    "Under some conditions, this dynamics gives p-dominant equilibrium as stationary equilibirum  (To refer the p-dominant equilibrium, see Morris, Rob and Shin(1995))."
   ]
  },
  {
   "cell_type": "markdown",
   "metadata": {},
   "source": [
    "## `brd.jl` usage"
   ]
  },
  {
   "cell_type": "code",
   "execution_count": 2,
   "metadata": {},
   "outputs": [
    {
     "data": {
      "text/plain": [
       "4"
      ]
     },
     "execution_count": 2,
     "metadata": {},
     "output_type": "execute_result"
    }
   ],
   "source": [
    "# payoff matrix\n",
    "payoff = [4 0;\n",
    "          3 2]\n",
    "# the number of players \n",
    "N = 4"
   ]
  },
  {
   "cell_type": "markdown",
   "metadata": {},
   "source": [
    "To create `BRD` instance, you need payoff matrix and the number of players."
   ]
  },
  {
   "cell_type": "code",
   "execution_count": 3,
   "metadata": {},
   "outputs": [
    {
     "data": {
      "text/plain": [
       "BRD{Int64}(4, 2×2 Player{2,Int64}:\n",
       " 4  0\n",
       " 3  2, 2)"
      ]
     },
     "execution_count": 3,
     "metadata": {},
     "output_type": "execute_result"
    }
   ],
   "source": [
    "# Best response dynamics\n",
    "brd = BRD(payoff, N)"
   ]
  },
  {
   "cell_type": "markdown",
   "metadata": {},
   "source": [
    "You need additionally specify epsilon, the probability of strategy flips, and k, sample size, to create `KMR` and `SamplingBRD` instances respectively.\n",
    "If not provided, these are set to `epsilon=0.1` and `k=2` by default."
   ]
  },
  {
   "cell_type": "code",
   "execution_count": 4,
   "metadata": {},
   "outputs": [
    {
     "data": {
      "text/plain": [
       "SamplingBRD{Int64}(4, 2×2 Player{2,Int64}:\n",
       " 4  0\n",
       " 3  2, 2, 2)"
      ]
     },
     "execution_count": 4,
     "metadata": {},
     "output_type": "execute_result"
    }
   ],
   "source": [
    "# KMR model\n",
    "epsilon = 0.1\n",
    "kmr = KMR(payoff, N, epsilon)\n",
    "\n",
    "# Sampling best response model\n",
    "k = 2\n",
    "sbrd = SamplingBRD(payoff, N, k)"
   ]
  },
  {
   "cell_type": "markdown",
   "metadata": {},
   "source": [
    "### `play` method"
   ]
  },
  {
   "cell_type": "markdown",
   "metadata": {},
   "source": [
    "`play` method proceeds the game by one step.\n",
    "`play` method requires `init_action_dist`, which is the current action distribution(in other words \"frquency\", not probability distribution) where first element indicates the number of players who takes action 0."
   ]
  },
  {
   "cell_type": "code",
   "execution_count": 5,
   "metadata": {},
   "outputs": [
    {
     "data": {
      "text/plain": [
       "2-element Array{Int64,1}:\n",
       " 3\n",
       " 1"
      ]
     },
     "execution_count": 5,
     "metadata": {},
     "output_type": "execute_result"
    }
   ],
   "source": [
    "init_action_dist = [2, 2]\n",
    "play(brd, init_action_dist)"
   ]
  },
  {
   "cell_type": "markdown",
   "metadata": {},
   "source": [
    "You can use `play` method similarly in KMR model and sampling best response dynamics model."
   ]
  },
  {
   "cell_type": "markdown",
   "metadata": {},
   "source": [
    "### `time_series` method"
   ]
  },
  {
   "cell_type": "markdown",
   "metadata": {},
   "source": [
    "`time_series` method returns a time series of action distributions(frequencies).\n",
    "You have to specify the length of time series.\n",
    "In addition, you can choose initial action distribution from which the dynamics proceeds.\n",
    "If not specified, it is randomly chosen."
   ]
  },
  {
   "cell_type": "code",
   "execution_count": 6,
   "metadata": {},
   "outputs": [
    {
     "data": {
      "text/plain": [
       "2×5 Array{Int64,2}:\n",
       " 2  3  4  4  4\n",
       " 2  1  0  0  0"
      ]
     },
     "execution_count": 6,
     "metadata": {},
     "output_type": "execute_result"
    }
   ],
   "source": [
    "ts_length = 5\n",
    "init_action_dist = [2, 2]\n",
    "time_series(brd, ts_length, init_action_dist)"
   ]
  },
  {
   "cell_type": "markdown",
   "metadata": {},
   "source": [
    "You can use `time_series` method similarly in KMR model and sampling best response dynamics model."
   ]
  },
  {
   "cell_type": "markdown",
   "metadata": {},
   "source": [
    "## Examples"
   ]
  },
  {
   "cell_type": "markdown",
   "metadata": {},
   "source": [
    "We illustrate the dynamics of players' actions with **coordination game** and **Young's game**."
   ]
  },
  {
   "cell_type": "markdown",
   "metadata": {},
   "source": [
    "Coordination game is defined as follows:\n",
    "\n",
    "1$\\backslash$2 | $A$           | $B$ \n",
    " ------------- |---------------| ---------\n",
    " $A$           | 2, 2          |   0, 0   \n",
    " $B$           | 0, 0          |   1, 1       "
   ]
  },
  {
   "cell_type": "code",
   "execution_count": 7,
   "metadata": {},
   "outputs": [
    {
     "data": {
      "text/plain": [
       "2×2 Array{Int64,2}:\n",
       " 2  0\n",
       " 0  1"
      ]
     },
     "execution_count": 7,
     "metadata": {},
     "output_type": "execute_result"
    }
   ],
   "source": [
    "coordination_game_matrix = [2 0; 0 1]"
   ]
  },
  {
   "cell_type": "markdown",
   "metadata": {},
   "source": [
    "Young's game is defined as follows:\n",
    "\n",
    "1$\\backslash$2 | $A$           | $B$      | $C$\n",
    " ------------- |---------------| ---------| ----------\n",
    " $A$           | 6, 6          |   0, 0   | 0, 0\n",
    " $B$           | 5, 5          |   7, 7   | 5, 5\n",
    " $C$           | 0, 0          |   5, 5   | 8, 8"
   ]
  },
  {
   "cell_type": "code",
   "execution_count": 8,
   "metadata": {},
   "outputs": [
    {
     "data": {
      "text/plain": [
       "3×3 Array{Int64,2}:\n",
       " 6  0  0\n",
       " 5  7  5\n",
       " 0  5  8"
      ]
     },
     "execution_count": 8,
     "metadata": {},
     "output_type": "execute_result"
    }
   ],
   "source": [
    "young_game_matrix = [6 0 0; 5 7 5; 0 5 8]"
   ]
  },
  {
   "cell_type": "markdown",
   "metadata": {},
   "source": [
    "The number of agents is set to 10 and the length of time series is 200."
   ]
  },
  {
   "cell_type": "code",
   "execution_count": 9,
   "metadata": {},
   "outputs": [
    {
     "data": {
      "text/plain": [
       "200"
      ]
     },
     "execution_count": 9,
     "metadata": {},
     "output_type": "execute_result"
    }
   ],
   "source": [
    "N = 10\n",
    "ts_length = 200"
   ]
  },
  {
   "cell_type": "code",
   "execution_count": 10,
   "metadata": {},
   "outputs": [
    {
     "data": {
      "text/plain": [
       "1×3 Array{String,2}:\n",
       " \"Action A\"  \"Action B\"  \"Action C\""
      ]
     },
     "execution_count": 10,
     "metadata": {},
     "output_type": "execute_result"
    }
   ],
   "source": [
    "label_2 = [\"Action A\" \"Action B\"]\n",
    "label_3 = [\"Action A\" \"Action B\" \"Action C\"]"
   ]
  },
  {
   "cell_type": "markdown",
   "metadata": {},
   "source": [
    "In the graphs below, vertical axis represents the number of players who take each actions, and holizontal axis represents the periods."
   ]
  },
  {
   "cell_type": "markdown",
   "metadata": {},
   "source": [
    "### Best Response Dynamics"
   ]
  },
  {
   "cell_type": "markdown",
   "metadata": {},
   "source": [
    "In evolutionary game theory, best response dynamics represents a class of strategy updating rules, where each player's strategy in the next round is determined by their best response to subset of population."
   ]
  },
  {
   "cell_type": "markdown",
   "metadata": {},
   "source": [
    "#### Coordination Game"
   ]
  },
  {
   "cell_type": "code",
   "execution_count": 11,
   "metadata": {},
   "outputs": [],
   "source": [
    "brd_coor = BRD(coordination_game_matrix, N);"
   ]
  },
  {
   "cell_type": "code",
   "execution_count": 12,
   "metadata": {},
   "outputs": [
    {
     "data": {
      "image/svg+xml": [
       "<?xml version=\"1.0\" encoding=\"utf-8\"?>\n",
       "<svg xmlns=\"http://www.w3.org/2000/svg\" xmlns:xlink=\"http://www.w3.org/1999/xlink\" width=\"600\" height=\"400\" viewBox=\"0 0 2400 1600\">\n",
       "<defs>\n",
       "  <clipPath id=\"clip4900\">\n",
       "    <rect x=\"0\" y=\"0\" width=\"2400\" height=\"1600\"/>\n",
       "  </clipPath>\n",
       "</defs>\n",
       "<path clip-path=\"url(#clip4900)\" d=\"\n",
       "M0 1600 L2400 1600 L2400 0 L0 0  Z\n",
       "  \" fill=\"#ffffff\" fill-rule=\"evenodd\" fill-opacity=\"1\"/>\n",
       "<defs>\n",
       "  <clipPath id=\"clip4901\">\n",
       "    <rect x=\"480\" y=\"0\" width=\"1681\" height=\"1600\"/>\n",
       "  </clipPath>\n",
       "</defs>\n",
       "<path clip-path=\"url(#clip4900)\" d=\"\n",
       "M180.66 1487.47 L2352.76 1487.47 L2352.76 47.2441 L180.66 47.2441  Z\n",
       "  \" fill=\"#ffffff\" fill-rule=\"evenodd\" fill-opacity=\"1\"/>\n",
       "<defs>\n",
       "  <clipPath id=\"clip4902\">\n",
       "    <rect x=\"180\" y=\"47\" width=\"2173\" height=\"1441\"/>\n",
       "  </clipPath>\n",
       "</defs>\n",
       "<polyline clip-path=\"url(#clip4902)\" style=\"stroke:#000000; stroke-width:2; stroke-opacity:0.1; fill:none\" points=\"\n",
       "  231.837,1487.47 231.837,47.2441 \n",
       "  \"/>\n",
       "<polyline clip-path=\"url(#clip4902)\" style=\"stroke:#000000; stroke-width:2; stroke-opacity:0.1; fill:none\" points=\"\n",
       "  746.698,1487.47 746.698,47.2441 \n",
       "  \"/>\n",
       "<polyline clip-path=\"url(#clip4902)\" style=\"stroke:#000000; stroke-width:2; stroke-opacity:0.1; fill:none\" points=\"\n",
       "  1261.56,1487.47 1261.56,47.2441 \n",
       "  \"/>\n",
       "<polyline clip-path=\"url(#clip4902)\" style=\"stroke:#000000; stroke-width:2; stroke-opacity:0.1; fill:none\" points=\"\n",
       "  1776.42,1487.47 1776.42,47.2441 \n",
       "  \"/>\n",
       "<polyline clip-path=\"url(#clip4902)\" style=\"stroke:#000000; stroke-width:2; stroke-opacity:0.1; fill:none\" points=\"\n",
       "  2291.28,1487.47 2291.28,47.2441 \n",
       "  \"/>\n",
       "<polyline clip-path=\"url(#clip4902)\" style=\"stroke:#000000; stroke-width:2; stroke-opacity:0.1; fill:none\" points=\"\n",
       "  180.66,1446.71 2352.76,1446.71 \n",
       "  \"/>\n",
       "<polyline clip-path=\"url(#clip4902)\" style=\"stroke:#000000; stroke-width:2; stroke-opacity:0.1; fill:none\" points=\"\n",
       "  180.66,1107.04 2352.76,1107.04 \n",
       "  \"/>\n",
       "<polyline clip-path=\"url(#clip4902)\" style=\"stroke:#000000; stroke-width:2; stroke-opacity:0.1; fill:none\" points=\"\n",
       "  180.66,767.359 2352.76,767.359 \n",
       "  \"/>\n",
       "<polyline clip-path=\"url(#clip4902)\" style=\"stroke:#000000; stroke-width:2; stroke-opacity:0.1; fill:none\" points=\"\n",
       "  180.66,427.682 2352.76,427.682 \n",
       "  \"/>\n",
       "<polyline clip-path=\"url(#clip4902)\" style=\"stroke:#000000; stroke-width:2; stroke-opacity:0.1; fill:none\" points=\"\n",
       "  180.66,88.0053 2352.76,88.0053 \n",
       "  \"/>\n",
       "<polyline clip-path=\"url(#clip4900)\" style=\"stroke:#000000; stroke-width:4; stroke-opacity:1; fill:none\" points=\"\n",
       "  180.66,1487.47 2352.76,1487.47 \n",
       "  \"/>\n",
       "<polyline clip-path=\"url(#clip4900)\" style=\"stroke:#000000; stroke-width:4; stroke-opacity:1; fill:none\" points=\"\n",
       "  180.66,1487.47 180.66,47.2441 \n",
       "  \"/>\n",
       "<polyline clip-path=\"url(#clip4900)\" style=\"stroke:#000000; stroke-width:4; stroke-opacity:1; fill:none\" points=\"\n",
       "  231.837,1487.47 231.837,1470.19 \n",
       "  \"/>\n",
       "<polyline clip-path=\"url(#clip4900)\" style=\"stroke:#000000; stroke-width:4; stroke-opacity:1; fill:none\" points=\"\n",
       "  746.698,1487.47 746.698,1470.19 \n",
       "  \"/>\n",
       "<polyline clip-path=\"url(#clip4900)\" style=\"stroke:#000000; stroke-width:4; stroke-opacity:1; fill:none\" points=\"\n",
       "  1261.56,1487.47 1261.56,1470.19 \n",
       "  \"/>\n",
       "<polyline clip-path=\"url(#clip4900)\" style=\"stroke:#000000; stroke-width:4; stroke-opacity:1; fill:none\" points=\"\n",
       "  1776.42,1487.47 1776.42,1470.19 \n",
       "  \"/>\n",
       "<polyline clip-path=\"url(#clip4900)\" style=\"stroke:#000000; stroke-width:4; stroke-opacity:1; fill:none\" points=\"\n",
       "  2291.28,1487.47 2291.28,1470.19 \n",
       "  \"/>\n",
       "<polyline clip-path=\"url(#clip4900)\" style=\"stroke:#000000; stroke-width:4; stroke-opacity:1; fill:none\" points=\"\n",
       "  180.66,1446.71 206.725,1446.71 \n",
       "  \"/>\n",
       "<polyline clip-path=\"url(#clip4900)\" style=\"stroke:#000000; stroke-width:4; stroke-opacity:1; fill:none\" points=\"\n",
       "  180.66,1107.04 206.725,1107.04 \n",
       "  \"/>\n",
       "<polyline clip-path=\"url(#clip4900)\" style=\"stroke:#000000; stroke-width:4; stroke-opacity:1; fill:none\" points=\"\n",
       "  180.66,767.359 206.725,767.359 \n",
       "  \"/>\n",
       "<polyline clip-path=\"url(#clip4900)\" style=\"stroke:#000000; stroke-width:4; stroke-opacity:1; fill:none\" points=\"\n",
       "  180.66,427.682 206.725,427.682 \n",
       "  \"/>\n",
       "<polyline clip-path=\"url(#clip4900)\" style=\"stroke:#000000; stroke-width:4; stroke-opacity:1; fill:none\" points=\"\n",
       "  180.66,88.0053 206.725,88.0053 \n",
       "  \"/>\n",
       "<g clip-path=\"url(#clip4900)\">\n",
       "<text style=\"fill:#000000; fill-opacity:1; font-family:Arial,Helvetica Neue,Helvetica,sans-serif; font-size:48px; text-anchor:middle;\" transform=\"rotate(0, 231.837, 1541.47)\" x=\"231.837\" y=\"1541.47\">0</text>\n",
       "</g>\n",
       "<g clip-path=\"url(#clip4900)\">\n",
       "<text style=\"fill:#000000; fill-opacity:1; font-family:Arial,Helvetica Neue,Helvetica,sans-serif; font-size:48px; text-anchor:middle;\" transform=\"rotate(0, 746.698, 1541.47)\" x=\"746.698\" y=\"1541.47\">50</text>\n",
       "</g>\n",
       "<g clip-path=\"url(#clip4900)\">\n",
       "<text style=\"fill:#000000; fill-opacity:1; font-family:Arial,Helvetica Neue,Helvetica,sans-serif; font-size:48px; text-anchor:middle;\" transform=\"rotate(0, 1261.56, 1541.47)\" x=\"1261.56\" y=\"1541.47\">100</text>\n",
       "</g>\n",
       "<g clip-path=\"url(#clip4900)\">\n",
       "<text style=\"fill:#000000; fill-opacity:1; font-family:Arial,Helvetica Neue,Helvetica,sans-serif; font-size:48px; text-anchor:middle;\" transform=\"rotate(0, 1776.42, 1541.47)\" x=\"1776.42\" y=\"1541.47\">150</text>\n",
       "</g>\n",
       "<g clip-path=\"url(#clip4900)\">\n",
       "<text style=\"fill:#000000; fill-opacity:1; font-family:Arial,Helvetica Neue,Helvetica,sans-serif; font-size:48px; text-anchor:middle;\" transform=\"rotate(0, 2291.28, 1541.47)\" x=\"2291.28\" y=\"1541.47\">200</text>\n",
       "</g>\n",
       "<g clip-path=\"url(#clip4900)\">\n",
       "<text style=\"fill:#000000; fill-opacity:1; font-family:Arial,Helvetica Neue,Helvetica,sans-serif; font-size:48px; text-anchor:end;\" transform=\"rotate(0, 156.66, 1464.21)\" x=\"156.66\" y=\"1464.21\">0.0</text>\n",
       "</g>\n",
       "<g clip-path=\"url(#clip4900)\">\n",
       "<text style=\"fill:#000000; fill-opacity:1; font-family:Arial,Helvetica Neue,Helvetica,sans-serif; font-size:48px; text-anchor:end;\" transform=\"rotate(0, 156.66, 1124.54)\" x=\"156.66\" y=\"1124.54\">2.5</text>\n",
       "</g>\n",
       "<g clip-path=\"url(#clip4900)\">\n",
       "<text style=\"fill:#000000; fill-opacity:1; font-family:Arial,Helvetica Neue,Helvetica,sans-serif; font-size:48px; text-anchor:end;\" transform=\"rotate(0, 156.66, 784.859)\" x=\"156.66\" y=\"784.859\">5.0</text>\n",
       "</g>\n",
       "<g clip-path=\"url(#clip4900)\">\n",
       "<text style=\"fill:#000000; fill-opacity:1; font-family:Arial,Helvetica Neue,Helvetica,sans-serif; font-size:48px; text-anchor:end;\" transform=\"rotate(0, 156.66, 445.182)\" x=\"156.66\" y=\"445.182\">7.5</text>\n",
       "</g>\n",
       "<g clip-path=\"url(#clip4900)\">\n",
       "<text style=\"fill:#000000; fill-opacity:1; font-family:Arial,Helvetica Neue,Helvetica,sans-serif; font-size:48px; text-anchor:end;\" transform=\"rotate(0, 156.66, 105.505)\" x=\"156.66\" y=\"105.505\">10.0</text>\n",
       "</g>\n",
       "<polyline clip-path=\"url(#clip4902)\" style=\"stroke:#009af9; stroke-width:4; stroke-opacity:1; fill:none\" points=\"\n",
       "  242.135,1174.97 252.432,1174.97 262.729,1174.97 273.026,1310.84 283.324,1310.84 293.621,1310.84 303.918,1310.84 314.215,1310.84 324.512,1310.84 334.81,1310.84 \n",
       "  345.107,1310.84 355.404,1310.84 365.701,1310.84 375.999,1310.84 386.296,1310.84 396.593,1310.84 406.89,1310.84 417.187,1310.84 427.485,1310.84 437.782,1310.84 \n",
       "  448.079,1310.84 458.376,1310.84 468.674,1310.84 478.971,1310.84 489.268,1310.84 499.565,1310.84 509.862,1310.84 520.16,1310.84 530.457,1310.84 540.754,1310.84 \n",
       "  551.051,1310.84 561.349,1310.84 571.646,1310.84 581.943,1310.84 592.24,1310.84 602.537,1310.84 612.835,1446.71 623.132,1446.71 633.429,1446.71 643.726,1446.71 \n",
       "  654.024,1446.71 664.321,1446.71 674.618,1446.71 684.915,1446.71 695.212,1446.71 705.51,1446.71 715.807,1446.71 726.104,1446.71 736.401,1446.71 746.698,1446.71 \n",
       "  756.996,1446.71 767.293,1446.71 777.59,1446.71 787.887,1446.71 798.185,1446.71 808.482,1446.71 818.779,1446.71 829.076,1446.71 839.373,1446.71 849.671,1446.71 \n",
       "  859.968,1446.71 870.265,1446.71 880.562,1446.71 890.86,1446.71 901.157,1446.71 911.454,1446.71 921.751,1446.71 932.048,1446.71 942.346,1446.71 952.643,1446.71 \n",
       "  962.94,1446.71 973.237,1446.71 983.535,1446.71 993.832,1446.71 1004.13,1446.71 1014.43,1446.71 1024.72,1446.71 1035.02,1446.71 1045.32,1446.71 1055.62,1446.71 \n",
       "  1065.91,1446.71 1076.21,1446.71 1086.51,1446.71 1096.8,1446.71 1107.1,1446.71 1117.4,1446.71 1127.7,1446.71 1137.99,1446.71 1148.29,1446.71 1158.59,1446.71 \n",
       "  1168.88,1446.71 1179.18,1446.71 1189.48,1446.71 1199.78,1446.71 1210.07,1446.71 1220.37,1446.71 1230.67,1446.71 1240.97,1446.71 1251.26,1446.71 1261.56,1446.71 \n",
       "  1271.86,1446.71 1282.15,1446.71 1292.45,1446.71 1302.75,1446.71 1313.05,1446.71 1323.34,1446.71 1333.64,1446.71 1343.94,1446.71 1354.23,1446.71 1364.53,1446.71 \n",
       "  1374.83,1446.71 1385.13,1446.71 1395.42,1446.71 1405.72,1446.71 1416.02,1446.71 1426.32,1446.71 1436.61,1446.71 1446.91,1446.71 1457.21,1446.71 1467.5,1446.71 \n",
       "  1477.8,1446.71 1488.1,1446.71 1498.4,1446.71 1508.69,1446.71 1518.99,1446.71 1529.29,1446.71 1539.58,1446.71 1549.88,1446.71 1560.18,1446.71 1570.48,1446.71 \n",
       "  1580.77,1446.71 1591.07,1446.71 1601.37,1446.71 1611.66,1446.71 1621.96,1446.71 1632.26,1446.71 1642.56,1446.71 1652.85,1446.71 1663.15,1446.71 1673.45,1446.71 \n",
       "  1683.75,1446.71 1694.04,1446.71 1704.34,1446.71 1714.64,1446.71 1724.93,1446.71 1735.23,1446.71 1745.53,1446.71 1755.83,1446.71 1766.12,1446.71 1776.42,1446.71 \n",
       "  1786.72,1446.71 1797.01,1446.71 1807.31,1446.71 1817.61,1446.71 1827.91,1446.71 1838.2,1446.71 1848.5,1446.71 1858.8,1446.71 1869.1,1446.71 1879.39,1446.71 \n",
       "  1889.69,1446.71 1899.99,1446.71 1910.28,1446.71 1920.58,1446.71 1930.88,1446.71 1941.18,1446.71 1951.47,1446.71 1961.77,1446.71 1972.07,1446.71 1982.36,1446.71 \n",
       "  1992.66,1446.71 2002.96,1446.71 2013.26,1446.71 2023.55,1446.71 2033.85,1446.71 2044.15,1446.71 2054.45,1446.71 2064.74,1446.71 2075.04,1446.71 2085.34,1446.71 \n",
       "  2095.63,1446.71 2105.93,1446.71 2116.23,1446.71 2126.53,1446.71 2136.82,1446.71 2147.12,1446.71 2157.42,1446.71 2167.71,1446.71 2178.01,1446.71 2188.31,1446.71 \n",
       "  2198.61,1446.71 2208.9,1446.71 2219.2,1446.71 2229.5,1446.71 2239.8,1446.71 2250.09,1446.71 2260.39,1446.71 2270.69,1446.71 2280.98,1446.71 2291.28,1446.71 \n",
       "  \n",
       "  \"/>\n",
       "<polyline clip-path=\"url(#clip4902)\" style=\"stroke:#e26f46; stroke-width:4; stroke-opacity:1; fill:none\" points=\"\n",
       "  242.135,359.747 252.432,359.747 262.729,359.747 273.026,223.876 283.324,223.876 293.621,223.876 303.918,223.876 314.215,223.876 324.512,223.876 334.81,223.876 \n",
       "  345.107,223.876 355.404,223.876 365.701,223.876 375.999,223.876 386.296,223.876 396.593,223.876 406.89,223.876 417.187,223.876 427.485,223.876 437.782,223.876 \n",
       "  448.079,223.876 458.376,223.876 468.674,223.876 478.971,223.876 489.268,223.876 499.565,223.876 509.862,223.876 520.16,223.876 530.457,223.876 540.754,223.876 \n",
       "  551.051,223.876 561.349,223.876 571.646,223.876 581.943,223.876 592.24,223.876 602.537,223.876 612.835,88.0053 623.132,88.0053 633.429,88.0053 643.726,88.0053 \n",
       "  654.024,88.0053 664.321,88.0053 674.618,88.0053 684.915,88.0053 695.212,88.0053 705.51,88.0053 715.807,88.0053 726.104,88.0053 736.401,88.0053 746.698,88.0053 \n",
       "  756.996,88.0053 767.293,88.0053 777.59,88.0053 787.887,88.0053 798.185,88.0053 808.482,88.0053 818.779,88.0053 829.076,88.0053 839.373,88.0053 849.671,88.0053 \n",
       "  859.968,88.0053 870.265,88.0053 880.562,88.0053 890.86,88.0053 901.157,88.0053 911.454,88.0053 921.751,88.0053 932.048,88.0053 942.346,88.0053 952.643,88.0053 \n",
       "  962.94,88.0053 973.237,88.0053 983.535,88.0053 993.832,88.0053 1004.13,88.0053 1014.43,88.0053 1024.72,88.0053 1035.02,88.0053 1045.32,88.0053 1055.62,88.0053 \n",
       "  1065.91,88.0053 1076.21,88.0053 1086.51,88.0053 1096.8,88.0053 1107.1,88.0053 1117.4,88.0053 1127.7,88.0053 1137.99,88.0053 1148.29,88.0053 1158.59,88.0053 \n",
       "  1168.88,88.0053 1179.18,88.0053 1189.48,88.0053 1199.78,88.0053 1210.07,88.0053 1220.37,88.0053 1230.67,88.0053 1240.97,88.0053 1251.26,88.0053 1261.56,88.0053 \n",
       "  1271.86,88.0053 1282.15,88.0053 1292.45,88.0053 1302.75,88.0053 1313.05,88.0053 1323.34,88.0053 1333.64,88.0053 1343.94,88.0053 1354.23,88.0053 1364.53,88.0053 \n",
       "  1374.83,88.0053 1385.13,88.0053 1395.42,88.0053 1405.72,88.0053 1416.02,88.0053 1426.32,88.0053 1436.61,88.0053 1446.91,88.0053 1457.21,88.0053 1467.5,88.0053 \n",
       "  1477.8,88.0053 1488.1,88.0053 1498.4,88.0053 1508.69,88.0053 1518.99,88.0053 1529.29,88.0053 1539.58,88.0053 1549.88,88.0053 1560.18,88.0053 1570.48,88.0053 \n",
       "  1580.77,88.0053 1591.07,88.0053 1601.37,88.0053 1611.66,88.0053 1621.96,88.0053 1632.26,88.0053 1642.56,88.0053 1652.85,88.0053 1663.15,88.0053 1673.45,88.0053 \n",
       "  1683.75,88.0053 1694.04,88.0053 1704.34,88.0053 1714.64,88.0053 1724.93,88.0053 1735.23,88.0053 1745.53,88.0053 1755.83,88.0053 1766.12,88.0053 1776.42,88.0053 \n",
       "  1786.72,88.0053 1797.01,88.0053 1807.31,88.0053 1817.61,88.0053 1827.91,88.0053 1838.2,88.0053 1848.5,88.0053 1858.8,88.0053 1869.1,88.0053 1879.39,88.0053 \n",
       "  1889.69,88.0053 1899.99,88.0053 1910.28,88.0053 1920.58,88.0053 1930.88,88.0053 1941.18,88.0053 1951.47,88.0053 1961.77,88.0053 1972.07,88.0053 1982.36,88.0053 \n",
       "  1992.66,88.0053 2002.96,88.0053 2013.26,88.0053 2023.55,88.0053 2033.85,88.0053 2044.15,88.0053 2054.45,88.0053 2064.74,88.0053 2075.04,88.0053 2085.34,88.0053 \n",
       "  2095.63,88.0053 2105.93,88.0053 2116.23,88.0053 2126.53,88.0053 2136.82,88.0053 2147.12,88.0053 2157.42,88.0053 2167.71,88.0053 2178.01,88.0053 2188.31,88.0053 \n",
       "  2198.61,88.0053 2208.9,88.0053 2219.2,88.0053 2229.5,88.0053 2239.8,88.0053 2250.09,88.0053 2260.39,88.0053 2270.69,88.0053 2280.98,88.0053 2291.28,88.0053 \n",
       "  \n",
       "  \"/>\n",
       "<path clip-path=\"url(#clip4900)\" d=\"\n",
       "M1861.51 312.204 L2280.76 312.204 L2280.76 130.764 L1861.51 130.764  Z\n",
       "  \" fill=\"#ffffff\" fill-rule=\"evenodd\" fill-opacity=\"1\"/>\n",
       "<polyline clip-path=\"url(#clip4900)\" style=\"stroke:#000000; stroke-width:4; stroke-opacity:1; fill:none\" points=\"\n",
       "  1861.51,312.204 2280.76,312.204 2280.76,130.764 1861.51,130.764 1861.51,312.204 \n",
       "  \"/>\n",
       "<polyline clip-path=\"url(#clip4900)\" style=\"stroke:#009af9; stroke-width:4; stroke-opacity:1; fill:none\" points=\"\n",
       "  1885.51,191.244 2029.51,191.244 \n",
       "  \"/>\n",
       "<g clip-path=\"url(#clip4900)\">\n",
       "<text style=\"fill:#000000; fill-opacity:1; font-family:Arial,Helvetica Neue,Helvetica,sans-serif; font-size:48px; text-anchor:start;\" transform=\"rotate(0, 2053.51, 208.744)\" x=\"2053.51\" y=\"208.744\">Action A</text>\n",
       "</g>\n",
       "<polyline clip-path=\"url(#clip4900)\" style=\"stroke:#e26f46; stroke-width:4; stroke-opacity:1; fill:none\" points=\"\n",
       "  1885.51,251.724 2029.51,251.724 \n",
       "  \"/>\n",
       "<g clip-path=\"url(#clip4900)\">\n",
       "<text style=\"fill:#000000; fill-opacity:1; font-family:Arial,Helvetica Neue,Helvetica,sans-serif; font-size:48px; text-anchor:start;\" transform=\"rotate(0, 2053.51, 269.224)\" x=\"2053.51\" y=\"269.224\">Action B</text>\n",
       "</g>\n",
       "</svg>\n"
      ]
     },
     "execution_count": 12,
     "metadata": {},
     "output_type": "execute_result"
    }
   ],
   "source": [
    "m = 2\n",
    "x = time_series(brd_coor, ts_length, [m, N-m])\n",
    "plot([x[1, :], x[2, :]], label=label_2)"
   ]
  },
  {
   "cell_type": "code",
   "execution_count": 13,
   "metadata": {},
   "outputs": [
    {
     "data": {
      "image/svg+xml": [
       "<?xml version=\"1.0\" encoding=\"utf-8\"?>\n",
       "<svg xmlns=\"http://www.w3.org/2000/svg\" xmlns:xlink=\"http://www.w3.org/1999/xlink\" width=\"600\" height=\"400\" viewBox=\"0 0 2400 1600\">\n",
       "<defs>\n",
       "  <clipPath id=\"clip5300\">\n",
       "    <rect x=\"0\" y=\"0\" width=\"2400\" height=\"1600\"/>\n",
       "  </clipPath>\n",
       "</defs>\n",
       "<path clip-path=\"url(#clip5300)\" d=\"\n",
       "M0 1600 L2400 1600 L2400 0 L0 0  Z\n",
       "  \" fill=\"#ffffff\" fill-rule=\"evenodd\" fill-opacity=\"1\"/>\n",
       "<defs>\n",
       "  <clipPath id=\"clip5301\">\n",
       "    <rect x=\"480\" y=\"0\" width=\"1681\" height=\"1600\"/>\n",
       "  </clipPath>\n",
       "</defs>\n",
       "<path clip-path=\"url(#clip5300)\" d=\"\n",
       "M180.66 1487.47 L2352.76 1487.47 L2352.76 47.2441 L180.66 47.2441  Z\n",
       "  \" fill=\"#ffffff\" fill-rule=\"evenodd\" fill-opacity=\"1\"/>\n",
       "<defs>\n",
       "  <clipPath id=\"clip5302\">\n",
       "    <rect x=\"180\" y=\"47\" width=\"2173\" height=\"1441\"/>\n",
       "  </clipPath>\n",
       "</defs>\n",
       "<polyline clip-path=\"url(#clip5302)\" style=\"stroke:#000000; stroke-width:2; stroke-opacity:0.1; fill:none\" points=\"\n",
       "  231.837,1487.47 231.837,47.2441 \n",
       "  \"/>\n",
       "<polyline clip-path=\"url(#clip5302)\" style=\"stroke:#000000; stroke-width:2; stroke-opacity:0.1; fill:none\" points=\"\n",
       "  746.698,1487.47 746.698,47.2441 \n",
       "  \"/>\n",
       "<polyline clip-path=\"url(#clip5302)\" style=\"stroke:#000000; stroke-width:2; stroke-opacity:0.1; fill:none\" points=\"\n",
       "  1261.56,1487.47 1261.56,47.2441 \n",
       "  \"/>\n",
       "<polyline clip-path=\"url(#clip5302)\" style=\"stroke:#000000; stroke-width:2; stroke-opacity:0.1; fill:none\" points=\"\n",
       "  1776.42,1487.47 1776.42,47.2441 \n",
       "  \"/>\n",
       "<polyline clip-path=\"url(#clip5302)\" style=\"stroke:#000000; stroke-width:2; stroke-opacity:0.1; fill:none\" points=\"\n",
       "  2291.28,1487.47 2291.28,47.2441 \n",
       "  \"/>\n",
       "<polyline clip-path=\"url(#clip5302)\" style=\"stroke:#000000; stroke-width:2; stroke-opacity:0.1; fill:none\" points=\"\n",
       "  180.66,1446.71 2352.76,1446.71 \n",
       "  \"/>\n",
       "<polyline clip-path=\"url(#clip5302)\" style=\"stroke:#000000; stroke-width:2; stroke-opacity:0.1; fill:none\" points=\"\n",
       "  180.66,1107.04 2352.76,1107.04 \n",
       "  \"/>\n",
       "<polyline clip-path=\"url(#clip5302)\" style=\"stroke:#000000; stroke-width:2; stroke-opacity:0.1; fill:none\" points=\"\n",
       "  180.66,767.359 2352.76,767.359 \n",
       "  \"/>\n",
       "<polyline clip-path=\"url(#clip5302)\" style=\"stroke:#000000; stroke-width:2; stroke-opacity:0.1; fill:none\" points=\"\n",
       "  180.66,427.682 2352.76,427.682 \n",
       "  \"/>\n",
       "<polyline clip-path=\"url(#clip5302)\" style=\"stroke:#000000; stroke-width:2; stroke-opacity:0.1; fill:none\" points=\"\n",
       "  180.66,88.0053 2352.76,88.0053 \n",
       "  \"/>\n",
       "<polyline clip-path=\"url(#clip5300)\" style=\"stroke:#000000; stroke-width:4; stroke-opacity:1; fill:none\" points=\"\n",
       "  180.66,1487.47 2352.76,1487.47 \n",
       "  \"/>\n",
       "<polyline clip-path=\"url(#clip5300)\" style=\"stroke:#000000; stroke-width:4; stroke-opacity:1; fill:none\" points=\"\n",
       "  180.66,1487.47 180.66,47.2441 \n",
       "  \"/>\n",
       "<polyline clip-path=\"url(#clip5300)\" style=\"stroke:#000000; stroke-width:4; stroke-opacity:1; fill:none\" points=\"\n",
       "  231.837,1487.47 231.837,1470.19 \n",
       "  \"/>\n",
       "<polyline clip-path=\"url(#clip5300)\" style=\"stroke:#000000; stroke-width:4; stroke-opacity:1; fill:none\" points=\"\n",
       "  746.698,1487.47 746.698,1470.19 \n",
       "  \"/>\n",
       "<polyline clip-path=\"url(#clip5300)\" style=\"stroke:#000000; stroke-width:4; stroke-opacity:1; fill:none\" points=\"\n",
       "  1261.56,1487.47 1261.56,1470.19 \n",
       "  \"/>\n",
       "<polyline clip-path=\"url(#clip5300)\" style=\"stroke:#000000; stroke-width:4; stroke-opacity:1; fill:none\" points=\"\n",
       "  1776.42,1487.47 1776.42,1470.19 \n",
       "  \"/>\n",
       "<polyline clip-path=\"url(#clip5300)\" style=\"stroke:#000000; stroke-width:4; stroke-opacity:1; fill:none\" points=\"\n",
       "  2291.28,1487.47 2291.28,1470.19 \n",
       "  \"/>\n",
       "<polyline clip-path=\"url(#clip5300)\" style=\"stroke:#000000; stroke-width:4; stroke-opacity:1; fill:none\" points=\"\n",
       "  180.66,1446.71 206.725,1446.71 \n",
       "  \"/>\n",
       "<polyline clip-path=\"url(#clip5300)\" style=\"stroke:#000000; stroke-width:4; stroke-opacity:1; fill:none\" points=\"\n",
       "  180.66,1107.04 206.725,1107.04 \n",
       "  \"/>\n",
       "<polyline clip-path=\"url(#clip5300)\" style=\"stroke:#000000; stroke-width:4; stroke-opacity:1; fill:none\" points=\"\n",
       "  180.66,767.359 206.725,767.359 \n",
       "  \"/>\n",
       "<polyline clip-path=\"url(#clip5300)\" style=\"stroke:#000000; stroke-width:4; stroke-opacity:1; fill:none\" points=\"\n",
       "  180.66,427.682 206.725,427.682 \n",
       "  \"/>\n",
       "<polyline clip-path=\"url(#clip5300)\" style=\"stroke:#000000; stroke-width:4; stroke-opacity:1; fill:none\" points=\"\n",
       "  180.66,88.0053 206.725,88.0053 \n",
       "  \"/>\n",
       "<g clip-path=\"url(#clip5300)\">\n",
       "<text style=\"fill:#000000; fill-opacity:1; font-family:Arial,Helvetica Neue,Helvetica,sans-serif; font-size:48px; text-anchor:middle;\" transform=\"rotate(0, 231.837, 1541.47)\" x=\"231.837\" y=\"1541.47\">0</text>\n",
       "</g>\n",
       "<g clip-path=\"url(#clip5300)\">\n",
       "<text style=\"fill:#000000; fill-opacity:1; font-family:Arial,Helvetica Neue,Helvetica,sans-serif; font-size:48px; text-anchor:middle;\" transform=\"rotate(0, 746.698, 1541.47)\" x=\"746.698\" y=\"1541.47\">50</text>\n",
       "</g>\n",
       "<g clip-path=\"url(#clip5300)\">\n",
       "<text style=\"fill:#000000; fill-opacity:1; font-family:Arial,Helvetica Neue,Helvetica,sans-serif; font-size:48px; text-anchor:middle;\" transform=\"rotate(0, 1261.56, 1541.47)\" x=\"1261.56\" y=\"1541.47\">100</text>\n",
       "</g>\n",
       "<g clip-path=\"url(#clip5300)\">\n",
       "<text style=\"fill:#000000; fill-opacity:1; font-family:Arial,Helvetica Neue,Helvetica,sans-serif; font-size:48px; text-anchor:middle;\" transform=\"rotate(0, 1776.42, 1541.47)\" x=\"1776.42\" y=\"1541.47\">150</text>\n",
       "</g>\n",
       "<g clip-path=\"url(#clip5300)\">\n",
       "<text style=\"fill:#000000; fill-opacity:1; font-family:Arial,Helvetica Neue,Helvetica,sans-serif; font-size:48px; text-anchor:middle;\" transform=\"rotate(0, 2291.28, 1541.47)\" x=\"2291.28\" y=\"1541.47\">200</text>\n",
       "</g>\n",
       "<g clip-path=\"url(#clip5300)\">\n",
       "<text style=\"fill:#000000; fill-opacity:1; font-family:Arial,Helvetica Neue,Helvetica,sans-serif; font-size:48px; text-anchor:end;\" transform=\"rotate(0, 156.66, 1464.21)\" x=\"156.66\" y=\"1464.21\">0.0</text>\n",
       "</g>\n",
       "<g clip-path=\"url(#clip5300)\">\n",
       "<text style=\"fill:#000000; fill-opacity:1; font-family:Arial,Helvetica Neue,Helvetica,sans-serif; font-size:48px; text-anchor:end;\" transform=\"rotate(0, 156.66, 1124.54)\" x=\"156.66\" y=\"1124.54\">2.5</text>\n",
       "</g>\n",
       "<g clip-path=\"url(#clip5300)\">\n",
       "<text style=\"fill:#000000; fill-opacity:1; font-family:Arial,Helvetica Neue,Helvetica,sans-serif; font-size:48px; text-anchor:end;\" transform=\"rotate(0, 156.66, 784.859)\" x=\"156.66\" y=\"784.859\">5.0</text>\n",
       "</g>\n",
       "<g clip-path=\"url(#clip5300)\">\n",
       "<text style=\"fill:#000000; fill-opacity:1; font-family:Arial,Helvetica Neue,Helvetica,sans-serif; font-size:48px; text-anchor:end;\" transform=\"rotate(0, 156.66, 445.182)\" x=\"156.66\" y=\"445.182\">7.5</text>\n",
       "</g>\n",
       "<g clip-path=\"url(#clip5300)\">\n",
       "<text style=\"fill:#000000; fill-opacity:1; font-family:Arial,Helvetica Neue,Helvetica,sans-serif; font-size:48px; text-anchor:end;\" transform=\"rotate(0, 156.66, 105.505)\" x=\"156.66\" y=\"105.505\">10.0</text>\n",
       "</g>\n",
       "<polyline clip-path=\"url(#clip5302)\" style=\"stroke:#009af9; stroke-width:4; stroke-opacity:1; fill:none\" points=\"\n",
       "  242.135,359.747 252.432,359.747 262.729,359.747 273.026,359.747 283.324,359.747 293.621,359.747 303.918,359.747 314.215,359.747 324.512,359.747 334.81,359.747 \n",
       "  345.107,359.747 355.404,359.747 365.701,359.747 375.999,223.876 386.296,88.0053 396.593,88.0053 406.89,88.0053 417.187,88.0053 427.485,88.0053 437.782,88.0053 \n",
       "  448.079,88.0053 458.376,88.0053 468.674,88.0053 478.971,88.0053 489.268,88.0053 499.565,88.0053 509.862,88.0053 520.16,88.0053 530.457,88.0053 540.754,88.0053 \n",
       "  551.051,88.0053 561.349,88.0053 571.646,88.0053 581.943,88.0053 592.24,88.0053 602.537,88.0053 612.835,88.0053 623.132,88.0053 633.429,88.0053 643.726,88.0053 \n",
       "  654.024,88.0053 664.321,88.0053 674.618,88.0053 684.915,88.0053 695.212,88.0053 705.51,88.0053 715.807,88.0053 726.104,88.0053 736.401,88.0053 746.698,88.0053 \n",
       "  756.996,88.0053 767.293,88.0053 777.59,88.0053 787.887,88.0053 798.185,88.0053 808.482,88.0053 818.779,88.0053 829.076,88.0053 839.373,88.0053 849.671,88.0053 \n",
       "  859.968,88.0053 870.265,88.0053 880.562,88.0053 890.86,88.0053 901.157,88.0053 911.454,88.0053 921.751,88.0053 932.048,88.0053 942.346,88.0053 952.643,88.0053 \n",
       "  962.94,88.0053 973.237,88.0053 983.535,88.0053 993.832,88.0053 1004.13,88.0053 1014.43,88.0053 1024.72,88.0053 1035.02,88.0053 1045.32,88.0053 1055.62,88.0053 \n",
       "  1065.91,88.0053 1076.21,88.0053 1086.51,88.0053 1096.8,88.0053 1107.1,88.0053 1117.4,88.0053 1127.7,88.0053 1137.99,88.0053 1148.29,88.0053 1158.59,88.0053 \n",
       "  1168.88,88.0053 1179.18,88.0053 1189.48,88.0053 1199.78,88.0053 1210.07,88.0053 1220.37,88.0053 1230.67,88.0053 1240.97,88.0053 1251.26,88.0053 1261.56,88.0053 \n",
       "  1271.86,88.0053 1282.15,88.0053 1292.45,88.0053 1302.75,88.0053 1313.05,88.0053 1323.34,88.0053 1333.64,88.0053 1343.94,88.0053 1354.23,88.0053 1364.53,88.0053 \n",
       "  1374.83,88.0053 1385.13,88.0053 1395.42,88.0053 1405.72,88.0053 1416.02,88.0053 1426.32,88.0053 1436.61,88.0053 1446.91,88.0053 1457.21,88.0053 1467.5,88.0053 \n",
       "  1477.8,88.0053 1488.1,88.0053 1498.4,88.0053 1508.69,88.0053 1518.99,88.0053 1529.29,88.0053 1539.58,88.0053 1549.88,88.0053 1560.18,88.0053 1570.48,88.0053 \n",
       "  1580.77,88.0053 1591.07,88.0053 1601.37,88.0053 1611.66,88.0053 1621.96,88.0053 1632.26,88.0053 1642.56,88.0053 1652.85,88.0053 1663.15,88.0053 1673.45,88.0053 \n",
       "  1683.75,88.0053 1694.04,88.0053 1704.34,88.0053 1714.64,88.0053 1724.93,88.0053 1735.23,88.0053 1745.53,88.0053 1755.83,88.0053 1766.12,88.0053 1776.42,88.0053 \n",
       "  1786.72,88.0053 1797.01,88.0053 1807.31,88.0053 1817.61,88.0053 1827.91,88.0053 1838.2,88.0053 1848.5,88.0053 1858.8,88.0053 1869.1,88.0053 1879.39,88.0053 \n",
       "  1889.69,88.0053 1899.99,88.0053 1910.28,88.0053 1920.58,88.0053 1930.88,88.0053 1941.18,88.0053 1951.47,88.0053 1961.77,88.0053 1972.07,88.0053 1982.36,88.0053 \n",
       "  1992.66,88.0053 2002.96,88.0053 2013.26,88.0053 2023.55,88.0053 2033.85,88.0053 2044.15,88.0053 2054.45,88.0053 2064.74,88.0053 2075.04,88.0053 2085.34,88.0053 \n",
       "  2095.63,88.0053 2105.93,88.0053 2116.23,88.0053 2126.53,88.0053 2136.82,88.0053 2147.12,88.0053 2157.42,88.0053 2167.71,88.0053 2178.01,88.0053 2188.31,88.0053 \n",
       "  2198.61,88.0053 2208.9,88.0053 2219.2,88.0053 2229.5,88.0053 2239.8,88.0053 2250.09,88.0053 2260.39,88.0053 2270.69,88.0053 2280.98,88.0053 2291.28,88.0053 \n",
       "  \n",
       "  \"/>\n",
       "<polyline clip-path=\"url(#clip5302)\" style=\"stroke:#e26f46; stroke-width:4; stroke-opacity:1; fill:none\" points=\"\n",
       "  242.135,1174.97 252.432,1174.97 262.729,1174.97 273.026,1174.97 283.324,1174.97 293.621,1174.97 303.918,1174.97 314.215,1174.97 324.512,1174.97 334.81,1174.97 \n",
       "  345.107,1174.97 355.404,1174.97 365.701,1174.97 375.999,1310.84 386.296,1446.71 396.593,1446.71 406.89,1446.71 417.187,1446.71 427.485,1446.71 437.782,1446.71 \n",
       "  448.079,1446.71 458.376,1446.71 468.674,1446.71 478.971,1446.71 489.268,1446.71 499.565,1446.71 509.862,1446.71 520.16,1446.71 530.457,1446.71 540.754,1446.71 \n",
       "  551.051,1446.71 561.349,1446.71 571.646,1446.71 581.943,1446.71 592.24,1446.71 602.537,1446.71 612.835,1446.71 623.132,1446.71 633.429,1446.71 643.726,1446.71 \n",
       "  654.024,1446.71 664.321,1446.71 674.618,1446.71 684.915,1446.71 695.212,1446.71 705.51,1446.71 715.807,1446.71 726.104,1446.71 736.401,1446.71 746.698,1446.71 \n",
       "  756.996,1446.71 767.293,1446.71 777.59,1446.71 787.887,1446.71 798.185,1446.71 808.482,1446.71 818.779,1446.71 829.076,1446.71 839.373,1446.71 849.671,1446.71 \n",
       "  859.968,1446.71 870.265,1446.71 880.562,1446.71 890.86,1446.71 901.157,1446.71 911.454,1446.71 921.751,1446.71 932.048,1446.71 942.346,1446.71 952.643,1446.71 \n",
       "  962.94,1446.71 973.237,1446.71 983.535,1446.71 993.832,1446.71 1004.13,1446.71 1014.43,1446.71 1024.72,1446.71 1035.02,1446.71 1045.32,1446.71 1055.62,1446.71 \n",
       "  1065.91,1446.71 1076.21,1446.71 1086.51,1446.71 1096.8,1446.71 1107.1,1446.71 1117.4,1446.71 1127.7,1446.71 1137.99,1446.71 1148.29,1446.71 1158.59,1446.71 \n",
       "  1168.88,1446.71 1179.18,1446.71 1189.48,1446.71 1199.78,1446.71 1210.07,1446.71 1220.37,1446.71 1230.67,1446.71 1240.97,1446.71 1251.26,1446.71 1261.56,1446.71 \n",
       "  1271.86,1446.71 1282.15,1446.71 1292.45,1446.71 1302.75,1446.71 1313.05,1446.71 1323.34,1446.71 1333.64,1446.71 1343.94,1446.71 1354.23,1446.71 1364.53,1446.71 \n",
       "  1374.83,1446.71 1385.13,1446.71 1395.42,1446.71 1405.72,1446.71 1416.02,1446.71 1426.32,1446.71 1436.61,1446.71 1446.91,1446.71 1457.21,1446.71 1467.5,1446.71 \n",
       "  1477.8,1446.71 1488.1,1446.71 1498.4,1446.71 1508.69,1446.71 1518.99,1446.71 1529.29,1446.71 1539.58,1446.71 1549.88,1446.71 1560.18,1446.71 1570.48,1446.71 \n",
       "  1580.77,1446.71 1591.07,1446.71 1601.37,1446.71 1611.66,1446.71 1621.96,1446.71 1632.26,1446.71 1642.56,1446.71 1652.85,1446.71 1663.15,1446.71 1673.45,1446.71 \n",
       "  1683.75,1446.71 1694.04,1446.71 1704.34,1446.71 1714.64,1446.71 1724.93,1446.71 1735.23,1446.71 1745.53,1446.71 1755.83,1446.71 1766.12,1446.71 1776.42,1446.71 \n",
       "  1786.72,1446.71 1797.01,1446.71 1807.31,1446.71 1817.61,1446.71 1827.91,1446.71 1838.2,1446.71 1848.5,1446.71 1858.8,1446.71 1869.1,1446.71 1879.39,1446.71 \n",
       "  1889.69,1446.71 1899.99,1446.71 1910.28,1446.71 1920.58,1446.71 1930.88,1446.71 1941.18,1446.71 1951.47,1446.71 1961.77,1446.71 1972.07,1446.71 1982.36,1446.71 \n",
       "  1992.66,1446.71 2002.96,1446.71 2013.26,1446.71 2023.55,1446.71 2033.85,1446.71 2044.15,1446.71 2054.45,1446.71 2064.74,1446.71 2075.04,1446.71 2085.34,1446.71 \n",
       "  2095.63,1446.71 2105.93,1446.71 2116.23,1446.71 2126.53,1446.71 2136.82,1446.71 2147.12,1446.71 2157.42,1446.71 2167.71,1446.71 2178.01,1446.71 2188.31,1446.71 \n",
       "  2198.61,1446.71 2208.9,1446.71 2219.2,1446.71 2229.5,1446.71 2239.8,1446.71 2250.09,1446.71 2260.39,1446.71 2270.69,1446.71 2280.98,1446.71 2291.28,1446.71 \n",
       "  \n",
       "  \"/>\n",
       "<path clip-path=\"url(#clip5300)\" d=\"\n",
       "M1861.51 312.204 L2280.76 312.204 L2280.76 130.764 L1861.51 130.764  Z\n",
       "  \" fill=\"#ffffff\" fill-rule=\"evenodd\" fill-opacity=\"1\"/>\n",
       "<polyline clip-path=\"url(#clip5300)\" style=\"stroke:#000000; stroke-width:4; stroke-opacity:1; fill:none\" points=\"\n",
       "  1861.51,312.204 2280.76,312.204 2280.76,130.764 1861.51,130.764 1861.51,312.204 \n",
       "  \"/>\n",
       "<polyline clip-path=\"url(#clip5300)\" style=\"stroke:#009af9; stroke-width:4; stroke-opacity:1; fill:none\" points=\"\n",
       "  1885.51,191.244 2029.51,191.244 \n",
       "  \"/>\n",
       "<g clip-path=\"url(#clip5300)\">\n",
       "<text style=\"fill:#000000; fill-opacity:1; font-family:Arial,Helvetica Neue,Helvetica,sans-serif; font-size:48px; text-anchor:start;\" transform=\"rotate(0, 2053.51, 208.744)\" x=\"2053.51\" y=\"208.744\">Action A</text>\n",
       "</g>\n",
       "<polyline clip-path=\"url(#clip5300)\" style=\"stroke:#e26f46; stroke-width:4; stroke-opacity:1; fill:none\" points=\"\n",
       "  1885.51,251.724 2029.51,251.724 \n",
       "  \"/>\n",
       "<g clip-path=\"url(#clip5300)\">\n",
       "<text style=\"fill:#000000; fill-opacity:1; font-family:Arial,Helvetica Neue,Helvetica,sans-serif; font-size:48px; text-anchor:start;\" transform=\"rotate(0, 2053.51, 269.224)\" x=\"2053.51\" y=\"269.224\">Action B</text>\n",
       "</g>\n",
       "</svg>\n"
      ]
     },
     "execution_count": 13,
     "metadata": {},
     "output_type": "execute_result"
    }
   ],
   "source": [
    "m = 8\n",
    "x = time_series(brd_coor, ts_length, [m, N-m])\n",
    "plot([x[1, :], x[2, :]], label=label_2)"
   ]
  },
  {
   "cell_type": "markdown",
   "metadata": {},
   "source": [
    "You can see converged action profile depends on the initial action distribution."
   ]
  },
  {
   "cell_type": "markdown",
   "metadata": {},
   "source": [
    "### Kandori-Mailath-Rob model (KMR model)"
   ]
  },
  {
   "cell_type": "code",
   "execution_count": 14,
   "metadata": {},
   "outputs": [],
   "source": [
    "epsilon = 0.1;"
   ]
  },
  {
   "cell_type": "markdown",
   "metadata": {},
   "source": [
    "#### Coordination Game"
   ]
  },
  {
   "cell_type": "code",
   "execution_count": 15,
   "metadata": {},
   "outputs": [
    {
     "data": {
      "text/plain": [
       "KMR{Int64}(10, 2×2 Player{2,Int64}:\n",
       " 2  0\n",
       " 0  1, 2, 0.1)"
      ]
     },
     "execution_count": 15,
     "metadata": {},
     "output_type": "execute_result"
    }
   ],
   "source": [
    "kmr_coor = KMR(coordination_game_matrix, N, epsilon)"
   ]
  },
  {
   "cell_type": "code",
   "execution_count": 16,
   "metadata": {},
   "outputs": [
    {
     "data": {
      "image/svg+xml": [
       "<?xml version=\"1.0\" encoding=\"utf-8\"?>\n",
       "<svg xmlns=\"http://www.w3.org/2000/svg\" xmlns:xlink=\"http://www.w3.org/1999/xlink\" width=\"600\" height=\"400\" viewBox=\"0 0 2400 1600\">\n",
       "<defs>\n",
       "  <clipPath id=\"clip5700\">\n",
       "    <rect x=\"0\" y=\"0\" width=\"2400\" height=\"1600\"/>\n",
       "  </clipPath>\n",
       "</defs>\n",
       "<path clip-path=\"url(#clip5700)\" d=\"\n",
       "M0 1600 L2400 1600 L2400 0 L0 0  Z\n",
       "  \" fill=\"#ffffff\" fill-rule=\"evenodd\" fill-opacity=\"1\"/>\n",
       "<defs>\n",
       "  <clipPath id=\"clip5701\">\n",
       "    <rect x=\"480\" y=\"0\" width=\"1681\" height=\"1600\"/>\n",
       "  </clipPath>\n",
       "</defs>\n",
       "<path clip-path=\"url(#clip5700)\" d=\"\n",
       "M180.66 1487.47 L2352.76 1487.47 L2352.76 47.2441 L180.66 47.2441  Z\n",
       "  \" fill=\"#ffffff\" fill-rule=\"evenodd\" fill-opacity=\"1\"/>\n",
       "<defs>\n",
       "  <clipPath id=\"clip5702\">\n",
       "    <rect x=\"180\" y=\"47\" width=\"2173\" height=\"1441\"/>\n",
       "  </clipPath>\n",
       "</defs>\n",
       "<polyline clip-path=\"url(#clip5702)\" style=\"stroke:#000000; stroke-width:2; stroke-opacity:0.1; fill:none\" points=\"\n",
       "  231.837,1487.47 231.837,47.2441 \n",
       "  \"/>\n",
       "<polyline clip-path=\"url(#clip5702)\" style=\"stroke:#000000; stroke-width:2; stroke-opacity:0.1; fill:none\" points=\"\n",
       "  746.698,1487.47 746.698,47.2441 \n",
       "  \"/>\n",
       "<polyline clip-path=\"url(#clip5702)\" style=\"stroke:#000000; stroke-width:2; stroke-opacity:0.1; fill:none\" points=\"\n",
       "  1261.56,1487.47 1261.56,47.2441 \n",
       "  \"/>\n",
       "<polyline clip-path=\"url(#clip5702)\" style=\"stroke:#000000; stroke-width:2; stroke-opacity:0.1; fill:none\" points=\"\n",
       "  1776.42,1487.47 1776.42,47.2441 \n",
       "  \"/>\n",
       "<polyline clip-path=\"url(#clip5702)\" style=\"stroke:#000000; stroke-width:2; stroke-opacity:0.1; fill:none\" points=\"\n",
       "  2291.28,1487.47 2291.28,47.2441 \n",
       "  \"/>\n",
       "<polyline clip-path=\"url(#clip5702)\" style=\"stroke:#000000; stroke-width:2; stroke-opacity:0.1; fill:none\" points=\"\n",
       "  180.66,1446.71 2352.76,1446.71 \n",
       "  \"/>\n",
       "<polyline clip-path=\"url(#clip5702)\" style=\"stroke:#000000; stroke-width:2; stroke-opacity:0.1; fill:none\" points=\"\n",
       "  180.66,1107.04 2352.76,1107.04 \n",
       "  \"/>\n",
       "<polyline clip-path=\"url(#clip5702)\" style=\"stroke:#000000; stroke-width:2; stroke-opacity:0.1; fill:none\" points=\"\n",
       "  180.66,767.359 2352.76,767.359 \n",
       "  \"/>\n",
       "<polyline clip-path=\"url(#clip5702)\" style=\"stroke:#000000; stroke-width:2; stroke-opacity:0.1; fill:none\" points=\"\n",
       "  180.66,427.682 2352.76,427.682 \n",
       "  \"/>\n",
       "<polyline clip-path=\"url(#clip5702)\" style=\"stroke:#000000; stroke-width:2; stroke-opacity:0.1; fill:none\" points=\"\n",
       "  180.66,88.0053 2352.76,88.0053 \n",
       "  \"/>\n",
       "<polyline clip-path=\"url(#clip5700)\" style=\"stroke:#000000; stroke-width:4; stroke-opacity:1; fill:none\" points=\"\n",
       "  180.66,1487.47 2352.76,1487.47 \n",
       "  \"/>\n",
       "<polyline clip-path=\"url(#clip5700)\" style=\"stroke:#000000; stroke-width:4; stroke-opacity:1; fill:none\" points=\"\n",
       "  180.66,1487.47 180.66,47.2441 \n",
       "  \"/>\n",
       "<polyline clip-path=\"url(#clip5700)\" style=\"stroke:#000000; stroke-width:4; stroke-opacity:1; fill:none\" points=\"\n",
       "  231.837,1487.47 231.837,1470.19 \n",
       "  \"/>\n",
       "<polyline clip-path=\"url(#clip5700)\" style=\"stroke:#000000; stroke-width:4; stroke-opacity:1; fill:none\" points=\"\n",
       "  746.698,1487.47 746.698,1470.19 \n",
       "  \"/>\n",
       "<polyline clip-path=\"url(#clip5700)\" style=\"stroke:#000000; stroke-width:4; stroke-opacity:1; fill:none\" points=\"\n",
       "  1261.56,1487.47 1261.56,1470.19 \n",
       "  \"/>\n",
       "<polyline clip-path=\"url(#clip5700)\" style=\"stroke:#000000; stroke-width:4; stroke-opacity:1; fill:none\" points=\"\n",
       "  1776.42,1487.47 1776.42,1470.19 \n",
       "  \"/>\n",
       "<polyline clip-path=\"url(#clip5700)\" style=\"stroke:#000000; stroke-width:4; stroke-opacity:1; fill:none\" points=\"\n",
       "  2291.28,1487.47 2291.28,1470.19 \n",
       "  \"/>\n",
       "<polyline clip-path=\"url(#clip5700)\" style=\"stroke:#000000; stroke-width:4; stroke-opacity:1; fill:none\" points=\"\n",
       "  180.66,1446.71 206.725,1446.71 \n",
       "  \"/>\n",
       "<polyline clip-path=\"url(#clip5700)\" style=\"stroke:#000000; stroke-width:4; stroke-opacity:1; fill:none\" points=\"\n",
       "  180.66,1107.04 206.725,1107.04 \n",
       "  \"/>\n",
       "<polyline clip-path=\"url(#clip5700)\" style=\"stroke:#000000; stroke-width:4; stroke-opacity:1; fill:none\" points=\"\n",
       "  180.66,767.359 206.725,767.359 \n",
       "  \"/>\n",
       "<polyline clip-path=\"url(#clip5700)\" style=\"stroke:#000000; stroke-width:4; stroke-opacity:1; fill:none\" points=\"\n",
       "  180.66,427.682 206.725,427.682 \n",
       "  \"/>\n",
       "<polyline clip-path=\"url(#clip5700)\" style=\"stroke:#000000; stroke-width:4; stroke-opacity:1; fill:none\" points=\"\n",
       "  180.66,88.0053 206.725,88.0053 \n",
       "  \"/>\n",
       "<g clip-path=\"url(#clip5700)\">\n",
       "<text style=\"fill:#000000; fill-opacity:1; font-family:Arial,Helvetica Neue,Helvetica,sans-serif; font-size:48px; text-anchor:middle;\" transform=\"rotate(0, 231.837, 1541.47)\" x=\"231.837\" y=\"1541.47\">0</text>\n",
       "</g>\n",
       "<g clip-path=\"url(#clip5700)\">\n",
       "<text style=\"fill:#000000; fill-opacity:1; font-family:Arial,Helvetica Neue,Helvetica,sans-serif; font-size:48px; text-anchor:middle;\" transform=\"rotate(0, 746.698, 1541.47)\" x=\"746.698\" y=\"1541.47\">50</text>\n",
       "</g>\n",
       "<g clip-path=\"url(#clip5700)\">\n",
       "<text style=\"fill:#000000; fill-opacity:1; font-family:Arial,Helvetica Neue,Helvetica,sans-serif; font-size:48px; text-anchor:middle;\" transform=\"rotate(0, 1261.56, 1541.47)\" x=\"1261.56\" y=\"1541.47\">100</text>\n",
       "</g>\n",
       "<g clip-path=\"url(#clip5700)\">\n",
       "<text style=\"fill:#000000; fill-opacity:1; font-family:Arial,Helvetica Neue,Helvetica,sans-serif; font-size:48px; text-anchor:middle;\" transform=\"rotate(0, 1776.42, 1541.47)\" x=\"1776.42\" y=\"1541.47\">150</text>\n",
       "</g>\n",
       "<g clip-path=\"url(#clip5700)\">\n",
       "<text style=\"fill:#000000; fill-opacity:1; font-family:Arial,Helvetica Neue,Helvetica,sans-serif; font-size:48px; text-anchor:middle;\" transform=\"rotate(0, 2291.28, 1541.47)\" x=\"2291.28\" y=\"1541.47\">200</text>\n",
       "</g>\n",
       "<g clip-path=\"url(#clip5700)\">\n",
       "<text style=\"fill:#000000; fill-opacity:1; font-family:Arial,Helvetica Neue,Helvetica,sans-serif; font-size:48px; text-anchor:end;\" transform=\"rotate(0, 156.66, 1464.21)\" x=\"156.66\" y=\"1464.21\">0.0</text>\n",
       "</g>\n",
       "<g clip-path=\"url(#clip5700)\">\n",
       "<text style=\"fill:#000000; fill-opacity:1; font-family:Arial,Helvetica Neue,Helvetica,sans-serif; font-size:48px; text-anchor:end;\" transform=\"rotate(0, 156.66, 1124.54)\" x=\"156.66\" y=\"1124.54\">2.5</text>\n",
       "</g>\n",
       "<g clip-path=\"url(#clip5700)\">\n",
       "<text style=\"fill:#000000; fill-opacity:1; font-family:Arial,Helvetica Neue,Helvetica,sans-serif; font-size:48px; text-anchor:end;\" transform=\"rotate(0, 156.66, 784.859)\" x=\"156.66\" y=\"784.859\">5.0</text>\n",
       "</g>\n",
       "<g clip-path=\"url(#clip5700)\">\n",
       "<text style=\"fill:#000000; fill-opacity:1; font-family:Arial,Helvetica Neue,Helvetica,sans-serif; font-size:48px; text-anchor:end;\" transform=\"rotate(0, 156.66, 445.182)\" x=\"156.66\" y=\"445.182\">7.5</text>\n",
       "</g>\n",
       "<g clip-path=\"url(#clip5700)\">\n",
       "<text style=\"fill:#000000; fill-opacity:1; font-family:Arial,Helvetica Neue,Helvetica,sans-serif; font-size:48px; text-anchor:end;\" transform=\"rotate(0, 156.66, 105.505)\" x=\"156.66\" y=\"105.505\">10.0</text>\n",
       "</g>\n",
       "<polyline clip-path=\"url(#clip5702)\" style=\"stroke:#009af9; stroke-width:4; stroke-opacity:1; fill:none\" points=\"\n",
       "  242.135,1174.97 252.432,1174.97 262.729,1310.84 273.026,1310.84 283.324,1446.71 293.621,1446.71 303.918,1446.71 314.215,1446.71 324.512,1446.71 334.81,1446.71 \n",
       "  345.107,1446.71 355.404,1446.71 365.701,1446.71 375.999,1446.71 386.296,1446.71 396.593,1446.71 406.89,1446.71 417.187,1446.71 427.485,1446.71 437.782,1446.71 \n",
       "  448.079,1446.71 458.376,1446.71 468.674,1446.71 478.971,1446.71 489.268,1446.71 499.565,1446.71 509.862,1446.71 520.16,1446.71 530.457,1446.71 540.754,1446.71 \n",
       "  551.051,1446.71 561.349,1446.71 571.646,1446.71 581.943,1446.71 592.24,1446.71 602.537,1446.71 612.835,1446.71 623.132,1446.71 633.429,1446.71 643.726,1446.71 \n",
       "  654.024,1446.71 664.321,1446.71 674.618,1446.71 684.915,1446.71 695.212,1446.71 705.51,1446.71 715.807,1446.71 726.104,1446.71 736.401,1446.71 746.698,1446.71 \n",
       "  756.996,1446.71 767.293,1446.71 777.59,1446.71 787.887,1446.71 798.185,1446.71 808.482,1446.71 818.779,1446.71 829.076,1446.71 839.373,1446.71 849.671,1446.71 \n",
       "  859.968,1446.71 870.265,1446.71 880.562,1446.71 890.86,1446.71 901.157,1446.71 911.454,1446.71 921.751,1446.71 932.048,1446.71 942.346,1446.71 952.643,1446.71 \n",
       "  962.94,1446.71 973.237,1446.71 983.535,1446.71 993.832,1446.71 1004.13,1446.71 1014.43,1446.71 1024.72,1446.71 1035.02,1446.71 1045.32,1310.84 1055.62,1310.84 \n",
       "  1065.91,1310.84 1076.21,1310.84 1086.51,1310.84 1096.8,1310.84 1107.1,1310.84 1117.4,1310.84 1127.7,1310.84 1137.99,1310.84 1148.29,1310.84 1158.59,1310.84 \n",
       "  1168.88,1310.84 1179.18,1310.84 1189.48,1174.97 1199.78,1310.84 1210.07,1446.71 1220.37,1446.71 1230.67,1446.71 1240.97,1446.71 1251.26,1446.71 1261.56,1310.84 \n",
       "  1271.86,1310.84 1282.15,1310.84 1292.45,1310.84 1302.75,1446.71 1313.05,1446.71 1323.34,1446.71 1333.64,1446.71 1343.94,1446.71 1354.23,1446.71 1364.53,1446.71 \n",
       "  1374.83,1446.71 1385.13,1446.71 1395.42,1446.71 1405.72,1446.71 1416.02,1446.71 1426.32,1446.71 1436.61,1446.71 1446.91,1446.71 1457.21,1446.71 1467.5,1446.71 \n",
       "  1477.8,1446.71 1488.1,1446.71 1498.4,1446.71 1508.69,1310.84 1518.99,1310.84 1529.29,1310.84 1539.58,1310.84 1549.88,1310.84 1560.18,1310.84 1570.48,1310.84 \n",
       "  1580.77,1310.84 1591.07,1310.84 1601.37,1310.84 1611.66,1310.84 1621.96,1310.84 1632.26,1310.84 1642.56,1310.84 1652.85,1310.84 1663.15,1310.84 1673.45,1310.84 \n",
       "  1683.75,1310.84 1694.04,1310.84 1704.34,1310.84 1714.64,1310.84 1724.93,1310.84 1735.23,1310.84 1745.53,1310.84 1755.83,1310.84 1766.12,1174.97 1776.42,1174.97 \n",
       "  1786.72,1174.97 1797.01,1174.97 1807.31,1174.97 1817.61,1174.97 1827.91,1174.97 1838.2,1174.97 1848.5,1174.97 1858.8,1174.97 1869.1,1039.1 1879.39,903.23 \n",
       "  1889.69,767.359 1899.99,767.359 1910.28,767.359 1920.58,631.489 1930.88,495.618 1941.18,495.618 1951.47,495.618 1961.77,495.618 1972.07,359.747 1982.36,495.618 \n",
       "  1992.66,495.618 2002.96,359.747 2013.26,223.876 2023.55,223.876 2033.85,223.876 2044.15,223.876 2054.45,223.876 2064.74,223.876 2075.04,223.876 2085.34,223.876 \n",
       "  2095.63,223.876 2105.93,223.876 2116.23,223.876 2126.53,223.876 2136.82,223.876 2147.12,223.876 2157.42,223.876 2167.71,223.876 2178.01,223.876 2188.31,223.876 \n",
       "  2198.61,223.876 2208.9,223.876 2219.2,223.876 2229.5,88.0053 2239.8,223.876 2250.09,88.0053 2260.39,88.0053 2270.69,88.0053 2280.98,88.0053 2291.28,88.0053 \n",
       "  \n",
       "  \"/>\n",
       "<polyline clip-path=\"url(#clip5702)\" style=\"stroke:#e26f46; stroke-width:4; stroke-opacity:1; fill:none\" points=\"\n",
       "  242.135,359.747 252.432,359.747 262.729,223.876 273.026,223.876 283.324,88.0053 293.621,88.0053 303.918,88.0053 314.215,88.0053 324.512,88.0053 334.81,88.0053 \n",
       "  345.107,88.0053 355.404,88.0053 365.701,88.0053 375.999,88.0053 386.296,88.0053 396.593,88.0053 406.89,88.0053 417.187,88.0053 427.485,88.0053 437.782,88.0053 \n",
       "  448.079,88.0053 458.376,88.0053 468.674,88.0053 478.971,88.0053 489.268,88.0053 499.565,88.0053 509.862,88.0053 520.16,88.0053 530.457,88.0053 540.754,88.0053 \n",
       "  551.051,88.0053 561.349,88.0053 571.646,88.0053 581.943,88.0053 592.24,88.0053 602.537,88.0053 612.835,88.0053 623.132,88.0053 633.429,88.0053 643.726,88.0053 \n",
       "  654.024,88.0053 664.321,88.0053 674.618,88.0053 684.915,88.0053 695.212,88.0053 705.51,88.0053 715.807,88.0053 726.104,88.0053 736.401,88.0053 746.698,88.0053 \n",
       "  756.996,88.0053 767.293,88.0053 777.59,88.0053 787.887,88.0053 798.185,88.0053 808.482,88.0053 818.779,88.0053 829.076,88.0053 839.373,88.0053 849.671,88.0053 \n",
       "  859.968,88.0053 870.265,88.0053 880.562,88.0053 890.86,88.0053 901.157,88.0053 911.454,88.0053 921.751,88.0053 932.048,88.0053 942.346,88.0053 952.643,88.0053 \n",
       "  962.94,88.0053 973.237,88.0053 983.535,88.0053 993.832,88.0053 1004.13,88.0053 1014.43,88.0053 1024.72,88.0053 1035.02,88.0053 1045.32,223.876 1055.62,223.876 \n",
       "  1065.91,223.876 1076.21,223.876 1086.51,223.876 1096.8,223.876 1107.1,223.876 1117.4,223.876 1127.7,223.876 1137.99,223.876 1148.29,223.876 1158.59,223.876 \n",
       "  1168.88,223.876 1179.18,223.876 1189.48,359.747 1199.78,223.876 1210.07,88.0053 1220.37,88.0053 1230.67,88.0053 1240.97,88.0053 1251.26,88.0053 1261.56,223.876 \n",
       "  1271.86,223.876 1282.15,223.876 1292.45,223.876 1302.75,88.0053 1313.05,88.0053 1323.34,88.0053 1333.64,88.0053 1343.94,88.0053 1354.23,88.0053 1364.53,88.0053 \n",
       "  1374.83,88.0053 1385.13,88.0053 1395.42,88.0053 1405.72,88.0053 1416.02,88.0053 1426.32,88.0053 1436.61,88.0053 1446.91,88.0053 1457.21,88.0053 1467.5,88.0053 \n",
       "  1477.8,88.0053 1488.1,88.0053 1498.4,88.0053 1508.69,223.876 1518.99,223.876 1529.29,223.876 1539.58,223.876 1549.88,223.876 1560.18,223.876 1570.48,223.876 \n",
       "  1580.77,223.876 1591.07,223.876 1601.37,223.876 1611.66,223.876 1621.96,223.876 1632.26,223.876 1642.56,223.876 1652.85,223.876 1663.15,223.876 1673.45,223.876 \n",
       "  1683.75,223.876 1694.04,223.876 1704.34,223.876 1714.64,223.876 1724.93,223.876 1735.23,223.876 1745.53,223.876 1755.83,223.876 1766.12,359.747 1776.42,359.747 \n",
       "  1786.72,359.747 1797.01,359.747 1807.31,359.747 1817.61,359.747 1827.91,359.747 1838.2,359.747 1848.5,359.747 1858.8,359.747 1869.1,495.618 1879.39,631.489 \n",
       "  1889.69,767.359 1899.99,767.359 1910.28,767.359 1920.58,903.23 1930.88,1039.1 1941.18,1039.1 1951.47,1039.1 1961.77,1039.1 1972.07,1174.97 1982.36,1039.1 \n",
       "  1992.66,1039.1 2002.96,1174.97 2013.26,1310.84 2023.55,1310.84 2033.85,1310.84 2044.15,1310.84 2054.45,1310.84 2064.74,1310.84 2075.04,1310.84 2085.34,1310.84 \n",
       "  2095.63,1310.84 2105.93,1310.84 2116.23,1310.84 2126.53,1310.84 2136.82,1310.84 2147.12,1310.84 2157.42,1310.84 2167.71,1310.84 2178.01,1310.84 2188.31,1310.84 \n",
       "  2198.61,1310.84 2208.9,1310.84 2219.2,1310.84 2229.5,1446.71 2239.8,1310.84 2250.09,1446.71 2260.39,1446.71 2270.69,1446.71 2280.98,1446.71 2291.28,1446.71 \n",
       "  \n",
       "  \"/>\n",
       "<path clip-path=\"url(#clip5700)\" d=\"\n",
       "M1861.51 312.204 L2280.76 312.204 L2280.76 130.764 L1861.51 130.764  Z\n",
       "  \" fill=\"#ffffff\" fill-rule=\"evenodd\" fill-opacity=\"1\"/>\n",
       "<polyline clip-path=\"url(#clip5700)\" style=\"stroke:#000000; stroke-width:4; stroke-opacity:1; fill:none\" points=\"\n",
       "  1861.51,312.204 2280.76,312.204 2280.76,130.764 1861.51,130.764 1861.51,312.204 \n",
       "  \"/>\n",
       "<polyline clip-path=\"url(#clip5700)\" style=\"stroke:#009af9; stroke-width:4; stroke-opacity:1; fill:none\" points=\"\n",
       "  1885.51,191.244 2029.51,191.244 \n",
       "  \"/>\n",
       "<g clip-path=\"url(#clip5700)\">\n",
       "<text style=\"fill:#000000; fill-opacity:1; font-family:Arial,Helvetica Neue,Helvetica,sans-serif; font-size:48px; text-anchor:start;\" transform=\"rotate(0, 2053.51, 208.744)\" x=\"2053.51\" y=\"208.744\">Action A</text>\n",
       "</g>\n",
       "<polyline clip-path=\"url(#clip5700)\" style=\"stroke:#e26f46; stroke-width:4; stroke-opacity:1; fill:none\" points=\"\n",
       "  1885.51,251.724 2029.51,251.724 \n",
       "  \"/>\n",
       "<g clip-path=\"url(#clip5700)\">\n",
       "<text style=\"fill:#000000; fill-opacity:1; font-family:Arial,Helvetica Neue,Helvetica,sans-serif; font-size:48px; text-anchor:start;\" transform=\"rotate(0, 2053.51, 269.224)\" x=\"2053.51\" y=\"269.224\">Action B</text>\n",
       "</g>\n",
       "</svg>\n"
      ]
     },
     "execution_count": 16,
     "metadata": {},
     "output_type": "execute_result"
    }
   ],
   "source": [
    "m = 2\n",
    "x = time_series(kmr_coor, ts_length, [m, N-m])\n",
    "\n",
    "plot([x[1, :], x[2, :]], label=label_2)"
   ]
  },
  {
   "cell_type": "markdown",
   "metadata": {},
   "source": [
    "This graph shows (A,A) is the long-run equilibrium which is a risk-dominance equilibrium (if not, pick larger `ts_length`).\n",
    "\n",
    "To compare the results from best response dynamics see the above, (A,A) becomes stationary equilibrium even if the number of player who initially takes action A is small."
   ]
  },
  {
   "cell_type": "markdown",
   "metadata": {},
   "source": [
    "#### Young's Game"
   ]
  },
  {
   "cell_type": "code",
   "execution_count": 17,
   "metadata": {},
   "outputs": [
    {
     "data": {
      "text/plain": [
       "KMR{Int64}(10, 3×3 Player{2,Int64}:\n",
       " 6  0  0\n",
       " 5  7  5\n",
       " 0  5  8, 3, 0.1)"
      ]
     },
     "execution_count": 17,
     "metadata": {},
     "output_type": "execute_result"
    }
   ],
   "source": [
    "kmr_young = KMR(young_game_matrix, N, epsilon)"
   ]
  },
  {
   "cell_type": "code",
   "execution_count": 18,
   "metadata": {},
   "outputs": [
    {
     "data": {
      "image/svg+xml": [
       "<?xml version=\"1.0\" encoding=\"utf-8\"?>\n",
       "<svg xmlns=\"http://www.w3.org/2000/svg\" xmlns:xlink=\"http://www.w3.org/1999/xlink\" width=\"600\" height=\"400\" viewBox=\"0 0 2400 1600\">\n",
       "<defs>\n",
       "  <clipPath id=\"clip6100\">\n",
       "    <rect x=\"0\" y=\"0\" width=\"2400\" height=\"1600\"/>\n",
       "  </clipPath>\n",
       "</defs>\n",
       "<path clip-path=\"url(#clip6100)\" d=\"\n",
       "M0 1600 L2400 1600 L2400 0 L0 0  Z\n",
       "  \" fill=\"#ffffff\" fill-rule=\"evenodd\" fill-opacity=\"1\"/>\n",
       "<defs>\n",
       "  <clipPath id=\"clip6101\">\n",
       "    <rect x=\"480\" y=\"0\" width=\"1681\" height=\"1600\"/>\n",
       "  </clipPath>\n",
       "</defs>\n",
       "<path clip-path=\"url(#clip6100)\" d=\"\n",
       "M180.66 1487.47 L2352.76 1487.47 L2352.76 47.2441 L180.66 47.2441  Z\n",
       "  \" fill=\"#ffffff\" fill-rule=\"evenodd\" fill-opacity=\"1\"/>\n",
       "<defs>\n",
       "  <clipPath id=\"clip6102\">\n",
       "    <rect x=\"180\" y=\"47\" width=\"2173\" height=\"1441\"/>\n",
       "  </clipPath>\n",
       "</defs>\n",
       "<polyline clip-path=\"url(#clip6102)\" style=\"stroke:#000000; stroke-width:2; stroke-opacity:0.1; fill:none\" points=\"\n",
       "  231.837,1487.47 231.837,47.2441 \n",
       "  \"/>\n",
       "<polyline clip-path=\"url(#clip6102)\" style=\"stroke:#000000; stroke-width:2; stroke-opacity:0.1; fill:none\" points=\"\n",
       "  746.698,1487.47 746.698,47.2441 \n",
       "  \"/>\n",
       "<polyline clip-path=\"url(#clip6102)\" style=\"stroke:#000000; stroke-width:2; stroke-opacity:0.1; fill:none\" points=\"\n",
       "  1261.56,1487.47 1261.56,47.2441 \n",
       "  \"/>\n",
       "<polyline clip-path=\"url(#clip6102)\" style=\"stroke:#000000; stroke-width:2; stroke-opacity:0.1; fill:none\" points=\"\n",
       "  1776.42,1487.47 1776.42,47.2441 \n",
       "  \"/>\n",
       "<polyline clip-path=\"url(#clip6102)\" style=\"stroke:#000000; stroke-width:2; stroke-opacity:0.1; fill:none\" points=\"\n",
       "  2291.28,1487.47 2291.28,47.2441 \n",
       "  \"/>\n",
       "<polyline clip-path=\"url(#clip6102)\" style=\"stroke:#000000; stroke-width:2; stroke-opacity:0.1; fill:none\" points=\"\n",
       "  180.66,1446.71 2352.76,1446.71 \n",
       "  \"/>\n",
       "<polyline clip-path=\"url(#clip6102)\" style=\"stroke:#000000; stroke-width:2; stroke-opacity:0.1; fill:none\" points=\"\n",
       "  180.66,1107.04 2352.76,1107.04 \n",
       "  \"/>\n",
       "<polyline clip-path=\"url(#clip6102)\" style=\"stroke:#000000; stroke-width:2; stroke-opacity:0.1; fill:none\" points=\"\n",
       "  180.66,767.359 2352.76,767.359 \n",
       "  \"/>\n",
       "<polyline clip-path=\"url(#clip6102)\" style=\"stroke:#000000; stroke-width:2; stroke-opacity:0.1; fill:none\" points=\"\n",
       "  180.66,427.682 2352.76,427.682 \n",
       "  \"/>\n",
       "<polyline clip-path=\"url(#clip6102)\" style=\"stroke:#000000; stroke-width:2; stroke-opacity:0.1; fill:none\" points=\"\n",
       "  180.66,88.0053 2352.76,88.0053 \n",
       "  \"/>\n",
       "<polyline clip-path=\"url(#clip6100)\" style=\"stroke:#000000; stroke-width:4; stroke-opacity:1; fill:none\" points=\"\n",
       "  180.66,1487.47 2352.76,1487.47 \n",
       "  \"/>\n",
       "<polyline clip-path=\"url(#clip6100)\" style=\"stroke:#000000; stroke-width:4; stroke-opacity:1; fill:none\" points=\"\n",
       "  180.66,1487.47 180.66,47.2441 \n",
       "  \"/>\n",
       "<polyline clip-path=\"url(#clip6100)\" style=\"stroke:#000000; stroke-width:4; stroke-opacity:1; fill:none\" points=\"\n",
       "  231.837,1487.47 231.837,1470.19 \n",
       "  \"/>\n",
       "<polyline clip-path=\"url(#clip6100)\" style=\"stroke:#000000; stroke-width:4; stroke-opacity:1; fill:none\" points=\"\n",
       "  746.698,1487.47 746.698,1470.19 \n",
       "  \"/>\n",
       "<polyline clip-path=\"url(#clip6100)\" style=\"stroke:#000000; stroke-width:4; stroke-opacity:1; fill:none\" points=\"\n",
       "  1261.56,1487.47 1261.56,1470.19 \n",
       "  \"/>\n",
       "<polyline clip-path=\"url(#clip6100)\" style=\"stroke:#000000; stroke-width:4; stroke-opacity:1; fill:none\" points=\"\n",
       "  1776.42,1487.47 1776.42,1470.19 \n",
       "  \"/>\n",
       "<polyline clip-path=\"url(#clip6100)\" style=\"stroke:#000000; stroke-width:4; stroke-opacity:1; fill:none\" points=\"\n",
       "  2291.28,1487.47 2291.28,1470.19 \n",
       "  \"/>\n",
       "<polyline clip-path=\"url(#clip6100)\" style=\"stroke:#000000; stroke-width:4; stroke-opacity:1; fill:none\" points=\"\n",
       "  180.66,1446.71 206.725,1446.71 \n",
       "  \"/>\n",
       "<polyline clip-path=\"url(#clip6100)\" style=\"stroke:#000000; stroke-width:4; stroke-opacity:1; fill:none\" points=\"\n",
       "  180.66,1107.04 206.725,1107.04 \n",
       "  \"/>\n",
       "<polyline clip-path=\"url(#clip6100)\" style=\"stroke:#000000; stroke-width:4; stroke-opacity:1; fill:none\" points=\"\n",
       "  180.66,767.359 206.725,767.359 \n",
       "  \"/>\n",
       "<polyline clip-path=\"url(#clip6100)\" style=\"stroke:#000000; stroke-width:4; stroke-opacity:1; fill:none\" points=\"\n",
       "  180.66,427.682 206.725,427.682 \n",
       "  \"/>\n",
       "<polyline clip-path=\"url(#clip6100)\" style=\"stroke:#000000; stroke-width:4; stroke-opacity:1; fill:none\" points=\"\n",
       "  180.66,88.0053 206.725,88.0053 \n",
       "  \"/>\n",
       "<g clip-path=\"url(#clip6100)\">\n",
       "<text style=\"fill:#000000; fill-opacity:1; font-family:Arial,Helvetica Neue,Helvetica,sans-serif; font-size:48px; text-anchor:middle;\" transform=\"rotate(0, 231.837, 1541.47)\" x=\"231.837\" y=\"1541.47\">0</text>\n",
       "</g>\n",
       "<g clip-path=\"url(#clip6100)\">\n",
       "<text style=\"fill:#000000; fill-opacity:1; font-family:Arial,Helvetica Neue,Helvetica,sans-serif; font-size:48px; text-anchor:middle;\" transform=\"rotate(0, 746.698, 1541.47)\" x=\"746.698\" y=\"1541.47\">50</text>\n",
       "</g>\n",
       "<g clip-path=\"url(#clip6100)\">\n",
       "<text style=\"fill:#000000; fill-opacity:1; font-family:Arial,Helvetica Neue,Helvetica,sans-serif; font-size:48px; text-anchor:middle;\" transform=\"rotate(0, 1261.56, 1541.47)\" x=\"1261.56\" y=\"1541.47\">100</text>\n",
       "</g>\n",
       "<g clip-path=\"url(#clip6100)\">\n",
       "<text style=\"fill:#000000; fill-opacity:1; font-family:Arial,Helvetica Neue,Helvetica,sans-serif; font-size:48px; text-anchor:middle;\" transform=\"rotate(0, 1776.42, 1541.47)\" x=\"1776.42\" y=\"1541.47\">150</text>\n",
       "</g>\n",
       "<g clip-path=\"url(#clip6100)\">\n",
       "<text style=\"fill:#000000; fill-opacity:1; font-family:Arial,Helvetica Neue,Helvetica,sans-serif; font-size:48px; text-anchor:middle;\" transform=\"rotate(0, 2291.28, 1541.47)\" x=\"2291.28\" y=\"1541.47\">200</text>\n",
       "</g>\n",
       "<g clip-path=\"url(#clip6100)\">\n",
       "<text style=\"fill:#000000; fill-opacity:1; font-family:Arial,Helvetica Neue,Helvetica,sans-serif; font-size:48px; text-anchor:end;\" transform=\"rotate(0, 156.66, 1464.21)\" x=\"156.66\" y=\"1464.21\">0.0</text>\n",
       "</g>\n",
       "<g clip-path=\"url(#clip6100)\">\n",
       "<text style=\"fill:#000000; fill-opacity:1; font-family:Arial,Helvetica Neue,Helvetica,sans-serif; font-size:48px; text-anchor:end;\" transform=\"rotate(0, 156.66, 1124.54)\" x=\"156.66\" y=\"1124.54\">2.5</text>\n",
       "</g>\n",
       "<g clip-path=\"url(#clip6100)\">\n",
       "<text style=\"fill:#000000; fill-opacity:1; font-family:Arial,Helvetica Neue,Helvetica,sans-serif; font-size:48px; text-anchor:end;\" transform=\"rotate(0, 156.66, 784.859)\" x=\"156.66\" y=\"784.859\">5.0</text>\n",
       "</g>\n",
       "<g clip-path=\"url(#clip6100)\">\n",
       "<text style=\"fill:#000000; fill-opacity:1; font-family:Arial,Helvetica Neue,Helvetica,sans-serif; font-size:48px; text-anchor:end;\" transform=\"rotate(0, 156.66, 445.182)\" x=\"156.66\" y=\"445.182\">7.5</text>\n",
       "</g>\n",
       "<g clip-path=\"url(#clip6100)\">\n",
       "<text style=\"fill:#000000; fill-opacity:1; font-family:Arial,Helvetica Neue,Helvetica,sans-serif; font-size:48px; text-anchor:end;\" transform=\"rotate(0, 156.66, 105.505)\" x=\"156.66\" y=\"105.505\">10.0</text>\n",
       "</g>\n",
       "<polyline clip-path=\"url(#clip6102)\" style=\"stroke:#009af9; stroke-width:4; stroke-opacity:1; fill:none\" points=\"\n",
       "  242.135,631.489 252.432,767.359 262.729,767.359 273.026,767.359 283.324,903.23 293.621,903.23 303.918,1039.1 314.215,1039.1 324.512,1174.97 334.81,1174.97 \n",
       "  345.107,1174.97 355.404,1174.97 365.701,1310.84 375.999,1310.84 386.296,1310.84 396.593,1446.71 406.89,1446.71 417.187,1446.71 427.485,1446.71 437.782,1446.71 \n",
       "  448.079,1446.71 458.376,1446.71 468.674,1446.71 478.971,1446.71 489.268,1446.71 499.565,1446.71 509.862,1446.71 520.16,1446.71 530.457,1446.71 540.754,1446.71 \n",
       "  551.051,1446.71 561.349,1446.71 571.646,1446.71 581.943,1446.71 592.24,1446.71 602.537,1446.71 612.835,1446.71 623.132,1446.71 633.429,1446.71 643.726,1446.71 \n",
       "  654.024,1446.71 664.321,1446.71 674.618,1446.71 684.915,1446.71 695.212,1446.71 705.51,1446.71 715.807,1446.71 726.104,1446.71 736.401,1446.71 746.698,1446.71 \n",
       "  756.996,1446.71 767.293,1446.71 777.59,1446.71 787.887,1446.71 798.185,1446.71 808.482,1446.71 818.779,1446.71 829.076,1446.71 839.373,1446.71 849.671,1446.71 \n",
       "  859.968,1446.71 870.265,1446.71 880.562,1446.71 890.86,1310.84 901.157,1310.84 911.454,1310.84 921.751,1310.84 932.048,1310.84 942.346,1174.97 952.643,1174.97 \n",
       "  962.94,1174.97 973.237,1174.97 983.535,1310.84 993.832,1310.84 1004.13,1310.84 1014.43,1310.84 1024.72,1310.84 1035.02,1310.84 1045.32,1310.84 1055.62,1174.97 \n",
       "  1065.91,1174.97 1076.21,1174.97 1086.51,1174.97 1096.8,1174.97 1107.1,1310.84 1117.4,1310.84 1127.7,1310.84 1137.99,1310.84 1148.29,1446.71 1158.59,1446.71 \n",
       "  1168.88,1446.71 1179.18,1446.71 1189.48,1446.71 1199.78,1446.71 1210.07,1446.71 1220.37,1446.71 1230.67,1446.71 1240.97,1446.71 1251.26,1446.71 1261.56,1446.71 \n",
       "  1271.86,1446.71 1282.15,1446.71 1292.45,1446.71 1302.75,1446.71 1313.05,1446.71 1323.34,1446.71 1333.64,1446.71 1343.94,1446.71 1354.23,1446.71 1364.53,1446.71 \n",
       "  1374.83,1446.71 1385.13,1310.84 1395.42,1310.84 1405.72,1310.84 1416.02,1310.84 1426.32,1310.84 1436.61,1310.84 1446.91,1310.84 1457.21,1310.84 1467.5,1446.71 \n",
       "  1477.8,1446.71 1488.1,1446.71 1498.4,1310.84 1508.69,1310.84 1518.99,1174.97 1529.29,1174.97 1539.58,1310.84 1549.88,1310.84 1560.18,1310.84 1570.48,1310.84 \n",
       "  1580.77,1310.84 1591.07,1446.71 1601.37,1446.71 1611.66,1446.71 1621.96,1446.71 1632.26,1446.71 1642.56,1446.71 1652.85,1446.71 1663.15,1446.71 1673.45,1446.71 \n",
       "  1683.75,1446.71 1694.04,1446.71 1704.34,1446.71 1714.64,1446.71 1724.93,1446.71 1735.23,1446.71 1745.53,1446.71 1755.83,1446.71 1766.12,1446.71 1776.42,1446.71 \n",
       "  1786.72,1446.71 1797.01,1446.71 1807.31,1446.71 1817.61,1446.71 1827.91,1446.71 1838.2,1446.71 1848.5,1446.71 1858.8,1446.71 1869.1,1446.71 1879.39,1446.71 \n",
       "  1889.69,1446.71 1899.99,1446.71 1910.28,1446.71 1920.58,1446.71 1930.88,1446.71 1941.18,1446.71 1951.47,1310.84 1961.77,1310.84 1972.07,1446.71 1982.36,1310.84 \n",
       "  1992.66,1310.84 2002.96,1310.84 2013.26,1174.97 2023.55,1174.97 2033.85,1310.84 2044.15,1310.84 2054.45,1310.84 2064.74,1310.84 2075.04,1310.84 2085.34,1310.84 \n",
       "  2095.63,1310.84 2105.93,1310.84 2116.23,1310.84 2126.53,1310.84 2136.82,1310.84 2147.12,1310.84 2157.42,1310.84 2167.71,1310.84 2178.01,1310.84 2188.31,1310.84 \n",
       "  2198.61,1310.84 2208.9,1310.84 2219.2,1310.84 2229.5,1310.84 2239.8,1310.84 2250.09,1310.84 2260.39,1310.84 2270.69,1310.84 2280.98,1310.84 2291.28,1310.84 \n",
       "  \n",
       "  \"/>\n",
       "<polyline clip-path=\"url(#clip6102)\" style=\"stroke:#e26f46; stroke-width:4; stroke-opacity:1; fill:none\" points=\"\n",
       "  242.135,1174.97 252.432,1039.1 262.729,903.23 273.026,903.23 283.324,767.359 293.621,767.359 303.918,631.489 314.215,631.489 324.512,495.618 334.81,495.618 \n",
       "  345.107,359.747 355.404,359.747 365.701,223.876 375.999,223.876 386.296,223.876 396.593,88.0053 406.89,88.0053 417.187,88.0053 427.485,88.0053 437.782,88.0053 \n",
       "  448.079,88.0053 458.376,88.0053 468.674,88.0053 478.971,88.0053 489.268,88.0053 499.565,88.0053 509.862,223.876 520.16,88.0053 530.457,88.0053 540.754,88.0053 \n",
       "  551.051,88.0053 561.349,88.0053 571.646,88.0053 581.943,88.0053 592.24,88.0053 602.537,88.0053 612.835,88.0053 623.132,88.0053 633.429,88.0053 643.726,88.0053 \n",
       "  654.024,88.0053 664.321,88.0053 674.618,88.0053 684.915,88.0053 695.212,88.0053 705.51,88.0053 715.807,88.0053 726.104,88.0053 736.401,88.0053 746.698,88.0053 \n",
       "  756.996,88.0053 767.293,88.0053 777.59,88.0053 787.887,88.0053 798.185,88.0053 808.482,223.876 818.779,223.876 829.076,223.876 839.373,223.876 849.671,223.876 \n",
       "  859.968,223.876 870.265,223.876 880.562,88.0053 890.86,223.876 901.157,223.876 911.454,223.876 921.751,223.876 932.048,223.876 942.346,359.747 952.643,359.747 \n",
       "  962.94,495.618 973.237,495.618 983.535,359.747 993.832,359.747 1004.13,359.747 1014.43,359.747 1024.72,359.747 1035.02,359.747 1045.32,359.747 1055.62,495.618 \n",
       "  1065.91,495.618 1076.21,495.618 1086.51,495.618 1096.8,495.618 1107.1,359.747 1117.4,359.747 1127.7,359.747 1137.99,359.747 1148.29,223.876 1158.59,223.876 \n",
       "  1168.88,88.0053 1179.18,88.0053 1189.48,88.0053 1199.78,88.0053 1210.07,88.0053 1220.37,88.0053 1230.67,88.0053 1240.97,88.0053 1251.26,88.0053 1261.56,88.0053 \n",
       "  1271.86,88.0053 1282.15,88.0053 1292.45,88.0053 1302.75,88.0053 1313.05,88.0053 1323.34,88.0053 1333.64,88.0053 1343.94,88.0053 1354.23,88.0053 1364.53,88.0053 \n",
       "  1374.83,88.0053 1385.13,223.876 1395.42,223.876 1405.72,223.876 1416.02,223.876 1426.32,223.876 1436.61,223.876 1446.91,223.876 1457.21,223.876 1467.5,88.0053 \n",
       "  1477.8,88.0053 1488.1,88.0053 1498.4,223.876 1508.69,359.747 1518.99,495.618 1529.29,495.618 1539.58,359.747 1549.88,359.747 1560.18,359.747 1570.48,359.747 \n",
       "  1580.77,223.876 1591.07,88.0053 1601.37,88.0053 1611.66,88.0053 1621.96,88.0053 1632.26,88.0053 1642.56,88.0053 1652.85,88.0053 1663.15,88.0053 1673.45,88.0053 \n",
       "  1683.75,88.0053 1694.04,88.0053 1704.34,88.0053 1714.64,88.0053 1724.93,88.0053 1735.23,88.0053 1745.53,88.0053 1755.83,88.0053 1766.12,88.0053 1776.42,88.0053 \n",
       "  1786.72,88.0053 1797.01,223.876 1807.31,223.876 1817.61,223.876 1827.91,223.876 1838.2,223.876 1848.5,223.876 1858.8,88.0053 1869.1,88.0053 1879.39,88.0053 \n",
       "  1889.69,88.0053 1899.99,88.0053 1910.28,88.0053 1920.58,88.0053 1930.88,88.0053 1941.18,88.0053 1951.47,223.876 1961.77,223.876 1972.07,88.0053 1982.36,223.876 \n",
       "  1992.66,223.876 2002.96,223.876 2013.26,359.747 2023.55,359.747 2033.85,223.876 2044.15,223.876 2054.45,223.876 2064.74,223.876 2075.04,223.876 2085.34,223.876 \n",
       "  2095.63,223.876 2105.93,223.876 2116.23,223.876 2126.53,223.876 2136.82,223.876 2147.12,223.876 2157.42,223.876 2167.71,223.876 2178.01,223.876 2188.31,223.876 \n",
       "  2198.61,223.876 2208.9,223.876 2219.2,223.876 2229.5,223.876 2239.8,223.876 2250.09,223.876 2260.39,223.876 2270.69,223.876 2280.98,359.747 2291.28,359.747 \n",
       "  \n",
       "  \"/>\n",
       "<polyline clip-path=\"url(#clip6102)\" style=\"stroke:#3da44d; stroke-width:4; stroke-opacity:1; fill:none\" points=\"\n",
       "  242.135,1174.97 252.432,1174.97 262.729,1310.84 273.026,1310.84 283.324,1310.84 293.621,1310.84 303.918,1310.84 314.215,1310.84 324.512,1310.84 334.81,1310.84 \n",
       "  345.107,1446.71 355.404,1446.71 365.701,1446.71 375.999,1446.71 386.296,1446.71 396.593,1446.71 406.89,1446.71 417.187,1446.71 427.485,1446.71 437.782,1446.71 \n",
       "  448.079,1446.71 458.376,1446.71 468.674,1446.71 478.971,1446.71 489.268,1446.71 499.565,1446.71 509.862,1310.84 520.16,1446.71 530.457,1446.71 540.754,1446.71 \n",
       "  551.051,1446.71 561.349,1446.71 571.646,1446.71 581.943,1446.71 592.24,1446.71 602.537,1446.71 612.835,1446.71 623.132,1446.71 633.429,1446.71 643.726,1446.71 \n",
       "  654.024,1446.71 664.321,1446.71 674.618,1446.71 684.915,1446.71 695.212,1446.71 705.51,1446.71 715.807,1446.71 726.104,1446.71 736.401,1446.71 746.698,1446.71 \n",
       "  756.996,1446.71 767.293,1446.71 777.59,1446.71 787.887,1446.71 798.185,1446.71 808.482,1310.84 818.779,1310.84 829.076,1310.84 839.373,1310.84 849.671,1310.84 \n",
       "  859.968,1310.84 870.265,1310.84 880.562,1446.71 890.86,1446.71 901.157,1446.71 911.454,1446.71 921.751,1446.71 932.048,1446.71 942.346,1446.71 952.643,1446.71 \n",
       "  962.94,1310.84 973.237,1310.84 983.535,1310.84 993.832,1310.84 1004.13,1310.84 1014.43,1310.84 1024.72,1310.84 1035.02,1310.84 1045.32,1310.84 1055.62,1310.84 \n",
       "  1065.91,1310.84 1076.21,1310.84 1086.51,1310.84 1096.8,1310.84 1107.1,1310.84 1117.4,1310.84 1127.7,1310.84 1137.99,1310.84 1148.29,1310.84 1158.59,1310.84 \n",
       "  1168.88,1446.71 1179.18,1446.71 1189.48,1446.71 1199.78,1446.71 1210.07,1446.71 1220.37,1446.71 1230.67,1446.71 1240.97,1446.71 1251.26,1446.71 1261.56,1446.71 \n",
       "  1271.86,1446.71 1282.15,1446.71 1292.45,1446.71 1302.75,1446.71 1313.05,1446.71 1323.34,1446.71 1333.64,1446.71 1343.94,1446.71 1354.23,1446.71 1364.53,1446.71 \n",
       "  1374.83,1446.71 1385.13,1446.71 1395.42,1446.71 1405.72,1446.71 1416.02,1446.71 1426.32,1446.71 1436.61,1446.71 1446.91,1446.71 1457.21,1446.71 1467.5,1446.71 \n",
       "  1477.8,1446.71 1488.1,1446.71 1498.4,1446.71 1508.69,1310.84 1518.99,1310.84 1529.29,1310.84 1539.58,1310.84 1549.88,1310.84 1560.18,1310.84 1570.48,1310.84 \n",
       "  1580.77,1446.71 1591.07,1446.71 1601.37,1446.71 1611.66,1446.71 1621.96,1446.71 1632.26,1446.71 1642.56,1446.71 1652.85,1446.71 1663.15,1446.71 1673.45,1446.71 \n",
       "  1683.75,1446.71 1694.04,1446.71 1704.34,1446.71 1714.64,1446.71 1724.93,1446.71 1735.23,1446.71 1745.53,1446.71 1755.83,1446.71 1766.12,1446.71 1776.42,1446.71 \n",
       "  1786.72,1446.71 1797.01,1310.84 1807.31,1310.84 1817.61,1310.84 1827.91,1310.84 1838.2,1310.84 1848.5,1310.84 1858.8,1446.71 1869.1,1446.71 1879.39,1446.71 \n",
       "  1889.69,1446.71 1899.99,1446.71 1910.28,1446.71 1920.58,1446.71 1930.88,1446.71 1941.18,1446.71 1951.47,1446.71 1961.77,1446.71 1972.07,1446.71 1982.36,1446.71 \n",
       "  1992.66,1446.71 2002.96,1446.71 2013.26,1446.71 2023.55,1446.71 2033.85,1446.71 2044.15,1446.71 2054.45,1446.71 2064.74,1446.71 2075.04,1446.71 2085.34,1446.71 \n",
       "  2095.63,1446.71 2105.93,1446.71 2116.23,1446.71 2126.53,1446.71 2136.82,1446.71 2147.12,1446.71 2157.42,1446.71 2167.71,1446.71 2178.01,1446.71 2188.31,1446.71 \n",
       "  2198.61,1446.71 2208.9,1446.71 2219.2,1446.71 2229.5,1446.71 2239.8,1446.71 2250.09,1446.71 2260.39,1446.71 2270.69,1446.71 2280.98,1310.84 2291.28,1310.84 \n",
       "  \n",
       "  \"/>\n",
       "<path clip-path=\"url(#clip6100)\" d=\"\n",
       "M1858.86 372.684 L2280.76 372.684 L2280.76 130.764 L1858.86 130.764  Z\n",
       "  \" fill=\"#ffffff\" fill-rule=\"evenodd\" fill-opacity=\"1\"/>\n",
       "<polyline clip-path=\"url(#clip6100)\" style=\"stroke:#000000; stroke-width:4; stroke-opacity:1; fill:none\" points=\"\n",
       "  1858.86,372.684 2280.76,372.684 2280.76,130.764 1858.86,130.764 1858.86,372.684 \n",
       "  \"/>\n",
       "<polyline clip-path=\"url(#clip6100)\" style=\"stroke:#009af9; stroke-width:4; stroke-opacity:1; fill:none\" points=\"\n",
       "  1882.86,191.244 2026.86,191.244 \n",
       "  \"/>\n",
       "<g clip-path=\"url(#clip6100)\">\n",
       "<text style=\"fill:#000000; fill-opacity:1; font-family:Arial,Helvetica Neue,Helvetica,sans-serif; font-size:48px; text-anchor:start;\" transform=\"rotate(0, 2050.86, 208.744)\" x=\"2050.86\" y=\"208.744\">Action A</text>\n",
       "</g>\n",
       "<polyline clip-path=\"url(#clip6100)\" style=\"stroke:#e26f46; stroke-width:4; stroke-opacity:1; fill:none\" points=\"\n",
       "  1882.86,251.724 2026.86,251.724 \n",
       "  \"/>\n",
       "<g clip-path=\"url(#clip6100)\">\n",
       "<text style=\"fill:#000000; fill-opacity:1; font-family:Arial,Helvetica Neue,Helvetica,sans-serif; font-size:48px; text-anchor:start;\" transform=\"rotate(0, 2050.86, 269.224)\" x=\"2050.86\" y=\"269.224\">Action B</text>\n",
       "</g>\n",
       "<polyline clip-path=\"url(#clip6100)\" style=\"stroke:#3da44d; stroke-width:4; stroke-opacity:1; fill:none\" points=\"\n",
       "  1882.86,312.204 2026.86,312.204 \n",
       "  \"/>\n",
       "<g clip-path=\"url(#clip6100)\">\n",
       "<text style=\"fill:#000000; fill-opacity:1; font-family:Arial,Helvetica Neue,Helvetica,sans-serif; font-size:48px; text-anchor:start;\" transform=\"rotate(0, 2050.86, 329.704)\" x=\"2050.86\" y=\"329.704\">Action C</text>\n",
       "</g>\n",
       "</svg>\n"
      ]
     },
     "execution_count": 18,
     "metadata": {},
     "output_type": "execute_result"
    }
   ],
   "source": [
    "m = 2\n",
    "x = time_series(kmr_young, ts_length, [N-2*m, m, m])\n",
    "\n",
    "plot([x[1, :], x[2, :], x[3, :]], label=label_3)"
   ]
  },
  {
   "cell_type": "markdown",
   "metadata": {},
   "source": [
    "### Sampling Best Response Dynamics"
   ]
  },
  {
   "cell_type": "code",
   "execution_count": 19,
   "metadata": {},
   "outputs": [],
   "source": [
    "k = 2;"
   ]
  },
  {
   "cell_type": "markdown",
   "metadata": {},
   "source": [
    "#### Coordination Games"
   ]
  },
  {
   "cell_type": "code",
   "execution_count": 20,
   "metadata": {},
   "outputs": [
    {
     "data": {
      "text/plain": [
       "SamplingBRD{Int64}(10, 2×2 Player{2,Int64}:\n",
       " 2  0\n",
       " 0  1, 2, 2)"
      ]
     },
     "execution_count": 20,
     "metadata": {},
     "output_type": "execute_result"
    }
   ],
   "source": [
    "sbrd_coor = SamplingBRD(coordination_game_matrix, N, k)"
   ]
  },
  {
   "cell_type": "code",
   "execution_count": 21,
   "metadata": {},
   "outputs": [
    {
     "data": {
      "image/svg+xml": [
       "<?xml version=\"1.0\" encoding=\"utf-8\"?>\n",
       "<svg xmlns=\"http://www.w3.org/2000/svg\" xmlns:xlink=\"http://www.w3.org/1999/xlink\" width=\"600\" height=\"400\" viewBox=\"0 0 2400 1600\">\n",
       "<defs>\n",
       "  <clipPath id=\"clip6500\">\n",
       "    <rect x=\"0\" y=\"0\" width=\"2400\" height=\"1600\"/>\n",
       "  </clipPath>\n",
       "</defs>\n",
       "<path clip-path=\"url(#clip6500)\" d=\"\n",
       "M0 1600 L2400 1600 L2400 0 L0 0  Z\n",
       "  \" fill=\"#ffffff\" fill-rule=\"evenodd\" fill-opacity=\"1\"/>\n",
       "<defs>\n",
       "  <clipPath id=\"clip6501\">\n",
       "    <rect x=\"480\" y=\"0\" width=\"1681\" height=\"1600\"/>\n",
       "  </clipPath>\n",
       "</defs>\n",
       "<path clip-path=\"url(#clip6500)\" d=\"\n",
       "M180.66 1487.47 L2352.76 1487.47 L2352.76 47.2441 L180.66 47.2441  Z\n",
       "  \" fill=\"#ffffff\" fill-rule=\"evenodd\" fill-opacity=\"1\"/>\n",
       "<defs>\n",
       "  <clipPath id=\"clip6502\">\n",
       "    <rect x=\"180\" y=\"47\" width=\"2173\" height=\"1441\"/>\n",
       "  </clipPath>\n",
       "</defs>\n",
       "<polyline clip-path=\"url(#clip6502)\" style=\"stroke:#000000; stroke-width:2; stroke-opacity:0.1; fill:none\" points=\"\n",
       "  231.837,1487.47 231.837,47.2441 \n",
       "  \"/>\n",
       "<polyline clip-path=\"url(#clip6502)\" style=\"stroke:#000000; stroke-width:2; stroke-opacity:0.1; fill:none\" points=\"\n",
       "  746.698,1487.47 746.698,47.2441 \n",
       "  \"/>\n",
       "<polyline clip-path=\"url(#clip6502)\" style=\"stroke:#000000; stroke-width:2; stroke-opacity:0.1; fill:none\" points=\"\n",
       "  1261.56,1487.47 1261.56,47.2441 \n",
       "  \"/>\n",
       "<polyline clip-path=\"url(#clip6502)\" style=\"stroke:#000000; stroke-width:2; stroke-opacity:0.1; fill:none\" points=\"\n",
       "  1776.42,1487.47 1776.42,47.2441 \n",
       "  \"/>\n",
       "<polyline clip-path=\"url(#clip6502)\" style=\"stroke:#000000; stroke-width:2; stroke-opacity:0.1; fill:none\" points=\"\n",
       "  2291.28,1487.47 2291.28,47.2441 \n",
       "  \"/>\n",
       "<polyline clip-path=\"url(#clip6502)\" style=\"stroke:#000000; stroke-width:2; stroke-opacity:0.1; fill:none\" points=\"\n",
       "  180.66,1446.71 2352.76,1446.71 \n",
       "  \"/>\n",
       "<polyline clip-path=\"url(#clip6502)\" style=\"stroke:#000000; stroke-width:2; stroke-opacity:0.1; fill:none\" points=\"\n",
       "  180.66,1107.04 2352.76,1107.04 \n",
       "  \"/>\n",
       "<polyline clip-path=\"url(#clip6502)\" style=\"stroke:#000000; stroke-width:2; stroke-opacity:0.1; fill:none\" points=\"\n",
       "  180.66,767.359 2352.76,767.359 \n",
       "  \"/>\n",
       "<polyline clip-path=\"url(#clip6502)\" style=\"stroke:#000000; stroke-width:2; stroke-opacity:0.1; fill:none\" points=\"\n",
       "  180.66,427.682 2352.76,427.682 \n",
       "  \"/>\n",
       "<polyline clip-path=\"url(#clip6502)\" style=\"stroke:#000000; stroke-width:2; stroke-opacity:0.1; fill:none\" points=\"\n",
       "  180.66,88.0053 2352.76,88.0053 \n",
       "  \"/>\n",
       "<polyline clip-path=\"url(#clip6500)\" style=\"stroke:#000000; stroke-width:4; stroke-opacity:1; fill:none\" points=\"\n",
       "  180.66,1487.47 2352.76,1487.47 \n",
       "  \"/>\n",
       "<polyline clip-path=\"url(#clip6500)\" style=\"stroke:#000000; stroke-width:4; stroke-opacity:1; fill:none\" points=\"\n",
       "  180.66,1487.47 180.66,47.2441 \n",
       "  \"/>\n",
       "<polyline clip-path=\"url(#clip6500)\" style=\"stroke:#000000; stroke-width:4; stroke-opacity:1; fill:none\" points=\"\n",
       "  231.837,1487.47 231.837,1470.19 \n",
       "  \"/>\n",
       "<polyline clip-path=\"url(#clip6500)\" style=\"stroke:#000000; stroke-width:4; stroke-opacity:1; fill:none\" points=\"\n",
       "  746.698,1487.47 746.698,1470.19 \n",
       "  \"/>\n",
       "<polyline clip-path=\"url(#clip6500)\" style=\"stroke:#000000; stroke-width:4; stroke-opacity:1; fill:none\" points=\"\n",
       "  1261.56,1487.47 1261.56,1470.19 \n",
       "  \"/>\n",
       "<polyline clip-path=\"url(#clip6500)\" style=\"stroke:#000000; stroke-width:4; stroke-opacity:1; fill:none\" points=\"\n",
       "  1776.42,1487.47 1776.42,1470.19 \n",
       "  \"/>\n",
       "<polyline clip-path=\"url(#clip6500)\" style=\"stroke:#000000; stroke-width:4; stroke-opacity:1; fill:none\" points=\"\n",
       "  2291.28,1487.47 2291.28,1470.19 \n",
       "  \"/>\n",
       "<polyline clip-path=\"url(#clip6500)\" style=\"stroke:#000000; stroke-width:4; stroke-opacity:1; fill:none\" points=\"\n",
       "  180.66,1446.71 206.725,1446.71 \n",
       "  \"/>\n",
       "<polyline clip-path=\"url(#clip6500)\" style=\"stroke:#000000; stroke-width:4; stroke-opacity:1; fill:none\" points=\"\n",
       "  180.66,1107.04 206.725,1107.04 \n",
       "  \"/>\n",
       "<polyline clip-path=\"url(#clip6500)\" style=\"stroke:#000000; stroke-width:4; stroke-opacity:1; fill:none\" points=\"\n",
       "  180.66,767.359 206.725,767.359 \n",
       "  \"/>\n",
       "<polyline clip-path=\"url(#clip6500)\" style=\"stroke:#000000; stroke-width:4; stroke-opacity:1; fill:none\" points=\"\n",
       "  180.66,427.682 206.725,427.682 \n",
       "  \"/>\n",
       "<polyline clip-path=\"url(#clip6500)\" style=\"stroke:#000000; stroke-width:4; stroke-opacity:1; fill:none\" points=\"\n",
       "  180.66,88.0053 206.725,88.0053 \n",
       "  \"/>\n",
       "<g clip-path=\"url(#clip6500)\">\n",
       "<text style=\"fill:#000000; fill-opacity:1; font-family:Arial,Helvetica Neue,Helvetica,sans-serif; font-size:48px; text-anchor:middle;\" transform=\"rotate(0, 231.837, 1541.47)\" x=\"231.837\" y=\"1541.47\">0</text>\n",
       "</g>\n",
       "<g clip-path=\"url(#clip6500)\">\n",
       "<text style=\"fill:#000000; fill-opacity:1; font-family:Arial,Helvetica Neue,Helvetica,sans-serif; font-size:48px; text-anchor:middle;\" transform=\"rotate(0, 746.698, 1541.47)\" x=\"746.698\" y=\"1541.47\">50</text>\n",
       "</g>\n",
       "<g clip-path=\"url(#clip6500)\">\n",
       "<text style=\"fill:#000000; fill-opacity:1; font-family:Arial,Helvetica Neue,Helvetica,sans-serif; font-size:48px; text-anchor:middle;\" transform=\"rotate(0, 1261.56, 1541.47)\" x=\"1261.56\" y=\"1541.47\">100</text>\n",
       "</g>\n",
       "<g clip-path=\"url(#clip6500)\">\n",
       "<text style=\"fill:#000000; fill-opacity:1; font-family:Arial,Helvetica Neue,Helvetica,sans-serif; font-size:48px; text-anchor:middle;\" transform=\"rotate(0, 1776.42, 1541.47)\" x=\"1776.42\" y=\"1541.47\">150</text>\n",
       "</g>\n",
       "<g clip-path=\"url(#clip6500)\">\n",
       "<text style=\"fill:#000000; fill-opacity:1; font-family:Arial,Helvetica Neue,Helvetica,sans-serif; font-size:48px; text-anchor:middle;\" transform=\"rotate(0, 2291.28, 1541.47)\" x=\"2291.28\" y=\"1541.47\">200</text>\n",
       "</g>\n",
       "<g clip-path=\"url(#clip6500)\">\n",
       "<text style=\"fill:#000000; fill-opacity:1; font-family:Arial,Helvetica Neue,Helvetica,sans-serif; font-size:48px; text-anchor:end;\" transform=\"rotate(0, 156.66, 1464.21)\" x=\"156.66\" y=\"1464.21\">0.0</text>\n",
       "</g>\n",
       "<g clip-path=\"url(#clip6500)\">\n",
       "<text style=\"fill:#000000; fill-opacity:1; font-family:Arial,Helvetica Neue,Helvetica,sans-serif; font-size:48px; text-anchor:end;\" transform=\"rotate(0, 156.66, 1124.54)\" x=\"156.66\" y=\"1124.54\">2.5</text>\n",
       "</g>\n",
       "<g clip-path=\"url(#clip6500)\">\n",
       "<text style=\"fill:#000000; fill-opacity:1; font-family:Arial,Helvetica Neue,Helvetica,sans-serif; font-size:48px; text-anchor:end;\" transform=\"rotate(0, 156.66, 784.859)\" x=\"156.66\" y=\"784.859\">5.0</text>\n",
       "</g>\n",
       "<g clip-path=\"url(#clip6500)\">\n",
       "<text style=\"fill:#000000; fill-opacity:1; font-family:Arial,Helvetica Neue,Helvetica,sans-serif; font-size:48px; text-anchor:end;\" transform=\"rotate(0, 156.66, 445.182)\" x=\"156.66\" y=\"445.182\">7.5</text>\n",
       "</g>\n",
       "<g clip-path=\"url(#clip6500)\">\n",
       "<text style=\"fill:#000000; fill-opacity:1; font-family:Arial,Helvetica Neue,Helvetica,sans-serif; font-size:48px; text-anchor:end;\" transform=\"rotate(0, 156.66, 105.505)\" x=\"156.66\" y=\"105.505\">10.0</text>\n",
       "</g>\n",
       "<polyline clip-path=\"url(#clip6502)\" style=\"stroke:#009af9; stroke-width:4; stroke-opacity:1; fill:none\" points=\"\n",
       "  242.135,1174.97 252.432,1039.1 262.729,903.23 273.026,767.359 283.324,767.359 293.621,631.489 303.918,631.489 314.215,631.489 324.512,631.489 334.81,631.489 \n",
       "  345.107,631.489 355.404,495.618 365.701,359.747 375.999,359.747 386.296,359.747 396.593,359.747 406.89,359.747 417.187,359.747 427.485,223.876 437.782,223.876 \n",
       "  448.079,223.876 458.376,223.876 468.674,223.876 478.971,223.876 489.268,223.876 499.565,223.876 509.862,223.876 520.16,223.876 530.457,223.876 540.754,223.876 \n",
       "  551.051,223.876 561.349,88.0053 571.646,88.0053 581.943,88.0053 592.24,88.0053 602.537,88.0053 612.835,88.0053 623.132,88.0053 633.429,88.0053 643.726,88.0053 \n",
       "  654.024,88.0053 664.321,88.0053 674.618,88.0053 684.915,88.0053 695.212,88.0053 705.51,88.0053 715.807,88.0053 726.104,88.0053 736.401,88.0053 746.698,88.0053 \n",
       "  756.996,88.0053 767.293,88.0053 777.59,88.0053 787.887,88.0053 798.185,88.0053 808.482,88.0053 818.779,88.0053 829.076,88.0053 839.373,88.0053 849.671,88.0053 \n",
       "  859.968,88.0053 870.265,88.0053 880.562,88.0053 890.86,88.0053 901.157,88.0053 911.454,88.0053 921.751,88.0053 932.048,88.0053 942.346,88.0053 952.643,88.0053 \n",
       "  962.94,88.0053 973.237,88.0053 983.535,88.0053 993.832,88.0053 1004.13,88.0053 1014.43,88.0053 1024.72,88.0053 1035.02,88.0053 1045.32,88.0053 1055.62,88.0053 \n",
       "  1065.91,88.0053 1076.21,88.0053 1086.51,88.0053 1096.8,88.0053 1107.1,88.0053 1117.4,88.0053 1127.7,88.0053 1137.99,88.0053 1148.29,88.0053 1158.59,88.0053 \n",
       "  1168.88,88.0053 1179.18,88.0053 1189.48,88.0053 1199.78,88.0053 1210.07,88.0053 1220.37,88.0053 1230.67,88.0053 1240.97,88.0053 1251.26,88.0053 1261.56,88.0053 \n",
       "  1271.86,88.0053 1282.15,88.0053 1292.45,88.0053 1302.75,88.0053 1313.05,88.0053 1323.34,88.0053 1333.64,88.0053 1343.94,88.0053 1354.23,88.0053 1364.53,88.0053 \n",
       "  1374.83,88.0053 1385.13,88.0053 1395.42,88.0053 1405.72,88.0053 1416.02,88.0053 1426.32,88.0053 1436.61,88.0053 1446.91,88.0053 1457.21,88.0053 1467.5,88.0053 \n",
       "  1477.8,88.0053 1488.1,88.0053 1498.4,88.0053 1508.69,88.0053 1518.99,88.0053 1529.29,88.0053 1539.58,88.0053 1549.88,88.0053 1560.18,88.0053 1570.48,88.0053 \n",
       "  1580.77,88.0053 1591.07,88.0053 1601.37,88.0053 1611.66,88.0053 1621.96,88.0053 1632.26,88.0053 1642.56,88.0053 1652.85,88.0053 1663.15,88.0053 1673.45,88.0053 \n",
       "  1683.75,88.0053 1694.04,88.0053 1704.34,88.0053 1714.64,88.0053 1724.93,88.0053 1735.23,88.0053 1745.53,88.0053 1755.83,88.0053 1766.12,88.0053 1776.42,88.0053 \n",
       "  1786.72,88.0053 1797.01,88.0053 1807.31,88.0053 1817.61,88.0053 1827.91,88.0053 1838.2,88.0053 1848.5,88.0053 1858.8,88.0053 1869.1,88.0053 1879.39,88.0053 \n",
       "  1889.69,88.0053 1899.99,88.0053 1910.28,88.0053 1920.58,88.0053 1930.88,88.0053 1941.18,88.0053 1951.47,88.0053 1961.77,88.0053 1972.07,88.0053 1982.36,88.0053 \n",
       "  1992.66,88.0053 2002.96,88.0053 2013.26,88.0053 2023.55,88.0053 2033.85,88.0053 2044.15,88.0053 2054.45,88.0053 2064.74,88.0053 2075.04,88.0053 2085.34,88.0053 \n",
       "  2095.63,88.0053 2105.93,88.0053 2116.23,88.0053 2126.53,88.0053 2136.82,88.0053 2147.12,88.0053 2157.42,88.0053 2167.71,88.0053 2178.01,88.0053 2188.31,88.0053 \n",
       "  2198.61,88.0053 2208.9,88.0053 2219.2,88.0053 2229.5,88.0053 2239.8,88.0053 2250.09,88.0053 2260.39,88.0053 2270.69,88.0053 2280.98,88.0053 2291.28,88.0053 \n",
       "  \n",
       "  \"/>\n",
       "<polyline clip-path=\"url(#clip6502)\" style=\"stroke:#e26f46; stroke-width:4; stroke-opacity:1; fill:none\" points=\"\n",
       "  242.135,359.747 252.432,495.618 262.729,631.489 273.026,767.359 283.324,767.359 293.621,903.23 303.918,903.23 314.215,903.23 324.512,903.23 334.81,903.23 \n",
       "  345.107,903.23 355.404,1039.1 365.701,1174.97 375.999,1174.97 386.296,1174.97 396.593,1174.97 406.89,1174.97 417.187,1174.97 427.485,1310.84 437.782,1310.84 \n",
       "  448.079,1310.84 458.376,1310.84 468.674,1310.84 478.971,1310.84 489.268,1310.84 499.565,1310.84 509.862,1310.84 520.16,1310.84 530.457,1310.84 540.754,1310.84 \n",
       "  551.051,1310.84 561.349,1446.71 571.646,1446.71 581.943,1446.71 592.24,1446.71 602.537,1446.71 612.835,1446.71 623.132,1446.71 633.429,1446.71 643.726,1446.71 \n",
       "  654.024,1446.71 664.321,1446.71 674.618,1446.71 684.915,1446.71 695.212,1446.71 705.51,1446.71 715.807,1446.71 726.104,1446.71 736.401,1446.71 746.698,1446.71 \n",
       "  756.996,1446.71 767.293,1446.71 777.59,1446.71 787.887,1446.71 798.185,1446.71 808.482,1446.71 818.779,1446.71 829.076,1446.71 839.373,1446.71 849.671,1446.71 \n",
       "  859.968,1446.71 870.265,1446.71 880.562,1446.71 890.86,1446.71 901.157,1446.71 911.454,1446.71 921.751,1446.71 932.048,1446.71 942.346,1446.71 952.643,1446.71 \n",
       "  962.94,1446.71 973.237,1446.71 983.535,1446.71 993.832,1446.71 1004.13,1446.71 1014.43,1446.71 1024.72,1446.71 1035.02,1446.71 1045.32,1446.71 1055.62,1446.71 \n",
       "  1065.91,1446.71 1076.21,1446.71 1086.51,1446.71 1096.8,1446.71 1107.1,1446.71 1117.4,1446.71 1127.7,1446.71 1137.99,1446.71 1148.29,1446.71 1158.59,1446.71 \n",
       "  1168.88,1446.71 1179.18,1446.71 1189.48,1446.71 1199.78,1446.71 1210.07,1446.71 1220.37,1446.71 1230.67,1446.71 1240.97,1446.71 1251.26,1446.71 1261.56,1446.71 \n",
       "  1271.86,1446.71 1282.15,1446.71 1292.45,1446.71 1302.75,1446.71 1313.05,1446.71 1323.34,1446.71 1333.64,1446.71 1343.94,1446.71 1354.23,1446.71 1364.53,1446.71 \n",
       "  1374.83,1446.71 1385.13,1446.71 1395.42,1446.71 1405.72,1446.71 1416.02,1446.71 1426.32,1446.71 1436.61,1446.71 1446.91,1446.71 1457.21,1446.71 1467.5,1446.71 \n",
       "  1477.8,1446.71 1488.1,1446.71 1498.4,1446.71 1508.69,1446.71 1518.99,1446.71 1529.29,1446.71 1539.58,1446.71 1549.88,1446.71 1560.18,1446.71 1570.48,1446.71 \n",
       "  1580.77,1446.71 1591.07,1446.71 1601.37,1446.71 1611.66,1446.71 1621.96,1446.71 1632.26,1446.71 1642.56,1446.71 1652.85,1446.71 1663.15,1446.71 1673.45,1446.71 \n",
       "  1683.75,1446.71 1694.04,1446.71 1704.34,1446.71 1714.64,1446.71 1724.93,1446.71 1735.23,1446.71 1745.53,1446.71 1755.83,1446.71 1766.12,1446.71 1776.42,1446.71 \n",
       "  1786.72,1446.71 1797.01,1446.71 1807.31,1446.71 1817.61,1446.71 1827.91,1446.71 1838.2,1446.71 1848.5,1446.71 1858.8,1446.71 1869.1,1446.71 1879.39,1446.71 \n",
       "  1889.69,1446.71 1899.99,1446.71 1910.28,1446.71 1920.58,1446.71 1930.88,1446.71 1941.18,1446.71 1951.47,1446.71 1961.77,1446.71 1972.07,1446.71 1982.36,1446.71 \n",
       "  1992.66,1446.71 2002.96,1446.71 2013.26,1446.71 2023.55,1446.71 2033.85,1446.71 2044.15,1446.71 2054.45,1446.71 2064.74,1446.71 2075.04,1446.71 2085.34,1446.71 \n",
       "  2095.63,1446.71 2105.93,1446.71 2116.23,1446.71 2126.53,1446.71 2136.82,1446.71 2147.12,1446.71 2157.42,1446.71 2167.71,1446.71 2178.01,1446.71 2188.31,1446.71 \n",
       "  2198.61,1446.71 2208.9,1446.71 2219.2,1446.71 2229.5,1446.71 2239.8,1446.71 2250.09,1446.71 2260.39,1446.71 2270.69,1446.71 2280.98,1446.71 2291.28,1446.71 \n",
       "  \n",
       "  \"/>\n",
       "<path clip-path=\"url(#clip6500)\" d=\"\n",
       "M1861.51 312.204 L2280.76 312.204 L2280.76 130.764 L1861.51 130.764  Z\n",
       "  \" fill=\"#ffffff\" fill-rule=\"evenodd\" fill-opacity=\"1\"/>\n",
       "<polyline clip-path=\"url(#clip6500)\" style=\"stroke:#000000; stroke-width:4; stroke-opacity:1; fill:none\" points=\"\n",
       "  1861.51,312.204 2280.76,312.204 2280.76,130.764 1861.51,130.764 1861.51,312.204 \n",
       "  \"/>\n",
       "<polyline clip-path=\"url(#clip6500)\" style=\"stroke:#009af9; stroke-width:4; stroke-opacity:1; fill:none\" points=\"\n",
       "  1885.51,191.244 2029.51,191.244 \n",
       "  \"/>\n",
       "<g clip-path=\"url(#clip6500)\">\n",
       "<text style=\"fill:#000000; fill-opacity:1; font-family:Arial,Helvetica Neue,Helvetica,sans-serif; font-size:48px; text-anchor:start;\" transform=\"rotate(0, 2053.51, 208.744)\" x=\"2053.51\" y=\"208.744\">Action A</text>\n",
       "</g>\n",
       "<polyline clip-path=\"url(#clip6500)\" style=\"stroke:#e26f46; stroke-width:4; stroke-opacity:1; fill:none\" points=\"\n",
       "  1885.51,251.724 2029.51,251.724 \n",
       "  \"/>\n",
       "<g clip-path=\"url(#clip6500)\">\n",
       "<text style=\"fill:#000000; fill-opacity:1; font-family:Arial,Helvetica Neue,Helvetica,sans-serif; font-size:48px; text-anchor:start;\" transform=\"rotate(0, 2053.51, 269.224)\" x=\"2053.51\" y=\"269.224\">Action B</text>\n",
       "</g>\n",
       "</svg>\n"
      ]
     },
     "execution_count": 21,
     "metadata": {},
     "output_type": "execute_result"
    }
   ],
   "source": [
    "m = 2\n",
    "x = time_series(sbrd_coor, ts_length, [m, N-m])\n",
    "\n",
    "plot([x[1, :], x[2, :]], label=label_2)"
   ]
  },
  {
   "cell_type": "markdown",
   "metadata": {},
   "source": [
    "#### Young's Game"
   ]
  },
  {
   "cell_type": "code",
   "execution_count": 22,
   "metadata": {},
   "outputs": [
    {
     "data": {
      "text/plain": [
       "SamplingBRD{Int64}(10, 3×3 Player{2,Int64}:\n",
       " 6  0  0\n",
       " 5  7  5\n",
       " 0  5  8, 3, 2)"
      ]
     },
     "execution_count": 22,
     "metadata": {},
     "output_type": "execute_result"
    }
   ],
   "source": [
    "sbrd_young = SamplingBRD(young_game_matrix, N, k)"
   ]
  },
  {
   "cell_type": "code",
   "execution_count": 23,
   "metadata": {},
   "outputs": [
    {
     "data": {
      "image/svg+xml": [
       "<?xml version=\"1.0\" encoding=\"utf-8\"?>\n",
       "<svg xmlns=\"http://www.w3.org/2000/svg\" xmlns:xlink=\"http://www.w3.org/1999/xlink\" width=\"600\" height=\"400\" viewBox=\"0 0 2400 1600\">\n",
       "<defs>\n",
       "  <clipPath id=\"clip6900\">\n",
       "    <rect x=\"0\" y=\"0\" width=\"2400\" height=\"1600\"/>\n",
       "  </clipPath>\n",
       "</defs>\n",
       "<path clip-path=\"url(#clip6900)\" d=\"\n",
       "M0 1600 L2400 1600 L2400 0 L0 0  Z\n",
       "  \" fill=\"#ffffff\" fill-rule=\"evenodd\" fill-opacity=\"1\"/>\n",
       "<defs>\n",
       "  <clipPath id=\"clip6901\">\n",
       "    <rect x=\"480\" y=\"0\" width=\"1681\" height=\"1600\"/>\n",
       "  </clipPath>\n",
       "</defs>\n",
       "<path clip-path=\"url(#clip6900)\" d=\"\n",
       "M180.66 1487.47 L2352.76 1487.47 L2352.76 47.2441 L180.66 47.2441  Z\n",
       "  \" fill=\"#ffffff\" fill-rule=\"evenodd\" fill-opacity=\"1\"/>\n",
       "<defs>\n",
       "  <clipPath id=\"clip6902\">\n",
       "    <rect x=\"180\" y=\"47\" width=\"2173\" height=\"1441\"/>\n",
       "  </clipPath>\n",
       "</defs>\n",
       "<polyline clip-path=\"url(#clip6902)\" style=\"stroke:#000000; stroke-width:2; stroke-opacity:0.1; fill:none\" points=\"\n",
       "  231.837,1487.47 231.837,47.2441 \n",
       "  \"/>\n",
       "<polyline clip-path=\"url(#clip6902)\" style=\"stroke:#000000; stroke-width:2; stroke-opacity:0.1; fill:none\" points=\"\n",
       "  746.698,1487.47 746.698,47.2441 \n",
       "  \"/>\n",
       "<polyline clip-path=\"url(#clip6902)\" style=\"stroke:#000000; stroke-width:2; stroke-opacity:0.1; fill:none\" points=\"\n",
       "  1261.56,1487.47 1261.56,47.2441 \n",
       "  \"/>\n",
       "<polyline clip-path=\"url(#clip6902)\" style=\"stroke:#000000; stroke-width:2; stroke-opacity:0.1; fill:none\" points=\"\n",
       "  1776.42,1487.47 1776.42,47.2441 \n",
       "  \"/>\n",
       "<polyline clip-path=\"url(#clip6902)\" style=\"stroke:#000000; stroke-width:2; stroke-opacity:0.1; fill:none\" points=\"\n",
       "  2291.28,1487.47 2291.28,47.2441 \n",
       "  \"/>\n",
       "<polyline clip-path=\"url(#clip6902)\" style=\"stroke:#000000; stroke-width:2; stroke-opacity:0.1; fill:none\" points=\"\n",
       "  180.66,1446.71 2352.76,1446.71 \n",
       "  \"/>\n",
       "<polyline clip-path=\"url(#clip6902)\" style=\"stroke:#000000; stroke-width:2; stroke-opacity:0.1; fill:none\" points=\"\n",
       "  180.66,1107.04 2352.76,1107.04 \n",
       "  \"/>\n",
       "<polyline clip-path=\"url(#clip6902)\" style=\"stroke:#000000; stroke-width:2; stroke-opacity:0.1; fill:none\" points=\"\n",
       "  180.66,767.359 2352.76,767.359 \n",
       "  \"/>\n",
       "<polyline clip-path=\"url(#clip6902)\" style=\"stroke:#000000; stroke-width:2; stroke-opacity:0.1; fill:none\" points=\"\n",
       "  180.66,427.682 2352.76,427.682 \n",
       "  \"/>\n",
       "<polyline clip-path=\"url(#clip6902)\" style=\"stroke:#000000; stroke-width:2; stroke-opacity:0.1; fill:none\" points=\"\n",
       "  180.66,88.0053 2352.76,88.0053 \n",
       "  \"/>\n",
       "<polyline clip-path=\"url(#clip6900)\" style=\"stroke:#000000; stroke-width:4; stroke-opacity:1; fill:none\" points=\"\n",
       "  180.66,1487.47 2352.76,1487.47 \n",
       "  \"/>\n",
       "<polyline clip-path=\"url(#clip6900)\" style=\"stroke:#000000; stroke-width:4; stroke-opacity:1; fill:none\" points=\"\n",
       "  180.66,1487.47 180.66,47.2441 \n",
       "  \"/>\n",
       "<polyline clip-path=\"url(#clip6900)\" style=\"stroke:#000000; stroke-width:4; stroke-opacity:1; fill:none\" points=\"\n",
       "  231.837,1487.47 231.837,1470.19 \n",
       "  \"/>\n",
       "<polyline clip-path=\"url(#clip6900)\" style=\"stroke:#000000; stroke-width:4; stroke-opacity:1; fill:none\" points=\"\n",
       "  746.698,1487.47 746.698,1470.19 \n",
       "  \"/>\n",
       "<polyline clip-path=\"url(#clip6900)\" style=\"stroke:#000000; stroke-width:4; stroke-opacity:1; fill:none\" points=\"\n",
       "  1261.56,1487.47 1261.56,1470.19 \n",
       "  \"/>\n",
       "<polyline clip-path=\"url(#clip6900)\" style=\"stroke:#000000; stroke-width:4; stroke-opacity:1; fill:none\" points=\"\n",
       "  1776.42,1487.47 1776.42,1470.19 \n",
       "  \"/>\n",
       "<polyline clip-path=\"url(#clip6900)\" style=\"stroke:#000000; stroke-width:4; stroke-opacity:1; fill:none\" points=\"\n",
       "  2291.28,1487.47 2291.28,1470.19 \n",
       "  \"/>\n",
       "<polyline clip-path=\"url(#clip6900)\" style=\"stroke:#000000; stroke-width:4; stroke-opacity:1; fill:none\" points=\"\n",
       "  180.66,1446.71 206.725,1446.71 \n",
       "  \"/>\n",
       "<polyline clip-path=\"url(#clip6900)\" style=\"stroke:#000000; stroke-width:4; stroke-opacity:1; fill:none\" points=\"\n",
       "  180.66,1107.04 206.725,1107.04 \n",
       "  \"/>\n",
       "<polyline clip-path=\"url(#clip6900)\" style=\"stroke:#000000; stroke-width:4; stroke-opacity:1; fill:none\" points=\"\n",
       "  180.66,767.359 206.725,767.359 \n",
       "  \"/>\n",
       "<polyline clip-path=\"url(#clip6900)\" style=\"stroke:#000000; stroke-width:4; stroke-opacity:1; fill:none\" points=\"\n",
       "  180.66,427.682 206.725,427.682 \n",
       "  \"/>\n",
       "<polyline clip-path=\"url(#clip6900)\" style=\"stroke:#000000; stroke-width:4; stroke-opacity:1; fill:none\" points=\"\n",
       "  180.66,88.0053 206.725,88.0053 \n",
       "  \"/>\n",
       "<g clip-path=\"url(#clip6900)\">\n",
       "<text style=\"fill:#000000; fill-opacity:1; font-family:Arial,Helvetica Neue,Helvetica,sans-serif; font-size:48px; text-anchor:middle;\" transform=\"rotate(0, 231.837, 1541.47)\" x=\"231.837\" y=\"1541.47\">0</text>\n",
       "</g>\n",
       "<g clip-path=\"url(#clip6900)\">\n",
       "<text style=\"fill:#000000; fill-opacity:1; font-family:Arial,Helvetica Neue,Helvetica,sans-serif; font-size:48px; text-anchor:middle;\" transform=\"rotate(0, 746.698, 1541.47)\" x=\"746.698\" y=\"1541.47\">50</text>\n",
       "</g>\n",
       "<g clip-path=\"url(#clip6900)\">\n",
       "<text style=\"fill:#000000; fill-opacity:1; font-family:Arial,Helvetica Neue,Helvetica,sans-serif; font-size:48px; text-anchor:middle;\" transform=\"rotate(0, 1261.56, 1541.47)\" x=\"1261.56\" y=\"1541.47\">100</text>\n",
       "</g>\n",
       "<g clip-path=\"url(#clip6900)\">\n",
       "<text style=\"fill:#000000; fill-opacity:1; font-family:Arial,Helvetica Neue,Helvetica,sans-serif; font-size:48px; text-anchor:middle;\" transform=\"rotate(0, 1776.42, 1541.47)\" x=\"1776.42\" y=\"1541.47\">150</text>\n",
       "</g>\n",
       "<g clip-path=\"url(#clip6900)\">\n",
       "<text style=\"fill:#000000; fill-opacity:1; font-family:Arial,Helvetica Neue,Helvetica,sans-serif; font-size:48px; text-anchor:middle;\" transform=\"rotate(0, 2291.28, 1541.47)\" x=\"2291.28\" y=\"1541.47\">200</text>\n",
       "</g>\n",
       "<g clip-path=\"url(#clip6900)\">\n",
       "<text style=\"fill:#000000; fill-opacity:1; font-family:Arial,Helvetica Neue,Helvetica,sans-serif; font-size:48px; text-anchor:end;\" transform=\"rotate(0, 156.66, 1464.21)\" x=\"156.66\" y=\"1464.21\">0.0</text>\n",
       "</g>\n",
       "<g clip-path=\"url(#clip6900)\">\n",
       "<text style=\"fill:#000000; fill-opacity:1; font-family:Arial,Helvetica Neue,Helvetica,sans-serif; font-size:48px; text-anchor:end;\" transform=\"rotate(0, 156.66, 1124.54)\" x=\"156.66\" y=\"1124.54\">2.5</text>\n",
       "</g>\n",
       "<g clip-path=\"url(#clip6900)\">\n",
       "<text style=\"fill:#000000; fill-opacity:1; font-family:Arial,Helvetica Neue,Helvetica,sans-serif; font-size:48px; text-anchor:end;\" transform=\"rotate(0, 156.66, 784.859)\" x=\"156.66\" y=\"784.859\">5.0</text>\n",
       "</g>\n",
       "<g clip-path=\"url(#clip6900)\">\n",
       "<text style=\"fill:#000000; fill-opacity:1; font-family:Arial,Helvetica Neue,Helvetica,sans-serif; font-size:48px; text-anchor:end;\" transform=\"rotate(0, 156.66, 445.182)\" x=\"156.66\" y=\"445.182\">7.5</text>\n",
       "</g>\n",
       "<g clip-path=\"url(#clip6900)\">\n",
       "<text style=\"fill:#000000; fill-opacity:1; font-family:Arial,Helvetica Neue,Helvetica,sans-serif; font-size:48px; text-anchor:end;\" transform=\"rotate(0, 156.66, 105.505)\" x=\"156.66\" y=\"105.505\">10.0</text>\n",
       "</g>\n",
       "<polyline clip-path=\"url(#clip6902)\" style=\"stroke:#009af9; stroke-width:4; stroke-opacity:1; fill:none\" points=\"\n",
       "  242.135,631.489 252.432,631.489 262.729,631.489 273.026,767.359 283.324,767.359 293.621,631.489 303.918,631.489 314.215,631.489 324.512,495.618 334.81,359.747 \n",
       "  345.107,495.618 355.404,631.489 365.701,495.618 375.999,631.489 386.296,767.359 396.593,903.23 406.89,1039.1 417.187,1039.1 427.485,1039.1 437.782,1039.1 \n",
       "  448.079,1174.97 458.376,1174.97 468.674,1174.97 478.971,1174.97 489.268,1174.97 499.565,1174.97 509.862,1174.97 520.16,1174.97 530.457,1174.97 540.754,1174.97 \n",
       "  551.051,1174.97 561.349,1310.84 571.646,1310.84 581.943,1310.84 592.24,1310.84 602.537,1310.84 612.835,1310.84 623.132,1310.84 633.429,1310.84 643.726,1310.84 \n",
       "  654.024,1310.84 664.321,1310.84 674.618,1310.84 684.915,1310.84 695.212,1310.84 705.51,1310.84 715.807,1310.84 726.104,1310.84 736.401,1310.84 746.698,1310.84 \n",
       "  756.996,1310.84 767.293,1310.84 777.59,1310.84 787.887,1446.71 798.185,1446.71 808.482,1446.71 818.779,1446.71 829.076,1446.71 839.373,1446.71 849.671,1446.71 \n",
       "  859.968,1446.71 870.265,1446.71 880.562,1446.71 890.86,1446.71 901.157,1446.71 911.454,1446.71 921.751,1446.71 932.048,1446.71 942.346,1446.71 952.643,1446.71 \n",
       "  962.94,1446.71 973.237,1446.71 983.535,1446.71 993.832,1446.71 1004.13,1446.71 1014.43,1446.71 1024.72,1446.71 1035.02,1446.71 1045.32,1446.71 1055.62,1446.71 \n",
       "  1065.91,1446.71 1076.21,1446.71 1086.51,1446.71 1096.8,1446.71 1107.1,1446.71 1117.4,1446.71 1127.7,1446.71 1137.99,1446.71 1148.29,1446.71 1158.59,1446.71 \n",
       "  1168.88,1446.71 1179.18,1446.71 1189.48,1446.71 1199.78,1446.71 1210.07,1446.71 1220.37,1446.71 1230.67,1446.71 1240.97,1446.71 1251.26,1446.71 1261.56,1446.71 \n",
       "  1271.86,1446.71 1282.15,1446.71 1292.45,1446.71 1302.75,1446.71 1313.05,1446.71 1323.34,1446.71 1333.64,1446.71 1343.94,1446.71 1354.23,1446.71 1364.53,1446.71 \n",
       "  1374.83,1446.71 1385.13,1446.71 1395.42,1446.71 1405.72,1446.71 1416.02,1446.71 1426.32,1446.71 1436.61,1446.71 1446.91,1446.71 1457.21,1446.71 1467.5,1446.71 \n",
       "  1477.8,1446.71 1488.1,1446.71 1498.4,1446.71 1508.69,1446.71 1518.99,1446.71 1529.29,1446.71 1539.58,1446.71 1549.88,1446.71 1560.18,1446.71 1570.48,1446.71 \n",
       "  1580.77,1446.71 1591.07,1446.71 1601.37,1446.71 1611.66,1446.71 1621.96,1446.71 1632.26,1446.71 1642.56,1446.71 1652.85,1446.71 1663.15,1446.71 1673.45,1446.71 \n",
       "  1683.75,1446.71 1694.04,1446.71 1704.34,1446.71 1714.64,1446.71 1724.93,1446.71 1735.23,1446.71 1745.53,1446.71 1755.83,1446.71 1766.12,1446.71 1776.42,1446.71 \n",
       "  1786.72,1446.71 1797.01,1446.71 1807.31,1446.71 1817.61,1446.71 1827.91,1446.71 1838.2,1446.71 1848.5,1446.71 1858.8,1446.71 1869.1,1446.71 1879.39,1446.71 \n",
       "  1889.69,1446.71 1899.99,1446.71 1910.28,1446.71 1920.58,1446.71 1930.88,1446.71 1941.18,1446.71 1951.47,1446.71 1961.77,1446.71 1972.07,1446.71 1982.36,1446.71 \n",
       "  1992.66,1446.71 2002.96,1446.71 2013.26,1446.71 2023.55,1446.71 2033.85,1446.71 2044.15,1446.71 2054.45,1446.71 2064.74,1446.71 2075.04,1446.71 2085.34,1446.71 \n",
       "  2095.63,1446.71 2105.93,1446.71 2116.23,1446.71 2126.53,1446.71 2136.82,1446.71 2147.12,1446.71 2157.42,1446.71 2167.71,1446.71 2178.01,1446.71 2188.31,1446.71 \n",
       "  2198.61,1446.71 2208.9,1446.71 2219.2,1446.71 2229.5,1446.71 2239.8,1446.71 2250.09,1446.71 2260.39,1446.71 2270.69,1446.71 2280.98,1446.71 2291.28,1446.71 \n",
       "  \n",
       "  \"/>\n",
       "<polyline clip-path=\"url(#clip6902)\" style=\"stroke:#e26f46; stroke-width:4; stroke-opacity:1; fill:none\" points=\"\n",
       "  242.135,1174.97 252.432,1039.1 262.729,1039.1 273.026,903.23 283.324,903.23 293.621,903.23 303.918,903.23 314.215,903.23 324.512,1039.1 334.81,1174.97 \n",
       "  345.107,1039.1 355.404,903.23 365.701,1039.1 375.999,903.23 386.296,767.359 396.593,631.489 406.89,495.618 417.187,495.618 427.485,495.618 437.782,495.618 \n",
       "  448.079,359.747 458.376,359.747 468.674,359.747 478.971,359.747 489.268,359.747 499.565,359.747 509.862,359.747 520.16,359.747 530.457,359.747 540.754,359.747 \n",
       "  551.051,359.747 561.349,223.876 571.646,223.876 581.943,223.876 592.24,223.876 602.537,223.876 612.835,223.876 623.132,223.876 633.429,223.876 643.726,223.876 \n",
       "  654.024,223.876 664.321,223.876 674.618,223.876 684.915,223.876 695.212,223.876 705.51,223.876 715.807,223.876 726.104,223.876 736.401,223.876 746.698,223.876 \n",
       "  756.996,223.876 767.293,223.876 777.59,223.876 787.887,88.0053 798.185,88.0053 808.482,88.0053 818.779,88.0053 829.076,88.0053 839.373,88.0053 849.671,88.0053 \n",
       "  859.968,88.0053 870.265,88.0053 880.562,88.0053 890.86,88.0053 901.157,88.0053 911.454,88.0053 921.751,88.0053 932.048,88.0053 942.346,88.0053 952.643,88.0053 \n",
       "  962.94,88.0053 973.237,88.0053 983.535,88.0053 993.832,88.0053 1004.13,88.0053 1014.43,88.0053 1024.72,88.0053 1035.02,88.0053 1045.32,88.0053 1055.62,88.0053 \n",
       "  1065.91,88.0053 1076.21,88.0053 1086.51,88.0053 1096.8,88.0053 1107.1,88.0053 1117.4,88.0053 1127.7,88.0053 1137.99,88.0053 1148.29,88.0053 1158.59,88.0053 \n",
       "  1168.88,88.0053 1179.18,88.0053 1189.48,88.0053 1199.78,88.0053 1210.07,88.0053 1220.37,88.0053 1230.67,88.0053 1240.97,88.0053 1251.26,88.0053 1261.56,88.0053 \n",
       "  1271.86,88.0053 1282.15,88.0053 1292.45,88.0053 1302.75,88.0053 1313.05,88.0053 1323.34,88.0053 1333.64,88.0053 1343.94,88.0053 1354.23,88.0053 1364.53,88.0053 \n",
       "  1374.83,88.0053 1385.13,88.0053 1395.42,88.0053 1405.72,88.0053 1416.02,88.0053 1426.32,88.0053 1436.61,88.0053 1446.91,88.0053 1457.21,88.0053 1467.5,88.0053 \n",
       "  1477.8,88.0053 1488.1,88.0053 1498.4,88.0053 1508.69,88.0053 1518.99,88.0053 1529.29,88.0053 1539.58,88.0053 1549.88,88.0053 1560.18,88.0053 1570.48,88.0053 \n",
       "  1580.77,88.0053 1591.07,88.0053 1601.37,88.0053 1611.66,88.0053 1621.96,88.0053 1632.26,88.0053 1642.56,88.0053 1652.85,88.0053 1663.15,88.0053 1673.45,88.0053 \n",
       "  1683.75,88.0053 1694.04,88.0053 1704.34,88.0053 1714.64,88.0053 1724.93,88.0053 1735.23,88.0053 1745.53,88.0053 1755.83,88.0053 1766.12,88.0053 1776.42,88.0053 \n",
       "  1786.72,88.0053 1797.01,88.0053 1807.31,88.0053 1817.61,88.0053 1827.91,88.0053 1838.2,88.0053 1848.5,88.0053 1858.8,88.0053 1869.1,88.0053 1879.39,88.0053 \n",
       "  1889.69,88.0053 1899.99,88.0053 1910.28,88.0053 1920.58,88.0053 1930.88,88.0053 1941.18,88.0053 1951.47,88.0053 1961.77,88.0053 1972.07,88.0053 1982.36,88.0053 \n",
       "  1992.66,88.0053 2002.96,88.0053 2013.26,88.0053 2023.55,88.0053 2033.85,88.0053 2044.15,88.0053 2054.45,88.0053 2064.74,88.0053 2075.04,88.0053 2085.34,88.0053 \n",
       "  2095.63,88.0053 2105.93,88.0053 2116.23,88.0053 2126.53,88.0053 2136.82,88.0053 2147.12,88.0053 2157.42,88.0053 2167.71,88.0053 2178.01,88.0053 2188.31,88.0053 \n",
       "  2198.61,88.0053 2208.9,88.0053 2219.2,88.0053 2229.5,88.0053 2239.8,88.0053 2250.09,88.0053 2260.39,88.0053 2270.69,88.0053 2280.98,88.0053 2291.28,88.0053 \n",
       "  \n",
       "  \"/>\n",
       "<polyline clip-path=\"url(#clip6902)\" style=\"stroke:#3da44d; stroke-width:4; stroke-opacity:1; fill:none\" points=\"\n",
       "  242.135,1174.97 252.432,1310.84 262.729,1310.84 273.026,1310.84 283.324,1310.84 293.621,1446.71 303.918,1446.71 314.215,1446.71 324.512,1446.71 334.81,1446.71 \n",
       "  345.107,1446.71 355.404,1446.71 365.701,1446.71 375.999,1446.71 386.296,1446.71 396.593,1446.71 406.89,1446.71 417.187,1446.71 427.485,1446.71 437.782,1446.71 \n",
       "  448.079,1446.71 458.376,1446.71 468.674,1446.71 478.971,1446.71 489.268,1446.71 499.565,1446.71 509.862,1446.71 520.16,1446.71 530.457,1446.71 540.754,1446.71 \n",
       "  551.051,1446.71 561.349,1446.71 571.646,1446.71 581.943,1446.71 592.24,1446.71 602.537,1446.71 612.835,1446.71 623.132,1446.71 633.429,1446.71 643.726,1446.71 \n",
       "  654.024,1446.71 664.321,1446.71 674.618,1446.71 684.915,1446.71 695.212,1446.71 705.51,1446.71 715.807,1446.71 726.104,1446.71 736.401,1446.71 746.698,1446.71 \n",
       "  756.996,1446.71 767.293,1446.71 777.59,1446.71 787.887,1446.71 798.185,1446.71 808.482,1446.71 818.779,1446.71 829.076,1446.71 839.373,1446.71 849.671,1446.71 \n",
       "  859.968,1446.71 870.265,1446.71 880.562,1446.71 890.86,1446.71 901.157,1446.71 911.454,1446.71 921.751,1446.71 932.048,1446.71 942.346,1446.71 952.643,1446.71 \n",
       "  962.94,1446.71 973.237,1446.71 983.535,1446.71 993.832,1446.71 1004.13,1446.71 1014.43,1446.71 1024.72,1446.71 1035.02,1446.71 1045.32,1446.71 1055.62,1446.71 \n",
       "  1065.91,1446.71 1076.21,1446.71 1086.51,1446.71 1096.8,1446.71 1107.1,1446.71 1117.4,1446.71 1127.7,1446.71 1137.99,1446.71 1148.29,1446.71 1158.59,1446.71 \n",
       "  1168.88,1446.71 1179.18,1446.71 1189.48,1446.71 1199.78,1446.71 1210.07,1446.71 1220.37,1446.71 1230.67,1446.71 1240.97,1446.71 1251.26,1446.71 1261.56,1446.71 \n",
       "  1271.86,1446.71 1282.15,1446.71 1292.45,1446.71 1302.75,1446.71 1313.05,1446.71 1323.34,1446.71 1333.64,1446.71 1343.94,1446.71 1354.23,1446.71 1364.53,1446.71 \n",
       "  1374.83,1446.71 1385.13,1446.71 1395.42,1446.71 1405.72,1446.71 1416.02,1446.71 1426.32,1446.71 1436.61,1446.71 1446.91,1446.71 1457.21,1446.71 1467.5,1446.71 \n",
       "  1477.8,1446.71 1488.1,1446.71 1498.4,1446.71 1508.69,1446.71 1518.99,1446.71 1529.29,1446.71 1539.58,1446.71 1549.88,1446.71 1560.18,1446.71 1570.48,1446.71 \n",
       "  1580.77,1446.71 1591.07,1446.71 1601.37,1446.71 1611.66,1446.71 1621.96,1446.71 1632.26,1446.71 1642.56,1446.71 1652.85,1446.71 1663.15,1446.71 1673.45,1446.71 \n",
       "  1683.75,1446.71 1694.04,1446.71 1704.34,1446.71 1714.64,1446.71 1724.93,1446.71 1735.23,1446.71 1745.53,1446.71 1755.83,1446.71 1766.12,1446.71 1776.42,1446.71 \n",
       "  1786.72,1446.71 1797.01,1446.71 1807.31,1446.71 1817.61,1446.71 1827.91,1446.71 1838.2,1446.71 1848.5,1446.71 1858.8,1446.71 1869.1,1446.71 1879.39,1446.71 \n",
       "  1889.69,1446.71 1899.99,1446.71 1910.28,1446.71 1920.58,1446.71 1930.88,1446.71 1941.18,1446.71 1951.47,1446.71 1961.77,1446.71 1972.07,1446.71 1982.36,1446.71 \n",
       "  1992.66,1446.71 2002.96,1446.71 2013.26,1446.71 2023.55,1446.71 2033.85,1446.71 2044.15,1446.71 2054.45,1446.71 2064.74,1446.71 2075.04,1446.71 2085.34,1446.71 \n",
       "  2095.63,1446.71 2105.93,1446.71 2116.23,1446.71 2126.53,1446.71 2136.82,1446.71 2147.12,1446.71 2157.42,1446.71 2167.71,1446.71 2178.01,1446.71 2188.31,1446.71 \n",
       "  2198.61,1446.71 2208.9,1446.71 2219.2,1446.71 2229.5,1446.71 2239.8,1446.71 2250.09,1446.71 2260.39,1446.71 2270.69,1446.71 2280.98,1446.71 2291.28,1446.71 \n",
       "  \n",
       "  \"/>\n",
       "<path clip-path=\"url(#clip6900)\" d=\"\n",
       "M1858.86 372.684 L2280.76 372.684 L2280.76 130.764 L1858.86 130.764  Z\n",
       "  \" fill=\"#ffffff\" fill-rule=\"evenodd\" fill-opacity=\"1\"/>\n",
       "<polyline clip-path=\"url(#clip6900)\" style=\"stroke:#000000; stroke-width:4; stroke-opacity:1; fill:none\" points=\"\n",
       "  1858.86,372.684 2280.76,372.684 2280.76,130.764 1858.86,130.764 1858.86,372.684 \n",
       "  \"/>\n",
       "<polyline clip-path=\"url(#clip6900)\" style=\"stroke:#009af9; stroke-width:4; stroke-opacity:1; fill:none\" points=\"\n",
       "  1882.86,191.244 2026.86,191.244 \n",
       "  \"/>\n",
       "<g clip-path=\"url(#clip6900)\">\n",
       "<text style=\"fill:#000000; fill-opacity:1; font-family:Arial,Helvetica Neue,Helvetica,sans-serif; font-size:48px; text-anchor:start;\" transform=\"rotate(0, 2050.86, 208.744)\" x=\"2050.86\" y=\"208.744\">Action A</text>\n",
       "</g>\n",
       "<polyline clip-path=\"url(#clip6900)\" style=\"stroke:#e26f46; stroke-width:4; stroke-opacity:1; fill:none\" points=\"\n",
       "  1882.86,251.724 2026.86,251.724 \n",
       "  \"/>\n",
       "<g clip-path=\"url(#clip6900)\">\n",
       "<text style=\"fill:#000000; fill-opacity:1; font-family:Arial,Helvetica Neue,Helvetica,sans-serif; font-size:48px; text-anchor:start;\" transform=\"rotate(0, 2050.86, 269.224)\" x=\"2050.86\" y=\"269.224\">Action B</text>\n",
       "</g>\n",
       "<polyline clip-path=\"url(#clip6900)\" style=\"stroke:#3da44d; stroke-width:4; stroke-opacity:1; fill:none\" points=\"\n",
       "  1882.86,312.204 2026.86,312.204 \n",
       "  \"/>\n",
       "<g clip-path=\"url(#clip6900)\">\n",
       "<text style=\"fill:#000000; fill-opacity:1; font-family:Arial,Helvetica Neue,Helvetica,sans-serif; font-size:48px; text-anchor:start;\" transform=\"rotate(0, 2050.86, 329.704)\" x=\"2050.86\" y=\"329.704\">Action C</text>\n",
       "</g>\n",
       "</svg>\n"
      ]
     },
     "execution_count": 23,
     "metadata": {},
     "output_type": "execute_result"
    }
   ],
   "source": [
    "m = 2\n",
    "x = time_series(sbrd_young, ts_length, [N-2*m, m, m])\n",
    "\n",
    "plot([x[1, :], x[2, :], x[3, :]], label=label_3)"
   ]
  },
  {
   "cell_type": "markdown",
   "metadata": {},
   "source": [
    "---"
   ]
  },
  {
   "cell_type": "markdown",
   "metadata": {},
   "source": [
    "## Reference"
   ]
  },
  {
   "cell_type": "markdown",
   "metadata": {},
   "source": [
    "- Kandori, Mailath and Rob(1993), \"Learning, Mutation, and Long Run Equilibria in Games.\", Econometrica, vol.61, No.1, 26-59\n",
    "- Morris, Rob, and Shin(1995), \"p-Dominance and belief potential\", Econometrica 63, 145-157.\n",
    "- Oyama, Sandholm and Tercieux(2015), \"Sampling best response dynamics and deterministic equilibirum selection\", Theoretical Economics, 10, 243-281"
   ]
  }
 ],
 "metadata": {
  "kernelspec": {
   "display_name": "Julia 1.3.1",
   "language": "julia",
   "name": "julia-1.3"
  },
  "language_info": {
   "file_extension": ".jl",
   "mimetype": "application/julia",
   "name": "julia",
   "version": "1.3.1"
  }
 },
 "nbformat": 4,
 "nbformat_minor": 4
}
