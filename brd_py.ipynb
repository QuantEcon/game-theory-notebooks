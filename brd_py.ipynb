{
 "cells": [
  {
   "cell_type": "markdown",
   "metadata": {},
   "source": [
    "# Best Response Dynamics"
   ]
  },
  {
   "cell_type": "markdown",
   "metadata": {},
   "source": [
    "Author: Yuya Furusawa\n",
    "\n",
    "*Graduate School of Economics, University of Tokyo*"
   ]
  },
  {
   "cell_type": "markdown",
   "metadata": {},
   "source": [
    "This note demonstrates the best response dynamics model and its related models with `quantecon.game_theory` Python library."
   ]
  },
  {
   "cell_type": "code",
   "execution_count": 1,
   "metadata": {},
   "outputs": [],
   "source": [
    "import numpy as np\n",
    "import matplotlib.pyplot as plt\n",
    "from quantecon.game_theory.brd import BRD, KMR, SamplingBRD"
   ]
  },
  {
   "cell_type": "markdown",
   "metadata": {},
   "source": [
    "## Model"
   ]
  },
  {
   "cell_type": "markdown",
   "metadata": {},
   "source": [
    "###  Best response dynamics"
   ]
  },
  {
   "cell_type": "markdown",
   "metadata": {},
   "source": [
    "Best response dynamics is one of the strategy updating methods.\n",
    "At each round, the set of players is chosen, and they take best responses given other players' current strategy.\n",
    "Players who take best response only consider the next round payoff, that is they don't consider the future payoffs.\n",
    "From this feature, best response dynamics, is called **myopic best response**. \n",
    "\n",
    "In the potential game, you can find a Nash equilibrium by best response dynamics."
   ]
  },
  {
   "cell_type": "markdown",
   "metadata": {},
   "source": [
    "### KMR model"
   ]
  },
  {
   "cell_type": "markdown",
   "metadata": {},
   "source": [
    "Kandori-Mailath-Rob model(KMR model) is an evolutional model, similar to best response dynamics model.\n",
    "In KMR model, agents do not always take a strategy which delivers highest payoff, they sometimes take another strategy.\n",
    "Unlike best response dynamics, in KMR model, the system is not deterministic evolution.\n",
    "Startegy flips can occur in every period.\n",
    "\n",
    "KMR model gives a **[risk-dominance](https://en.wikipedia.org/wiki/Risk_dominance) equilibrium** as stationary equilibrium.\n",
    "In contrast, best response dynamics does not always give a risk-dominance equilibrium.\n",
    "(We see these contrast later.)\n",
    "\n",
    "KMR model is sometimes criticised by the absense of the foundation of strategy flips.\n",
    "To overcome this point, logit response dynamics model incorporates decision theoretic foundation of strategy chooice (See this note)."
   ]
  },
  {
   "cell_type": "markdown",
   "metadata": {},
   "source": [
    "### Sampling best response dynamics"
   ]
  },
  {
   "cell_type": "markdown",
   "metadata": {},
   "source": [
    "Sampling best response dynamics model is also evolutional model.\n",
    "In this model, agents who get a chance to revise an action observe the randomly sampled opponents' actions, and then take a best resoponse.\n",
    "If $k$ sample observed, we call **$k$-sampling best response dynamics**.\n",
    "\n",
    "Under some conditions, this dynamics gives p-dominant equilibrium as stationary equilibirum (To refer the *p-dominant equilibrium*, see Morris, Rob and Shin(1995))."
   ]
  },
  {
   "cell_type": "markdown",
   "metadata": {},
   "source": [
    "## `brd.py` usage"
   ]
  },
  {
   "cell_type": "code",
   "execution_count": 2,
   "metadata": {},
   "outputs": [],
   "source": [
    "# payoff matrix\n",
    "payoff_matrix = [[4, 0],\n",
    "                 [3, 2]]\n",
    "# the number of players\n",
    "N = 4"
   ]
  },
  {
   "cell_type": "markdown",
   "metadata": {},
   "source": [
    "To create `BRD` class instance, you need payoff matrix and the integer representing the number of players."
   ]
  },
  {
   "cell_type": "code",
   "execution_count": 3,
   "metadata": {},
   "outputs": [],
   "source": [
    "# Best Response Dynamics\n",
    "brd = BRD(payoff_matrix, N)"
   ]
  },
  {
   "cell_type": "markdown",
   "metadata": {},
   "source": [
    "You need additionally specify `epsilon`, the probability of strategy flips, and `k`, sample size, to create `KMR` and `SamplingBRD` class instances respectively.\n",
    "If not provided, these are set to `epsilon=0.1` and `k=2` by default."
   ]
  },
  {
   "cell_type": "code",
   "execution_count": 4,
   "metadata": {},
   "outputs": [],
   "source": [
    "# KMR model\n",
    "epsilon = 0.1\n",
    "kmr = KMR(payoff_matrix, N, epsilon)\n",
    "\n",
    "# Sampling Best Response Dynamics\n",
    "k = 2\n",
    "sbrd = SamplingBRD(payoff_matrix, N, k)"
   ]
  },
  {
   "cell_type": "markdown",
   "metadata": {},
   "source": [
    "### `play` method"
   ]
  },
  {
   "cell_type": "markdown",
   "metadata": {},
   "source": [
    "`play` method proceeds the game by one step.\n",
    "`play` method requires two arguments: `action` and `action_dist`.\n",
    "\n",
    "`action_dist` is the current action distribution(in other words \"frquency\", not probability distribution) where first element indicates the number of players who takes action 0.\n",
    "`action` is the pure action of a player who taks an action."
   ]
  },
  {
   "cell_type": "code",
   "execution_count": 5,
   "metadata": {},
   "outputs": [
    {
     "data": {
      "text/plain": [
       "[1, 3]"
      ]
     },
     "execution_count": 5,
     "metadata": {},
     "output_type": "execute_result"
    }
   ],
   "source": [
    "# Two players take action 0 and the other two take action 1\n",
    "# A player who takes action 0 take her best reponse given opponents' actions.\n",
    "action = 0\n",
    "action_dist = [2, 2]\n",
    "brd.play(action, action_dist)"
   ]
  },
  {
   "cell_type": "markdown",
   "metadata": {},
   "source": [
    "You can use `play` similarly in KMR model and sampling best response dynamics model."
   ]
  },
  {
   "cell_type": "markdown",
   "metadata": {},
   "source": [
    "### `time_series` method"
   ]
  },
  {
   "cell_type": "markdown",
   "metadata": {},
   "source": [
    "`time_series` method returns a time series of action distributions.\n",
    "You have to specify the length of time series.\n",
    "In addition, you can choose initial action distribution from which the dynamics proceeds.\n",
    "If not specified, it is randomly chosen."
   ]
  },
  {
   "cell_type": "code",
   "execution_count": 6,
   "metadata": {},
   "outputs": [
    {
     "data": {
      "text/plain": [
       "array([[2, 2],\n",
       "       [3, 1],\n",
       "       [3, 1],\n",
       "       [4, 0],\n",
       "       [4, 0]])"
      ]
     },
     "execution_count": 6,
     "metadata": {},
     "output_type": "execute_result"
    }
   ],
   "source": [
    "ts_length = 5\n",
    "init_action_dist = [2, 2]\n",
    "brd.time_series(ts_length, init_action_dist)"
   ]
  },
  {
   "cell_type": "markdown",
   "metadata": {},
   "source": [
    "You can use `time_series` similarly KMR model and sampling best response dynamics model."
   ]
  },
  {
   "cell_type": "markdown",
   "metadata": {},
   "source": [
    "## Examples"
   ]
  },
  {
   "cell_type": "markdown",
   "metadata": {},
   "source": [
    "We illustrate the dynamics of players' actions with **coordination game** and **Young's game**."
   ]
  },
  {
   "cell_type": "markdown",
   "metadata": {},
   "source": [
    "Coordination game is defined as follows:\n",
    "\n",
    "1$\\backslash$2 | $A$           | $B$ \n",
    " ------------- |---------------| ---------\n",
    " $A$           | 2, 2          |   0, 0   \n",
    " $B$           | 0, 0          |   1, 1   "
   ]
  },
  {
   "cell_type": "code",
   "execution_count": 7,
   "metadata": {},
   "outputs": [],
   "source": [
    "coordination_game_matrix = [[2, 0],\n",
    "                            [0, 1]]"
   ]
  },
  {
   "cell_type": "markdown",
   "metadata": {},
   "source": [
    "Young's game is defined as follows:\n",
    "\n",
    "1$\\backslash$2 | $A$           | $B$      | $C$\n",
    " ------------- |---------------| ---------| --------\n",
    " $A$           | 6, 6          |   0, 0   |   0, 0\n",
    " $B$           | 5, 5          |   7, 7   |   5, 5\n",
    " $C$           | 0, 0          |   5, 5   |   8, 8\n"
   ]
  },
  {
   "cell_type": "code",
   "execution_count": 8,
   "metadata": {},
   "outputs": [],
   "source": [
    "young_game_matrix = [[6, 0, 0],\n",
    "                     [5, 7, 5],\n",
    "                     [0, 5, 8]]"
   ]
  },
  {
   "cell_type": "markdown",
   "metadata": {},
   "source": [
    "The number of agents is set to 10 and the length of time series is 200."
   ]
  },
  {
   "cell_type": "code",
   "execution_count": 9,
   "metadata": {},
   "outputs": [],
   "source": [
    "N = 10\n",
    "ts_length = 200"
   ]
  },
  {
   "cell_type": "markdown",
   "metadata": {},
   "source": [
    "Define the function to plot the graph."
   ]
  },
  {
   "cell_type": "code",
   "execution_count": 10,
   "metadata": {},
   "outputs": [],
   "source": [
    "def plot_graph(brd, ts_length, init_action_dist, random_state=None):\n",
    "    series = brd.time_series(ts_length, init_action_dist=init_action_dist, random_state=random_state)\n",
    "    action_label = ['A', 'B', 'C']\n",
    "    fig, ax = plt.subplots(figsize=(8,5))\n",
    "    for h in range(brd.num_actions):\n",
    "        ax.plot(series[:, h], linewidth=2, label='action {0}'.format(action_label[h]))\n",
    "    ax.set_ylim(0, N+1)\n",
    "    plt.legend(loc=4)\n",
    "    plt.show()"
   ]
  },
  {
   "cell_type": "markdown",
   "metadata": {},
   "source": [
    "In the graphs below, vertical axis represents the number of players who take each actions, and holizontal axis represents the periods."
   ]
  },
  {
   "cell_type": "markdown",
   "metadata": {},
   "source": [
    "### Best Response Dynamics"
   ]
  },
  {
   "cell_type": "markdown",
   "metadata": {},
   "source": [
    "In evolutionary game theory, best response dynamics represents a class of strategy updating rules, where each player's strategy in the next round is determined by their best response to subset of population."
   ]
  },
  {
   "cell_type": "markdown",
   "metadata": {},
   "source": [
    "#### Coordination Game"
   ]
  },
  {
   "cell_type": "code",
   "execution_count": 11,
   "metadata": {},
   "outputs": [],
   "source": [
    "brd_coor = BRD(coordination_game_matrix, N=N)"
   ]
  },
  {
   "cell_type": "code",
   "execution_count": 12,
   "metadata": {},
   "outputs": [
    {
     "data": {
      "image/png": "[encoded data removed]",
      "text/plain": [
       "<Figure size 576x360 with 1 Axes>"
      ]
     },
     "metadata": {
      "needs_background": "light"
     },
     "output_type": "display_data"
    }
   ],
   "source": [
    "# Only 2 players take action A initially.\n",
    "m = 2\n",
    "plot_graph(brd_coor, ts_length, [m, N-m])"
   ]
  },
  {
   "cell_type": "code",
   "execution_count": 13,
   "metadata": {},
   "outputs": [
    {
     "data": {
      "image/png": "[encoded data removed]",
      "text/plain": [
       "<Figure size 576x360 with 1 Axes>"
      ]
     },
     "metadata": {
      "needs_background": "light"
     },
     "output_type": "display_data"
    }
   ],
   "source": [
    "# Eight players take action A initially.\n",
    "m = 8\n",
    "plot_graph(brd_coor, ts_length, [m, N-m])"
   ]
  },
  {
   "cell_type": "markdown",
   "metadata": {},
   "source": [
    "You can see converged action profile depends on the initial action distribution."
   ]
  },
  {
   "cell_type": "markdown",
   "metadata": {},
   "source": [
    "### Kandori-Mailath-Rob model (KMR model)"
   ]
  },
  {
   "cell_type": "markdown",
   "metadata": {},
   "source": [
    "#### Coordination Game"
   ]
  },
  {
   "cell_type": "code",
   "execution_count": 14,
   "metadata": {},
   "outputs": [],
   "source": [
    "kmr_coor = KMR(coordination_game_matrix, N=N)"
   ]
  },
  {
   "cell_type": "code",
   "execution_count": 15,
   "metadata": {},
   "outputs": [
    {
     "data": {
      "image/png": "[encoded data removed]",
      "text/plain": [
       "<Figure size 576x360 with 1 Axes>"
      ]
     },
     "metadata": {
      "needs_background": "light"
     },
     "output_type": "display_data"
    }
   ],
   "source": [
    "m = 2\n",
    "plot_graph(kmr_coor, ts_length, [m, N-m])"
   ]
  },
  {
   "cell_type": "markdown",
   "metadata": {},
   "source": [
    "This graph shows (A,A) is the long-run equilibrium which is a risk-dominance equilibrium (if not, pick larger `ts_length`).\n",
    "\n",
    "To compare the results from best response dynamics see the above, (A,A) becomes stationary equilibrium even if the number of player who initially takes action A is small. "
   ]
  },
  {
   "cell_type": "markdown",
   "metadata": {},
   "source": [
    "#### Young's Game"
   ]
  },
  {
   "cell_type": "code",
   "execution_count": 16,
   "metadata": {},
   "outputs": [],
   "source": [
    "kmr_young = KMR(young_game_matrix, N=N)"
   ]
  },
  {
   "cell_type": "code",
   "execution_count": 17,
   "metadata": {},
   "outputs": [
    {
     "data": {
      "image/png": "[encoded data removed]",
      "text/plain": [
       "<Figure size 576x360 with 1 Axes>"
      ]
     },
     "metadata": {
      "needs_background": "light"
     },
     "output_type": "display_data"
    }
   ],
   "source": [
    "m = 2\n",
    "plot_graph(kmr_young, ts_length, [N-2*m, m, m])"
   ]
  },
  {
   "cell_type": "markdown",
   "metadata": {},
   "source": [
    "### Sampling Best Response Dynamics"
   ]
  },
  {
   "cell_type": "markdown",
   "metadata": {},
   "source": [
    "#### Coordination Game"
   ]
  },
  {
   "cell_type": "code",
   "execution_count": 18,
   "metadata": {},
   "outputs": [],
   "source": [
    "sbrd_coor = SamplingBRD(coordination_game_matrix, N=N)"
   ]
  },
  {
   "cell_type": "code",
   "execution_count": 19,
   "metadata": {},
   "outputs": [
    {
     "data": {
      "image/png": "[encoded data removed]",
      "text/plain": [
       "<Figure size 576x360 with 1 Axes>"
      ]
     },
     "metadata": {
      "needs_background": "light"
     },
     "output_type": "display_data"
    }
   ],
   "source": [
    "m = 2\n",
    "plot_graph(sbrd_coor, ts_length, [m, N-m])"
   ]
  },
  {
   "cell_type": "markdown",
   "metadata": {},
   "source": [
    "You can see (A,A) is the converged action profile, which is the risk-dominance equilibrium."
   ]
  },
  {
   "cell_type": "markdown",
   "metadata": {},
   "source": [
    "#### Young's Game"
   ]
  },
  {
   "cell_type": "code",
   "execution_count": 20,
   "metadata": {},
   "outputs": [],
   "source": [
    "sbrd_young = SamplingBRD(young_game_matrix, N=N)"
   ]
  },
  {
   "cell_type": "code",
   "execution_count": 21,
   "metadata": {},
   "outputs": [
    {
     "data": {
      "image/png": "[encoded data removed]",
      "text/plain": [
       "<Figure size 576x360 with 1 Axes>"
      ]
     },
     "metadata": {
      "needs_background": "light"
     },
     "output_type": "display_data"
    }
   ],
   "source": [
    "m = 2\n",
    "plot_graph(sbrd_young, ts_length, [N-2*m, m, m])"
   ]
  },
  {
   "cell_type": "markdown",
   "metadata": {},
   "source": [
    "---"
   ]
  },
  {
   "cell_type": "markdown",
   "metadata": {},
   "source": [
    "## Reference"
   ]
  },
  {
   "cell_type": "markdown",
   "metadata": {},
   "source": [
    "- Kandori, Mailath and Rob(1993), \"Learning, Mutation, and Long Run Equilibria in Games.\", Econometrica, vol.61, No.1, 26-59\n",
    "- Morris, Rob, and Shin(1995), \"p-Dominance and belief potential\", Econometrica 63, 145-157.\n",
    "- Oyama, Sandholm and Tercieux(2015), \"Sampling best response dynamics and deterministic equilibirum selection\", Theoretical Economics, 10, 243-281"
   ]
  }
 ],
 "metadata": {
  "kernelspec": {
   "display_name": "Python 3",
   "language": "python",
   "name": "python3"
  },
  "language_info": {
   "codemirror_mode": {
    "name": "ipython",
    "version": 3
   },
   "file_extension": ".py",
   "mimetype": "text/x-python",
   "name": "python",
   "nbconvert_exporter": "python",
   "pygments_lexer": "ipython3",
   "version": "3.7.1"
  }
 },
 "nbformat": 4,
 "nbformat_minor": 4
}
